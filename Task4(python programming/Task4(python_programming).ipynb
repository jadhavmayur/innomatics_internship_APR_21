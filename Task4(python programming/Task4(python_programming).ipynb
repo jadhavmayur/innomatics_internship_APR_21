{
  "nbformat": 4,
  "nbformat_minor": 0,
  "metadata": {
    "colab": {
      "name": "Task4(python programming).ipynb",
      "provenance": []
    },
    "kernelspec": {
      "name": "python3",
      "display_name": "Python 3"
    },
    "language_info": {
      "name": "python"
    }
  },
  "cells": [
    {
      "cell_type": "code",
      "metadata": {
        "colab": {
          "base_uri": "https://localhost:8080/"
        },
        "id": "UV-qCAG4fw5S",
        "outputId": "9325fe22-dbb8-49f3-81da-c8a73fe2f782"
      },
      "source": [
        "#Q1\n",
        "from six.moves import input as raw_input\n",
        "def swap_case(s):\n",
        "    temp=''\n",
        "    \n",
        "    for i in s:\n",
        "        if (i.isupper()==True):\n",
        "            i.lower()\n",
        "            temp+=i.lower()\n",
        "        elif (i.islower()==True):\n",
        "            i.upper()\n",
        "            temp+=i.upper()\n",
        "        else:\n",
        "            temp+=i\n",
        "            \n",
        "    return temp\n",
        "\n",
        "if __name__ == '__main__':\n",
        "    s = raw_input()\n",
        "    result = swap_case(s)\n",
        "    print(result)"
      ],
      "execution_count": 3,
      "outputs": [
        {
          "output_type": "stream",
          "text": [
            "HackerRank.com presents \"Pythonist 2\".\n",
            "hACKERrANK.COM PRESENTS \"pYTHONIST 2\".\n"
          ],
          "name": "stdout"
        }
      ]
    },
    {
      "cell_type": "code",
      "metadata": {
        "colab": {
          "base_uri": "https://localhost:8080/"
        },
        "id": "Hrafz55KiAQl",
        "outputId": "c8cc3c6b-51ec-4fbb-fa76-2d9e1b51f6e2"
      },
      "source": [
        "#Q2\n",
        "from six.moves import input as raw_input\n",
        "def split_and_join(line):\n",
        "    # write your code here\n",
        "    a=line.split()\n",
        "    b=\"-\".join(a)\n",
        "    return b\n",
        "if __name__ == '__main__':\n",
        "    line = raw_input()\n",
        "    result = split_and_join(line)\n",
        "    print(result)"
      ],
      "execution_count": 4,
      "outputs": [
        {
          "output_type": "stream",
          "text": [
            "this is a string\n",
            "this-is-a-string\n"
          ],
          "name": "stdout"
        }
      ]
    },
    {
      "cell_type": "code",
      "metadata": {
        "colab": {
          "base_uri": "https://localhost:8080/"
        },
        "id": "pwEJvlzEiVT8",
        "outputId": "a77c0ec9-83b4-4ee2-8a2f-c9142e177391"
      },
      "source": [
        "#Q3\n",
        "from six.moves import input as raw_input\n",
        "def print_full_name(first, last):\n",
        "    # Write your code here\n",
        "    print(\"Hello {} {}! You just delved into python.\".format(first,last))\n",
        "\n",
        "if __name__ == '__main__':\n",
        "    first_name = raw_input()\n",
        "    last_name = raw_input()\n",
        "    print_full_name(first_name, last_name)"
      ],
      "execution_count": 6,
      "outputs": [
        {
          "output_type": "stream",
          "text": [
            "Ross\n",
            "Taylor\n",
            "Hello Ross Taylor! You just delved into python.\n"
          ],
          "name": "stdout"
        }
      ]
    },
    {
      "cell_type": "code",
      "metadata": {
        "colab": {
          "base_uri": "https://localhost:8080/"
        },
        "id": "5d-EbylXi48U",
        "outputId": "e9de879c-d195-4dac-ecd1-0c58248f1891"
      },
      "source": [
        "#Q4\n",
        "from six.moves import input as raw_input\n",
        "def mutate_string(string, position, character):\n",
        "    s=list(string)\n",
        "    s[position]=character\n",
        "    string=\"\".join(s)\n",
        "    return string\n",
        "if __name__ == '__main__':\n",
        "    s = raw_input()\n",
        "    i, c = raw_input().split()\n",
        "    s_new = mutate_string(s, int(i), c)\n",
        "    print(s_new)"
      ],
      "execution_count": 7,
      "outputs": [
        {
          "output_type": "stream",
          "text": [
            "abracadabra\n",
            "5 k\n",
            "abrackdabra\n"
          ],
          "name": "stdout"
        }
      ]
    },
    {
      "cell_type": "code",
      "metadata": {
        "colab": {
          "base_uri": "https://localhost:8080/"
        },
        "id": "_kIdiffrjSXe",
        "outputId": "409f1a78-06c7-4dc2-e17b-ca8de7586e37"
      },
      "source": [
        "#Q5\n",
        "def count_substring(string, sub_string):\n",
        "    count_sub=0\n",
        "    for i in range(len(string)):\n",
        "        if sub_string==string[i:i+len(sub_string)]:\n",
        "            count_sub+=1\n",
        "        \n",
        "        \n",
        "    return count_sub\n",
        "\n",
        "if __name__ == '__main__':\n",
        "    string = input().strip()\n",
        "    sub_string = input().strip()\n",
        "    \n",
        "    count = count_substring(string, sub_string)\n",
        "    print(count)"
      ],
      "execution_count": 8,
      "outputs": [
        {
          "output_type": "stream",
          "text": [
            "ABCDCDC\n",
            "CDC\n",
            "2\n"
          ],
          "name": "stdout"
        }
      ]
    },
    {
      "cell_type": "code",
      "metadata": {
        "colab": {
          "base_uri": "https://localhost:8080/"
        },
        "id": "0-eRO3W3jj81",
        "outputId": "bfcaead2-6b35-4f9b-be63-dae69482c997"
      },
      "source": [
        "#Q5\n",
        "if __name__ == '__main__':\n",
        "    s = input()\n",
        "    print(any(i.isalnum() for i in s))\n",
        "    print(any(i.isalpha() for i in s))\n",
        "    print(any(i.isdigit() for i in s))\n",
        "    print(any(i.islower() for i in s))\n",
        "    print(any(i.isupper() for i in s))"
      ],
      "execution_count": 9,
      "outputs": [
        {
          "output_type": "stream",
          "text": [
            "qA2\n",
            "True\n",
            "True\n",
            "True\n",
            "True\n",
            "True\n"
          ],
          "name": "stdout"
        }
      ]
    },
    {
      "cell_type": "code",
      "metadata": {
        "colab": {
          "base_uri": "https://localhost:8080/"
        },
        "id": "AB-orAYwjtpl",
        "outputId": "df1bcade-210a-4210-8196-ef33cca3fd7e"
      },
      "source": [
        "#Q6\n",
        "thickness = int(input()) #This must be an odd number\n",
        "c = 'H'\n",
        "\n",
        "#Top Cone\n",
        "for i in range(thickness):\n",
        "    print((c*i).rjust(thickness-1)+c+(c*i).ljust(thickness-1))\n",
        "\n",
        "#Top Pillars\n",
        "for i in range(thickness+1):\n",
        "    print((c*thickness).center(thickness*2)+(c*thickness).center(thickness*6))\n",
        "\n",
        "#Middle Belt\n",
        "for i in range((thickness+1)//2):\n",
        "    print((c*thickness*5).center(thickness*6))    \n",
        "\n",
        "#Bottom Pillars\n",
        "for i in range(thickness+1):\n",
        "    print((c*thickness).center(thickness*2)+(c*thickness).center(thickness*6))    \n",
        "\n",
        "#Bottom Cone\n",
        "for i in range(thickness):\n",
        "    print(((c*(thickness-i-1)).rjust(thickness)+c+(c*(thickness-i-1)).ljust(thickness)).rjust(thickness*6))\n"
      ],
      "execution_count": 10,
      "outputs": [
        {
          "output_type": "stream",
          "text": [
            "5\n",
            "    H    \n",
            "   HHH   \n",
            "  HHHHH  \n",
            " HHHHHHH \n",
            "HHHHHHHHH\n",
            "  HHHHH               HHHHH             \n",
            "  HHHHH               HHHHH             \n",
            "  HHHHH               HHHHH             \n",
            "  HHHHH               HHHHH             \n",
            "  HHHHH               HHHHH             \n",
            "  HHHHH               HHHHH             \n",
            "  HHHHHHHHHHHHHHHHHHHHHHHHH   \n",
            "  HHHHHHHHHHHHHHHHHHHHHHHHH   \n",
            "  HHHHHHHHHHHHHHHHHHHHHHHHH   \n",
            "  HHHHH               HHHHH             \n",
            "  HHHHH               HHHHH             \n",
            "  HHHHH               HHHHH             \n",
            "  HHHHH               HHHHH             \n",
            "  HHHHH               HHHHH             \n",
            "  HHHHH               HHHHH             \n",
            "                    HHHHHHHHH \n",
            "                     HHHHHHH  \n",
            "                      HHHHH   \n",
            "                       HHH    \n",
            "                        H     \n"
          ],
          "name": "stdout"
        }
      ]
    },
    {
      "cell_type": "code",
      "metadata": {
        "colab": {
          "base_uri": "https://localhost:8080/"
        },
        "id": "N8dOxo0Wj8eV",
        "outputId": "12222212-20ba-4ffa-9277-f45aaacc5c46"
      },
      "source": [
        "#Q7\n",
        "import textwrap\n",
        "\n",
        "def wrap(string, max_width):\n",
        "    text=textwrap.fill(string,max_width)\n",
        "    return text\n",
        "\n",
        "if __name__ == '__main__':\n",
        "    string, max_width = input(), int(input())\n",
        "    result = wrap(string, max_width)\n",
        "    print(result)"
      ],
      "execution_count": 12,
      "outputs": [
        {
          "output_type": "stream",
          "text": [
            "ABCDEFGHIJKLIMNOQRSTUVWXYZ\n",
            "4\n",
            "ABCD\n",
            "EFGH\n",
            "IJKL\n",
            "IMNO\n",
            "QRST\n",
            "UVWX\n",
            "YZ\n"
          ],
          "name": "stdout"
        }
      ]
    },
    {
      "cell_type": "code",
      "metadata": {
        "colab": {
          "base_uri": "https://localhost:8080/"
        },
        "id": "DrsvY0OjkOot",
        "outputId": "ede88d7a-48d3-4be9-d6d4-448901cfd1d8"
      },
      "source": [
        "#Q8\n",
        "# Enter your code here. Read input from STDIN. Print output to STDOUT\n",
        "a,b=map(int,input().split())\n",
        "pat1='.|.'\n",
        "pat2='WELCOME'\n",
        "\n",
        "for i in range(a//2):\n",
        "    print((pat1*(i*2+1)).center(b,'-'))\n",
        "\n",
        "print(pat2.center(b,'-'))\n",
        "\n",
        "for i in range(a//2-1,-1,-1):\n",
        "    print((pat1*((i*2)+1)).center(b,'-'))"
      ],
      "execution_count": 13,
      "outputs": [
        {
          "output_type": "stream",
          "text": [
            "9 27\n",
            "------------.|.------------\n",
            "---------.|..|..|.---------\n",
            "------.|..|..|..|..|.------\n",
            "---.|..|..|..|..|..|..|.---\n",
            "----------WELCOME----------\n",
            "---.|..|..|..|..|..|..|.---\n",
            "------.|..|..|..|..|.------\n",
            "---------.|..|..|.---------\n",
            "------------.|.------------\n"
          ],
          "name": "stdout"
        }
      ]
    },
    {
      "cell_type": "code",
      "metadata": {
        "colab": {
          "base_uri": "https://localhost:8080/"
        },
        "id": "4Y5oU8q0kb4O",
        "outputId": "ba6309e4-52a0-4fdb-f9e5-32c06e246196"
      },
      "source": [
        "#Q9\n",
        "def print_formatted(number):\n",
        "    # your code goes here\n",
        "    width = len(bin(number)[2:])\n",
        "    for i in range(1,number+1):\n",
        "        dec=str(i)\n",
        "        octa=oct(i)[2:]\n",
        "        hexa=hex(i)[2:].upper()\n",
        "        bina=bin(i)[2:]\n",
        "        print(dec.rjust(width),octa.rjust(width),hexa.rjust(width),bina.rjust(width))\n",
        "        \n",
        "\n",
        "if __name__ == '__main__':\n",
        "    n = int(input())\n",
        "    print_formatted(n)"
      ],
      "execution_count": 14,
      "outputs": [
        {
          "output_type": "stream",
          "text": [
            "17\n",
            "    1     1     1     1\n",
            "    2     2     2    10\n",
            "    3     3     3    11\n",
            "    4     4     4   100\n",
            "    5     5     5   101\n",
            "    6     6     6   110\n",
            "    7     7     7   111\n",
            "    8    10     8  1000\n",
            "    9    11     9  1001\n",
            "   10    12     A  1010\n",
            "   11    13     B  1011\n",
            "   12    14     C  1100\n",
            "   13    15     D  1101\n",
            "   14    16     E  1110\n",
            "   15    17     F  1111\n",
            "   16    20    10 10000\n",
            "   17    21    11 10001\n"
          ],
          "name": "stdout"
        }
      ]
    },
    {
      "cell_type": "code",
      "metadata": {
        "colab": {
          "base_uri": "https://localhost:8080/"
        },
        "id": "jDDUH-1kknKW",
        "outputId": "06aebab8-96b7-4274-cffa-678525f4d18d"
      },
      "source": [
        "#Q10\n",
        "def print_rangoli(size):\n",
        "    # your code goes here\n",
        "    n=size\n",
        "    char=list(map(chr,range(97,123)))\n",
        "    s=char[n-1::-1]+char[1:n]  #x=l[n-1::-1]+l[1:n]\n",
        "    l1=len('-'.join((s)))\n",
        "    \n",
        "    for i in range(1,n):\n",
        "        print('-'.join(char[n-1:n-i:-1]+char[n-i:n]).center(l1,'-'))\n",
        "        \n",
        "    for i in range(n,0,-1):\n",
        "        print('-'.join(char[n-1:n-i:-1]+char[n-i:n]).center(l1,'-'))\n",
        "    \n",
        "    \n",
        "    \n",
        "\n",
        "if __name__ == '__main__':\n",
        "    n = int(input())\n",
        "    print_rangoli(n)"
      ],
      "execution_count": 15,
      "outputs": [
        {
          "output_type": "stream",
          "text": [
            "5\n",
            "--------e--------\n",
            "------e-d-e------\n",
            "----e-d-c-d-e----\n",
            "--e-d-c-b-c-d-e--\n",
            "e-d-c-b-a-b-c-d-e\n",
            "--e-d-c-b-c-d-e--\n",
            "----e-d-c-d-e----\n",
            "------e-d-e------\n",
            "--------e--------\n"
          ],
          "name": "stdout"
        }
      ]
    },
    {
      "cell_type": "code",
      "metadata": {
        "colab": {
          "base_uri": "https://localhost:8080/"
        },
        "id": "o_RZI4pWkzrW",
        "outputId": "794c0bf3-a2be-4875-d132-77ddd257fce6"
      },
      "source": [
        "#Q11\n",
        "def solve(s):\n",
        "    first,last=s.split()\n",
        "    c_name=''\n",
        "    c_last=''\n",
        "    for i in range(len(s)):\n",
        "        if first[0].islower()==True:\n",
        "            c_name=first[0].upper()+first[1:]\n",
        "        if last[0].islower()==True:\n",
        "            c_last=last[0].upper()+last[1:]\n",
        "    return print(c_name+' '+c_last)          \n",
        "            \n",
        "\n",
        "n='mayur jadhav'\n",
        "solve(n)"
      ],
      "execution_count": 16,
      "outputs": [
        {
          "output_type": "stream",
          "text": [
            "Mayur Jadhav\n"
          ],
          "name": "stdout"
        }
      ]
    },
    {
      "cell_type": "code",
      "metadata": {
        "colab": {
          "base_uri": "https://localhost:8080/"
        },
        "id": "ObFuNtHzk8zG",
        "outputId": "60fb27b0-76e2-4fa9-a519-2835a1ba907d"
      },
      "source": [
        "#Q12\n",
        "def minion_game(string):\n",
        "    # your code goes here\n",
        "    con_sum=0\n",
        "    vow_sum=0\n",
        "    vowels=\"AEIOU\"\n",
        "    \n",
        "    for i in range(len(string)):\n",
        "        if string[i] not in vowels:\n",
        "            con_sum=con_sum+(len(string)-i)\n",
        "        else:\n",
        "            vow_sum=vow_sum+(len(string)-i)\n",
        "    if con_sum >vow_sum:\n",
        "        print(\"Stuart\",con_sum)\n",
        "    elif vow_sum >con_sum:\n",
        "        print(\"Kevin\",vow_sum)\n",
        "    else:\n",
        "        print(\"Draw\")\n",
        "            \n",
        "if __name__ == '__main__':\n",
        "    s = input()\n",
        "    minion_game(s)\n",
        "    "
      ],
      "execution_count": 17,
      "outputs": [
        {
          "output_type": "stream",
          "text": [
            "BANANA\n",
            "Stuart 12\n"
          ],
          "name": "stdout"
        }
      ]
    },
    {
      "cell_type": "code",
      "metadata": {
        "colab": {
          "base_uri": "https://localhost:8080/"
        },
        "id": "LihwR-YklIXH",
        "outputId": "2279fabd-ff32-43dc-91c4-395afc83e911"
      },
      "source": [
        "#Q13\n",
        "def merge_the_tools(string, k):\n",
        "    # your code goes here\n",
        "    l=[]\n",
        "    m=0\n",
        "    for i in range(len(string)//k):\n",
        "        l.append(string[m:m+k])\n",
        "        m+=k\n",
        "    for v in l:\n",
        "        print(''.join(list(dict.fromkeys(list(v)).keys())))\n",
        "          \n",
        "\n",
        "if __name__ == '__main__':\n",
        "    string, k = input(), int(input())\n",
        "    merge_the_tools(string, k)"
      ],
      "execution_count": 18,
      "outputs": [
        {
          "output_type": "stream",
          "text": [
            "AABCAAADA\n",
            "3\n",
            "AB\n",
            "CA\n",
            "AD\n"
          ],
          "name": "stdout"
        }
      ]
    }
  ]
}