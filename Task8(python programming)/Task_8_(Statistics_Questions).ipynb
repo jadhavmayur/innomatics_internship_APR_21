{
  "nbformat": 4,
  "nbformat_minor": 0,
  "metadata": {
    "colab": {
      "name": "Task - 8 (Statistics Questions).ipynb",
      "provenance": []
    },
    "kernelspec": {
      "name": "python3",
      "display_name": "Python 3"
    },
    "language_info": {
      "name": "python"
    }
  },
  "cells": [
    {
      "cell_type": "code",
      "metadata": {
        "colab": {
          "base_uri": "https://localhost:8080/"
        },
        "id": "16YDm4jwsSMO",
        "outputId": "c850aec9-206d-4635-cc00-7fd1e74ddd1b"
      },
      "source": [
        "#Q1\n",
        "def fact(a):\n",
        "  fact_a=1\n",
        "  for i in range(1,a+1):\n",
        "    fact_a=fact_a*i\n",
        "  return fact_a\n",
        "\n",
        "def comb(a,b):\n",
        "  \n",
        "  m=fact(a)\n",
        "  \n",
        "  n=fact(b)\n",
        "  \n",
        "  r=fact(a-b)\n",
        "  \n",
        "  comb=m/(n*r)\n",
        "  return comb\n",
        "\n",
        "b,g=map(float,input().split())\n",
        "n=6\n",
        "r=3\n",
        "p_b=b/(b+g)\n",
        "p_g=g/(b+g)\n",
        "\n",
        "fact_ans=0\n",
        "for i in range(r,n+1):\n",
        "  fact_ans+=comb(n,i)*pow(p_b,i)*pow(p_g,(n-i))\n",
        "\n",
        "\n",
        "\n",
        "\n",
        "print(\"%.3f\" % fact_ans)\n"
      ],
      "execution_count": 1,
      "outputs": [
        {
          "output_type": "stream",
          "text": [
            "1.09 1\n",
            "0.696\n"
          ],
          "name": "stdout"
        }
      ]
    },
    {
      "cell_type": "code",
      "metadata": {
        "colab": {
          "base_uri": "https://localhost:8080/"
        },
        "id": "8fy-6fYas_zK",
        "outputId": "56068642-54d4-44a9-ae3f-b04f9b5468e6"
      },
      "source": [
        "#Q2\n",
        "def fact(a):\n",
        "  fact_a=1\n",
        "  for i in range(1,a+1):\n",
        "    fact_a=fact_a*i\n",
        "  return fact_a\n",
        "\n",
        "def comb(a,b):\n",
        "  \n",
        "  m=fact(a)\n",
        "  \n",
        "  n=fact(b)\n",
        "  \n",
        "  r=fact(a-b)\n",
        "  \n",
        "  comb=m/(n*r)\n",
        "  return comb\n",
        "\n",
        "f,g=map(int,input().split())\n",
        "\n",
        "g=g\n",
        "d=2\n",
        "p_s=f/100\n",
        "p_g=1-(f/100)\n",
        "\n",
        "fact_ans=0\n",
        "fact_ans2=0\n",
        "for i in range(d,g+1):\n",
        "  fact_ans+=comb(g,i)*pow(p_s,i)*pow(p_g,(g-i))\n",
        "  \n",
        "\n",
        "for i in range(0,d+1):\n",
        "    fact_ans2+=comb(g,i)*pow(p_s,i)*pow(p_g,(g-i))\n",
        "    \n",
        "\n",
        "print(\"%.3f\" % fact_ans2)\n",
        "print(\"%.3f\" % fact_ans)"
      ],
      "execution_count": 2,
      "outputs": [
        {
          "output_type": "stream",
          "text": [
            "12 10\n",
            "0.891\n",
            "0.342\n"
          ],
          "name": "stdout"
        }
      ]
    },
    {
      "cell_type": "code",
      "metadata": {
        "colab": {
          "base_uri": "https://localhost:8080/"
        },
        "id": "ztX7ukrxtGj5",
        "outputId": "e5b42056-6f92-46af-f54e-4e4dfa874f4e"
      },
      "source": [
        "#Q3\n",
        "import math\n",
        "\n",
        "m,s=map(int,input().split())\n",
        "\n",
        "x=19.5\n",
        "y1=20 \n",
        "y2=22\n",
        "\n",
        "less_than=0.5*(1+math.erf((x-m)/(s*math.sqrt(2))))\n",
        "\n",
        "in_between=(0.5*(1+math.erf((y2-m)/(s*math.sqrt(2)))))-(0.5*(1+math.erf((y1-m)/(s*math.sqrt(2)))))\n",
        "\n",
        "print(\"%.3f\" % less_than)\n",
        "print(\"%.3f\" % in_between)"
      ],
      "execution_count": 3,
      "outputs": [
        {
          "output_type": "stream",
          "text": [
            "20 2\n",
            "0.401\n",
            "0.341\n"
          ],
          "name": "stdout"
        }
      ]
    },
    {
      "cell_type": "code",
      "metadata": {
        "colab": {
          "base_uri": "https://localhost:8080/"
        },
        "id": "hYOOJC2dtZvp",
        "outputId": "7efaaa29-0448-4421-9bb3-157b3f9b3851"
      },
      "source": [
        "#Q4\n",
        "# Enter your code here. Read input from STDIN. Print output to STDOUT\n",
        "import math\n",
        "\n",
        "m,s=map(int,input().split())\n",
        "\n",
        "x=80\n",
        "y1=60\n",
        "\n",
        "\n",
        "greater_than_80=(0.5*(1-math.erf((x-m)/(s*math.sqrt(2)))))*100\n",
        "\n",
        "greater_than_60=(0.5*(1-math.erf((y1-m)/(s*math.sqrt(2)))))*100\n",
        "\n",
        "less_than_60=(0.5*(1+math.erf((y1-m)/(s*math.sqrt(2)))))*100\n",
        "\n",
        "print(\"%.2f\" % greater_than_80)\n",
        "print(\"%.2f\" % greater_than_60)\n",
        "print(\"%.2f\" % less_than_60)"
      ],
      "execution_count": 4,
      "outputs": [
        {
          "output_type": "stream",
          "text": [
            "70 10\n",
            "15.87\n",
            "84.13\n",
            "15.87\n"
          ],
          "name": "stdout"
        }
      ]
    },
    {
      "cell_type": "code",
      "metadata": {
        "colab": {
          "base_uri": "https://localhost:8080/"
        },
        "id": "_zvRt7wCtprA",
        "outputId": "85c2028c-d15c-49c2-a9d2-729f9a5f24d5"
      },
      "source": [
        "#Q5\n",
        "import math\n",
        "\n",
        "pd=int(input())\n",
        "sample=int(input())\n",
        "m=int(input())\n",
        "sd=int(input())\n",
        "samle_sd=math.sqrt(sample)*sd\n",
        "mean_sample = m * sample\n",
        "\n",
        "\n",
        "\n",
        "def clf(pd, mean, sd):\n",
        "  return 0.5 * (1 + math.erf((pd - mean) / (sd * (2 ** 0.5))))\n",
        "\n",
        "\n",
        "\n",
        "print(round(clf(pd, mean_sample, samle_sd), 4))"
      ],
      "execution_count": 5,
      "outputs": [
        {
          "output_type": "stream",
          "text": [
            "9800\n",
            "49\n",
            "205\n",
            "15\n",
            "0.0098\n"
          ],
          "name": "stdout"
        }
      ]
    },
    {
      "cell_type": "code",
      "metadata": {
        "colab": {
          "base_uri": "https://localhost:8080/"
        },
        "id": "wTWG2A-TuHSZ",
        "outputId": "c044ac2a-1e74-46f4-dda8-6aa376425e78"
      },
      "source": [
        "#Q6\n",
        "import math\n",
        "\n",
        "pd=int(input())\n",
        "sample=int(input())\n",
        "m=float(input())\n",
        "sd=float(input())\n",
        "samle_sd=math.sqrt(sample)*sd\n",
        "mean_sample = m * sample\n",
        "\n",
        "\n",
        "\n",
        "def clf(pd, mean, sd):\n",
        "  return 0.5 * (1 + math.erf((pd - mean) / (sd * (2 ** 0.5))))\n",
        "\n",
        "\n",
        "\n",
        "print(round(clf(pd, mean_sample, samle_sd), 4))"
      ],
      "execution_count": 6,
      "outputs": [
        {
          "output_type": "stream",
          "text": [
            "250\n",
            "100\n",
            "2.4\n",
            "2.0\n",
            "0.6915\n"
          ],
          "name": "stdout"
        }
      ]
    },
    {
      "cell_type": "code",
      "metadata": {
        "colab": {
          "base_uri": "https://localhost:8080/"
        },
        "id": "vjf3tQ5gvsMx",
        "outputId": "1a0cc203-fe49-4516-92f5-6341c1dbfe33"
      },
      "source": [
        "#Q7\n",
        "import math\n",
        "n=int(input())\n",
        "mean=int(input())\n",
        "sd=int(input())\n",
        "dis=float(input())\n",
        "z=float(input())\n",
        "\n",
        "std=sd/pow(n,0.5)\n",
        "\n",
        "print(\"%.2f\"%(mean - std * z))\n",
        "print(\"%.2f\"%(mean + std * z))"
      ],
      "execution_count": 11,
      "outputs": [
        {
          "output_type": "stream",
          "text": [
            "100\n",
            "500\n",
            "80\n",
            "0.95\n",
            "1.96\n",
            "484.32\n",
            "515.68\n"
          ],
          "name": "stdout"
        }
      ]
    },
    {
      "cell_type": "code",
      "metadata": {
        "colab": {
          "base_uri": "https://localhost:8080/"
        },
        "id": "waP9zFj5uTcI",
        "outputId": "87d8898c-dfe3-48e0-d91f-a3b00ecc2e64"
      },
      "source": [
        "#Q8\n",
        "import math\n",
        "\n",
        "data_size=int(input())\n",
        "X=list(map(float,input().split()))\n",
        "Y=list(map(float,input().split()))\n",
        "mu_X=sum(X)/data_size\n",
        "\n",
        "mu_Y=sum(Y)/data_size\n",
        "\n",
        "\n",
        "\n",
        "sigma_X=(sum([(i - mu_X)**2 for i in X]) /data_size)**0.5\n",
        "sigma_Y=(sum([(i - mu_Y)**2 for i in Y]) /data_size)**0.5\n",
        "\n",
        "\n",
        " \n",
        "cov=sum([(X[i]-mu_X)*(Y[i]-mu_Y) for i in range(data_size)])\n",
        "\n",
        "pearson_corr=cov/(data_size*sigma_X*sigma_Y)\n",
        "\n",
        "print(\"%.3f\" % pearson_corr)"
      ],
      "execution_count": 9,
      "outputs": [
        {
          "output_type": "stream",
          "text": [
            "10\n",
            "10 9.8 8 7.8 7.7 7 6 5 4 2 \n",
            "200 44 32 24 22 17 15 12 8 4\n",
            "0.612\n"
          ],
          "name": "stdout"
        }
      ]
    },
    {
      "cell_type": "code",
      "metadata": {
        "colab": {
          "base_uri": "https://localhost:8080/"
        },
        "id": "OKu2Etc7vBNZ",
        "outputId": "748922b9-a70b-42c0-fcf7-946829fb7448"
      },
      "source": [
        "#Q9\n",
        "from six.moves import input as raw_input\n",
        "X=[]\n",
        "Y=[]\n",
        "N=5\n",
        "\n",
        "for i in range(N):\n",
        "    x,y=map(int,raw_input().split())    #strip().\n",
        "    X.append(x)\n",
        "    Y.append(y)\n",
        "    \n",
        "import math\n",
        "\n",
        "def pear_corr_coef(X,Y):\n",
        "  data_size=N\n",
        "  mu_X=sum(X)/data_size\n",
        "  mu_Y=sum(Y)/data_size\n",
        "  sigma_X=(sum([(i - mu_X)**2 for i in X]) /data_size)**0.5\n",
        "  sigma_Y=(sum([(i - mu_Y)**2 for i in Y]) /data_size)**0.5\n",
        "  cov=sum([(X[i]-mu_X)*(Y[i]-mu_Y) for i in range(data_size)])\n",
        "  pearson_corr=cov/(data_size*sigma_X*sigma_Y)\n",
        "  return round(pearson_corr,3)\n",
        "\n",
        "\n",
        "\n",
        "mu_X=sum(X)/N\n",
        "mu_Y=sum(Y)/N\n",
        "sigma_X=(sum([(i - mu_X)**2 for i in X]) /N)**0.5\n",
        "sigma_Y=(sum([(i - mu_Y)**2 for i in Y]) /N)**0.5\n",
        "\n",
        "p=pear_corr_coef(X,Y)\n",
        "b=p*(sigma_Y/sigma_X)\n",
        "a=((mu_Y)-b*(mu_X))\n",
        "\n",
        "print(\"%.3f\"%(a + b*80))"
      ],
      "execution_count": 10,
      "outputs": [
        {
          "output_type": "stream",
          "text": [
            "95 85\n",
            "85 95\n",
            "80 70\n",
            "70 65\n",
            "60 70\n",
            "78.288\n"
          ],
          "name": "stdout"
        }
      ]
    },
    {
      "cell_type": "code",
      "metadata": {
        "colab": {
          "base_uri": "https://localhost:8080/"
        },
        "id": "Mq0ySE0dvZMZ",
        "outputId": "3b64110b-a2a5-49c9-8b15-b497b2256f7f"
      },
      "source": [
        "#Q10\n",
        "# Enter your code here. Read input from STDIN. Print output to STDOUT\n",
        "from six.moves import input as raw_input\n",
        "import numpy as np\n",
        "m,n = map(int,raw_input().split())\n",
        "x = []\n",
        "y =[]\n",
        "for i in range(n):\n",
        "    vals=list(map(float,raw_input().split()))\n",
        "    x.append(vals[:-1])\n",
        "    y.append(vals[-1])\n",
        "\n",
        "q = int(raw_input())\n",
        "test = []\n",
        "for i in range(q):\n",
        "    vals=list(map(float,raw_input().split()))\n",
        "    test.append(vals)\n",
        "\n",
        "x=np.insert(x,0,1,axis=1)\n",
        "test=np.insert(test,0,1,axis=1)\n",
        "\n",
        "tr=np.transpose(x)\n",
        "e=np.dot(tr,x)\n",
        "inv=np.linalg.inv(e)\n",
        "f=np.dot(inv,tr)\n",
        "b=np.dot(f,y)\n",
        "final_ans=np.dot(test,b)\n",
        "np.set_printoptions(precision=2)\n",
        "\n",
        "\n",
        "for i in final_ans:\n",
        "    print(\"%.2f\"%i)"
      ],
      "execution_count": 12,
      "outputs": [
        {
          "output_type": "stream",
          "text": [
            "2 7\n",
            "0.18 0.89 109.85\n",
            "1.0 0.26 155.72\n",
            "0.92 0.11 137.66\n",
            "0.07 0.37 76.17\n",
            "0.85 0.16 139.75\n",
            "0.99 0.41 162.6\n",
            "0.87 0.47 151.77\n",
            "4\n",
            "0.49 0.18\n",
            "0.57 0.83\n",
            "0.56 0.64\n",
            "0.76 0.18\n",
            "105.21\n",
            "142.67\n",
            "132.94\n",
            "129.70\n"
          ],
          "name": "stdout"
        }
      ]
    }
  ]
}