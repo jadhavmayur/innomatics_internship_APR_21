{
  "nbformat": 4,
  "nbformat_minor": 0,
  "metadata": {
    "colab": {
      "name": "Task - 7 (Descriptive Stats).ipynb",
      "provenance": []
    },
    "kernelspec": {
      "name": "python3",
      "display_name": "Python 3"
    },
    "language_info": {
      "name": "python"
    }
  },
  "cells": [
    {
      "cell_type": "markdown",
      "metadata": {
        "id": "avWMQLmkAjNp"
      },
      "source": [
        "# Descriptive Statistics and Python Implementation"
      ]
    },
    {
      "cell_type": "code",
      "metadata": {
        "colab": {
          "base_uri": "https://localhost:8080/"
        },
        "id": "KT0kbcq0Aic5",
        "outputId": "4d899769-c594-4704-d7b8-e7d2d7f11aeb"
      },
      "source": [
        "from google.colab import drive\n",
        "drive.mount(\"/content/drive\")"
      ],
      "execution_count": 27,
      "outputs": [
        {
          "output_type": "stream",
          "text": [
            "Drive already mounted at /content/drive; to attempt to forcibly remount, call drive.mount(\"/content/drive\", force_remount=True).\n"
          ],
          "name": "stdout"
        }
      ]
    },
    {
      "cell_type": "code",
      "metadata": {
        "id": "DvgIdHLGCKew"
      },
      "source": [
        "import pandas as pd\n",
        "data=pd.read_csv(\"/content/drive/Shareddrives/mayur/innomatics/Statistics/data.csv\")"
      ],
      "execution_count": 28,
      "outputs": []
    },
    {
      "cell_type": "code",
      "metadata": {
        "colab": {
          "base_uri": "https://localhost:8080/"
        },
        "id": "PPuE10PobOlL",
        "outputId": "bd2906d7-16e4-4474-f836-9a0af2eb5ef7"
      },
      "source": [
        "data.shape"
      ],
      "execution_count": 44,
      "outputs": [
        {
          "output_type": "execute_result",
          "data": {
            "text/plain": [
              "(50, 7)"
            ]
          },
          "metadata": {
            "tags": []
          },
          "execution_count": 44
        }
      ]
    },
    {
      "cell_type": "markdown",
      "metadata": {
        "id": "TTLc61_OB_lo"
      },
      "source": [
        "##Mean($\\mu$)"
      ]
    },
    {
      "cell_type": "markdown",
      "metadata": {
        "id": "rakzxCD8CDuo"
      },
      "source": [
        "* Mean($\\mu$) is the arithmetic mean of the data set.\n",
        "*Mean is denoted by $\\mu$ sign.\n",
        "* <p>In statistics,Mean shows the central tendency of probability distribution.\n",
        "The mean  is calculated by adding all of the numbers together and dividing by the number of items in the data set.\n",
        "Suppose you have the student's exam's marks data set and you want to find out the mean.<p/>\n",
        "\n",
        "* Formula for Mean:-\n",
        " * Mean=$ \\frac{1}{n}$ $\\sum_{i=1}^{n} X_i$\n",
        "\n",
        "* eg, marks=[70,80,75,67,78] and number of subject is 5.\n",
        " <p>Mean($\\mu$)= $ \\frac {70+80+75+67+78}{5} $\n",
        " <p>Mean($\\mu$)=74\n"
      ]
    },
    {
      "cell_type": "markdown",
      "metadata": {
        "id": "ksZ5lgKgZPds"
      },
      "source": [
        "###mean without mean method"
      ]
    },
    {
      "cell_type": "code",
      "metadata": {
        "colab": {
          "base_uri": "https://localhost:8080/"
        },
        "id": "mTQLeTKaB1ax",
        "outputId": "7c89096f-0f37-443d-d839-bae9e630a51e"
      },
      "source": [
        "\n",
        "marks=[70,80,75,67,78]\n",
        "n=len(marks)\n",
        "Mean=sum(marks)/n\n",
        "print(Mean)"
      ],
      "execution_count": 30,
      "outputs": [
        {
          "output_type": "stream",
          "text": [
            "74.0\n"
          ],
          "name": "stdout"
        }
      ]
    },
    {
      "cell_type": "code",
      "metadata": {
        "colab": {
          "base_uri": "https://localhost:8080/"
        },
        "id": "knhhe4Z5KXS_",
        "outputId": "85901f5c-3945-4a0c-baa8-943bd1c103aa"
      },
      "source": [
        "#Find mean of the column without mean method\n",
        "data_1=data[\"Mthly_HH_Income\"]\n",
        "mean_data_1=sum(data_1)/len(data_1)\n",
        "print(mean_data_1)"
      ],
      "execution_count": 31,
      "outputs": [
        {
          "output_type": "stream",
          "text": [
            "41558.0\n"
          ],
          "name": "stdout"
        }
      ]
    },
    {
      "cell_type": "markdown",
      "metadata": {
        "id": "sR1htt4zLJuO"
      },
      "source": [
        "**We can directly calculate mean($\\mu$) by mean method of python**"
      ]
    },
    {
      "cell_type": "code",
      "metadata": {
        "colab": {
          "base_uri": "https://localhost:8080/"
        },
        "id": "4KAiUSy-LWcn",
        "outputId": "8c4a759d-01a3-4f73-9152-ea6574f7d258"
      },
      "source": [
        "print(\"Mthly_HH_Income:\",data[\"Mthly_HH_Income\"].mean())\n",
        "print(\"Mthly_HH_Expense:\",data[\"Mthly_HH_Expense\"].mean())\n",
        "print(\"No_of_Fly_Members:\",data[\"No_of_Fly_Members\"].mean())\n",
        "print(\"Emi_or_Rent_Amt:\",data[\"Emi_or_Rent_Amt\"].mean())"
      ],
      "execution_count": 32,
      "outputs": [
        {
          "output_type": "stream",
          "text": [
            "Mthly_HH_Income: 41558.0\n",
            "Mthly_HH_Expense: 18818.0\n",
            "No_of_Fly_Members: 4.06\n",
            "Emi_or_Rent_Amt: 3060.0\n"
          ],
          "name": "stdout"
        }
      ]
    },
    {
      "cell_type": "markdown",
      "metadata": {
        "id": "gKvTbMhoZaMR"
      },
      "source": [
        "## Median"
      ]
    },
    {
      "cell_type": "markdown",
      "metadata": {
        "id": "aGVLzPIcZiri"
      },
      "source": [
        "* Median is the middle value of a sorted list of numbers.\n",
        "*<p>Why Median value is calculated?</p>\n",
        " Suppose we want to build houses for middle class people.If you collocted people's income data.As per requirement you calculate mean of the data but your mean is skewed because of the  outliers.Mean is skewed because the data set also contain high income values and because of that mean get skewed.</p>\n",
        " <p> This problem solved by median.Median is not skewed because of the outliers.\n",
        " Hence median is important.</p>\n",
        "* How to calculate Median?\n",
        "  * Sort the all values by ascending order.\n",
        "  * Find the middle value of the data.\n",
        "  *Median=((n + 1) ÷ 2)$\\ th$ value if n=odd and Median=(n/2)$\\ th$ if n=even.\n",
        "*eg, data=[10, 34, 56, 89, 99, 101, 102]\n",
        "<p> n=7, n is odd hence Median is at 4.Median=89\n",
        "\n"
      ]
    },
    {
      "cell_type": "code",
      "metadata": {
        "colab": {
          "base_uri": "https://localhost:8080/"
        },
        "id": "yXI1MAk3ZfXT",
        "outputId": "fb087d28-9313-4943-99e2-db1216831d18"
      },
      "source": [
        "data_m=[10, 34, 56, 89, 99, 101, 102]\n",
        "length=len(data_m)\n",
        "\n",
        "data_m=list(sorted(data_m))\n",
        "\n",
        "\n",
        "\n",
        "if length%2!=0:\n",
        "  i=((length)//2)\n",
        "  median=data_m[i]\n",
        "  print(median)\n",
        "elif length%2==0:\n",
        "  v=length//2\n",
        "  median=(data_m[v]+data_m[v-1])/2\n",
        "  print(median)\n",
        "\n"
      ],
      "execution_count": 47,
      "outputs": [
        {
          "output_type": "stream",
          "text": [
            "89\n"
          ],
          "name": "stdout"
        }
      ]
    },
    {
      "cell_type": "code",
      "metadata": {
        "colab": {
          "base_uri": "https://localhost:8080/"
        },
        "id": "grxXkdVMTmg5",
        "outputId": "16307f60-7831-4011-8518-0f230fbab14f"
      },
      "source": [
        "import numpy as np\n",
        "data_m=data[\"Mthly_HH_Income\"]\n",
        "length=len(data_m)\n",
        "\n",
        "#data_m=list(sorted(data_m))\n",
        "\n",
        "print(np.percentile(data_m,50))\n",
        "\n",
        "if length%2!=0:\n",
        "  i=((length)//2)\n",
        "  median=data_m[i-1]\n",
        "  print(median)\n",
        "elif length%2==0:\n",
        "  v=length//2\n",
        "  median=(data_m[v]+data_m[v-1])/2\n",
        "  print(median)"
      ],
      "execution_count": 51,
      "outputs": [
        {
          "output_type": "stream",
          "text": [
            "35000.0\n",
            "35000.0\n"
          ],
          "name": "stdout"
        }
      ]
    },
    {
      "cell_type": "markdown",
      "metadata": {
        "id": "_Nr4iecYDnwV"
      },
      "source": [
        "**Columns median by median method**"
      ]
    },
    {
      "cell_type": "code",
      "metadata": {
        "colab": {
          "base_uri": "https://localhost:8080/"
        },
        "id": "Ra7uGEMaDniE",
        "outputId": "c01e94dc-a6ff-484d-f39c-79c8eed6d755"
      },
      "source": [
        "#import statistics\n",
        "#statistics.median(data['Annual_HH_Income'])\n",
        "data['Mthly_HH_Income'].median()"
      ],
      "execution_count": 57,
      "outputs": [
        {
          "output_type": "execute_result",
          "data": {
            "text/plain": [
              "35000.0"
            ]
          },
          "metadata": {
            "tags": []
          },
          "execution_count": 57
        }
      ]
    },
    {
      "cell_type": "markdown",
      "metadata": {
        "id": "cPDtVlTFFkab"
      },
      "source": [
        "##Mode"
      ]
    },
    {
      "cell_type": "markdown",
      "metadata": {
        "id": "uA34inCaFmJD"
      },
      "source": [
        "* Mode is the most frequent values occured in data set.\n",
        "* There are three types of Mode\n",
        "  * Unimodal\n",
        "  * Bimodal\n",
        "  *Multimodal\n",
        "* Advantage of Mode\n",
        "  * The mode is not affected by extreme values\n",
        "  * The mode is useful for qualitative data.\n",
        "  * It can be computed in an open-end frequency table.\n",
        "*eg data=[3,4,4,5,7] , 4 is the mode of the data because 4 is the most frequent in data."
      ]
    },
    {
      "cell_type": "code",
      "metadata": {
        "id": "Lf6yx2PORmwa",
        "colab": {
          "base_uri": "https://localhost:8080/"
        },
        "outputId": "7ad2fc1d-1327-4546-8c86-b4a6cc730e95"
      },
      "source": [
        "#https://stackabuse.com/calculating-mean-median-and-mode-in-python/\n",
        "from collections import Counter\n",
        "\n",
        "def my_mode(sample):\n",
        "  c = Counter(sample)\n",
        "  return [k for k, v in c.items() if v == c.most_common(1)[0][1]]\n",
        "\n",
        "data_c=data['Annual_HH_Income']\n",
        "print(my_mode(data_c))"
      ],
      "execution_count": 87,
      "outputs": [
        {
          "output_type": "stream",
          "text": [
            "[590400]\n"
          ],
          "name": "stdout"
        }
      ]
    },
    {
      "cell_type": "code",
      "metadata": {
        "colab": {
          "base_uri": "https://localhost:8080/"
        },
        "id": "67nmi2whJFt0",
        "outputId": "241be3c8-ba89-4fdb-adc3-be87c0ec3f15"
      },
      "source": [
        "data['Annual_HH_Income'].mode()"
      ],
      "execution_count": 88,
      "outputs": [
        {
          "output_type": "execute_result",
          "data": {
            "text/plain": [
              "0    590400\n",
              "dtype: int64"
            ]
          },
          "metadata": {
            "tags": []
          },
          "execution_count": 88
        }
      ]
    },
    {
      "cell_type": "markdown",
      "metadata": {
        "id": "uQ8F76SIHBI7"
      },
      "source": [
        "## Variance($\\sigma^2$)\n"
      ]
    },
    {
      "cell_type": "markdown",
      "metadata": {
        "id": "Cjqtg-C3LHFi"
      },
      "source": [
        "* Variance measures how far each number in the set is from the mean and thus from every other number in the set.\n",
        "* denoted by $\\sigma^2$ sign.\n",
        "* Variance has two types:\n",
        "  * Population variance\n",
        "  * Sample variance \n",
        "* How to calculate variance?\n",
        "<p>It is calculated by taking the average of squared deviations from the mean.</p> \n",
        "<p>$\\sigma^2$=$ \\frac{1}{n}$ $\\sum_{i=1}^{n} (x_i - {\\bar{x}})^2 $</p>\n",
        "<p> n=population size</p>\n",
        "<p>$x_i$=\tthe value of the one observation</p>\n",
        "<p>$ {\\bar{x}} $=mean of population\n",
        "<p> above equation used to calculate variance of population where sample variance has below equation.\n",
        "<p>$\\ S^2$=$ \\frac{1}{n-1}$ $\\sum_{i=1}^{n} (x_i - {\\bar{x}})^2 $\n",
        "<p> n=sample size</p>\n",
        "<p>$x_i$=\tthe value of the one observation</p>\n",
        "<p>$ {\\bar{x}} $=mean of sample\n",
        "\n",
        "\n"
      ]
    },
    {
      "cell_type": "code",
      "metadata": {
        "id": "iqXeLuFSHNf6",
        "colab": {
          "base_uri": "https://localhost:8080/"
        },
        "outputId": "e1abb48f-1038-4c4d-8ca0-54785c3cbef9"
      },
      "source": [
        "#calculate variance without method\n",
        "data_var=[10, 34, 56, 89, 99, 101, 102]\n",
        "mean=sum(data_var)/len(data_var)\n",
        "var=0\n",
        "\n",
        "for i in range(len(data_var)):\n",
        "  var+=(data_var[i]-mean)**2\n",
        "\n",
        "\n",
        "print(var)\n",
        "variance=var/len(data_var)\n",
        "print(round(variance,4))"
      ],
      "execution_count": 37,
      "outputs": [
        {
          "output_type": "stream",
          "text": [
            "8278.857142857143\n",
            "1182.6939\n"
          ],
          "name": "stdout"
        }
      ]
    },
    {
      "cell_type": "code",
      "metadata": {
        "colab": {
          "base_uri": "https://localhost:8080/"
        },
        "id": "bE6MuEfL17UY",
        "outputId": "ab65abc6-052f-4b08-9868-38c3853175ad"
      },
      "source": [
        "data_var=list(data['Mthly_HH_Income'])\n",
        "mean=sum(data_var)/len(data_var)\n",
        "var=0\n",
        "\n",
        "for i in range(len(data_var)):\n",
        "  var+=pow((data_var[i]-mean),2)\n",
        "\n",
        "\n",
        "print(var)\n",
        "variance=var/len(data_var)\n",
        "print(round(variance,4))"
      ],
      "execution_count": 64,
      "outputs": [
        {
          "output_type": "stream",
          "text": [
            "33373941800.0\n",
            "667478836.0\n"
          ],
          "name": "stdout"
        }
      ]
    },
    {
      "cell_type": "code",
      "metadata": {
        "id": "CbN0PsJcqXcp",
        "colab": {
          "base_uri": "https://localhost:8080/"
        },
        "outputId": "5ba34050-6740-40a4-bf01-8b6978cc1190"
      },
      "source": [
        "#calculate variance with method by variance method\n",
        "import statistics\n",
        "print(\"Variance:\",statistics.variance(data_var))\n",
        "print(\"Mthly_HH_Income:\",statistics.variance(data['Mthly_HH_Income']))\n",
        "print(\"Mthly_HH_Expense:\",statistics.variance(data[\"Mthly_HH_Expense\"]))\n",
        "print(\"No_of_Fly_Members:\",statistics.variance(data[\"No_of_Fly_Members\"]))\n",
        "\n"
      ],
      "execution_count": 38,
      "outputs": [
        {
          "output_type": "stream",
          "text": [
            "Variance: 1379.8095238095239\n",
            "Mthly_HH_Income: 681100853.0612245\n",
            "Mthly_HH_Expense: 146173342.85714287\n",
            "No_of_Fly_Members: 2.3024489795918366\n"
          ],
          "name": "stdout"
        }
      ]
    },
    {
      "cell_type": "markdown",
      "metadata": {
        "id": "h-zZSD-0v8Mx"
      },
      "source": [
        "## Standard deviation ($\\sigma$)"
      ]
    },
    {
      "cell_type": "markdown",
      "metadata": {
        "id": "VJMOH_g8yt-I"
      },
      "source": [
        "* Standard deviation is a measure of dispersement in statistics. “Dispersement” tells you how much your data is spread out. Specifically, it shows you how much your data is spread out around the mean or average.\n",
        "* denoted by $\\sigma$ sign.\n",
        "* Variance has two types:\n",
        "  * Population Standard deviation\n",
        "  * Sample Standard deviation\n",
        "\n",
        "* How to calculate Standard deviation?\n",
        "<p>$\\sigma$=$\\sqrt\\frac{1}{n}$ $\\sum_{i=1}^{n} \\sqrt(x_i - {\\bar{x}})^2 $</p>\n",
        "<p> n=population size</p>\n",
        "<p>$x_i$=\tthe value of the one observation</p>\n",
        "<p>$ {\\bar{x}} $=mean of population\n",
        "<p>below equation shows the Standard deviation of sample.\n",
        "<p>$\\ S$=$ \\sqrt \\frac{1}{n-1}$ $\\sum_{i=1}^{n} \\sqrt(x_i - {\\bar{x}})^2 $\n",
        "<p> n=sample size</p>\n",
        "<p>$x_i$=\tthe value of the one observation</p>\n",
        "<p>$ {\\bar{x}} $=mean of sample\n",
        "* There is 68-95-99 rule of deviation for normal distribution:\n",
        "<p>It sayes that 68% data is distributed at first standard deviation,95% data is distributed at second standard deviatiopn and 99% data distributed in third deviation\n",
        "\n",
        "![Standard_deviation_diagram.png](data:image/png;base64,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)"
      ]
    },
    {
      "cell_type": "code",
      "metadata": {
        "id": "kRhINNl61O_I",
        "colab": {
          "base_uri": "https://localhost:8080/"
        },
        "outputId": "5e788230-2ec6-49e9-b982-c68653455dfc"
      },
      "source": [
        "#calculate Standard deviation  without method\n",
        "import math\n",
        "data_var=[10, 34, 56, 89, 99, 101, 102]\n",
        "mean=sum(data_var)/len(data_var)\n",
        "sd1=0\n",
        "\n",
        "for i in range(len(data_var)):\n",
        "  sd1+=(data_var[i]-mean)**2\n",
        "\n",
        "\n",
        "print(sd1)\n",
        "sd=math.sqrt(sd1/(len(data_var)))\n",
        "print(round(sd,4))"
      ],
      "execution_count": 60,
      "outputs": [
        {
          "output_type": "stream",
          "text": [
            "8278.857142857143\n",
            "34.3903\n"
          ],
          "name": "stdout"
        }
      ]
    },
    {
      "cell_type": "code",
      "metadata": {
        "id": "lA_s_Vku16MI",
        "colab": {
          "base_uri": "https://localhost:8080/"
        },
        "outputId": "71680785-fa1c-4761-db2d-87ab4e34f83b"
      },
      "source": [
        "#calculate variance with method by Standard deviation\n",
        "import statistics\n",
        "print(\"Standard deviation:\",statistics.stdev(data_var))\n",
        "print(\"Mthly_HH_Income:\",statistics.stdev(data['Mthly_HH_Income']))\n",
        "print(\"Mthly_HH_Expense:\",statistics.stdev(data[\"Mthly_HH_Expense\"]))\n",
        "print(\"No_of_Fly_Members:\",statistics.stdev(data[\"No_of_Fly_Members\"]))"
      ],
      "execution_count": 40,
      "outputs": [
        {
          "output_type": "stream",
          "text": [
            "Standard deviation: 37.145787430198915\n",
            "Mthly_HH_Income: 26097.908978713687\n",
            "Mthly_HH_Expense: 12090.216824240286\n",
            "No_of_Fly_Members: 1.5173822786601392\n"
          ],
          "name": "stdout"
        }
      ]
    },
    {
      "cell_type": "markdown",
      "metadata": {
        "id": "vFPCA-cg301D"
      },
      "source": [
        "## Correlation($\\rho$)\n"
      ]
    },
    {
      "cell_type": "markdown",
      "metadata": {
        "id": "q4Ku-pOt7IcG"
      },
      "source": [
        "* Correlation is used to test relationships between quantitative variables or categorical variables.\n",
        "* Correlation shows the how strong the relationship between two varibles.\n",
        "* If two variables directly proportional to each other means one variable increases which cause to another variable increnment then it shows positive correlation between that two variable.\n",
        "*If two variable inversely proportional two each other it shows negative correlation.\n",
        "*Pearsson correlation is most important in correlation.It shows the inear correlation between two sets of data.\n",
        "*Correlation always lie between -1 to 1.\n",
        "* How to calculate Correlation?\n",
        "<p>$\\rho$=$\\frac{Cov(X,Y)}{\\sigma(X)\\sigma(Y)}$\n",
        "\n",
        "![pearson-2-small.png](data:image/png;base64,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)"
      ]
    },
    {
      "cell_type": "code",
      "metadata": {
        "id": "XBKhXgjj7Hgn",
        "colab": {
          "base_uri": "https://localhost:8080/"
        },
        "outputId": "88eea141-5da1-4354-8742-c1757b036116"
      },
      "source": [
        "#pearson correlation without method\n",
        "import math\n",
        "\n",
        "\n",
        "X=list(data[\"Mthly_HH_Income\"])\n",
        "Y=list(data[\"Mthly_HH_Expense\"])\n",
        "mu_X=sum(X)/len(X)\n",
        "\n",
        "mu_Y=sum(Y)/len(Y)\n",
        "\n",
        "\n",
        "\n",
        "sigma_X=(sum([(i - mu_X)**2 for i in X]) /len(X))**0.5\n",
        "sigma_Y=(sum([(i - mu_Y)**2 for i in Y]) /len(Y))**0.5\n",
        "\n",
        "\n",
        " \n",
        "cov=sum([(X[i]-mu_X)*(Y[i]-mu_Y) for i in range(len(Y))])\n",
        "\n",
        "pearson_corr=cov/(len(Y)*sigma_X*sigma_Y)\n",
        "\n",
        "print(\"%.3f\" % pearson_corr)\n"
      ],
      "execution_count": 49,
      "outputs": [
        {
          "output_type": "stream",
          "text": [
            "0.649\n"
          ],
          "name": "stdout"
        }
      ]
    },
    {
      "cell_type": "code",
      "metadata": {
        "colab": {
          "base_uri": "https://localhost:8080/"
        },
        "id": "KQ1Y1Wq6fRAb",
        "outputId": "59fb1e42-f97c-43d3-d74c-5af1837242d4"
      },
      "source": [
        "#pearson correlation with method\n",
        "rho=np.corrcoef(X,Y)\n",
        "print(rho)"
      ],
      "execution_count": 50,
      "outputs": [
        {
          "output_type": "stream",
          "text": [
            "[[1.         0.64921525]\n",
            " [0.64921525 1.        ]]\n"
          ],
          "name": "stdout"
        }
      ]
    },
    {
      "cell_type": "markdown",
      "metadata": {
        "id": "uFD30sVHf577"
      },
      "source": [
        "## Normal Distribution"
      ]
    },
    {
      "cell_type": "markdown",
      "metadata": {
        "id": "VpwjtrTKf7aK"
      },
      "source": [
        "* Normal distribution is the bell shape curved distribution has exaclty bilateral symmetry.\n",
        "*In normal distribution 68% data is distributed at first standard deviation,95% data is distributed at second standard deviatiopn and 99% data distributed in third deviation.\n",
        "*Normal distribution has mean,meadin,mode at the center.\n",
        "*The area under the curve is equal to 1.\n",
        "\n",
        "![Standard_deviation_diagram.png](data:image/png;base64,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)\n",
        "\n",
        "* Standard normal distribution:\n",
        "<p>It has mean,meadin and mode at zero.All the data converted in 0 to 1 value it is called Standard normal distribution.\n",
        "* f(x,$\\mu$,$\\sigma$)=$\\frac{1}{\\sigma}$ $e^{\\frac{-1}{2}(\\frac{x-\\mu}{\\sigma})}$\n"
      ]
    },
    {
      "cell_type": "markdown",
      "metadata": {
        "id": "nbhxwNlbFFvc"
      },
      "source": [
        "eg:-In a certain plant, the time taken to assemble a car is a random variable, X, having a normal distribution with a mean of 2 hours and a standard deviation of  hours. What is the probability that a car can be assembled at this plant in:\n",
        "\n",
        "1)Less than 19.5  hours?\n",
        "2)Between 20 and 22 hours? "
      ]
    },
    {
      "cell_type": "code",
      "metadata": {
        "colab": {
          "base_uri": "https://localhost:8080/"
        },
        "id": "6OjZzsPmFEGM",
        "outputId": "082510fc-c6d2-4613-8ebe-183254fc469f"
      },
      "source": [
        "import math\n",
        "\n",
        "m,s=map(int,input().split())\n",
        "\n",
        "x=19.5\n",
        "y1=20 \n",
        "y2=22\n",
        "\n",
        "less_than=0.5*(1+math.erf((x-m)/(s*math.sqrt(2))))\n",
        "\n",
        "in_between=(0.5*(1+math.erf((y2-m)/(s*math.sqrt(2)))))-(0.5*(1+math.erf((y1-m)/(s*math.sqrt(2)))))\n",
        "\n",
        "print(\"less than 19.5 hours:%.3f\" % less_than)\n",
        "print(\"Between 20 and 22 hours:%.3f\" % in_between)\n"
      ],
      "execution_count": 79,
      "outputs": [
        {
          "output_type": "stream",
          "text": [
            "20 2\n",
            "less than 19.5 hours:0.401\n",
            "Between 20 and 22 hours:0.341\n"
          ],
          "name": "stdout"
        }
      ]
    },
    {
      "cell_type": "code",
      "metadata": {
        "colab": {
          "base_uri": "https://localhost:8080/",
          "height": 337
        },
        "id": "X02ebf3flWDC",
        "outputId": "00cb404f-08e5-430e-c680-e6fd1093b028"
      },
      "source": [
        "import matplotlib.pyplot as plt\n",
        "import seaborn as sns\n",
        "import numpy as np\n",
        "\n",
        "normal_1000=np.random.normal(loc=20,scale=5,size=1000)\n",
        "sns.distplot(normal_1000)"
      ],
      "execution_count": 58,
      "outputs": [
        {
          "output_type": "stream",
          "text": [
            "/usr/local/lib/python3.7/dist-packages/seaborn/distributions.py:2557: FutureWarning: `distplot` is a deprecated function and will be removed in a future version. Please adapt your code to use either `displot` (a figure-level function with similar flexibility) or `histplot` (an axes-level function for histograms).\n",
            "  warnings.warn(msg, FutureWarning)\n"
          ],
          "name": "stderr"
        },
        {
          "output_type": "execute_result",
          "data": {
            "text/plain": [
              "<matplotlib.axes._subplots.AxesSubplot at 0x7f99d6aea450>"
            ]
          },
          "metadata": {
            "tags": []
          },
          "execution_count": 58
        },
        {
          "output_type": "display_data",
          "data": {
            "image/png": "[encoded data removed]",
            "text/plain": [
              "<Figure size 432x288 with 1 Axes>"
            ]
          },
          "metadata": {
            "tags": [],
            "needs_background": "light"
          }
        }
      ]
    },
    {
      "cell_type": "markdown",
      "metadata": {
        "id": "sUjGNho4lRzC"
      },
      "source": [
        "## Feature of Normal Distribution"
      ]
    },
    {
      "cell_type": "markdown",
      "metadata": {
        "id": "ds1Hy3J-q84J"
      },
      "source": [
        "* Unimodal (Only one mode)\n",
        "* Symmetrical (left and right halves are mirror images)\n",
        "* Bell-shaped (maximum height (mode) at the mean)\n",
        "* Mean, Mode, and Median are all located in the center\n",
        "* Asymptotic"
      ]
    },
    {
      "cell_type": "markdown",
      "metadata": {
        "id": "e7RpXp3_wc-B"
      },
      "source": [
        "## Positively Skewed & Negatively Skewed Normal Distribution"
      ]
    },
    {
      "cell_type": "markdown",
      "metadata": {
        "id": "3CxvoR1wwfQg"
      },
      "source": [
        "* Skewed distribution is also known as asymmetric distribution.\n",
        "* Positive distribution also known as right tail distribution.In this distribution mean is greater than median and mode.\n",
        "* Negative distribution also known as left tail distribution.In this distribution mean is smaller than median and mode.\n",
        "* It help to choose,which central tendency should be choose.\n",
        "\n",
        "![left right.png](data:image/png;base64,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)"
      ]
    },
    {
      "cell_type": "markdown",
      "metadata": {
        "id": "d1uUfFtxyw9g"
      },
      "source": [
        "## Effect on Mean, Median and Mode due to Skewness"
      ]
    },
    {
      "cell_type": "markdown",
      "metadata": {
        "id": "_DzE4uBayz3Y"
      },
      "source": [
        "* In normal distribution mean,median,mode at center point.But in skewed distribution mean,median,mode located at different position.\n",
        "*In right skewed distribution mean value is greater than median and mode.Also median is less than median and mean.\n",
        "*In left skewed  distribution mean value is less than median and mode.\n",
        "*Skewness also show that mean is get mostly affected by outliers and median is robust to outliers."
      ]
    },
    {
      "cell_type": "markdown",
      "metadata": {
        "id": "4L2LmANm4pj_"
      },
      "source": [
        "## Explain QQ Plot and show the implementation of the same"
      ]
    },
    {
      "cell_type": "markdown",
      "metadata": {
        "id": "Jshym2Yr5md2"
      },
      "source": [
        "* The purpose of the QQ plot,find out if two sets of data come from the same distribution or not.\n",
        "*QQ plot shows the distribution of the data set\n",
        "* If the bottom end deviate from the mid line,it shows left skewness in the data.\n",
        "*If the upper end deviate from the mid line,it shows right skewness in the data.\n",
        "*If all the points lie on the straigth line then it is normal distribution.\n"
      ]
    },
    {
      "cell_type": "code",
      "metadata": {
        "colab": {
          "base_uri": "https://localhost:8080/",
          "height": 294
        },
        "id": "cpAIGA6xriEg",
        "outputId": "cc5ffcde-a9f9-4441-b14a-e5358e5816ab"
      },
      "source": [
        "import numpy as np\n",
        "import scipy.stats as stats\n",
        "import matplotlib.pyplot as plt\n",
        "import seaborn as sns\n",
        "import pylab as py\n",
        "\n",
        "data_Q1=data['Annual_HH_Income']\n",
        "\n",
        "stats.probplot(data_Q1, dist=\"norm\", plot=py)\n",
        "py.show()"
      ],
      "execution_count": 71,
      "outputs": [
        {
          "output_type": "display_data",
          "data": {
            "image/png": "[encoded data removed]",
            "text/plain": [
              "<Figure size 432x288 with 1 Axes>"
            ]
          },
          "metadata": {
            "tags": [],
            "needs_background": "light"
          }
        }
      ]
    },
    {
      "cell_type": "code",
      "metadata": {
        "colab": {
          "base_uri": "https://localhost:8080/",
          "height": 294
        },
        "id": "XXBiqqqZ8Qy2",
        "outputId": "28015d5a-7a85-463b-b458-3b3a8c9d8b94"
      },
      "source": [
        "import numpy as np\n",
        "import scipy.stats as stats\n",
        "import matplotlib.pyplot as plt\n",
        "import seaborn as sns\n",
        "import pylab as py\n",
        "\n",
        "data_Q2=data['Emi_or_Rent_Amt']\n",
        "\n",
        "stats.probplot(data_Q2, dist=\"norm\", plot=py)\n",
        "py.show()"
      ],
      "execution_count": 73,
      "outputs": [
        {
          "output_type": "display_data",
          "data": {
            "image/png": "[encoded data removed]",
            "text/plain": [
              "<Figure size 432x288 with 1 Axes>"
            ]
          },
          "metadata": {
            "tags": [],
            "needs_background": "light"
          }
        }
      ]
    },
    {
      "cell_type": "code",
      "metadata": {
        "colab": {
          "base_uri": "https://localhost:8080/",
          "height": 294
        },
        "id": "5vl97wK09OzP",
        "outputId": "d2dc809a-810a-4f7c-d74f-09321ebc9214"
      },
      "source": [
        "import numpy as np\n",
        "import scipy.stats as stats\n",
        "import matplotlib.pyplot as plt\n",
        "import seaborn as sns\n",
        "import pylab as py\n",
        "\n",
        "data_Q3=data['Mthly_HH_Expense']\n",
        "\n",
        "stats.probplot(data_Q3, dist=\"norm\", plot=py)\n",
        "py.show()"
      ],
      "execution_count": 74,
      "outputs": [
        {
          "output_type": "display_data",
          "data": {
            "image/png": "[encoded data removed]",
            "text/plain": [
              "<Figure size 432x288 with 1 Axes>"
            ]
          },
          "metadata": {
            "tags": [],
            "needs_background": "light"
          }
        }
      ]
    },
    {
      "cell_type": "markdown",
      "metadata": {
        "id": "gfsCd8Nf9eWV"
      },
      "source": [
        "## Explain Box Cox and show the implementation of the same\n"
      ]
    },
    {
      "cell_type": "markdown",
      "metadata": {
        "id": "fkl80BoQ9gzm"
      },
      "source": [
        "* Box cox transformation is used to convert non-noraml distribution into normal distribution.\n",
        "* The Box-Cox method checks whether the standard deviation is the smallest or not. \n"
      ]
    },
    {
      "cell_type": "code",
      "metadata": {
        "colab": {
          "base_uri": "https://localhost:8080/",
          "height": 436
        },
        "id": "41WAKazLAze-",
        "outputId": "50abebf4-2afc-47a5-a8f2-741d0643626e"
      },
      "source": [
        "import numpy as np\n",
        "from scipy import stats\n",
        "  \n",
        "# plotting modules\n",
        "import seaborn as sns\n",
        "import matplotlib.pyplot as plt\n",
        "  \n",
        "# generate non-normal data (exponential)\n",
        "original_data = data['Annual_HH_Income']\n",
        "  \n",
        "# transform training data & save lambda value\n",
        "fitted_data, fitted_lambda = stats.boxcox(original_data)\n",
        "  \n",
        "# creating axes to draw plots\n",
        "fig, ax = plt.subplots(1, 2)\n",
        "  \n",
        "# plotting the original data(non-normal) and \n",
        "# fitted data (normal)\n",
        "sns.distplot(original_data, hist = False, kde = True,\n",
        "            kde_kws = {'shade': True, 'linewidth': 2}, \n",
        "            label = \"Non-Normal\", color =\"green\", ax = ax[0])\n",
        "  \n",
        "sns.distplot(fitted_data, hist = False, kde = True,\n",
        "            kde_kws = {'shade': True, 'linewidth': 2}, \n",
        "            label = \"Normal\", color =\"green\", ax = ax[1])\n",
        "  \n",
        "# adding legends to the subplots\n",
        "plt.legend(loc = \"upper right\")\n",
        "  \n",
        "# rescaling the subplots\n",
        "fig.set_figheight(5)\n",
        "fig.set_figwidth(10)"
      ],
      "execution_count": 75,
      "outputs": [
        {
          "output_type": "stream",
          "text": [
            "/usr/local/lib/python3.7/dist-packages/seaborn/distributions.py:2557: FutureWarning: `distplot` is a deprecated function and will be removed in a future version. Please adapt your code to use either `displot` (a figure-level function with similar flexibility) or `kdeplot` (an axes-level function for kernel density plots).\n",
            "  warnings.warn(msg, FutureWarning)\n",
            "/usr/local/lib/python3.7/dist-packages/seaborn/distributions.py:2557: FutureWarning: `distplot` is a deprecated function and will be removed in a future version. Please adapt your code to use either `displot` (a figure-level function with similar flexibility) or `kdeplot` (an axes-level function for kernel density plots).\n",
            "  warnings.warn(msg, FutureWarning)\n"
          ],
          "name": "stderr"
        },
        {
          "output_type": "display_data",
          "data": {
            "image/png": "[encoded data removed]",
            "text/plain": [
              "<Figure size 720x360 with 2 Axes>"
            ]
          },
          "metadata": {
            "tags": [],
            "needs_background": "light"
          }
        }
      ]
    },
    {
      "cell_type": "code",
      "metadata": {
        "colab": {
          "base_uri": "https://localhost:8080/",
          "height": 436
        },
        "id": "5r_aJJZbBVf-",
        "outputId": "6b80583a-1ff9-4b87-ef4a-b183cae705bc"
      },
      "source": [
        "import numpy as np\n",
        "from scipy import stats\n",
        "  \n",
        "# plotting modules\n",
        "import seaborn as sns\n",
        "import matplotlib.pyplot as plt\n",
        "  \n",
        "# generate non-normal data (exponential)\n",
        "original_data = data['Mthly_HH_Expense']\n",
        "  \n",
        "# transform training data & save lambda value\n",
        "fitted_data, fitted_lambda = stats.boxcox(original_data)\n",
        "  \n",
        "# creating axes to draw plots\n",
        "fig, ax = plt.subplots(1, 2)\n",
        "  \n",
        "# plotting the original data(non-normal) and \n",
        "# fitted data (normal)\n",
        "sns.distplot(original_data, hist = False, kde = True,\n",
        "            kde_kws = {'shade': True, 'linewidth': 2}, \n",
        "            label = \"Non-Normal\", color =\"green\", ax = ax[0])\n",
        "  \n",
        "sns.distplot(fitted_data, hist = False, kde = True,\n",
        "            kde_kws = {'shade': True, 'linewidth': 2}, \n",
        "            label = \"Normal\", color =\"green\", ax = ax[1])\n",
        "  \n",
        "# adding legends to the subplots\n",
        "plt.legend(loc = \"upper right\")\n",
        "  \n",
        "# rescaling the subplots\n",
        "fig.set_figheight(5)\n",
        "fig.set_figwidth(10)"
      ],
      "execution_count": 77,
      "outputs": [
        {
          "output_type": "stream",
          "text": [
            "/usr/local/lib/python3.7/dist-packages/seaborn/distributions.py:2557: FutureWarning: `distplot` is a deprecated function and will be removed in a future version. Please adapt your code to use either `displot` (a figure-level function with similar flexibility) or `kdeplot` (an axes-level function for kernel density plots).\n",
            "  warnings.warn(msg, FutureWarning)\n",
            "/usr/local/lib/python3.7/dist-packages/seaborn/distributions.py:2557: FutureWarning: `distplot` is a deprecated function and will be removed in a future version. Please adapt your code to use either `displot` (a figure-level function with similar flexibility) or `kdeplot` (an axes-level function for kernel density plots).\n",
            "  warnings.warn(msg, FutureWarning)\n"
          ],
          "name": "stderr"
        },
        {
          "output_type": "display_data",
          "data": {
            "image/png": "[encoded data removed]",
            "text/plain": [
              "<Figure size 720x360 with 2 Axes>"
            ]
          },
          "metadata": {
            "tags": [],
            "needs_background": "light"
          }
        }
      ]
    },
    {
      "cell_type": "markdown",
      "metadata": {
        "id": "41npZxuhExDt"
      },
      "source": [
        "## Log normal distribution"
      ]
    },
    {
      "cell_type": "markdown",
      "metadata": {
        "id": "Hqp5Al0zE2Y1"
      },
      "source": [
        "* A log-normal distribution is a statistical distribution of logarithmic values from a related normal distribution.\n",
        "* For most natural growth processes, the growth rate is independent of size, so the log-normal distribution is followed. As a result, the log-normal distribution has heavy applications to biology and finance, two areas where growth is an important area of study.\n",
        "\n",
        "\n",
        "![log1.png](data:image/png;base64,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)"
      ]
    }
  ]
}