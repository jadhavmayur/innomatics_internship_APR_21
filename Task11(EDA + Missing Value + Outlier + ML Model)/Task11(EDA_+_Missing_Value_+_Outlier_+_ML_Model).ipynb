{
  "nbformat": 4,
  "nbformat_minor": 0,
  "metadata": {
    "colab": {
      "name": "Task11(EDA + Missing Value + Outlier + ML Model).ipynb",
      "provenance": []
    },
    "kernelspec": {
      "name": "python3",
      "display_name": "Python 3"
    },
    "language_info": {
      "name": "python"
    }
  },
  "cells": [
    {
      "cell_type": "markdown",
      "metadata": {
        "id": "X9axgXCy82cR"
      },
      "source": [
        "An individual’s annual income results from various factors. Intuitively, it is influenced by the individual’s education level, age, gender, occupation, and etc.\n",
        "\n",
        "\n",
        "\n",
        "Fields\n",
        "The dataset contains 16 columns\n",
        "Target filed: Income\n",
        "-- The income is divide into two classes: 50K\n",
        "Number of attributes: 14\n",
        "-- These are the demographics and other features to describe a person\n",
        "\n",
        "We can explore the possibility in predicting income level based on the individual’s personal information."
      ]
    },
    {
      "cell_type": "code",
      "metadata": {
        "id": "NFDT9b8r8ru1",
        "colab": {
          "base_uri": "https://localhost:8080/"
        },
        "outputId": "5ace7eef-fe2c-409c-de84-4c18347cf4e6"
      },
      "source": [
        "import pandas as pd\n",
        "import numpy as np\n",
        "import matplotlib.pyplot as plt\n",
        "import seaborn as sns\n",
        "\n",
        "\n",
        "from google.colab import drive\n",
        "drive.mount('/content/drive/')"
      ],
      "execution_count": 1,
      "outputs": [
        {
          "output_type": "stream",
          "text": [
            "Mounted at /content/drive/\n"
          ],
          "name": "stdout"
        }
      ]
    },
    {
      "cell_type": "code",
      "metadata": {
        "colab": {
          "base_uri": "https://localhost:8080/",
          "height": 297
        },
        "id": "iHSEE_7JaT4U",
        "outputId": "e1ddf456-e951-4a17-db2d-49c4db725f48"
      },
      "source": [
        "data=pd.read_csv(\"/content/drive/Shareddrives/mayur/innomatics/EDA/adult.csv\")\n",
        "data.head()"
      ],
      "execution_count": 2,
      "outputs": [
        {
          "output_type": "execute_result",
          "data": {
            "text/html": [
              "<div>\n",
              "<style scoped>\n",
              "    .dataframe tbody tr th:only-of-type {\n",
              "        vertical-align: middle;\n",
              "    }\n",
              "\n",
              "    .dataframe tbody tr th {\n",
              "        vertical-align: top;\n",
              "    }\n",
              "\n",
              "    .dataframe thead th {\n",
              "        text-align: right;\n",
              "    }\n",
              "</style>\n",
              "<table border=\"1\" class=\"dataframe\">\n",
              "  <thead>\n",
              "    <tr style=\"text-align: right;\">\n",
              "      <th></th>\n",
              "      <th>age</th>\n",
              "      <th>workclass</th>\n",
              "      <th>fnlwgt</th>\n",
              "      <th>education</th>\n",
              "      <th>educational-num</th>\n",
              "      <th>marital-status</th>\n",
              "      <th>occupation</th>\n",
              "      <th>relationship</th>\n",
              "      <th>race</th>\n",
              "      <th>gender</th>\n",
              "      <th>capital-gain</th>\n",
              "      <th>capital-loss</th>\n",
              "      <th>hours-per-week</th>\n",
              "      <th>native-country</th>\n",
              "      <th>income</th>\n",
              "    </tr>\n",
              "  </thead>\n",
              "  <tbody>\n",
              "    <tr>\n",
              "      <th>0</th>\n",
              "      <td>25</td>\n",
              "      <td>Private</td>\n",
              "      <td>226802</td>\n",
              "      <td>11th</td>\n",
              "      <td>7</td>\n",
              "      <td>Never-married</td>\n",
              "      <td>Machine-op-inspct</td>\n",
              "      <td>Own-child</td>\n",
              "      <td>Black</td>\n",
              "      <td>Male</td>\n",
              "      <td>0</td>\n",
              "      <td>0</td>\n",
              "      <td>40</td>\n",
              "      <td>United-States</td>\n",
              "      <td>&lt;=50K</td>\n",
              "    </tr>\n",
              "    <tr>\n",
              "      <th>1</th>\n",
              "      <td>38</td>\n",
              "      <td>Private</td>\n",
              "      <td>89814</td>\n",
              "      <td>HS-grad</td>\n",
              "      <td>9</td>\n",
              "      <td>Married-civ-spouse</td>\n",
              "      <td>Farming-fishing</td>\n",
              "      <td>Husband</td>\n",
              "      <td>White</td>\n",
              "      <td>Male</td>\n",
              "      <td>0</td>\n",
              "      <td>0</td>\n",
              "      <td>50</td>\n",
              "      <td>United-States</td>\n",
              "      <td>&lt;=50K</td>\n",
              "    </tr>\n",
              "    <tr>\n",
              "      <th>2</th>\n",
              "      <td>28</td>\n",
              "      <td>Local-gov</td>\n",
              "      <td>336951</td>\n",
              "      <td>Assoc-acdm</td>\n",
              "      <td>12</td>\n",
              "      <td>Married-civ-spouse</td>\n",
              "      <td>Protective-serv</td>\n",
              "      <td>Husband</td>\n",
              "      <td>White</td>\n",
              "      <td>Male</td>\n",
              "      <td>0</td>\n",
              "      <td>0</td>\n",
              "      <td>40</td>\n",
              "      <td>United-States</td>\n",
              "      <td>&gt;50K</td>\n",
              "    </tr>\n",
              "    <tr>\n",
              "      <th>3</th>\n",
              "      <td>44</td>\n",
              "      <td>Private</td>\n",
              "      <td>160323</td>\n",
              "      <td>Some-college</td>\n",
              "      <td>10</td>\n",
              "      <td>Married-civ-spouse</td>\n",
              "      <td>Machine-op-inspct</td>\n",
              "      <td>Husband</td>\n",
              "      <td>Black</td>\n",
              "      <td>Male</td>\n",
              "      <td>7688</td>\n",
              "      <td>0</td>\n",
              "      <td>40</td>\n",
              "      <td>United-States</td>\n",
              "      <td>&gt;50K</td>\n",
              "    </tr>\n",
              "    <tr>\n",
              "      <th>4</th>\n",
              "      <td>18</td>\n",
              "      <td>?</td>\n",
              "      <td>103497</td>\n",
              "      <td>Some-college</td>\n",
              "      <td>10</td>\n",
              "      <td>Never-married</td>\n",
              "      <td>?</td>\n",
              "      <td>Own-child</td>\n",
              "      <td>White</td>\n",
              "      <td>Female</td>\n",
              "      <td>0</td>\n",
              "      <td>0</td>\n",
              "      <td>30</td>\n",
              "      <td>United-States</td>\n",
              "      <td>&lt;=50K</td>\n",
              "    </tr>\n",
              "  </tbody>\n",
              "</table>\n",
              "</div>"
            ],
            "text/plain": [
              "   age  workclass  fnlwgt  ... hours-per-week  native-country income\n",
              "0   25    Private  226802  ...             40   United-States  <=50K\n",
              "1   38    Private   89814  ...             50   United-States  <=50K\n",
              "2   28  Local-gov  336951  ...             40   United-States   >50K\n",
              "3   44    Private  160323  ...             40   United-States   >50K\n",
              "4   18          ?  103497  ...             30   United-States  <=50K\n",
              "\n",
              "[5 rows x 15 columns]"
            ]
          },
          "metadata": {
            "tags": []
          },
          "execution_count": 2
        }
      ]
    },
    {
      "cell_type": "code",
      "metadata": {
        "colab": {
          "base_uri": "https://localhost:8080/"
        },
        "id": "g7xW8C0eaotz",
        "outputId": "a6dad17c-ea56-47e0-bdd5-6a916d381d61"
      },
      "source": [
        "data.shape"
      ],
      "execution_count": 3,
      "outputs": [
        {
          "output_type": "execute_result",
          "data": {
            "text/plain": [
              "(48842, 15)"
            ]
          },
          "metadata": {
            "tags": []
          },
          "execution_count": 3
        }
      ]
    },
    {
      "cell_type": "code",
      "metadata": {
        "colab": {
          "base_uri": "https://localhost:8080/",
          "height": 411
        },
        "id": "9aV4upNBar2L",
        "outputId": "0c725dde-cfc6-4258-a2ff-2c6762134d75"
      },
      "source": [
        "data.describe(include='all')"
      ],
      "execution_count": 4,
      "outputs": [
        {
          "output_type": "execute_result",
          "data": {
            "text/html": [
              "<div>\n",
              "<style scoped>\n",
              "    .dataframe tbody tr th:only-of-type {\n",
              "        vertical-align: middle;\n",
              "    }\n",
              "\n",
              "    .dataframe tbody tr th {\n",
              "        vertical-align: top;\n",
              "    }\n",
              "\n",
              "    .dataframe thead th {\n",
              "        text-align: right;\n",
              "    }\n",
              "</style>\n",
              "<table border=\"1\" class=\"dataframe\">\n",
              "  <thead>\n",
              "    <tr style=\"text-align: right;\">\n",
              "      <th></th>\n",
              "      <th>age</th>\n",
              "      <th>workclass</th>\n",
              "      <th>fnlwgt</th>\n",
              "      <th>education</th>\n",
              "      <th>educational-num</th>\n",
              "      <th>marital-status</th>\n",
              "      <th>occupation</th>\n",
              "      <th>relationship</th>\n",
              "      <th>race</th>\n",
              "      <th>gender</th>\n",
              "      <th>capital-gain</th>\n",
              "      <th>capital-loss</th>\n",
              "      <th>hours-per-week</th>\n",
              "      <th>native-country</th>\n",
              "      <th>income</th>\n",
              "    </tr>\n",
              "  </thead>\n",
              "  <tbody>\n",
              "    <tr>\n",
              "      <th>count</th>\n",
              "      <td>48842.000000</td>\n",
              "      <td>48842</td>\n",
              "      <td>4.884200e+04</td>\n",
              "      <td>48842</td>\n",
              "      <td>48842.000000</td>\n",
              "      <td>48842</td>\n",
              "      <td>48842</td>\n",
              "      <td>48842</td>\n",
              "      <td>48842</td>\n",
              "      <td>48842</td>\n",
              "      <td>48842.000000</td>\n",
              "      <td>48842.000000</td>\n",
              "      <td>48842.000000</td>\n",
              "      <td>48842</td>\n",
              "      <td>48842</td>\n",
              "    </tr>\n",
              "    <tr>\n",
              "      <th>unique</th>\n",
              "      <td>NaN</td>\n",
              "      <td>9</td>\n",
              "      <td>NaN</td>\n",
              "      <td>16</td>\n",
              "      <td>NaN</td>\n",
              "      <td>7</td>\n",
              "      <td>15</td>\n",
              "      <td>6</td>\n",
              "      <td>5</td>\n",
              "      <td>2</td>\n",
              "      <td>NaN</td>\n",
              "      <td>NaN</td>\n",
              "      <td>NaN</td>\n",
              "      <td>42</td>\n",
              "      <td>2</td>\n",
              "    </tr>\n",
              "    <tr>\n",
              "      <th>top</th>\n",
              "      <td>NaN</td>\n",
              "      <td>Private</td>\n",
              "      <td>NaN</td>\n",
              "      <td>HS-grad</td>\n",
              "      <td>NaN</td>\n",
              "      <td>Married-civ-spouse</td>\n",
              "      <td>Prof-specialty</td>\n",
              "      <td>Husband</td>\n",
              "      <td>White</td>\n",
              "      <td>Male</td>\n",
              "      <td>NaN</td>\n",
              "      <td>NaN</td>\n",
              "      <td>NaN</td>\n",
              "      <td>United-States</td>\n",
              "      <td>&lt;=50K</td>\n",
              "    </tr>\n",
              "    <tr>\n",
              "      <th>freq</th>\n",
              "      <td>NaN</td>\n",
              "      <td>33906</td>\n",
              "      <td>NaN</td>\n",
              "      <td>15784</td>\n",
              "      <td>NaN</td>\n",
              "      <td>22379</td>\n",
              "      <td>6172</td>\n",
              "      <td>19716</td>\n",
              "      <td>41762</td>\n",
              "      <td>32650</td>\n",
              "      <td>NaN</td>\n",
              "      <td>NaN</td>\n",
              "      <td>NaN</td>\n",
              "      <td>43832</td>\n",
              "      <td>37155</td>\n",
              "    </tr>\n",
              "    <tr>\n",
              "      <th>mean</th>\n",
              "      <td>38.643585</td>\n",
              "      <td>NaN</td>\n",
              "      <td>1.896641e+05</td>\n",
              "      <td>NaN</td>\n",
              "      <td>10.078089</td>\n",
              "      <td>NaN</td>\n",
              "      <td>NaN</td>\n",
              "      <td>NaN</td>\n",
              "      <td>NaN</td>\n",
              "      <td>NaN</td>\n",
              "      <td>1079.067626</td>\n",
              "      <td>87.502314</td>\n",
              "      <td>40.422382</td>\n",
              "      <td>NaN</td>\n",
              "      <td>NaN</td>\n",
              "    </tr>\n",
              "    <tr>\n",
              "      <th>std</th>\n",
              "      <td>13.710510</td>\n",
              "      <td>NaN</td>\n",
              "      <td>1.056040e+05</td>\n",
              "      <td>NaN</td>\n",
              "      <td>2.570973</td>\n",
              "      <td>NaN</td>\n",
              "      <td>NaN</td>\n",
              "      <td>NaN</td>\n",
              "      <td>NaN</td>\n",
              "      <td>NaN</td>\n",
              "      <td>7452.019058</td>\n",
              "      <td>403.004552</td>\n",
              "      <td>12.391444</td>\n",
              "      <td>NaN</td>\n",
              "      <td>NaN</td>\n",
              "    </tr>\n",
              "    <tr>\n",
              "      <th>min</th>\n",
              "      <td>17.000000</td>\n",
              "      <td>NaN</td>\n",
              "      <td>1.228500e+04</td>\n",
              "      <td>NaN</td>\n",
              "      <td>1.000000</td>\n",
              "      <td>NaN</td>\n",
              "      <td>NaN</td>\n",
              "      <td>NaN</td>\n",
              "      <td>NaN</td>\n",
              "      <td>NaN</td>\n",
              "      <td>0.000000</td>\n",
              "      <td>0.000000</td>\n",
              "      <td>1.000000</td>\n",
              "      <td>NaN</td>\n",
              "      <td>NaN</td>\n",
              "    </tr>\n",
              "    <tr>\n",
              "      <th>25%</th>\n",
              "      <td>28.000000</td>\n",
              "      <td>NaN</td>\n",
              "      <td>1.175505e+05</td>\n",
              "      <td>NaN</td>\n",
              "      <td>9.000000</td>\n",
              "      <td>NaN</td>\n",
              "      <td>NaN</td>\n",
              "      <td>NaN</td>\n",
              "      <td>NaN</td>\n",
              "      <td>NaN</td>\n",
              "      <td>0.000000</td>\n",
              "      <td>0.000000</td>\n",
              "      <td>40.000000</td>\n",
              "      <td>NaN</td>\n",
              "      <td>NaN</td>\n",
              "    </tr>\n",
              "    <tr>\n",
              "      <th>50%</th>\n",
              "      <td>37.000000</td>\n",
              "      <td>NaN</td>\n",
              "      <td>1.781445e+05</td>\n",
              "      <td>NaN</td>\n",
              "      <td>10.000000</td>\n",
              "      <td>NaN</td>\n",
              "      <td>NaN</td>\n",
              "      <td>NaN</td>\n",
              "      <td>NaN</td>\n",
              "      <td>NaN</td>\n",
              "      <td>0.000000</td>\n",
              "      <td>0.000000</td>\n",
              "      <td>40.000000</td>\n",
              "      <td>NaN</td>\n",
              "      <td>NaN</td>\n",
              "    </tr>\n",
              "    <tr>\n",
              "      <th>75%</th>\n",
              "      <td>48.000000</td>\n",
              "      <td>NaN</td>\n",
              "      <td>2.376420e+05</td>\n",
              "      <td>NaN</td>\n",
              "      <td>12.000000</td>\n",
              "      <td>NaN</td>\n",
              "      <td>NaN</td>\n",
              "      <td>NaN</td>\n",
              "      <td>NaN</td>\n",
              "      <td>NaN</td>\n",
              "      <td>0.000000</td>\n",
              "      <td>0.000000</td>\n",
              "      <td>45.000000</td>\n",
              "      <td>NaN</td>\n",
              "      <td>NaN</td>\n",
              "    </tr>\n",
              "    <tr>\n",
              "      <th>max</th>\n",
              "      <td>90.000000</td>\n",
              "      <td>NaN</td>\n",
              "      <td>1.490400e+06</td>\n",
              "      <td>NaN</td>\n",
              "      <td>16.000000</td>\n",
              "      <td>NaN</td>\n",
              "      <td>NaN</td>\n",
              "      <td>NaN</td>\n",
              "      <td>NaN</td>\n",
              "      <td>NaN</td>\n",
              "      <td>99999.000000</td>\n",
              "      <td>4356.000000</td>\n",
              "      <td>99.000000</td>\n",
              "      <td>NaN</td>\n",
              "      <td>NaN</td>\n",
              "    </tr>\n",
              "  </tbody>\n",
              "</table>\n",
              "</div>"
            ],
            "text/plain": [
              "                 age workclass  ...  native-country income\n",
              "count   48842.000000     48842  ...           48842  48842\n",
              "unique           NaN         9  ...              42      2\n",
              "top              NaN   Private  ...   United-States  <=50K\n",
              "freq             NaN     33906  ...           43832  37155\n",
              "mean       38.643585       NaN  ...             NaN    NaN\n",
              "std        13.710510       NaN  ...             NaN    NaN\n",
              "min        17.000000       NaN  ...             NaN    NaN\n",
              "25%        28.000000       NaN  ...             NaN    NaN\n",
              "50%        37.000000       NaN  ...             NaN    NaN\n",
              "75%        48.000000       NaN  ...             NaN    NaN\n",
              "max        90.000000       NaN  ...             NaN    NaN\n",
              "\n",
              "[11 rows x 15 columns]"
            ]
          },
          "metadata": {
            "tags": []
          },
          "execution_count": 4
        }
      ]
    },
    {
      "cell_type": "markdown",
      "metadata": {
        "id": "53zOjylvb_6L"
      },
      "source": [
        "* Age and educational column is almost normally distributed."
      ]
    },
    {
      "cell_type": "code",
      "metadata": {
        "colab": {
          "base_uri": "https://localhost:8080/"
        },
        "id": "LNpj4rmG_Aqg",
        "outputId": "b9579468-5f82-41ec-96fe-e84d550814c3"
      },
      "source": [
        "data.dtypes"
      ],
      "execution_count": 5,
      "outputs": [
        {
          "output_type": "execute_result",
          "data": {
            "text/plain": [
              "age                 int64\n",
              "workclass          object\n",
              "fnlwgt              int64\n",
              "education          object\n",
              "educational-num     int64\n",
              "marital-status     object\n",
              "occupation         object\n",
              "relationship       object\n",
              "race               object\n",
              "gender             object\n",
              "capital-gain        int64\n",
              "capital-loss        int64\n",
              "hours-per-week      int64\n",
              "native-country     object\n",
              "income             object\n",
              "dtype: object"
            ]
          },
          "metadata": {
            "tags": []
          },
          "execution_count": 5
        }
      ]
    },
    {
      "cell_type": "markdown",
      "metadata": {
        "id": "IBxdMOvb_x7I"
      },
      "source": [
        "**Numerical columns**"
      ]
    },
    {
      "cell_type": "code",
      "metadata": {
        "colab": {
          "base_uri": "https://localhost:8080/"
        },
        "id": "wYGkui7Robc6",
        "outputId": "5b012494-5221-4d53-e05d-d2214b8a5bf9"
      },
      "source": [
        "print(data.select_dtypes(include=['int','float']).columns)\n",
        "len(data.select_dtypes(include=['int','float']).columns)"
      ],
      "execution_count": 6,
      "outputs": [
        {
          "output_type": "stream",
          "text": [
            "Index(['age', 'fnlwgt', 'educational-num', 'capital-gain', 'capital-loss',\n",
            "       'hours-per-week'],\n",
            "      dtype='object')\n"
          ],
          "name": "stdout"
        },
        {
          "output_type": "execute_result",
          "data": {
            "text/plain": [
              "6"
            ]
          },
          "metadata": {
            "tags": []
          },
          "execution_count": 6
        }
      ]
    },
    {
      "cell_type": "markdown",
      "metadata": {
        "id": "rXo1wXEG_1zH"
      },
      "source": [
        "**Categorical columns**"
      ]
    },
    {
      "cell_type": "code",
      "metadata": {
        "colab": {
          "base_uri": "https://localhost:8080/"
        },
        "id": "M6r3Xvvc-9rh",
        "outputId": "68ccb463-85fb-4bd3-fc2e-3e8b83edb384"
      },
      "source": [
        "print(data.select_dtypes(include=['object']).columns)\n",
        "len(data.select_dtypes(include=['object']).columns)"
      ],
      "execution_count": 7,
      "outputs": [
        {
          "output_type": "stream",
          "text": [
            "Index(['workclass', 'education', 'marital-status', 'occupation',\n",
            "       'relationship', 'race', 'gender', 'native-country', 'income'],\n",
            "      dtype='object')\n"
          ],
          "name": "stdout"
        },
        {
          "output_type": "execute_result",
          "data": {
            "text/plain": [
              "9"
            ]
          },
          "metadata": {
            "tags": []
          },
          "execution_count": 7
        }
      ]
    },
    {
      "cell_type": "code",
      "metadata": {
        "colab": {
          "base_uri": "https://localhost:8080/"
        },
        "id": "Q8ZUTAO-jClA",
        "outputId": "08bb7352-6618-4505-aa10-dd3c81b8b97c"
      },
      "source": [
        "col=data.select_dtypes(include=['object']).columns\n",
        "\n",
        "for i in col:\n",
        "  print(data[i].value_counts(),\"\\n\")"
      ],
      "execution_count": 8,
      "outputs": [
        {
          "output_type": "stream",
          "text": [
            "Private             33906\n",
            "Self-emp-not-inc     3862\n",
            "Local-gov            3136\n",
            "?                    2799\n",
            "State-gov            1981\n",
            "Self-emp-inc         1695\n",
            "Federal-gov          1432\n",
            "Without-pay            21\n",
            "Never-worked           10\n",
            "Name: workclass, dtype: int64 \n",
            "\n",
            "HS-grad         15784\n",
            "Some-college    10878\n",
            "Bachelors        8025\n",
            "Masters          2657\n",
            "Assoc-voc        2061\n",
            "11th             1812\n",
            "Assoc-acdm       1601\n",
            "10th             1389\n",
            "7th-8th           955\n",
            "Prof-school       834\n",
            "9th               756\n",
            "12th              657\n",
            "Doctorate         594\n",
            "5th-6th           509\n",
            "1st-4th           247\n",
            "Preschool          83\n",
            "Name: education, dtype: int64 \n",
            "\n",
            "Married-civ-spouse       22379\n",
            "Never-married            16117\n",
            "Divorced                  6633\n",
            "Separated                 1530\n",
            "Widowed                   1518\n",
            "Married-spouse-absent      628\n",
            "Married-AF-spouse           37\n",
            "Name: marital-status, dtype: int64 \n",
            "\n",
            "Prof-specialty       6172\n",
            "Craft-repair         6112\n",
            "Exec-managerial      6086\n",
            "Adm-clerical         5611\n",
            "Sales                5504\n",
            "Other-service        4923\n",
            "Machine-op-inspct    3022\n",
            "?                    2809\n",
            "Transport-moving     2355\n",
            "Handlers-cleaners    2072\n",
            "Farming-fishing      1490\n",
            "Tech-support         1446\n",
            "Protective-serv       983\n",
            "Priv-house-serv       242\n",
            "Armed-Forces           15\n",
            "Name: occupation, dtype: int64 \n",
            "\n",
            "Husband           19716\n",
            "Not-in-family     12583\n",
            "Own-child          7581\n",
            "Unmarried          5125\n",
            "Wife               2331\n",
            "Other-relative     1506\n",
            "Name: relationship, dtype: int64 \n",
            "\n",
            "White                 41762\n",
            "Black                  4685\n",
            "Asian-Pac-Islander     1519\n",
            "Amer-Indian-Eskimo      470\n",
            "Other                   406\n",
            "Name: race, dtype: int64 \n",
            "\n",
            "Male      32650\n",
            "Female    16192\n",
            "Name: gender, dtype: int64 \n",
            "\n",
            "United-States                 43832\n",
            "Mexico                          951\n",
            "?                               857\n",
            "Philippines                     295\n",
            "Germany                         206\n",
            "Puerto-Rico                     184\n",
            "Canada                          182\n",
            "El-Salvador                     155\n",
            "India                           151\n",
            "Cuba                            138\n",
            "England                         127\n",
            "China                           122\n",
            "South                           115\n",
            "Jamaica                         106\n",
            "Italy                           105\n",
            "Dominican-Republic              103\n",
            "Japan                            92\n",
            "Guatemala                        88\n",
            "Poland                           87\n",
            "Vietnam                          86\n",
            "Columbia                         85\n",
            "Haiti                            75\n",
            "Portugal                         67\n",
            "Taiwan                           65\n",
            "Iran                             59\n",
            "Nicaragua                        49\n",
            "Greece                           49\n",
            "Peru                             46\n",
            "Ecuador                          45\n",
            "France                           38\n",
            "Ireland                          37\n",
            "Hong                             30\n",
            "Thailand                         30\n",
            "Cambodia                         28\n",
            "Trinadad&Tobago                  27\n",
            "Outlying-US(Guam-USVI-etc)       23\n",
            "Laos                             23\n",
            "Yugoslavia                       23\n",
            "Scotland                         21\n",
            "Honduras                         20\n",
            "Hungary                          19\n",
            "Holand-Netherlands                1\n",
            "Name: native-country, dtype: int64 \n",
            "\n",
            "<=50K    37155\n",
            ">50K     11687\n",
            "Name: income, dtype: int64 \n",
            "\n"
          ],
          "name": "stdout"
        }
      ]
    },
    {
      "cell_type": "markdown",
      "metadata": {
        "id": "Nq5Xe1S6mlRn"
      },
      "source": [
        "**Rearrange data**"
      ]
    },
    {
      "cell_type": "code",
      "metadata": {
        "id": "ANQZj5Urmo7X"
      },
      "source": [
        "data.replace(['Divorced', 'Married-AF-spouse', 'Married-civ-spouse', 'Married-spouse-absent', 'Never-married','Separated','Widowed'],\n",
        "['not married','married','married','married','not married','not married','not married'], inplace = True)\n",
        "\n",
        "data.replace(['Private', 'Self-emp-not-inc', 'Self-emp-inc', 'Federal-gov', 'Local-gov','State-gov','Without-pay', 'Never-worked'],\n",
        "['Private','inc','inc','gov','gov','gov','Without-pay','Never-worked'], inplace = True)"
      ],
      "execution_count": 9,
      "outputs": []
    },
    {
      "cell_type": "markdown",
      "metadata": {
        "id": "suYhg2Yu95sF"
      },
      "source": [
        "### Data cleaning"
      ]
    },
    {
      "cell_type": "code",
      "metadata": {
        "colab": {
          "base_uri": "https://localhost:8080/"
        },
        "id": "wbWxSzLfAWT3",
        "outputId": "2ab314cd-a3a4-4eef-da58-94118bf6d0ec"
      },
      "source": [
        "data.isnull().sum()"
      ],
      "execution_count": 10,
      "outputs": [
        {
          "output_type": "execute_result",
          "data": {
            "text/plain": [
              "age                0\n",
              "workclass          0\n",
              "fnlwgt             0\n",
              "education          0\n",
              "educational-num    0\n",
              "marital-status     0\n",
              "occupation         0\n",
              "relationship       0\n",
              "race               0\n",
              "gender             0\n",
              "capital-gain       0\n",
              "capital-loss       0\n",
              "hours-per-week     0\n",
              "native-country     0\n",
              "income             0\n",
              "dtype: int64"
            ]
          },
          "metadata": {
            "tags": []
          },
          "execution_count": 10
        }
      ]
    },
    {
      "cell_type": "code",
      "metadata": {
        "colab": {
          "base_uri": "https://localhost:8080/"
        },
        "id": "i1XKLtRz0Qce",
        "outputId": "b19f825b-2dec-40fc-8691-6d12a97c7df0"
      },
      "source": [
        "data.isin([\"?\"]).sum()"
      ],
      "execution_count": 11,
      "outputs": [
        {
          "output_type": "execute_result",
          "data": {
            "text/plain": [
              "age                   0\n",
              "workclass          2799\n",
              "fnlwgt                0\n",
              "education             0\n",
              "educational-num       0\n",
              "marital-status        0\n",
              "occupation         2809\n",
              "relationship          0\n",
              "race                  0\n",
              "gender                0\n",
              "capital-gain          0\n",
              "capital-loss          0\n",
              "hours-per-week        0\n",
              "native-country      857\n",
              "income                0\n",
              "dtype: int64"
            ]
          },
          "metadata": {
            "tags": []
          },
          "execution_count": 11
        }
      ]
    },
    {
      "cell_type": "code",
      "metadata": {
        "colab": {
          "base_uri": "https://localhost:8080/"
        },
        "id": "Xd0-OIcJ20jm",
        "outputId": "740a07d9-59c6-4b6f-971d-3ab348d6a260"
      },
      "source": [
        "# Delete the incomplte data\n",
        "data = data[data[\"workclass\"] != \"?\"] \n",
        "data=data[data[\"occupation\"] != \"?\"] \n",
        "data=data[data[\"native-country\"] != \"?\"]\n",
        "data.shape"
      ],
      "execution_count": 12,
      "outputs": [
        {
          "output_type": "execute_result",
          "data": {
            "text/plain": [
              "(45222, 15)"
            ]
          },
          "metadata": {
            "tags": []
          },
          "execution_count": 12
        }
      ]
    },
    {
      "cell_type": "markdown",
      "metadata": {
        "id": "NegK45lh-ARk"
      },
      "source": [
        "## Data visualization"
      ]
    },
    {
      "cell_type": "markdown",
      "metadata": {
        "id": "yhToItyE-Dwd"
      },
      "source": [
        "### Univariate Analysis"
      ]
    },
    {
      "cell_type": "markdown",
      "metadata": {
        "id": "O3H3-LKG-Z2t"
      },
      "source": [
        "Detecting outlier using Z score"
      ]
    },
    {
      "cell_type": "code",
      "metadata": {
        "id": "OtGyP7x9-a5F"
      },
      "source": [
        "def detect_outliers(data):\n",
        "    outliers=[]\n",
        "    threshold=3\n",
        "    mean = np.mean(data)\n",
        "    std =np.std(data)\n",
        "    \n",
        "    \n",
        "    for i in data:\n",
        "        z_score= (i - mean)/std \n",
        "        if np.abs(z_score) > threshold:\n",
        "            outliers.append(i)\n",
        "    return outliers"
      ],
      "execution_count": 13,
      "outputs": []
    },
    {
      "cell_type": "markdown",
      "metadata": {
        "id": "UbaShNnJ-Hu1"
      },
      "source": [
        "**age**"
      ]
    },
    {
      "cell_type": "code",
      "metadata": {
        "colab": {
          "base_uri": "https://localhost:8080/",
          "height": 352
        },
        "id": "YaAX6pptfqyJ",
        "outputId": "6f502a88-cc0f-4a63-c945-3f3507393e13"
      },
      "source": [
        "sns.distplot(data['age'])"
      ],
      "execution_count": 14,
      "outputs": [
        {
          "output_type": "stream",
          "text": [
            "/usr/local/lib/python3.7/dist-packages/seaborn/distributions.py:2557: FutureWarning: `distplot` is a deprecated function and will be removed in a future version. Please adapt your code to use either `displot` (a figure-level function with similar flexibility) or `histplot` (an axes-level function for histograms).\n",
            "  warnings.warn(msg, FutureWarning)\n"
          ],
          "name": "stderr"
        },
        {
          "output_type": "execute_result",
          "data": {
            "text/plain": [
              "<matplotlib.axes._subplots.AxesSubplot at 0x7f6583e20dd0>"
            ]
          },
          "metadata": {
            "tags": []
          },
          "execution_count": 14
        },
        {
          "output_type": "display_data",
          "data": {
            "image/png": "[encoded data removed]",
            "text/plain": [
              "<Figure size 432x288 with 1 Axes>"
            ]
          },
          "metadata": {
            "tags": [],
            "needs_background": "light"
          }
        }
      ]
    },
    {
      "cell_type": "code",
      "metadata": {
        "colab": {
          "base_uri": "https://localhost:8080/",
          "height": 406
        },
        "id": "6xX9rUk7-Nx0",
        "outputId": "1d93b6f9-4691-493d-80e3-54ee88942e03"
      },
      "source": [
        "plt.boxplot(data['age'])"
      ],
      "execution_count": 15,
      "outputs": [
        {
          "output_type": "execute_result",
          "data": {
            "text/plain": [
              "{'boxes': [<matplotlib.lines.Line2D at 0x7f65829e9950>],\n",
              " 'caps': [<matplotlib.lines.Line2D at 0x7f6579ce0910>,\n",
              "  <matplotlib.lines.Line2D at 0x7f6579ce0e50>],\n",
              " 'fliers': [<matplotlib.lines.Line2D at 0x7f6579cea950>],\n",
              " 'means': [],\n",
              " 'medians': [<matplotlib.lines.Line2D at 0x7f6579cea410>],\n",
              " 'whiskers': [<matplotlib.lines.Line2D at 0x7f65829e9e50>,\n",
              "  <matplotlib.lines.Line2D at 0x7f6579ce03d0>]}"
            ]
          },
          "metadata": {
            "tags": []
          },
          "execution_count": 15
        },
        {
          "output_type": "display_data",
          "data": {
            "image/png": "[encoded data removed]",
            "text/plain": [
              "<Figure size 432x288 with 1 Axes>"
            ]
          },
          "metadata": {
            "tags": [],
            "needs_background": "light"
          }
        }
      ]
    },
    {
      "cell_type": "markdown",
      "metadata": {
        "id": "PhK76fkC-3Vc"
      },
      "source": [
        "* outliers present at upper tail"
      ]
    },
    {
      "cell_type": "code",
      "metadata": {
        "colab": {
          "base_uri": "https://localhost:8080/"
        },
        "id": "kNqEZKMf-_4V",
        "outputId": "b99846f8-2418-4dae-ce87-5c424a16c759"
      },
      "source": [
        "outliers_age=detect_outliers(data['age'])\n",
        "print(\"outliers:\",outliers_age)\n",
        "print(\"Number of outliers:\",len(outliers_age))"
      ],
      "execution_count": 16,
      "outputs": [
        {
          "output_type": "stream",
          "text": [
            "outliers: [80, 90, 80, 81, 82, 81, 85, 80, 90, 81, 89, 83, 81, 82, 80, 90, 81, 83, 90, 90, 80, 80, 81, 90, 85, 90, 81, 81, 80, 79, 81, 80, 88, 87, 90, 79, 83, 79, 80, 79, 81, 81, 90, 82, 90, 81, 88, 80, 81, 80, 81, 90, 84, 80, 80, 83, 79, 79, 90, 81, 90, 88, 90, 90, 80, 90, 81, 81, 80, 90, 79, 81, 90, 90, 80, 90, 90, 79, 79, 84, 90, 80, 90, 81, 83, 84, 79, 85, 82, 79, 90, 90, 84, 80, 90, 90, 84, 90, 90, 90, 81, 82, 81, 80, 90, 80, 84, 82, 79, 90, 84, 90, 83, 80, 79, 80, 79, 80, 90, 90, 90, 81, 83, 90, 90, 81, 80, 80, 90, 79, 80, 82, 85, 80, 79, 90, 79, 81, 88, 90, 82, 88, 83, 79, 86, 90, 82, 83, 81, 79, 84, 84, 79, 90, 80, 81, 81, 90, 80, 82, 90, 90, 85]\n",
            "Number of outliers: 163\n"
          ],
          "name": "stdout"
        }
      ]
    },
    {
      "cell_type": "markdown",
      "metadata": {
        "id": "A9Ooiazr_OrU"
      },
      "source": [
        "* 163 outliers are present in age at upper bound."
      ]
    },
    {
      "cell_type": "code",
      "metadata": {
        "id": "MshOohaHFqZc",
        "colab": {
          "base_uri": "https://localhost:8080/"
        },
        "outputId": "1f337f37-a578-47db-ee80-9b9c037e0c4d"
      },
      "source": [
        "outliers_age=detect_outliers(data['age'])\n",
        "\n",
        "print(\"Number of outliers:\",len(outliers_age))"
      ],
      "execution_count": 17,
      "outputs": [
        {
          "output_type": "stream",
          "text": [
            "Number of outliers: 163\n"
          ],
          "name": "stdout"
        }
      ]
    },
    {
      "cell_type": "markdown",
      "metadata": {
        "id": "viDFfc1NewQC"
      },
      "source": [
        "##### **Outliers treatment**"
      ]
    },
    {
      "cell_type": "code",
      "metadata": {
        "id": "RI4BXORFcvf6"
      },
      "source": [
        "# upper bound outliers replace by 95th percentile values.\n",
        "data['age']=np.clip(data['age'],a_min=None,a_max = data['age'].quantile(0.95))"
      ],
      "execution_count": 18,
      "outputs": []
    },
    {
      "cell_type": "code",
      "metadata": {
        "colab": {
          "base_uri": "https://localhost:8080/"
        },
        "id": "DKfV_tO7fD0a",
        "outputId": "43b0dfc7-d39d-424e-a442-38f95a704bed"
      },
      "source": [
        "# Find number of outliers in train set.\n",
        "outliers_age=detect_outliers(data['age'])\n",
        "\n",
        "print(\"Number of outliers:\",len(outliers_age))"
      ],
      "execution_count": 19,
      "outputs": [
        {
          "output_type": "stream",
          "text": [
            "Number of outliers: 0\n"
          ],
          "name": "stdout"
        }
      ]
    },
    {
      "cell_type": "markdown",
      "metadata": {
        "id": "_8TV50WLgjKx"
      },
      "source": [
        "**fnlwgt**"
      ]
    },
    {
      "cell_type": "code",
      "metadata": {
        "id": "MY26DEHLgt9i"
      },
      "source": [
        ""
      ],
      "execution_count": 19,
      "outputs": []
    },
    {
      "cell_type": "code",
      "metadata": {
        "colab": {
          "base_uri": "https://localhost:8080/",
          "height": 417
        },
        "id": "RJXAC48DgzCk",
        "outputId": "08b4a775-a610-4c0d-a115-63a731e21dde"
      },
      "source": [
        "plt.boxplot(data['fnlwgt'])"
      ],
      "execution_count": 20,
      "outputs": [
        {
          "output_type": "execute_result",
          "data": {
            "text/plain": [
              "{'boxes': [<matplotlib.lines.Line2D at 0x7f6579c6ae90>],\n",
              " 'caps': [<matplotlib.lines.Line2D at 0x7f6579c72e90>,\n",
              "  <matplotlib.lines.Line2D at 0x7f6579c79410>],\n",
              " 'fliers': [<matplotlib.lines.Line2D at 0x7f6579c79ed0>],\n",
              " 'means': [],\n",
              " 'medians': [<matplotlib.lines.Line2D at 0x7f6579c79990>],\n",
              " 'whiskers': [<matplotlib.lines.Line2D at 0x7f6579c72410>,\n",
              "  <matplotlib.lines.Line2D at 0x7f6579c72950>]}"
            ]
          },
          "metadata": {
            "tags": []
          },
          "execution_count": 20
        },
        {
          "output_type": "display_data",
          "data": {
            "image/png": "[encoded data removed]",
            "text/plain": [
              "<Figure size 432x288 with 1 Axes>"
            ]
          },
          "metadata": {
            "tags": [],
            "needs_background": "light"
          }
        }
      ]
    },
    {
      "cell_type": "markdown",
      "metadata": {
        "id": "EQ46QDO6gzCm"
      },
      "source": [
        "* outliers present at upper tail"
      ]
    },
    {
      "cell_type": "code",
      "metadata": {
        "colab": {
          "base_uri": "https://localhost:8080/"
        },
        "id": "xKNfMIiBgzCn",
        "outputId": "468e4d46-d12b-4c67-8a87-693ad4396a68"
      },
      "source": [
        "outliers_fnlwgt=detect_outliers(data['fnlwgt'])\n",
        "print(\"outliers:\",outliers_fnlwgt)\n",
        "print(\"Number of outliers:\",len(outliers_fnlwgt))"
      ],
      "execution_count": 21,
      "outputs": [
        {
          "output_type": "stream",
          "text": [
            "outliers: [537222, 512864, 599057, 542610, 652784, 573446, 662460, 629900, 509364, 632733, 560313, 651702, 644278, 535852, 581128, 608881, 914061, 624006, 510072, 593246, 714597, 816750, 552529, 575172, 622192, 566066, 614113, 548568, 789600, 864960, 723746, 692831, 535869, 638116, 698039, 677398, 547931, 666014, 765214, 761800, 1047822, 544319, 617917, 522881, 750972, 589155, 538193, 588739, 588484, 806552, 858091, 663291, 581025, 656488, 557349, 655066, 737315, 541755, 594521, 589838, 605504, 558752, 772919, 884434, 604045, 697806, 632271, 587310, 538243, 1490400, 764638, 718736, 882849, 746660, 786418, 565313, 653215, 576645, 510643, 538099, 539019, 531055, 594187, 685955, 548361, 606111, 592029, 513977, 647591, 566066, 553588, 624572, 535740, 607118, 580591, 557853, 635913, 557805, 626493, 914061, 557349, 953588, 558344, 590204, 679853, 535762, 814850, 874728, 506830, 594194, 538583, 602513, 589809, 507492, 546118, 530099, 1117718, 849067, 590941, 572285, 608441, 720428, 557359, 590522, 513440, 744929, 534775, 511231, 598995, 525848, 584259, 694105, 606347, 811615, 533660, 1210504, 513977, 553405, 742903, 553405, 535027, 513719, 618130, 542762, 771836, 618808, 573446, 532969, 607658, 544091, 507875, 633742, 523910, 635913, 538583, 1033222, 543162, 556660, 680390, 543028, 526968, 767403, 520586, 795830, 509350, 563883, 910398, 538319, 508336, 549430, 519627, 675421, 758700, 509364, 509364, 566117, 548510, 545483, 573583, 511361, 716416, 637222, 664821, 598606, 572751, 580248, 519006, 617021, 596776, 588905, 611029, 549341, 746786, 550848, 510072, 511331, 656036, 688355, 587310, 632613, 516337, 571853, 1184622, 913447, 632593, 595000, 703067, 749105, 543922, 549349, 562558, 642830, 523095, 704108, 557082, 506858, 537222, 595000, 577521, 604506, 564135, 512103, 716066, 525878, 538443, 528616, 515025, 541737, 972354, 608184, 586657, 1226583, 664670, 561334, 791084, 917220, 508548, 511289, 512992, 637080, 671292, 517000, 548361, 648223, 522881, 745768, 523067, 508891, 569761, 585203, 539563, 1038553, 567788, 732569, 721161, 509629, 553473, 560804, 528616, 607848, 514033, 518030, 548580, 526528, 586657, 581071, 575442, 554986, 592930, 632834, 849857, 558944, 691903, 684015, 530099, 554317, 695136, 698418, 526968, 548303, 526164, 734193, 737315, 544686, 548361, 556652, 691830, 520775, 607799, 660870, 532379, 529104, 680390, 857532, 1484705, 755858, 523484, 654141, 930948, 664366, 515629, 606111, 509364, 568490, 1268339, 698363, 617860, 615893, 565313, 520231, 536725, 511517, 1366120, 593246, 529223, 651396, 517036, 529216, 526734, 543042, 631947, 540712, 549174, 806552, 604537, 1455435, 659504, 750972, 607848, 548256, 552354, 561489, 578377, 509500, 889965, 659558, 521400, 608184, 513660, 615367, 557236, 562336, 520078, 660461, 533147, 617898, 953588, 598995, 609789, 663394, 530454, 543477, 556902, 732102, 548256, 709445, 609789, 570821, 636017, 703107, 544792, 595088, 607848, 527162, 566049, 602513, 509060, 520033, 554206, 520759, 694812, 549413, 598802, 511289, 541343, 1033222, 599629, 571017, 738812, 618191, 544268, 557853, 535978, 668319, 682947, 574271, 816750, 597843, 595461, 553405, 704108, 515712, 551962, 572751, 745817, 1161363, 673764, 588484, 809585, 574271, 594187, 509462, 548664, 558490, 509048, 653574, 706026, 511068, 513416, 535978, 721712, 615367, 549174, 1097453, 515797, 510072, 570562, 1085515, 511668, 548361, 518530, 594187, 509866, 695411, 761006, 506830, 574005, 604045, 605502, 589809, 588003, 709798, 561334, 570002, 1125613, 532845, 604380, 583755, 510072, 557349, 609789, 557644, 706180, 606752, 673764, 547886, 554206, 584790, 799281, 657397, 512771, 512828, 531055, 653574, 745768, 857532, 715938, 747719, 569930, 585361, 543922, 766115, 538822, 542265, 749636, 668362, 746432, 566537, 693066, 539864, 514716]\n",
            "Number of outliers: 471\n"
          ],
          "name": "stdout"
        }
      ]
    },
    {
      "cell_type": "markdown",
      "metadata": {
        "id": "i2CZT2wmgzCo"
      },
      "source": [
        "* 471 outliers are present in age at upper bound."
      ]
    },
    {
      "cell_type": "markdown",
      "metadata": {
        "id": "X9QnJDVGgzCp"
      },
      "source": [
        "##### **Outliers treatment**"
      ]
    },
    {
      "cell_type": "code",
      "metadata": {
        "id": "rODHIaUngzCq"
      },
      "source": [
        "# upper bound outliers replace by 95th percentile values.\n",
        "data['fnlwgt']=np.clip(data['fnlwgt'],a_min=None,a_max = data['fnlwgt'].quantile(0.95))"
      ],
      "execution_count": 22,
      "outputs": []
    },
    {
      "cell_type": "code",
      "metadata": {
        "colab": {
          "base_uri": "https://localhost:8080/"
        },
        "id": "TyeQD047gzCr",
        "outputId": "0d9f5815-1f01-4e91-e76f-ae87d8eec68b"
      },
      "source": [
        "# Find number of outliers in train set.\n",
        "outliers_fnlwgt=detect_outliers(data['fnlwgt'])\n",
        "\n",
        "print(\"Number of outliers:\",len(outliers_fnlwgt))"
      ],
      "execution_count": 23,
      "outputs": [
        {
          "output_type": "stream",
          "text": [
            "Number of outliers: 0\n"
          ],
          "name": "stdout"
        }
      ]
    },
    {
      "cell_type": "markdown",
      "metadata": {
        "id": "aKColhELjQOy"
      },
      "source": [
        "* All outliers are removed and replaced."
      ]
    },
    {
      "cell_type": "markdown",
      "metadata": {
        "id": "FGn_5LZMjZZJ"
      },
      "source": [
        "**educational-num**"
      ]
    },
    {
      "cell_type": "code",
      "metadata": {
        "colab": {
          "base_uri": "https://localhost:8080/",
          "height": 406
        },
        "id": "Rf6L3OyojaCO",
        "outputId": "b6689dfc-7a08-459c-f449-89f780d6d3bf"
      },
      "source": [
        "plt.boxplot(data['educational-num'])"
      ],
      "execution_count": 24,
      "outputs": [
        {
          "output_type": "execute_result",
          "data": {
            "text/plain": [
              "{'boxes': [<matplotlib.lines.Line2D at 0x7f6579bf33d0>],\n",
              " 'caps': [<matplotlib.lines.Line2D at 0x7f6579bfa3d0>,\n",
              "  <matplotlib.lines.Line2D at 0x7f6579bfa910>],\n",
              " 'fliers': [<matplotlib.lines.Line2D at 0x7f6579c01410>],\n",
              " 'means': [],\n",
              " 'medians': [<matplotlib.lines.Line2D at 0x7f6579bfae90>],\n",
              " 'whiskers': [<matplotlib.lines.Line2D at 0x7f6579bf3910>,\n",
              "  <matplotlib.lines.Line2D at 0x7f6579bf3e50>]}"
            ]
          },
          "metadata": {
            "tags": []
          },
          "execution_count": 24
        },
        {
          "output_type": "display_data",
          "data": {
            "image/png": "[encoded data removed]",
            "text/plain": [
              "<Figure size 432x288 with 1 Axes>"
            ]
          },
          "metadata": {
            "tags": [],
            "needs_background": "light"
          }
        }
      ]
    },
    {
      "cell_type": "markdown",
      "metadata": {
        "id": "u2pAQg_ujaCP"
      },
      "source": [
        "* outliers present at lower bound."
      ]
    },
    {
      "cell_type": "code",
      "metadata": {
        "colab": {
          "base_uri": "https://localhost:8080/"
        },
        "id": "ii5nqT-4jaCP",
        "outputId": "4c3ccb2d-6ea7-43cf-c1ec-5d418f45ac00"
      },
      "source": [
        "outliers_educational=detect_outliers(data['educational-num'])\n",
        "print(\"outliers:\",outliers_educational)\n",
        "print(\"Number of outliers:\",len(outliers_educational))"
      ],
      "execution_count": 25,
      "outputs": [
        {
          "output_type": "stream",
          "text": [
            "outliers: [2, 2, 1, 1, 2, 2, 1, 2, 2, 2, 1, 1, 2, 2, 2, 2, 1, 2, 2, 2, 2, 2, 2, 2, 1, 2, 2, 1, 1, 2, 2, 2, 2, 2, 2, 1, 2, 2, 2, 2, 1, 2, 2, 2, 1, 2, 1, 1, 2, 1, 1, 2, 2, 2, 2, 2, 2, 2, 2, 2, 2, 2, 2, 1, 2, 2, 1, 1, 2, 1, 2, 2, 1, 2, 1, 2, 2, 2, 2, 2, 2, 2, 2, 2, 2, 1, 1, 2, 2, 1, 2, 2, 2, 2, 1, 2, 2, 1, 1, 2, 2, 2, 2, 1, 2, 2, 2, 2, 2, 2, 2, 2, 2, 1, 1, 1, 2, 1, 2, 2, 2, 2, 2, 2, 2, 2, 2, 2, 2, 2, 2, 1, 1, 1, 2, 2, 2, 2, 1, 1, 2, 2, 2, 2, 1, 2, 2, 2, 2, 2, 2, 2, 2, 2, 1, 2, 2, 2, 2, 1, 2, 1, 2, 2, 2, 2, 2, 2, 2, 2, 1, 2, 2, 2, 2, 2, 2, 2, 2, 2, 2, 2, 1, 2, 2, 2, 2, 2, 1, 1, 2, 2, 2, 2, 2, 1, 2, 2, 2, 2, 2, 2, 2, 2, 2, 2, 1, 2, 2, 2, 1, 1, 2, 2, 1, 2, 2, 1, 2, 2, 1, 2, 1, 2, 2, 2, 2, 2, 1, 2, 1, 1, 2, 1, 1, 1, 2, 1, 2, 1, 2, 2, 1, 1, 2, 2, 2, 2, 1, 2, 1, 2, 2, 2, 2, 2, 2, 2, 2, 1, 2, 2, 2, 2, 2, 2, 2, 2, 2, 2, 2, 2, 2, 2, 2, 2, 2, 2, 2, 2, 2, 2, 2, 1, 2, 2, 1, 2, 1, 2, 1, 2, 2, 1]\n",
            "Number of outliers: 294\n"
          ],
          "name": "stdout"
        }
      ]
    },
    {
      "cell_type": "markdown",
      "metadata": {
        "id": "Xz4VQjHFjaCP"
      },
      "source": [
        "* 294 outliers are present in educational-num at upper bound."
      ]
    },
    {
      "cell_type": "markdown",
      "metadata": {
        "id": "L4fBSBH7jaCP"
      },
      "source": [
        "##### **Outliers treatment**"
      ]
    },
    {
      "cell_type": "code",
      "metadata": {
        "id": "-8JaIO_ujaCQ"
      },
      "source": [
        "# lower bound outliers replace by 5th percentile values.\n",
        "data['educational-num']=np.clip(data['educational-num'],a_min=data['educational-num'].quantile(0.05),a_max = None)"
      ],
      "execution_count": 26,
      "outputs": []
    },
    {
      "cell_type": "code",
      "metadata": {
        "colab": {
          "base_uri": "https://localhost:8080/"
        },
        "id": "TGr-ZNtejaCQ",
        "outputId": "26cc2a30-e291-4f4a-efd1-2030e8b982e6"
      },
      "source": [
        "# Find number of outliers in train set.\n",
        "outliers_educational=detect_outliers(data['educational-num'])\n",
        "\n",
        "print(\"Number of outliers:\",len(outliers_educational))"
      ],
      "execution_count": 27,
      "outputs": [
        {
          "output_type": "stream",
          "text": [
            "Number of outliers: 0\n"
          ],
          "name": "stdout"
        }
      ]
    },
    {
      "cell_type": "markdown",
      "metadata": {
        "id": "nsqHUiwmjaCQ"
      },
      "source": [
        "* All outliers are removed and replaced."
      ]
    },
    {
      "cell_type": "markdown",
      "metadata": {
        "id": "kcE5dWMqkTF7"
      },
      "source": [
        "**capital-gain**"
      ]
    },
    {
      "cell_type": "code",
      "metadata": {
        "colab": {
          "base_uri": "https://localhost:8080/",
          "height": 352
        },
        "id": "MVOLRNmFkTew",
        "outputId": "8914e73b-a22c-4345-a1d7-9084324def9a"
      },
      "source": [
        "sns.distplot(data['capital-gain'])"
      ],
      "execution_count": 28,
      "outputs": [
        {
          "output_type": "stream",
          "text": [
            "/usr/local/lib/python3.7/dist-packages/seaborn/distributions.py:2557: FutureWarning: `distplot` is a deprecated function and will be removed in a future version. Please adapt your code to use either `displot` (a figure-level function with similar flexibility) or `histplot` (an axes-level function for histograms).\n",
            "  warnings.warn(msg, FutureWarning)\n"
          ],
          "name": "stderr"
        },
        {
          "output_type": "execute_result",
          "data": {
            "text/plain": [
              "<matplotlib.axes._subplots.AxesSubplot at 0x7f6579ba2d90>"
            ]
          },
          "metadata": {
            "tags": []
          },
          "execution_count": 28
        },
        {
          "output_type": "display_data",
          "data": {
            "image/png": "[encoded data removed]",
            "text/plain": [
              "<Figure size 432x288 with 1 Axes>"
            ]
          },
          "metadata": {
            "tags": [],
            "needs_background": "light"
          }
        }
      ]
    },
    {
      "cell_type": "markdown",
      "metadata": {
        "id": "R6J2Ai30k0JB"
      },
      "source": [
        "**educational-num**"
      ]
    },
    {
      "cell_type": "code",
      "metadata": {
        "colab": {
          "base_uri": "https://localhost:8080/",
          "height": 406
        },
        "id": "IGsmOSNBkeUW",
        "outputId": "3342bd39-d6c0-4602-b43f-24b599e0db67"
      },
      "source": [
        "plt.boxplot(data['educational-num'])"
      ],
      "execution_count": 29,
      "outputs": [
        {
          "output_type": "execute_result",
          "data": {
            "text/plain": [
              "{'boxes': [<matplotlib.lines.Line2D at 0x7f6579ad0450>],\n",
              " 'caps': [<matplotlib.lines.Line2D at 0x7f6579ad5450>,\n",
              "  <matplotlib.lines.Line2D at 0x7f6579ad5990>],\n",
              " 'fliers': [<matplotlib.lines.Line2D at 0x7f6579a5d490>],\n",
              " 'means': [],\n",
              " 'medians': [<matplotlib.lines.Line2D at 0x7f6579ad5f10>],\n",
              " 'whiskers': [<matplotlib.lines.Line2D at 0x7f6579ad0990>,\n",
              "  <matplotlib.lines.Line2D at 0x7f6579ad0ed0>]}"
            ]
          },
          "metadata": {
            "tags": []
          },
          "execution_count": 29
        },
        {
          "output_type": "display_data",
          "data": {
            "image/png": "[encoded data removed]",
            "text/plain": [
              "<Figure size 432x288 with 1 Axes>"
            ]
          },
          "metadata": {
            "tags": [],
            "needs_background": "light"
          }
        }
      ]
    },
    {
      "cell_type": "markdown",
      "metadata": {
        "id": "aXq4f9sWkeUa"
      },
      "source": [
        "* No outliers are present."
      ]
    },
    {
      "cell_type": "markdown",
      "metadata": {
        "id": "1DC4bN9ior9p"
      },
      "source": [
        "**capital-loss**"
      ]
    },
    {
      "cell_type": "code",
      "metadata": {
        "id": "3B7XfrD7otnQ"
      },
      "source": [
        ""
      ],
      "execution_count": 29,
      "outputs": []
    },
    {
      "cell_type": "code",
      "metadata": {
        "colab": {
          "base_uri": "https://localhost:8080/",
          "height": 406
        },
        "id": "eX8-Xr3tow9R",
        "outputId": "adc3b4d1-3cda-4c18-b547-17cefdf24280"
      },
      "source": [
        "plt.boxplot(data['capital-loss'])"
      ],
      "execution_count": 30,
      "outputs": [
        {
          "output_type": "execute_result",
          "data": {
            "text/plain": [
              "{'boxes': [<matplotlib.lines.Line2D at 0x7f6579a32f50>],\n",
              " 'caps': [<matplotlib.lines.Line2D at 0x7f6579a3bf50>,\n",
              "  <matplotlib.lines.Line2D at 0x7f6579a424d0>],\n",
              " 'fliers': [<matplotlib.lines.Line2D at 0x7f6579a42f90>],\n",
              " 'means': [],\n",
              " 'medians': [<matplotlib.lines.Line2D at 0x7f6579a42a50>],\n",
              " 'whiskers': [<matplotlib.lines.Line2D at 0x7f6579a3b4d0>,\n",
              "  <matplotlib.lines.Line2D at 0x7f6579a3ba10>]}"
            ]
          },
          "metadata": {
            "tags": []
          },
          "execution_count": 30
        },
        {
          "output_type": "display_data",
          "data": {
            "image/png": "[encoded data removed]",
            "text/plain": [
              "<Figure size 432x288 with 1 Axes>"
            ]
          },
          "metadata": {
            "tags": [],
            "needs_background": "light"
          }
        }
      ]
    },
    {
      "cell_type": "markdown",
      "metadata": {
        "id": "lmqGGb8Bow9S"
      },
      "source": [
        "* outliers present at upper bound."
      ]
    },
    {
      "cell_type": "code",
      "metadata": {
        "colab": {
          "base_uri": "https://localhost:8080/"
        },
        "id": "ryyJdsxeow9S",
        "outputId": "4fd42e60-de67-4b77-dccc-601d68316d09"
      },
      "source": [
        "outliers_capitalloss=detect_outliers(data['capital-loss'])\n",
        "print(\"outliers:\",outliers_capitalloss)\n",
        "print(\"Number of outliers:\",len(outliers_capitalloss))"
      ],
      "execution_count": 31,
      "outputs": [
        {
          "output_type": "stream",
          "text": [
            "outliers: [1721, 1876, 2415, 1887, 1887, 1887, 1887, 1977, 2057, 1429, 1590, 2057, 1721, 1887, 1485, 1485, 1977, 1887, 1721, 2051, 2377, 1672, 1628, 1902, 1902, 1590, 1977, 1741, 1887, 2444, 1876, 1902, 1408, 1902, 2001, 2001, 2415, 2042, 1740, 1876, 1825, 1902, 1887, 1977, 1887, 1902, 1887, 1902, 2415, 1848, 1719, 3004, 1590, 1977, 1887, 1977, 2001, 1902, 1977, 2179, 1902, 1573, 1429, 2205, 1977, 2339, 1887, 2339, 1726, 2258, 1672, 1590, 1887, 1340, 2415, 1504, 1887, 2415, 2559, 1977, 1848, 2258, 1902, 1887, 1668, 1974, 1977, 1741, 1980, 2051, 2377, 1902, 2444, 1564, 1408, 1902, 1977, 2547, 1902, 2002, 2057, 2001, 1977, 1977, 1628, 1902, 1876, 1848, 1719, 1669, 1902, 1902, 2339, 1902, 2339, 1902, 1887, 1902, 1887, 1429, 2001, 1485, 1902, 1980, 1504, 1887, 1902, 1977, 1617, 1741, 2051, 1980, 1902, 1887, 2205, 1602, 1573, 1977, 2415, 3175, 1668, 2472, 1669, 2057, 1504, 1902, 1902, 1579, 1902, 1741, 1902, 1902, 1579, 1590, 1977, 1848, 1977, 2444, 1719, 1485, 1590, 1887, 2179, 2415, 1902, 1974, 1564, 1902, 1628, 1590, 1848, 1977, 1485, 1887, 1740, 1977, 2339, 2129, 1902, 2001, 2444, 1669, 1408, 1902, 1887, 1887, 2002, 1735, 1902, 1902, 1564, 1876, 2205, 2339, 1669, 2444, 1741, 2339, 1887, 2415, 2282, 1980, 2205, 1977, 2559, 1876, 1887, 2444, 1672, 1485, 2559, 1740, 1504, 1887, 1887, 1902, 1740, 1977, 1902, 1887, 2339, 1870, 1977, 1902, 1977, 1628, 1887, 1911, 1902, 1887, 2444, 1980, 1485, 1887, 1887, 1721, 1902, 1902, 1902, 1902, 1977, 2002, 1887, 1504, 2444, 1902, 1719, 1974, 1902, 1887, 1980, 1485, 1504, 1977, 2057, 1669, 1902, 1719, 1762, 1485, 1902, 1977, 2179, 1504, 1573, 1564, 2415, 1902, 2472, 1579, 1741, 1902, 1902, 1887, 1408, 1669, 1740, 1762, 1590, 1721, 1876, 1672, 2457, 1340, 1579, 2231, 2238, 2205, 1902, 1902, 2258, 1848, 1887, 1628, 1902, 2231, 2415, 1740, 1977, 1876, 1887, 2415, 1740, 1887, 3004, 1485, 2057, 1485, 1876, 1977, 2415, 1762, 1579, 2559, 1887, 1590, 1408, 1977, 2258, 1408, 1977, 1740, 2179, 1902, 1848, 2246, 1590, 2246, 1876, 1977, 1740, 1977, 1719, 1887, 2415, 2002, 1980, 2415, 2603, 1977, 1741, 2392, 1485, 1977, 2051, 1510, 1902, 1944, 1876, 1848, 1408, 1485, 1590, 1902, 2002, 1977, 1902, 1887, 1848, 1876, 1848, 1974, 1977, 1902, 1980, 2002, 1380, 1902, 1974, 1564, 1980, 1590, 2002, 1887, 1672, 2001, 1980, 1902, 2415, 1902, 1977, 1902, 2559, 1977, 1672, 1902, 2002, 1726, 1485, 1848, 1340, 1590, 1741, 1887, 2258, 1669, 2001, 1590, 1902, 1887, 1421, 1719, 3770, 1594, 1380, 3004, 2231, 1669, 2001, 1628, 2377, 1564, 1564, 1977, 1902, 2258, 1977, 1977, 1902, 2042, 1887, 1887, 1564, 1902, 1485, 1902, 1887, 2042, 1977, 1902, 1564, 1977, 1887, 2258, 2238, 1669, 2129, 1977, 2002, 1977, 1726, 1887, 2824, 1564, 1740, 1977, 1887, 1485, 1977, 1672, 1719, 1668, 1848, 1848, 1977, 1848, 1902, 1902, 1602, 1887, 1741, 1602, 2415, 1726, 1762, 1579, 1740, 2051, 1876, 1977, 1902, 1977, 2205, 1719, 1408, 1902, 1977, 1485, 1977, 1887, 1902, 1579, 1721, 1977, 1668, 1902, 1672, 1887, 1740, 1876, 1902, 1977, 1669, 1590, 1876, 1977, 1902, 1887, 1741, 1977, 2174, 1977, 2415, 1602, 1977, 1579, 1844, 1977, 2205, 1672, 1590, 2001, 1672, 1564, 1762, 1977, 1902, 1564, 2002, 2051, 1980, 1977, 1977, 1408, 1977, 1672, 1902, 2149, 1741, 1977, 1719, 2205, 1944, 1902, 1902, 1411, 1902, 1741, 1408, 1977, 1726, 2415, 2415, 1887, 1977, 1902, 1980, 2258, 1887, 1902, 3770, 2051, 1380, 1408, 1485, 1564, 1902, 1887, 1902, 1902, 1887, 2258, 1740, 1977, 2001, 2824, 2824, 1887, 2231, 1408, 1977, 1887, 1902, 1977, 1741, 2258, 1887, 1719, 1876, 2057, 1977, 1977, 1602, 2057, 2002, 1974, 1977, 1977, 2467, 1564, 1672, 1902, 1977, 1887, 2258, 2258, 1902, 1902, 1741, 2415, 2163, 1902, 2129, 2824, 1579, 1902, 2392, 1887, 2179, 1564, 1902, 1876, 1617, 1628, 1408, 1672, 1887, 1876, 1741, 1977, 1980, 1668, 1977, 1628, 1719, 1977, 1876, 1340, 1887, 2415, 2051, 1977, 2174, 1848, 1887, 1974, 1887, 1741, 2377, 1740, 2415, 1590, 1887, 2339, 1902, 1902, 1411, 1977, 1628, 2258, 1887, 1977, 1510, 1887, 1974, 1573, 1573, 1977, 1672, 2258, 1977, 1902, 1887, 1977, 1719, 2415, 1876, 1485, 1887, 3175, 1590, 1887, 1741, 1740, 1741, 1740, 1902, 1485, 1590, 1977, 1741, 1590, 1564, 2339, 2472, 1651, 1902, 1902, 1974, 1902, 1672, 1602, 2057, 1590, 1669, 1902, 2042, 1408, 1902, 1902, 1887, 1719, 1762, 1564, 2179, 1816, 1980, 1977, 1876, 1340, 2206, 1741, 1977, 1485, 1887, 1564, 2339, 2415, 2179, 1977, 1408, 1980, 1977, 1380, 1977, 1887, 1902, 1721, 1902, 1380, 2051, 2377, 1669, 2352, 1902, 1721, 1672, 2415, 2415, 1977, 2392, 1504, 1902, 1719, 1902, 1902, 1977, 1902, 1902, 1590, 1977, 1651, 1977, 1902, 1762, 1887, 1977, 1876, 1628, 1848, 1564, 1762, 1887, 1672, 1902, 2051, 2001, 1980, 1340, 2339, 1628, 1887, 1848, 1977, 1740, 2002, 1902, 1887, 1902, 1902, 1719, 2339, 1902, 1579, 1902, 1741, 1628, 2415, 1408, 1740, 2258, 1485, 1848, 1977, 1485, 1887, 1902, 1669, 1887, 1977, 1741, 1602, 1902, 1719, 1902, 1887, 1887, 1887, 1408, 1579, 1741, 1564, 2547, 2206, 2415, 1590, 2415, 1980, 1741, 1977, 1340, 1902, 1977, 2339, 1977, 2205, 1977, 1726, 1485, 2444, 2392, 1672, 1902, 1740, 1669, 1902, 1762, 2415, 2238, 1876, 2258, 1977, 1672, 2352, 1977, 1977, 1977, 1977, 1977, 2415, 2002, 1902, 1887, 1669, 1848, 1590, 1590, 2179, 1669, 1902, 1977, 2377, 1902, 1887, 2392, 1485, 1848, 1902, 1672, 1628, 1740, 1977, 1876, 1816, 1887, 1485, 1977, 1887, 1848, 1590, 1902, 2002, 1741, 1876, 1977, 2002, 1628, 1977, 1887, 1719, 2258, 1902, 1887, 1887, 1902, 1672, 1980, 1902, 1887, 1504, 1902, 1539, 1848, 1762, 1977, 1485, 1741, 2415, 1902, 1485, 1848, 1579, 1887, 1668, 1902, 1848, 1564, 1564, 2001, 1594, 1887, 1902, 1485, 1876, 1902, 1740, 1902, 1902, 1977, 1590, 1672, 1977, 1977, 1902, 1672, 1902, 2377, 1628, 1740, 1740, 2415, 1887, 1902, 1740, 2001, 2042, 1590, 2231, 1579, 1844, 1740, 1977, 2258, 1902, 1902, 1602, 1848, 2824, 1977, 2051, 1602, 1719, 1740, 1740, 1977, 2559, 1887, 1876, 1977, 2258, 2051, 1902, 1977, 1902, 1887, 2051, 1902, 1902, 1977, 1902, 2051, 2392, 2057, 1573, 1740, 1977, 2559, 2205, 1672, 1902, 2559, 1504, 1564, 1977, 1902, 1887, 1902, 2051, 1876, 1974, 1672, 1590, 1848, 1902, 2205, 1590, 1977, 1740, 1564, 2559, 2415, 1669, 1876, 1977, 1876, 2258, 1887, 1977, 1762, 1590, 1602, 1887, 1977, 1902, 1977, 1887, 1485, 2002, 1974, 1485, 1672, 1887, 1408, 2339, 1672, 1848, 2174, 1579, 1876, 1485, 1721, 2559, 1579, 1485, 2149, 1887, 1902, 1719, 1740, 1902, 1848, 1977, 1902, 1485, 1902, 1902, 2415, 1887, 1564, 2205, 1876, 1735, 2206, 1887, 1977, 2002, 2603, 1977, 1485, 1485, 2282, 1741, 1672, 1902, 1980, 1902, 1602, 1590, 1902, 2002, 1485, 1602, 1590, 1672, 2258, 1721, 2179, 1977, 1672, 1902, 1977, 2179, 1564, 1590, 1485, 2174, 1721, 1902, 1887, 1977, 1902, 2002, 1977, 1579, 1602, 1672, 1902, 2377, 1977, 2042, 1602, 1980, 1876, 1887, 1380, 2001, 2042, 2415, 2377, 1590, 1977, 1485, 1408, 1902, 1977, 1977, 1876, 2231, 2444, 1590, 2246, 1977, 1980, 1902, 1977, 1590, 1594, 1902, 1977, 1848, 2149, 1887, 1741, 2258, 1980, 2051, 1977, 1617, 2258, 2444, 1848, 1485, 1648, 1977, 2002, 1602, 2559, 1848, 1980, 2824, 1977, 1564, 1977, 1977, 1485, 1617, 1902, 1887, 1887, 1902, 1848, 1977, 1902, 1980, 2258, 1977, 1887, 1902, 1977, 2001, 2231, 1876, 1825, 1902, 2051, 2001, 1902, 1735, 1887, 1590, 1740, 1594, 1564, 1504, 1902, 2057, 1579, 2547, 1887, 2377, 1974, 1669, 2001, 1902, 1719, 1504, 1902, 1977, 1579, 1485, 1977, 3770, 1977, 1902, 1887, 1590, 1887, 1977, 1672, 1902, 1977, 1408, 1617, 1579, 1887, 1887, 1876, 1564, 2246, 1848, 1974, 1977, 1602, 1672, 1651, 1902, 1902, 1848, 1719, 1887, 2001, 1887, 1628, 1977, 1741, 1902, 1590, 1755, 3683, 1887, 1902, 2205, 1902, 1762, 1594, 1977, 1977, 1719, 1977, 1977, 1876, 1651, 1902, 1902, 1887, 2392, 1721, 1887, 1902, 2339, 1974, 1902, 1740, 1887, 1719, 1669, 2824, 1564, 2258, 1977, 1887, 1977, 1602, 1977, 2415, 1977, 1977, 1762, 2444, 1579, 1977, 2002, 1628, 1977, 1902, 1672, 1848, 1887, 1668, 1669, 1902, 2415, 1590, 1719, 1977, 2415, 2415, 2339, 1602, 1902, 1902, 1848, 1762, 1902, 1902, 1902, 1504, 1740, 1651, 1485, 1740, 2129, 2415, 1848, 1876, 1617, 4356, 1902, 1485, 1408, 1408, 1740, 1902, 1485, 1721, 1590, 1669, 1887, 1977, 1980, 1977, 1977, 2415, 1485, 1740, 1876, 1726, 1902, 1672, 1974, 1902, 1902, 1902, 1977, 1876, 1887, 1564, 2174, 1977, 1564, 1672, 2267, 1887, 1887, 1876, 1902, 1721, 1590, 1876, 1887, 1887, 1564, 1902, 2002, 2080, 1564, 1669, 1876, 1980, 3770, 1672, 1504, 1902, 1980, 1721, 1602, 2415, 1876, 1887, 1977, 1887, 1590, 1980, 2051, 1887, 1887, 1669, 2339, 1974, 1902, 1380, 1848, 1887, 1762, 1977, 1485, 1887, 1974, 1887, 1977, 1902, 1740, 1902, 1504, 2415, 1887, 1887, 1504, 1977, 1902, 1902, 1902, 2559, 1977, 2415, 1590, 1719, 1974, 2001, 2559, 1887, 2457, 2179, 1504, 1594, 1876, 2246, 1887, 1876, 2444, 1848, 1887, 2267, 1977, 1902, 2258, 1887, 1876, 1672, 1902, 1887, 1719, 2057, 1977, 1977, 1848, 1902, 1669, 2001, 2205, 1564, 1602, 2603, 1848, 2339, 1669, 1762, 1848, 1977, 1977, 1902, 1602, 1887, 1617, 1980, 1573, 1902, 1887, 1902, 1617, 1902, 1902, 1848, 1887, 1602, 1485, 1672, 1887, 1721, 1902, 1902, 1628, 1651, 1408, 2001, 2246, 1977, 1848, 1590, 1977, 1977, 1408, 2824, 1590, 1594, 2377, 1564, 1740, 1902, 1485, 1902, 2559, 1762, 1741, 2824, 1848, 1721, 1977, 1974, 1602, 1740, 2415, 1887, 1977, 1876, 1876, 2377, 2415, 1887, 1902, 1887, 1651, 1977, 2258, 1887, 1902, 1876, 1408, 2205, 1876, 2051, 2444, 2258, 2179, 1887, 1902, 1590, 2179, 2179, 1887, 2206, 2179, 1977, 1887, 1602, 1485, 1504, 1902, 2001, 1579, 2174, 1902, 1977, 1974, 2002, 3900, 2201, 2001, 1902, 1721, 1887, 1977, 2415, 1876, 1902, 1977, 2051, 2246, 1902, 2042, 2002, 1977, 1902, 1485, 1876, 1672, 2415, 1977, 1340, 1977, 2547, 2042, 1944, 2258, 1887, 1504, 1887, 1876, 1902, 2205, 2001, 1902, 2258, 1980, 2415, 1669, 1887, 2238, 2415, 1902, 1740, 1504, 1602, 1977, 1848, 1590, 1726, 2377, 1669, 2129, 1887, 2002, 2415, 1740, 1485, 2001, 1887, 1887, 1741, 1573, 1977, 2415, 1590, 2415, 1977, 1669, 1887, 1740, 1504, 1848, 1590, 1902, 1902, 1485, 2339, 1719, 1741, 2258, 1902, 1902, 2415, 1977, 2179, 1977, 2002, 1602, 2415, 1902, 2467, 1887, 1594, 2824, 1887, 1848, 1669, 2057, 1977, 1902, 1887, 3683, 2001, 1590, 1602, 2339, 1980, 1848, 2377, 1887, 1902, 1669, 1977, 1980, 1977, 2377, 1977, 1408, 1579, 1887, 2179, 1848, 1579, 1977, 1887, 1602, 1848, 3900, 2392, 1887, 1740, 2415, 1977, 1977, 1887, 1887, 2002, 1887, 2051, 1887, 1902, 1902, 1902, 1628, 1974, 1573, 2339, 1902, 1902, 2444, 2001, 1902, 1977, 1887, 2392, 1485, 1740, 1902, 1672, 1887, 1902, 2377, 1408, 1980, 1740, 1887, 1617, 2415, 1648, 1628, 1902, 2246, 1876, 1902, 2258, 2051, 1602, 1485, 1902, 1902, 1579, 1848, 1977, 1340, 1564, 1902, 1485, 1977, 1564, 1408, 1669, 1380, 2559, 1902, 1741, 1977, 1672, 1848, 1902, 1628, 1887, 1672, 1980, 1977, 1977, 1740, 2001, 2444, 2258, 1887, 1740, 1651, 1887, 1876, 1902, 2339, 2754, 2415, 1887, 1977, 1977, 1902, 1590, 1977, 2444, 1602, 1485, 1741, 2258, 1485, 1848, 1408, 2559, 1408, 1672, 1602, 1579, 1887, 1887, 1977, 2042, 1977, 1887, 1887, 1617, 1380, 1887, 1485, 2001, 2002, 1902, 1902, 1902, 1977, 1977, 2824, 1726, 2051, 1977, 2051, 1741, 1590, 1602, 1902, 1848, 2415, 1977, 1887, 1848, 1485, 2603, 1887, 1887, 1741, 1579, 2002, 2547, 2179, 1974, 1579, 2603, 2377, 1740, 1672, 1902, 1602, 1504, 2444, 1721, 1902, 1977, 1590, 2377, 1980, 1651, 2174, 1887, 1740, 1902, 1977, 1848, 2001, 2206, 1902, 2392, 1887, 1876, 2179, 1977, 1672, 1902, 1902, 1887, 2258, 2377, 1719, 2258, 1977, 1902, 2754, 1887, 1977, 1740, 1977, 1669, 2377, 1902, 1974, 1887, 1876, 1980, 1902, 2415, 2002, 1977, 1573, 1977, 2258, 1848, 1887, 1848, 1602, 1668, 1590, 1590, 1848, 1740, 1887, 1902, 1740, 1974, 1977, 1602, 2472, 1651, 1740, 1977, 1977, 1504, 1887, 2057, 1887, 1719, 1902, 1887, 2415, 1408, 1755, 1974, 1741, 1887, 1721, 1902, 1602, 1579, 2415, 1887, 2824, 2174, 1887, 1902, 2267, 2002, 1977, 2057, 1887, 1602, 1887, 1380, 2001, 1977, 1719, 1887, 1887, 1740, 1825, 2415, 1876, 1719, 1485, 1977, 2415, 1902, 1887, 1825, 1602, 1887, 1902, 2051, 1721, 1340, 1887, 1902, 1721, 1485, 3004, 1902, 1974, 1902, 2051, 1977, 1617, 1848, 1740, 1887, 1887, 1974, 2051, 1902, 1887, 2444, 1741, 1590, 1594, 1902, 1848, 1977, 1887, 1887, 1977, 1564, 1902, 1848, 1902, 1669, 1887, 1485, 1672, 1902, 2051, 1887, 1564, 1740, 1977, 1340, 1628, 1887, 1902, 1887, 1741, 2377, 1579, 1902, 1719, 2415, 1887, 1740, 1902, 1741, 2339, 1848, 1902, 1887, 1902, 2415, 1887, 1485, 1485, 1848, 2258, 1887, 1741, 2051, 1762, 1672, 1887, 1977, 2258, 2444, 1408, 1602, 1902, 1672, 1902, 2415, 1977, 2042, 1887, 1902, 2042, 1411, 2559, 1741, 1887, 1902, 1887, 1602, 1669, 1977]\n",
            "Number of outliers: 2077\n"
          ],
          "name": "stdout"
        }
      ]
    },
    {
      "cell_type": "markdown",
      "metadata": {
        "id": "2-QJfKHQow9S"
      },
      "source": [
        "* 2077 outliers are present in capital loss at upper bound."
      ]
    },
    {
      "cell_type": "markdown",
      "metadata": {
        "id": "dMYIeaURow9V"
      },
      "source": [
        "##### **Outliers treatment**"
      ]
    },
    {
      "cell_type": "code",
      "metadata": {
        "id": "Jnorfa86ow9V"
      },
      "source": [
        "# upper bound outliers replace by 95th percentile values.\n",
        "data['capital-loss']=np.clip(data['capital-loss'],a_min=None,a_max = data['capital-loss'].quantile(0.95))"
      ],
      "execution_count": 32,
      "outputs": []
    },
    {
      "cell_type": "code",
      "metadata": {
        "colab": {
          "base_uri": "https://localhost:8080/"
        },
        "id": "Izd7PO0Fow9V",
        "outputId": "9c111b38-c468-4927-d827-e1cb85b713bc"
      },
      "source": [
        "def Winsorization_outliers(df):\n",
        "  out=[]\n",
        "  q1 = np.percentile(df , 1)\n",
        "  q3 = np.percentile(df , 99)\n",
        "  for i in df:\n",
        "    if i > q3 or i < q1:\n",
        "      out.append(i)\n",
        "  print(\"Outliers:\",out)\n",
        "  \n",
        "Winsorization_outliers(data['capital-loss'])"
      ],
      "execution_count": 33,
      "outputs": [
        {
          "output_type": "stream",
          "text": [
            "Outliers: []\n"
          ],
          "name": "stdout"
        }
      ]
    },
    {
      "cell_type": "markdown",
      "metadata": {
        "id": "vZOQnZ1Fow9W"
      },
      "source": [
        "* All outliers are removed and replaced."
      ]
    },
    {
      "cell_type": "markdown",
      "metadata": {
        "id": "f8gsBZJ7sI7g"
      },
      "source": [
        "**hours-per-week**"
      ]
    },
    {
      "cell_type": "code",
      "metadata": {
        "id": "6RVt1XX_sLFf"
      },
      "source": [
        ""
      ],
      "execution_count": 33,
      "outputs": []
    },
    {
      "cell_type": "code",
      "metadata": {
        "colab": {
          "base_uri": "https://localhost:8080/",
          "height": 406
        },
        "id": "gEBK2fm_sQwQ",
        "outputId": "842fcc23-8bf1-477e-c0d9-2ac90b0c7895"
      },
      "source": [
        "plt.boxplot(data['hours-per-week'])"
      ],
      "execution_count": 34,
      "outputs": [
        {
          "output_type": "execute_result",
          "data": {
            "text/plain": [
              "{'boxes': [<matplotlib.lines.Line2D at 0x7f65799bb910>],\n",
              " 'caps': [<matplotlib.lines.Line2D at 0x7f65799bf910>,\n",
              "  <matplotlib.lines.Line2D at 0x7f65799bfe50>],\n",
              " 'fliers': [<matplotlib.lines.Line2D at 0x7f65799c5950>],\n",
              " 'means': [],\n",
              " 'medians': [<matplotlib.lines.Line2D at 0x7f65799c5410>],\n",
              " 'whiskers': [<matplotlib.lines.Line2D at 0x7f65799bbe50>,\n",
              "  <matplotlib.lines.Line2D at 0x7f65799bf3d0>]}"
            ]
          },
          "metadata": {
            "tags": []
          },
          "execution_count": 34
        },
        {
          "output_type": "display_data",
          "data": {
            "image/png": "[encoded data removed]",
            "text/plain": [
              "<Figure size 432x288 with 1 Axes>"
            ]
          },
          "metadata": {
            "tags": [],
            "needs_background": "light"
          }
        }
      ]
    },
    {
      "cell_type": "markdown",
      "metadata": {
        "id": "p0MJjxB2sQwR"
      },
      "source": [
        "* outliers present at upper bound and lower bound."
      ]
    },
    {
      "cell_type": "code",
      "metadata": {
        "colab": {
          "base_uri": "https://localhost:8080/"
        },
        "id": "k9q1AMnusQwS",
        "outputId": "1d82b530-4faa-44ac-bb76-3ad6aafe60f5"
      },
      "source": [
        "outliers_hoursperweek=detect_outliers(data['hours-per-week'])\n",
        "print(\"outliers:\",outliers_hoursperweek)\n",
        "print(\"Number of outliers:\",len(outliers_hoursperweek))"
      ],
      "execution_count": 35,
      "outputs": [
        {
          "output_type": "stream",
          "text": [
            "outliers: [90, 84, 80, 84, 80, 99, 80, 80, 96, 90, 3, 1, 99, 80, 80, 84, 99, 2, 4, 78, 80, 99, 84, 80, 3, 80, 80, 80, 99, 92, 3, 80, 84, 77, 99, 80, 84, 85, 4, 99, 4, 2, 84, 80, 99, 98, 84, 77, 96, 4, 80, 90, 4, 78, 84, 80, 90, 80, 86, 80, 4, 84, 80, 99, 80, 85, 80, 80, 80, 80, 3, 4, 80, 84, 99, 4, 80, 84, 99, 99, 99, 99, 90, 80, 96, 2, 99, 99, 90, 99, 80, 88, 2, 80, 80, 90, 79, 4, 4, 78, 84, 2, 80, 84, 3, 4, 1, 84, 99, 89, 98, 80, 80, 90, 4, 80, 99, 80, 78, 99, 99, 80, 80, 80, 99, 80, 99, 99, 80, 80, 90, 80, 78, 84, 3, 80, 80, 1, 99, 99, 99, 80, 99, 88, 3, 4, 90, 80, 85, 84, 4, 3, 98, 80, 99, 80, 4, 99, 99, 1, 4, 99, 96, 84, 99, 80, 1, 77, 99, 99, 99, 84, 90, 2, 99, 99, 3, 85, 99, 3, 99, 80, 80, 99, 2, 99, 80, 4, 80, 99, 99, 80, 2, 80, 86, 80, 3, 80, 2, 84, 80, 80, 84, 80, 84, 4, 4, 80, 80, 80, 99, 80, 90, 4, 84, 92, 80, 80, 80, 84, 84, 80, 90, 80, 80, 80, 2, 1, 98, 80, 80, 80, 99, 80, 80, 99, 80, 80, 78, 90, 80, 80, 90, 84, 99, 80, 90, 84, 3, 98, 80, 85, 84, 80, 3, 84, 99, 80, 84, 84, 78, 3, 85, 99, 80, 84, 99, 3, 77, 84, 90, 98, 80, 99, 99, 80, 80, 80, 3, 80, 85, 98, 80, 2, 4, 87, 88, 90, 80, 99, 90, 90, 80, 80, 2, 99, 89, 80, 80, 80, 97, 85, 78, 80, 90, 90, 99, 4, 84, 80, 4, 80, 99, 80, 2, 80, 80, 84, 80, 99, 84, 80, 80, 80, 80, 99, 90, 80, 94, 3, 80, 85, 80, 99, 4, 99, 80, 77, 85, 80, 85, 99, 96, 4, 99, 77, 4, 82, 2, 80, 80, 90, 3, 99, 4, 80, 80, 1, 80, 97, 2, 99, 84, 99, 85, 80, 80, 80, 99, 99, 80, 90, 3, 80, 4, 86, 80, 99, 99, 99, 80, 3, 84, 99, 3, 84, 2, 80, 84, 4, 80, 99, 91, 2, 81, 84, 96, 99, 99, 99, 80, 78, 3, 99, 80, 99, 80, 4, 84, 84, 98, 80, 3, 80, 80, 99, 99, 80, 88, 98, 99, 80, 98, 80, 80, 4, 4, 84, 99, 81, 2, 90, 84, 98, 99, 4, 84, 84, 84, 4, 99, 3, 80, 99, 99, 92, 3, 2, 99, 80, 2, 90, 99, 99, 1, 3, 80, 80, 80, 80, 99, 80, 80, 84, 77, 84, 80, 80, 80, 90, 1, 99, 99, 84, 3, 80, 80, 85, 91, 85, 80, 80, 99, 84, 99, 84, 99, 4, 99, 4, 90, 4, 1, 4, 80, 98, 99, 3, 99, 2, 80, 84, 99, 80, 80, 96, 80, 99, 90, 90, 99, 80, 90, 90, 78, 1, 80, 99, 95, 77, 85, 86, 1, 80, 80, 80, 80, 85, 84, 99, 80, 80, 80, 99, 90, 99, 84, 99, 80, 80, 99, 84, 84, 4, 99, 99, 4, 90, 90, 99, 80, 80, 98, 99, 4, 3, 96, 80, 84, 4, 99, 99, 84, 80, 78, 90, 80, 95, 80, 84, 80, 4, 80, 99, 91, 80, 84, 4, 80, 3, 80, 78, 99, 96, 2, 3, 77, 99, 2, 84, 99, 2, 90, 4, 78, 4, 84, 80, 85, 99, 99, 99, 90, 80, 99, 80, 90, 3, 80, 4, 80, 80, 90, 99, 99, 80, 3, 3, 98, 80, 80, 80, 81, 89, 3, 84]\n",
            "Number of outliers: 626\n"
          ],
          "name": "stdout"
        }
      ]
    },
    {
      "cell_type": "markdown",
      "metadata": {
        "id": "OdkD5-ezsQwS"
      },
      "source": [
        "* 626 outliers are present in capital loss at upper bound."
      ]
    },
    {
      "cell_type": "markdown",
      "metadata": {
        "id": "4Ja8tdpGsQwS"
      },
      "source": [
        "##### **Outliers treatment**"
      ]
    },
    {
      "cell_type": "code",
      "metadata": {
        "id": "6DQZfPfssQwS"
      },
      "source": [
        "# upper bound outliers replace by 95th percentile values.\n",
        "data['hours-per-week']=np.clip(data['hours-per-week'],a_min=data['hours-per-week'].quantile(0.05),a_max = data['hours-per-week'].quantile(0.95))"
      ],
      "execution_count": 36,
      "outputs": []
    },
    {
      "cell_type": "code",
      "metadata": {
        "colab": {
          "base_uri": "https://localhost:8080/"
        },
        "id": "OaFnmAn-sQwT",
        "outputId": "a830ccee-ceaf-4028-c09b-b574d4319d89"
      },
      "source": [
        "outliers_hoursperweek=detect_outliers(data['hours-per-week'])\n",
        "\n",
        "print(\"Number of outliers:\",len(outliers_hoursperweek))"
      ],
      "execution_count": 37,
      "outputs": [
        {
          "output_type": "stream",
          "text": [
            "Number of outliers: 0\n"
          ],
          "name": "stdout"
        }
      ]
    },
    {
      "cell_type": "markdown",
      "metadata": {
        "id": "OlHa8EJMsQwT"
      },
      "source": [
        "* All outliers are removed and replaced."
      ]
    },
    {
      "cell_type": "markdown",
      "metadata": {
        "id": "dyS06awttQG4"
      },
      "source": [
        "### Bivariate Analysis"
      ]
    },
    {
      "cell_type": "markdown",
      "metadata": {
        "id": "9CBWXyedeOiw"
      },
      "source": [
        "## Model Building"
      ]
    },
    {
      "cell_type": "code",
      "metadata": {
        "id": "bDuiXar8eW4f"
      },
      "source": [
        "X=data.iloc[:, :14]\n",
        "y=data.iloc[:,-1]"
      ],
      "execution_count": 38,
      "outputs": []
    },
    {
      "cell_type": "code",
      "metadata": {
        "colab": {
          "base_uri": "https://localhost:8080/"
        },
        "id": "Ew_NtFoTKBmT",
        "outputId": "6b2d043e-8111-4e2a-8a9f-1949ce471335"
      },
      "source": [
        "y.value_counts()"
      ],
      "execution_count": 39,
      "outputs": [
        {
          "output_type": "execute_result",
          "data": {
            "text/plain": [
              "<=50K    34014\n",
              ">50K     11208\n",
              "Name: income, dtype: int64"
            ]
          },
          "metadata": {
            "tags": []
          },
          "execution_count": 39
        }
      ]
    },
    {
      "cell_type": "markdown",
      "metadata": {
        "id": "MUA130Lcgx-n"
      },
      "source": [
        "### Normalization"
      ]
    },
    {
      "cell_type": "code",
      "metadata": {
        "id": "6-WdM3i2gxWQ"
      },
      "source": [
        "#MinMax scaler\n",
        "columns=X.select_dtypes(include=['int','float']).columns\n",
        "\n",
        "for column in columns:\n",
        "  if column!=\"income\":\n",
        "    X[column]=X.loc[:, [column]].apply(lambda X: (X - X.min()) / (X.max()- X.min()))"
      ],
      "execution_count": 40,
      "outputs": []
    },
    {
      "cell_type": "code",
      "metadata": {
        "id": "puIif1cJiInJ"
      },
      "source": [
        "#label encoding\n",
        "from sklearn.preprocessing import LabelEncoder\n",
        "le=LabelEncoder()\n",
        "y=le.fit_transform(y)\n"
      ],
      "execution_count": 41,
      "outputs": []
    },
    {
      "cell_type": "code",
      "metadata": {
        "id": "KwXKaHdMafCR"
      },
      "source": [
        "#One hot encoding\n",
        "columns=['workclass', 'education', 'marital-status', 'occupation',\n",
        "       'relationship', 'race', 'gender', 'native-country']\n",
        "\n",
        "from sklearn.preprocessing import OneHotEncoder\n",
        "ohe=OneHotEncoder()\n",
        "for i in columns:\n",
        "  X[i]=le.fit_transform(X[i])"
      ],
      "execution_count": 42,
      "outputs": []
    },
    {
      "cell_type": "code",
      "metadata": {
        "colab": {
          "base_uri": "https://localhost:8080/",
          "height": 197
        },
        "id": "NxqPcGVg4shY",
        "outputId": "fca8f956-a7a5-4651-87fb-85de4e6b6710"
      },
      "source": [
        "X=X.drop(['capital-loss'],axis=1)\n",
        "X.head()"
      ],
      "execution_count": 43,
      "outputs": [
        {
          "output_type": "execute_result",
          "data": {
            "text/html": [
              "<div>\n",
              "<style scoped>\n",
              "    .dataframe tbody tr th:only-of-type {\n",
              "        vertical-align: middle;\n",
              "    }\n",
              "\n",
              "    .dataframe tbody tr th {\n",
              "        vertical-align: top;\n",
              "    }\n",
              "\n",
              "    .dataframe thead th {\n",
              "        text-align: right;\n",
              "    }\n",
              "</style>\n",
              "<table border=\"1\" class=\"dataframe\">\n",
              "  <thead>\n",
              "    <tr style=\"text-align: right;\">\n",
              "      <th></th>\n",
              "      <th>age</th>\n",
              "      <th>workclass</th>\n",
              "      <th>fnlwgt</th>\n",
              "      <th>education</th>\n",
              "      <th>educational-num</th>\n",
              "      <th>marital-status</th>\n",
              "      <th>occupation</th>\n",
              "      <th>relationship</th>\n",
              "      <th>race</th>\n",
              "      <th>gender</th>\n",
              "      <th>capital-gain</th>\n",
              "      <th>hours-per-week</th>\n",
              "      <th>native-country</th>\n",
              "    </tr>\n",
              "  </thead>\n",
              "  <tbody>\n",
              "    <tr>\n",
              "      <th>0</th>\n",
              "      <td>0.177778</td>\n",
              "      <td>0</td>\n",
              "      <td>0.582766</td>\n",
              "      <td>1</td>\n",
              "      <td>0.1</td>\n",
              "      <td>1</td>\n",
              "      <td>6</td>\n",
              "      <td>3</td>\n",
              "      <td>2</td>\n",
              "      <td>1</td>\n",
              "      <td>0.000000</td>\n",
              "      <td>0.50</td>\n",
              "      <td>38</td>\n",
              "    </tr>\n",
              "    <tr>\n",
              "      <th>1</th>\n",
              "      <td>0.466667</td>\n",
              "      <td>0</td>\n",
              "      <td>0.208513</td>\n",
              "      <td>11</td>\n",
              "      <td>0.3</td>\n",
              "      <td>0</td>\n",
              "      <td>4</td>\n",
              "      <td>0</td>\n",
              "      <td>4</td>\n",
              "      <td>1</td>\n",
              "      <td>0.000000</td>\n",
              "      <td>0.75</td>\n",
              "      <td>38</td>\n",
              "    </tr>\n",
              "    <tr>\n",
              "      <th>2</th>\n",
              "      <td>0.244444</td>\n",
              "      <td>2</td>\n",
              "      <td>0.883695</td>\n",
              "      <td>7</td>\n",
              "      <td>0.6</td>\n",
              "      <td>0</td>\n",
              "      <td>10</td>\n",
              "      <td>0</td>\n",
              "      <td>4</td>\n",
              "      <td>1</td>\n",
              "      <td>0.000000</td>\n",
              "      <td>0.50</td>\n",
              "      <td>38</td>\n",
              "    </tr>\n",
              "    <tr>\n",
              "      <th>3</th>\n",
              "      <td>0.600000</td>\n",
              "      <td>0</td>\n",
              "      <td>0.401145</td>\n",
              "      <td>15</td>\n",
              "      <td>0.4</td>\n",
              "      <td>0</td>\n",
              "      <td>6</td>\n",
              "      <td>0</td>\n",
              "      <td>2</td>\n",
              "      <td>1</td>\n",
              "      <td>0.076881</td>\n",
              "      <td>0.50</td>\n",
              "      <td>38</td>\n",
              "    </tr>\n",
              "    <tr>\n",
              "      <th>5</th>\n",
              "      <td>0.377778</td>\n",
              "      <td>0</td>\n",
              "      <td>0.505972</td>\n",
              "      <td>0</td>\n",
              "      <td>0.0</td>\n",
              "      <td>1</td>\n",
              "      <td>7</td>\n",
              "      <td>1</td>\n",
              "      <td>4</td>\n",
              "      <td>1</td>\n",
              "      <td>0.000000</td>\n",
              "      <td>0.25</td>\n",
              "      <td>38</td>\n",
              "    </tr>\n",
              "  </tbody>\n",
              "</table>\n",
              "</div>"
            ],
            "text/plain": [
              "        age  workclass    fnlwgt  ...  capital-gain  hours-per-week  native-country\n",
              "0  0.177778          0  0.582766  ...      0.000000            0.50              38\n",
              "1  0.466667          0  0.208513  ...      0.000000            0.75              38\n",
              "2  0.244444          2  0.883695  ...      0.000000            0.50              38\n",
              "3  0.600000          0  0.401145  ...      0.076881            0.50              38\n",
              "5  0.377778          0  0.505972  ...      0.000000            0.25              38\n",
              "\n",
              "[5 rows x 13 columns]"
            ]
          },
          "metadata": {
            "tags": []
          },
          "execution_count": 43
        }
      ]
    },
    {
      "cell_type": "markdown",
      "metadata": {
        "id": "mzj87lWI42v3"
      },
      "source": [
        "### Implement Machine Learning Models"
      ]
    },
    {
      "cell_type": "markdown",
      "metadata": {
        "id": "LrhE3-8hOpwD"
      },
      "source": [
        "#### Logistic Regression"
      ]
    },
    {
      "cell_type": "markdown",
      "metadata": {
        "id": "tYWp3aeJOluy"
      },
      "source": [
        "Applying Logistic Regression with L1 regularization "
      ]
    },
    {
      "cell_type": "code",
      "metadata": {
        "id": "EcYblo10N7z6"
      },
      "source": [
        "import numpy as np\n",
        "import pandas as pd\n",
        "import math\n",
        "import matplotlib.pyplot as plt\n",
        "from sklearn.model_selection  import train_test_split\n",
        "from sklearn.metrics import accuracy_score\n",
        "from sklearn.model_selection  import cross_val_score\n",
        "from collections import Counter\n",
        "from sklearn.metrics import accuracy_score\n",
        "from sklearn import model_selection\n",
        "from sklearn.metrics import roc_auc_score\n",
        "from sklearn.linear_model import LogisticRegression\n",
        "from sklearn.preprocessing import StandardScaler\n",
        "\n",
        "X_1, X_test, y_1, y_test = train_test_split(X, y, test_size=0.3, random_state=0)\n",
        "X_train, X_cv, y_train, y_cv = train_test_split(X_1, y_1, test_size=0.3)"
      ],
      "execution_count": 48,
      "outputs": []
    },
    {
      "cell_type": "code",
      "metadata": {
        "colab": {
          "base_uri": "https://localhost:8080/",
          "height": 312
        },
        "id": "2XLwDdsiO4hk",
        "outputId": "ff428c36-5acf-40b7-ed50-9e070a6fb89f"
      },
      "source": [
        "scalar = StandardScaler(with_mean=False)\n",
        "X_train = scalar.fit_transform(X_train)\n",
        "X_test= scalar.transform(X_test)\n",
        "X_cv=scalar.transform(X_cv)\n",
        "\n",
        "C = [10**-3, 10**-2, 10**0, 10**2,10**3,10**4]#C=1/lambda\n",
        "auc_train=[]\n",
        "auc_cv=[]\n",
        "for c in C:\n",
        "    lr=LogisticRegression(penalty='l1',C=c,solver='saga')\n",
        "    lr.fit(X_train,y_train)\n",
        "    probcv=lr.predict_proba(X_cv)[:,1]\n",
        "    auc_cv.append(roc_auc_score(y_cv,probcv))\n",
        "    probtr=lr.predict_proba(X_train)[:,1]\n",
        "    auc_train.append(roc_auc_score(y_train,probtr))\n",
        "optimal_c= C[auc_cv.index(max(auc_cv))]\n",
        "C=[math.log(x) for x in C]#converting values of C into logarithm\n",
        "fig = plt.figure()\n",
        "ax = plt.subplot(111)\n",
        "ax.plot(C, auc_train, label='AUC train')\n",
        "ax.plot(C, auc_cv, label='AUC CV')\n",
        "plt.title('AUC vs hyperparameter')\n",
        "plt.xlabel('C (1/lambda)')\n",
        "plt.ylabel('AUC')\n",
        "ax.legend()\n",
        "plt.show()\n",
        "print('optimal lambda for which auc is maximum : ',1//optimal_c)"
      ],
      "execution_count": 46,
      "outputs": [
        {
          "output_type": "display_data",
          "data": {
            "image/png": "[encoded data removed]",
            "text/plain": [
              "<Figure size 432x288 with 1 Axes>"
            ]
          },
          "metadata": {
            "tags": [],
            "needs_background": "light"
          }
        },
        {
          "output_type": "stream",
          "text": [
            "optimal lambda for which auc is maximum :  1\n"
          ],
          "name": "stdout"
        }
      ]
    },
    {
      "cell_type": "code",
      "metadata": {
        "colab": {
          "base_uri": "https://localhost:8080/",
          "height": 330
        },
        "id": "wCObnVFrPIQa",
        "outputId": "bf0c749a-0d1a-48c2-af81-68a2e36650bf"
      },
      "source": [
        "#ROC for lambda=1\n",
        "from sklearn import metrics\n",
        "lr=LogisticRegression(penalty='l1',C=0.1,solver='saga')\n",
        "lr.fit(X_train,y_train)\n",
        "predi=lr.predict_proba(X_test)[:,1]\n",
        "fpr1, tpr1, thresholds1 = metrics.roc_curve(y_test, predi)\n",
        "pred=lr.predict_proba(X_train)[:,1]\n",
        "fpr2,tpr2,thresholds2=metrics.roc_curve(y_train,pred)\n",
        "fig = plt.figure()\n",
        "ax = plt.subplot(111)\n",
        "ax.plot(fpr1, tpr1, label='Test ROC ,auc='+str(roc_auc_score(y_test,predi)))\n",
        "ax.plot(fpr2, tpr2, label='Train ROC ,auc='+str(roc_auc_score(y_train,pred)))\n",
        "plt.title('ROC')\n",
        "plt.xlabel('FPR')\n",
        "plt.ylabel('TPR')\n",
        "ax.legend()\n",
        "plt.show()"
      ],
      "execution_count": 50,
      "outputs": [
        {
          "output_type": "stream",
          "text": [
            "/usr/local/lib/python3.7/dist-packages/sklearn/linear_model/_sag.py:330: ConvergenceWarning: The max_iter was reached which means the coef_ did not converge\n",
            "  \"the coef_ did not converge\", ConvergenceWarning)\n"
          ],
          "name": "stderr"
        },
        {
          "output_type": "display_data",
          "data": {
            "image/png": "[encoded data removed]",
            "text/plain": [
              "<Figure size 432x288 with 1 Axes>"
            ]
          },
          "metadata": {
            "tags": [],
            "needs_background": "light"
          }
        }
      ]
    },
    {
      "cell_type": "markdown",
      "metadata": {
        "id": "nkZLsuiOPuLi"
      },
      "source": [
        "* Train=88.312\n",
        "* Test=87.500"
      ]
    },
    {
      "cell_type": "code",
      "metadata": {
        "colab": {
          "base_uri": "https://localhost:8080/",
          "height": 294
        },
        "id": "NLs5kpfjTjvW",
        "outputId": "39c3722b-b5a5-4835-ba7f-3cdcfcab9d81"
      },
      "source": [
        "#Confusion matrix using heatmap for test data\n",
        "from sklearn.metrics import confusion_matrix\n",
        "lr=LogisticRegression(penalty='l1',C=optimal_c,solver='saga')\n",
        "lr.fit(X_train,y_train)\n",
        "predic=lr.predict(X_test)\n",
        "import seaborn as sns\n",
        "conf_mat = confusion_matrix(y_test, predic)\n",
        "class_label = [\"negative\", \"positive\"]\n",
        "df = pd.DataFrame(conf_mat, index = class_label, columns = class_label)\n",
        "sns.heatmap(df, annot = True,fmt=\"d\")\n",
        "plt.title(\"Confusion Matrix\")\n",
        "plt.xlabel(\"Predicted Label\")\n",
        "plt.ylabel(\"True Label\")\n",
        "plt.show()"
      ],
      "execution_count": 55,
      "outputs": [
        {
          "output_type": "display_data",
          "data": {
            "image/png": "[encoded data removed]",
            "text/plain": [
              "<Figure size 432x288 with 2 Axes>"
            ]
          },
          "metadata": {
            "tags": [],
            "needs_background": "light"
          }
        }
      ]
    },
    {
      "cell_type": "markdown",
      "metadata": {
        "id": "B970Kta0SiU6"
      },
      "source": [
        "Applying Logistic Regression with L2 regularization "
      ]
    },
    {
      "cell_type": "code",
      "metadata": {
        "id": "cIoii-lTSr4h"
      },
      "source": [
        "import numpy as np\n",
        "import pandas as pd\n",
        "import math\n",
        "import matplotlib.pyplot as plt\n",
        "from sklearn.model_selection  import train_test_split\n",
        "from sklearn.metrics import accuracy_score\n",
        "from sklearn.model_selection  import cross_val_score\n",
        "from collections import Counter\n",
        "from sklearn.metrics import accuracy_score\n",
        "from sklearn import model_selection\n",
        "from sklearn.metrics import roc_auc_score\n",
        "from sklearn.linear_model import LogisticRegression\n",
        "from sklearn.preprocessing import StandardScaler"
      ],
      "execution_count": 52,
      "outputs": []
    },
    {
      "cell_type": "code",
      "metadata": {
        "colab": {
          "base_uri": "https://localhost:8080/",
          "height": 312
        },
        "id": "7lGInbqmS_05",
        "outputId": "58cabd4f-f737-4c49-ab1a-4c7d9ead5e04"
      },
      "source": [
        "scalar = StandardScaler(with_mean=False)\n",
        "X_train = scalar.fit_transform(X_train)\n",
        "X_test= scalar.transform(X_test)\n",
        "X_cv=scalar.transform(X_cv)\n",
        "C = [10**-4,10**-3, 10**-2, 10**0, 10**2,10**3,10**4]#C=1/lambda\n",
        "auc_train=[]\n",
        "auc_cv=[]\n",
        "for c in C:\n",
        "    lr=LogisticRegression(penalty='l2',C=c)\n",
        "    lr.fit(X_train,y_train)\n",
        "    probcv=lr.predict_proba(X_cv)[:,1]\n",
        "    auc_cv.append(roc_auc_score(y_cv,probcv))\n",
        "    probtr=lr.predict_proba(X_train)[:,1]\n",
        "    auc_train.append(roc_auc_score(y_train,probtr))\n",
        "optimal_c= C[auc_cv.index(max(auc_cv))]\n",
        "C=[math.log(x) for x in C]#converting values of C into logarithm\n",
        "fig = plt.figure()\n",
        "ax = plt.subplot(111)\n",
        "ax.plot(C, auc_train, label='AUC train')\n",
        "ax.plot(C, auc_cv, label='AUC CV')\n",
        "plt.title('AUC vs hyperparameter')\n",
        "plt.xlabel('C (1/lambda)')\n",
        "plt.ylabel('AUC')\n",
        "ax.legend()\n",
        "plt.show()\n",
        "print('optimal lambda for which auc is maximum : ',1//optimal_c)"
      ],
      "execution_count": 53,
      "outputs": [
        {
          "output_type": "display_data",
          "data": {
            "image/png": "[encoded data removed]",
            "text/plain": [
              "<Figure size 432x288 with 1 Axes>"
            ]
          },
          "metadata": {
            "tags": [],
            "needs_background": "light"
          }
        },
        {
          "output_type": "stream",
          "text": [
            "optimal lambda for which auc is maximum :  0\n"
          ],
          "name": "stdout"
        }
      ]
    },
    {
      "cell_type": "code",
      "metadata": {
        "colab": {
          "base_uri": "https://localhost:8080/",
          "height": 294
        },
        "id": "p7mTAiAGTigS",
        "outputId": "f2594a82-e048-4cf6-d905-13292a24f656"
      },
      "source": [
        "#ROC for lambda=0\n",
        "lr=LogisticRegression(penalty='l2',C=optimal_c)\n",
        "lr.fit(X_train,y_train)\n",
        "predi=lr.predict_proba(X_test)[:,1]\n",
        "fpr1, tpr1, thresholds1 = metrics.roc_curve(y_test, predi)\n",
        "pred=lr.predict_proba(X_train)[:,1]\n",
        "fpr2,tpr2,thresholds2=metrics.roc_curve(y_train,pred)\n",
        "fig = plt.figure()\n",
        "ax = plt.subplot(111)\n",
        "ax.plot(fpr1, tpr1, label='Test ROC ,auc='+str(roc_auc_score(y_test,predi)))\n",
        "ax.plot(fpr2, tpr2, label='Train ROC ,auc='+str(roc_auc_score(y_train,pred)))\n",
        "plt.title('ROC')\n",
        "plt.xlabel('FPR')\n",
        "plt.ylabel('TPR')\n",
        "ax.legend()\n",
        "plt.show()"
      ],
      "execution_count": 56,
      "outputs": [
        {
          "output_type": "display_data",
          "data": {
            "image/png": "[encoded data removed]",
            "text/plain": [
              "<Figure size 432x288 with 1 Axes>"
            ]
          },
          "metadata": {
            "tags": [],
            "needs_background": "light"
          }
        }
      ]
    },
    {
      "cell_type": "markdown",
      "metadata": {
        "id": "oHlcmE99UCIA"
      },
      "source": [
        "* Train=89.364\n",
        "* Test=88.501"
      ]
    },
    {
      "cell_type": "markdown",
      "metadata": {
        "id": "LnXXhg2EUK-K"
      },
      "source": [
        "#### SVM"
      ]
    },
    {
      "cell_type": "markdown",
      "metadata": {
        "id": "542wUyZLUVjp"
      },
      "source": [
        "##### Applying Linear SVM"
      ]
    },
    {
      "cell_type": "code",
      "metadata": {
        "id": "khrp4CqTU_LQ"
      },
      "source": [
        "#Splitting preprocessed reviews into train,cross validation and test\n",
        "import numpy as np\n",
        "import pandas as pd\n",
        "import math\n",
        "import matplotlib.pyplot as plt\n",
        "from sklearn.model_selection  import train_test_split\n",
        "from sklearn.metrics import accuracy_score\n",
        "from sklearn.model_selection  import cross_val_score\n",
        "from collections import Counter\n",
        "from sklearn.metrics import accuracy_score\n",
        "from sklearn import model_selection\n",
        "from sklearn.metrics import roc_auc_score\n",
        "from sklearn.linear_model import LogisticRegression\n",
        "from sklearn.preprocessing import StandardScaler\n",
        "from sklearn.calibration import CalibratedClassifierCV\n",
        "from sklearn.svm import SVC\n",
        "from sklearn.linear_model import SGDClassifier"
      ],
      "execution_count": 57,
      "outputs": []
    },
    {
      "cell_type": "code",
      "metadata": {
        "colab": {
          "base_uri": "https://localhost:8080/",
          "height": 312
        },
        "id": "FCJ-7kyPVFlR",
        "outputId": "57b1ae36-713b-46dc-c6f3-033ac2b5a2d4"
      },
      "source": [
        "scalar = StandardScaler(with_mean=False)\n",
        "X_train = scalar.fit_transform(X_train)\n",
        "X_test= scalar.transform(X_test)\n",
        "X_cv=scalar.transform(X_cv)\n",
        "\n",
        "alpha = [10**-4, 10**-3,10**-2,10**-1,1,10,10**2,10**3,10**4]#alpha=1/C\n",
        "auc_train=[]\n",
        "auc_cv=[]\n",
        "for a in alpha:\n",
        "    model=SGDClassifier(alpha=a) #loss default hinge\n",
        "    svm=CalibratedClassifierCV(model, cv=3) #calibrated classifier cv for calculation of predic_proba\n",
        "    svm.fit(X_train,y_train)\n",
        "    probcv=svm.predict_proba(X_cv)[:,1]\n",
        "    auc_cv.append(roc_auc_score(y_cv,probcv))\n",
        "    probtr=svm.predict_proba(X_train)[:,1]\n",
        "    auc_train.append(roc_auc_score(y_train,probtr))\n",
        "optimal_alpha= alpha[auc_cv.index(max(auc_cv))]\n",
        "alpha=[math.log(x) for x in alpha]#converting values of alpha into logarithm\n",
        "fig = plt.figure()\n",
        "ax = plt.subplot(111)\n",
        "ax.plot(alpha, auc_train, label='AUC train')\n",
        "ax.plot(alpha, auc_cv, label='AUC CV')\n",
        "plt.title('AUC vs hyperparameter')\n",
        "plt.xlabel('alpha')\n",
        "plt.ylabel('AUC')\n",
        "ax.legend()\n",
        "plt.show()\n",
        "print('optimal alpha for which auc is maximum : ',optimal_alpha)"
      ],
      "execution_count": 58,
      "outputs": [
        {
          "output_type": "display_data",
          "data": {
            "image/png": "[encoded data removed]",
            "text/plain": [
              "<Figure size 432x288 with 1 Axes>"
            ]
          },
          "metadata": {
            "tags": [],
            "needs_background": "light"
          }
        },
        {
          "output_type": "stream",
          "text": [
            "optimal alpha for which auc is maximum :  0.001\n"
          ],
          "name": "stdout"
        }
      ]
    },
    {
      "cell_type": "code",
      "metadata": {
        "colab": {
          "base_uri": "https://localhost:8080/",
          "height": 294
        },
        "id": "s8QWZxoTVdXw",
        "outputId": "8f6d88b8-b92b-4083-92c7-feba3013d0cd"
      },
      "source": [
        "\n",
        "#training our model for alpha=0.001\n",
        "#ROC curve\n",
        "model=SGDClassifier(alpha=0.001)\n",
        "svm=CalibratedClassifierCV(model, cv=3)\n",
        "svm.fit(X_train,y_train)\n",
        "predi=svm.predict_proba(X_test)[:,1]\n",
        "fpr1, tpr1, thresholds1 = metrics.roc_curve(y_test, predi)\n",
        "pred=svm.predict_proba(X_train)[:,1]\n",
        "fpr2,tpr2,thresholds2=metrics.roc_curve(y_train,pred)\n",
        "fig = plt.figure()\n",
        "ax = plt.subplot(111)\n",
        "ax.plot(fpr1, tpr1, label='Test ROC ,auc='+str(roc_auc_score(y_test,predi)))\n",
        "ax.plot(fpr2, tpr2, label='Train ROC ,auc='+str(roc_auc_score(y_train,pred)))\n",
        "plt.title('ROC')\n",
        "plt.xlabel('FPR')\n",
        "plt.ylabel('TPR')\n",
        "ax.legend()\n",
        "plt.show()"
      ],
      "execution_count": 61,
      "outputs": [
        {
          "output_type": "display_data",
          "data": {
            "image/png": "[encoded data removed]",
            "text/plain": [
              "<Figure size 432x288 with 1 Axes>"
            ]
          },
          "metadata": {
            "tags": [],
            "needs_background": "light"
          }
        }
      ]
    },
    {
      "cell_type": "markdown",
      "metadata": {
        "id": "f6DeVJ51a7fY"
      },
      "source": [
        "* Train=88.154\n",
        "*Test=88.259"
      ]
    },
    {
      "cell_type": "markdown",
      "metadata": {
        "id": "saaj6O9XbCeA"
      },
      "source": [
        "### Applying Decision Trees"
      ]
    },
    {
      "cell_type": "code",
      "metadata": {
        "id": "FEUh67Q9b583"
      },
      "source": [
        "import numpy as np\n",
        "import pandas as pd\n",
        "import math\n",
        "import matplotlib.pyplot as plt\n",
        "from sklearn.model_selection  import train_test_split\n",
        "from sklearn.metrics import accuracy_score\n",
        "from sklearn.model_selection  import cross_val_score\n",
        "from collections import Counter\n",
        "from sklearn.metrics import accuracy_score\n",
        "from sklearn import model_selection\n",
        "from sklearn.metrics import roc_auc_score\n",
        "from sklearn.linear_model import LogisticRegression\n",
        "from sklearn.preprocessing import StandardScaler\n",
        "from sklearn.calibration import CalibratedClassifierCV\n",
        "from sklearn.svm import SVC\n",
        "from sklearn.tree import DecisionTreeClassifier"
      ],
      "execution_count": 62,
      "outputs": []
    },
    {
      "cell_type": "code",
      "metadata": {
        "colab": {
          "base_uri": "https://localhost:8080/",
          "height": 330
        },
        "id": "08klq0dLcBag",
        "outputId": "89263fdf-9c9f-4773-ea8b-9966c11fd3cc"
      },
      "source": [
        "scalar = StandardScaler(with_mean=False)\n",
        "X_train = scalar.fit_transform(X_train)\n",
        "X_test= scalar.transform(X_test)\n",
        "X_cv=scalar.transform(X_cv)\n",
        "\n",
        "depths=[1,5,10,50,100,500,1000]\n",
        "best_m=[]\n",
        "min_samples=[2,5,10,15,100,500]\n",
        "auc_train=[]\n",
        "auc_cv=[]\n",
        "for d in depths:\n",
        "    ms,rc=0,0\n",
        "    for m in min_samples:\n",
        "        dt=DecisionTreeClassifier(max_depth=d,min_samples_split=m)\n",
        "        dt.fit(X_train,y_train)\n",
        "        probc=dt.predict_proba(X_cv)[:,1]\n",
        "        val=roc_auc_score(y_cv,probc)\n",
        "        if val>rc:\n",
        "            rc=val\n",
        "            ms=m\n",
        "    dt=DecisionTreeClassifier(max_depth=d,min_samples_split=ms)\n",
        "    dt.fit(X_train,y_train)\n",
        "    probcv=dt.predict_proba(X_cv)[:,1]\n",
        "    auc_cv.append(roc_auc_score(y_cv,probcv))\n",
        "    best_m.append(ms)\n",
        "    probtr=dt.predict_proba(X_train)[:,1]\n",
        "    auc_train.append(roc_auc_score(y_train,probtr))\n",
        "\n",
        "        \n",
        "        \n",
        "    \n",
        "optimal_depth= depths[auc_cv.index(max(auc_cv))]\n",
        "optimal_min_samples_split=best_m[auc_cv.index(max(auc_cv))]\n",
        "\n",
        "fig = plt.figure()\n",
        "ax = plt.subplot(111)\n",
        "ax.plot(depths, auc_train, label='AUC train')\n",
        "ax.plot(depths, auc_cv, label='AUC CV')\n",
        "plt.title('AUC vs hyperparameter(depths)')\n",
        "plt.xlabel('depths')\n",
        "plt.ylabel('AUC')\n",
        "ax.legend()\n",
        "plt.show()\n",
        "print('optimal depth for which auc is maximum : ',optimal_depth)\n",
        "print('optimal minimum samples split for which auc is maximum : ',optimal_min_samples_split)"
      ],
      "execution_count": 63,
      "outputs": [
        {
          "output_type": "display_data",
          "data": {
            "image/png": "[encoded data removed]",
            "text/plain": [
              "<Figure size 432x288 with 1 Axes>"
            ]
          },
          "metadata": {
            "tags": [],
            "needs_background": "light"
          }
        },
        {
          "output_type": "stream",
          "text": [
            "optimal depth for which auc is maximum :  10\n",
            "optimal minimum samples split for which auc is maximum :  500\n"
          ],
          "name": "stdout"
        }
      ]
    },
    {
      "cell_type": "code",
      "metadata": {
        "colab": {
          "base_uri": "https://localhost:8080/",
          "height": 295
        },
        "id": "uxxH4eYtdWJh",
        "outputId": "5f9da37b-fbd7-4664-b2a2-cb03c643d664"
      },
      "source": [
        "auc_train_m=[]\n",
        "auc_cv_m=[]\n",
        "for m in min_samples:\n",
        "    dp,rc=0,0\n",
        "    for d in depths:\n",
        "        dt=DecisionTreeClassifier(max_depth=d,min_samples_split=m)\n",
        "        dt.fit(X_train,y_train)\n",
        "        probc=dt.predict_proba(X_cv)[:,1]\n",
        "        val=roc_auc_score(y_cv,probc)\n",
        "        if val>rc:\n",
        "            rc=val\n",
        "            dp=d\n",
        "    dt=DecisionTreeClassifier(max_depth=dp,min_samples_split=m)\n",
        "    dt.fit(X_train,y_train)\n",
        "    probcv=dt.predict_proba(X_cv)[:,1]\n",
        "    auc_cv_m.append(roc_auc_score(y_cv,probcv))\n",
        "    best_m.append(ms)\n",
        "    probtr=dt.predict_proba(X_train)[:,1]\n",
        "    auc_train_m.append(roc_auc_score(y_train,probtr))\n",
        "\n",
        "fig = plt.figure()\n",
        "ax = plt.subplot(111)\n",
        "ax.plot(min_samples, auc_train_m, label='AUC train')\n",
        "ax.plot(min_samples, auc_cv_m, label='AUC CV')\n",
        "plt.title('AUC vs hyperparameter(min_samples)')\n",
        "plt.xlabel('min_samples')\n",
        "plt.ylabel('AUC')\n",
        "ax.legend()\n",
        "plt.show()"
      ],
      "execution_count": 66,
      "outputs": [
        {
          "output_type": "display_data",
          "data": {
            "image/png": "[encoded data removed]",
            "text/plain": [
              "<Figure size 432x288 with 1 Axes>"
            ]
          },
          "metadata": {
            "tags": [],
            "needs_background": "light"
          }
        }
      ]
    },
    {
      "cell_type": "code",
      "metadata": {
        "colab": {
          "base_uri": "https://localhost:8080/",
          "height": 294
        },
        "id": "odLJH3lDdtH3",
        "outputId": "53ff708d-2c37-4a94-f2f1-4765df223cf1"
      },
      "source": [
        "#training our model for max_depth=10,min_samples_split=500\n",
        "#ROC curve\n",
        "dt=DecisionTreeClassifier(max_depth=10,min_samples_split=500)\n",
        "dt.fit(X_train,y_train)\n",
        "predi=dt.predict_proba(X_test)[:,1]\n",
        "fpr1, tpr1, thresholds1 = metrics.roc_curve(y_test, predi)\n",
        "pred=dt.predict_proba(X_train)[:,1]\n",
        "fpr2,tpr2,thresholds2=metrics.roc_curve(y_train,pred)\n",
        "fig = plt.figure()\n",
        "ax = plt.subplot(111)\n",
        "ax.plot(fpr1, tpr1, label='Test ROC ,auc='+str(roc_auc_score(y_test,predi)))\n",
        "ax.plot(fpr2, tpr2, label='Train ROC ,auc='+str(roc_auc_score(y_train,pred)))\n",
        "plt.title('ROC')\n",
        "plt.xlabel('FPR')\n",
        "plt.ylabel('TPR')\n",
        "ax.legend()\n",
        "plt.show()"
      ],
      "execution_count": 67,
      "outputs": [
        {
          "output_type": "display_data",
          "data": {
            "image/png": "[encoded data removed]",
            "text/plain": [
              "<Figure size 432x288 with 1 Axes>"
            ]
          },
          "metadata": {
            "tags": [],
            "needs_background": "light"
          }
        }
      ]
    },
    {
      "cell_type": "markdown",
      "metadata": {
        "id": "r2mD_LJad7DX"
      },
      "source": [
        "* Train=90.675\n",
        "* Test=89.019"
      ]
    },
    {
      "cell_type": "markdown",
      "metadata": {
        "id": "5ChlASzZeEBv"
      },
      "source": [
        "### GBDT "
      ]
    },
    {
      "cell_type": "markdown",
      "metadata": {
        "id": "1ksrkLDagAji"
      },
      "source": [
        "##### Applying RF"
      ]
    },
    {
      "cell_type": "code",
      "metadata": {
        "id": "scelmDwyfX0I"
      },
      "source": [
        "#Splitting preprocessed reviews into train,cross validation and test\n",
        "import numpy as np\n",
        "import pandas as pd\n",
        "import math\n",
        "import matplotlib.pyplot as plt\n",
        "from sklearn.model_selection  import train_test_split\n",
        "from sklearn.metrics import accuracy_score\n",
        "from sklearn.model_selection  import cross_val_score\n",
        "from collections import Counter\n",
        "from sklearn.metrics import accuracy_score\n",
        "from sklearn import model_selection\n",
        "from sklearn.metrics import roc_auc_score\n",
        "from sklearn.linear_model import LogisticRegression\n",
        "from sklearn.preprocessing import StandardScaler\n",
        "from sklearn.calibration import CalibratedClassifierCV\n",
        "from sklearn.svm import SVC\n",
        "from sklearn.tree import DecisionTreeClassifier\n",
        "from sklearn.ensemble import RandomForestClassifier\n",
        "from sklearn.model_selection import GridSearchCV"
      ],
      "execution_count": 68,
      "outputs": []
    },
    {
      "cell_type": "code",
      "metadata": {
        "colab": {
          "base_uri": "https://localhost:8080/"
        },
        "id": "L6MeCFq6fqDv",
        "outputId": "4ca6ebcc-1861-445e-d636-b45a79c00a72"
      },
      "source": [
        "scalar = StandardScaler(with_mean=False)\n",
        "X_train = scalar.fit_transform(X_train)\n",
        "X_test= scalar.transform(X_test)\n",
        "X_cv=scalar.transform(X_cv)\n",
        "\n",
        "\n",
        "base_learners = [20,40,60,80,100,120]\n",
        "depths=[1,5,10,50,100,500,1000]\n",
        "param_grid={'n_estimators': base_learners, 'max_depth':depths}\n",
        "rf = RandomForestClassifier(max_features='sqrt')\n",
        "model=GridSearchCV(rf,param_grid,scoring='roc_auc',n_jobs=-1,cv=3)\n",
        "model.fit(X_train,y_train)\n",
        "print(\"optimal n_estimators\",model.best_estimator_.n_estimators)\n",
        "print(\"optimal max_depth\",model.best_estimator_.max_depth)"
      ],
      "execution_count": 69,
      "outputs": [
        {
          "output_type": "stream",
          "text": [
            "optimal n_estimators 80\n",
            "optimal max_depth 10\n"
          ],
          "name": "stdout"
        }
      ]
    },
    {
      "cell_type": "code",
      "metadata": {
        "colab": {
          "base_uri": "https://localhost:8080/",
          "height": 294
        },
        "id": "OA1VASwNgXZb",
        "outputId": "6ee0bb89-24a5-43d9-ea3e-9c5c478522dc"
      },
      "source": [
        "rf=RandomForestClassifier(max_features='sqrt',max_depth=10,n_estimators=80)\n",
        "rf.fit(X_train,y_train)\n",
        "predi=rf.predict_proba(X_test)[:,1]\n",
        "fpr1, tpr1, thresholds1 = metrics.roc_curve(y_test, predi)\n",
        "pred=rf.predict_proba(X_train)[:,1]\n",
        "fpr2,tpr2,thresholds2=metrics.roc_curve(y_train,pred)\n",
        "fig = plt.figure()\n",
        "ax = plt.subplot(111)\n",
        "ax.plot(fpr1, tpr1, label='Test ROC ,auc='+str(roc_auc_score(y_test,predi)))\n",
        "ax.plot(fpr2, tpr2, label='Train ROC ,auc='+str(roc_auc_score(y_train,pred)))\n",
        "plt.title('ROC')\n",
        "plt.xlabel('FPR')\n",
        "plt.ylabel('TPR')\n",
        "ax.legend()\n",
        "plt.show()"
      ],
      "execution_count": 70,
      "outputs": [
        {
          "output_type": "display_data",
          "data": {
            "image/png": "[encoded data removed]",
            "text/plain": [
              "<Figure size 432x288 with 1 Axes>"
            ]
          },
          "metadata": {
            "tags": [],
            "needs_background": "light"
          }
        }
      ]
    },
    {
      "cell_type": "markdown",
      "metadata": {
        "id": "O1HJqhvGgiuZ"
      },
      "source": [
        "* Train=93.502\n",
        "* Test=90.317"
      ]
    },
    {
      "cell_type": "markdown",
      "metadata": {
        "id": "UFGWgTiXgpvX"
      },
      "source": [
        "##### Applying XGBOOST"
      ]
    },
    {
      "cell_type": "code",
      "metadata": {
        "colab": {
          "base_uri": "https://localhost:8080/",
          "height": 331
        },
        "id": "yyLOtR8pg1VB",
        "outputId": "d5ca9291-bc59-4014-fbe4-86aa15f87a4b"
      },
      "source": [
        "from xgboost import XGBClassifier\n",
        "\n",
        "scalar = StandardScaler(with_mean=False)\n",
        "X_train = scalar.fit_transform(X_train)\n",
        "X_test= scalar.transform(X_test)\n",
        "X_cv=scalar.transform(X_cv)\n",
        "\n",
        "base_learners = [20,40,60,80,100,120]\n",
        "depths=[1,5,10,50,100,500,1000]\n",
        "\n",
        "import seaborn as sns\n",
        "X=[]\n",
        "Y=[]\n",
        "Z=[]\n",
        "Zt=[]\n",
        "for bl in base_learners:\n",
        "    for d in depths:\n",
        "        gbdt=XGBClassifier(booster='gbtree' ,max_depth=d,n_estimators=bl)\n",
        "        \n",
        "        gbdt.fit(X_train,y_train)\n",
        "        pred=gbdt.predict_proba(X_cv)[:,1]\n",
        "        predt=gbdt.predict_proba(X_train)[:,1]\n",
        "        X.append(bl)\n",
        "        Y.append(d)\n",
        "        Z.append(roc_auc_score(y_cv,pred))\n",
        "        Zt.append(roc_auc_score(y_train,predt))\n",
        "optimal_depth=Y[Z.index(max(Z))]   \n",
        "optimal_n_estimator=X[Z.index(max(Z))]\n",
        "\n",
        "print('optimal depth : ',optimal_depth)\n",
        "print('optimal n_estimator : ',optimal_n_estimator)\n",
        "        \n",
        "data = pd.DataFrame({'n_estimators': X, 'max_depth': Y, 'AUC': Z})\n",
        "data_pivoted = data.pivot(\"n_estimators\", \"max_depth\", \"AUC\")\n",
        "ax = sns.heatmap(data_pivoted,annot=True)\n",
        "plt.title('Heatmap for cross validation data')\n",
        "plt.show()"
      ],
      "execution_count": 73,
      "outputs": [
        {
          "output_type": "stream",
          "text": [
            "optimal depth :  5\n",
            "optimal n_estimator :  120\n"
          ],
          "name": "stdout"
        },
        {
          "output_type": "display_data",
          "data": {
            "image/png": "[encoded data removed]",
            "text/plain": [
              "<Figure size 432x288 with 2 Axes>"
            ]
          },
          "metadata": {
            "tags": [],
            "needs_background": "light"
          }
        }
      ]
    },
    {
      "cell_type": "code",
      "metadata": {
        "colab": {
          "base_uri": "https://localhost:8080/",
          "height": 294
        },
        "id": "2C7Umsxxkm3v",
        "outputId": "29a9f6ea-4cb8-4f84-f86a-e52adcea4bb7"
      },
      "source": [
        "gbdt=XGBClassifier(booster='gbtree' ,max_depth=optimal_depth,n_estimators=optimal_n_estimator)\n",
        "gbdt.fit(X_train,y_train)\n",
        "predi=gbdt.predict_proba(X_test)[:,1]\n",
        "fpr1, tpr1, thresholds1 = metrics.roc_curve(y_test, predi)\n",
        "pred=gbdt.predict_proba(X_train)[:,1]\n",
        "fpr2,tpr2,thresholds2=metrics.roc_curve(y_train,pred)\n",
        "fig = plt.figure()\n",
        "ax = plt.subplot(111)\n",
        "ax.plot(fpr1, tpr1, label='Test ROC ,auc='+str(roc_auc_score(y_test,predi)))\n",
        "ax.plot(fpr2, tpr2, label='Train ROC ,auc='+str(roc_auc_score(y_train,pred)))\n",
        "plt.title('ROC')\n",
        "plt.xlabel('FPR')\n",
        "plt.ylabel('TPR')\n",
        "ax.legend()\n",
        "plt.show()"
      ],
      "execution_count": 74,
      "outputs": [
        {
          "output_type": "display_data",
          "data": {
            "image/png": "[encoded data removed]",
            "text/plain": [
              "<Figure size 432x288 with 1 Axes>"
            ]
          },
          "metadata": {
            "tags": [],
            "needs_background": "light"
          }
        }
      ]
    },
    {
      "cell_type": "markdown",
      "metadata": {
        "id": "Du9zArigkzXo"
      },
      "source": [
        "* Train=93.539\n",
        "* Test=91.422"
      ]
    },
    {
      "cell_type": "markdown",
      "metadata": {
        "id": "2W3JVhXPk52p"
      },
      "source": [
        "### Naive Bayes"
      ]
    },
    {
      "cell_type": "code",
      "metadata": {
        "id": "IF4StEFQlFq3"
      },
      "source": [
        "import numpy as np\n",
        "import pandas as pd\n",
        "import math\n",
        "import matplotlib.pyplot as plt\n",
        "from sklearn.model_selection  import train_test_split\n",
        "from sklearn.metrics import accuracy_score\n",
        "from sklearn.model_selection  import cross_val_score\n",
        "from collections import Counter\n",
        "from sklearn.metrics import accuracy_score\n",
        "from sklearn import model_selection\n",
        "from sklearn.metrics import roc_auc_score\n",
        "from sklearn.naive_bayes import MultinomialNB"
      ],
      "execution_count": 75,
      "outputs": []
    },
    {
      "cell_type": "code",
      "metadata": {
        "colab": {
          "base_uri": "https://localhost:8080/",
          "height": 312
        },
        "id": "qEnjeyPMlOMW",
        "outputId": "13875a3c-36fc-442f-8576-3e2c97b8c397"
      },
      "source": [
        "\n",
        "scalar = StandardScaler(with_mean=False)\n",
        "X_train = scalar.fit_transform(X_train)\n",
        "X_test= scalar.transform(X_test)\n",
        "X_cv=scalar.transform(X_cv)\n",
        "\n",
        "auc_train=[]\n",
        "auc_cv=[]\n",
        "alpha_values = [0.00001,0.0001,0.001,0.01,0.1,1,10,100,1000,10000,100000]#alpha from 10^-5 to 10^5\n",
        "    \n",
        "for i in alpha_values:\n",
        "    mnb = MultinomialNB(alpha = i)\n",
        "    mnb.fit(X_train,y_train)\n",
        "    pred=mnb.predict_proba(X_cv)[:,1]\n",
        "    pred1=mnb.predict_proba(X_train)[:,1]\n",
        "    auc_train.append(roc_auc_score(y_train,pred1))\n",
        "    auc_cv.append(roc_auc_score(y_cv,pred))\n",
        "    \n",
        "optimal_alpha= alpha_values[auc_cv.index(max(auc_cv))]\n",
        "alpha_values=[math.log(x) for x in alpha_values]\n",
        "fig = plt.figure()\n",
        "ax = plt.subplot(111)\n",
        "ax.plot(alpha_values, auc_train, label='AUC train')\n",
        "ax.plot(alpha_values, auc_cv, label='AUC CV')\n",
        "plt.title('AUC vs hyperparameter')\n",
        "plt.xlabel('log(alpha)')\n",
        "plt.ylabel('AUC')\n",
        "ax.legend()\n",
        "plt.show()\n",
        "print('optimal alpha for which auc is maximum : ',optimal_alpha)"
      ],
      "execution_count": 78,
      "outputs": [
        {
          "output_type": "display_data",
          "data": {
            "image/png": "[encoded data removed]",
            "text/plain": [
              "<Figure size 432x288 with 1 Axes>"
            ]
          },
          "metadata": {
            "tags": [],
            "needs_background": "light"
          }
        },
        {
          "output_type": "stream",
          "text": [
            "optimal alpha for which auc is maximum :  0.001\n"
          ],
          "name": "stdout"
        }
      ]
    },
    {
      "cell_type": "code",
      "metadata": {
        "colab": {
          "base_uri": "https://localhost:8080/",
          "height": 294
        },
        "id": "0Ve1bMrrmUB3",
        "outputId": "c64d03e3-be00-4abb-8958-10c94937b8d6"
      },
      "source": [
        "#ROC for alpha =0.001\n",
        "mnb=MultinomialNB(alpha = 0.001)\n",
        "mnb.fit(X_train,y_train)\n",
        "predi=mnb.predict_proba(X_test)[:,1]\n",
        "fpr1, tpr1, thresholds1 = metrics.roc_curve(y_test, predi)\n",
        "pred=mnb.predict_proba(X_train)[:,1]\n",
        "fpr2,tpr2,thresholds2=metrics.roc_curve(y_train,pred)\n",
        "fig = plt.figure()\n",
        "ax = plt.subplot(111)\n",
        "ax.plot(fpr1, tpr1, label='Test ROC ,auc='+str(roc_auc_score(y_test,predi)))\n",
        "ax.plot(fpr2, tpr2, label='Train ROC ,auc='+str(roc_auc_score(y_train,pred)))\n",
        "plt.title('ROC')\n",
        "plt.xlabel('FPR')\n",
        "plt.ylabel('TPR')\n",
        "ax.legend()\n",
        "plt.show()"
      ],
      "execution_count": 79,
      "outputs": [
        {
          "output_type": "display_data",
          "data": {
            "image/png": "[encoded data removed]",
            "text/plain": [
              "<Figure size 432x288 with 1 Axes>"
            ]
          },
          "metadata": {
            "tags": [],
            "needs_background": "light"
          }
        }
      ]
    },
    {
      "cell_type": "markdown",
      "metadata": {
        "id": "FhEhqbHDmt7m"
      },
      "source": [
        "* Train=85.246\n",
        "* Test=84.351"
      ]
    },
    {
      "cell_type": "markdown",
      "metadata": {
        "id": "yAmb_SolmzLZ"
      },
      "source": [
        "### ANN"
      ]
    },
    {
      "cell_type": "code",
      "metadata": {
        "id": "vX3P1UVcnkb4"
      },
      "source": [
        "from  keras.models import Sequential\n",
        "from keras.layers import Dense,Dropout,Activation,BatchNormalization\n",
        "\n",
        "model = Sequential()"
      ],
      "execution_count": 85,
      "outputs": []
    },
    {
      "cell_type": "code",
      "metadata": {
        "id": "JmDMEe1tpWYc"
      },
      "source": [
        "# Block-1\n",
        "\n",
        "model.add(Dense(units=14, activation='relu'))\n",
        "model.add(BatchNormalization())\n",
        "model.add(Dense(units=14, activation='relu'))\n",
        "model.add(BatchNormalization())\n",
        "model.add(Dropout(0.2))\n",
        "\n",
        "\n",
        "# Block-2\n",
        "model.add(Dense(units=50, activation='relu'))\n",
        "model.add(BatchNormalization())\n",
        "model.add(Dense(units=50, activation='relu'))\n",
        "model.add(BatchNormalization())\n",
        "model.add(Dropout(0.2))\n",
        "\n",
        "## Block-3\n",
        "\n",
        "model.add(Dense(units=1, activation='sigmoid'))\n"
      ],
      "execution_count": 94,
      "outputs": []
    },
    {
      "cell_type": "code",
      "metadata": {
        "id": "dNkC3do_r3SQ"
      },
      "source": [
        "model.compile(optimizer = 'adam', loss = 'binary_crossentropy', metrics = ['accuracy'])"
      ],
      "execution_count": 95,
      "outputs": []
    },
    {
      "cell_type": "code",
      "metadata": {
        "colab": {
          "base_uri": "https://localhost:8080/"
        },
        "id": "WUcM0WF2q53E",
        "outputId": "786c4227-672c-4d04-ef49-92b6de4775ef"
      },
      "source": [
        "model.fit(X_train, y_train, batch_size = 100, epochs = 1000)"
      ],
      "execution_count": 96,
      "outputs": [
        {
          "output_type": "stream",
          "text": [
            "Epoch 1/1000\n",
            "222/222 [==============================] - 11s 11ms/step - loss: 0.4976 - accuracy: 0.7806\n",
            "Epoch 2/1000\n",
            "222/222 [==============================] - 2s 11ms/step - loss: 0.3608 - accuracy: 0.8310\n",
            "Epoch 3/1000\n",
            "222/222 [==============================] - 2s 11ms/step - loss: 0.3550 - accuracy: 0.8306\n",
            "Epoch 4/1000\n",
            "222/222 [==============================] - 2s 11ms/step - loss: 0.3388 - accuracy: 0.8399\n",
            "Epoch 5/1000\n",
            "222/222 [==============================] - 2s 11ms/step - loss: 0.3322 - accuracy: 0.8395\n",
            "Epoch 6/1000\n",
            "222/222 [==============================] - 2s 11ms/step - loss: 0.3381 - accuracy: 0.8392\n",
            "Epoch 7/1000\n",
            "222/222 [==============================] - 2s 11ms/step - loss: 0.3392 - accuracy: 0.8399\n",
            "Epoch 8/1000\n",
            "222/222 [==============================] - 2s 11ms/step - loss: 0.3300 - accuracy: 0.8435\n",
            "Epoch 9/1000\n",
            "222/222 [==============================] - 2s 11ms/step - loss: 0.3325 - accuracy: 0.8422\n",
            "Epoch 10/1000\n",
            "222/222 [==============================] - 2s 11ms/step - loss: 0.3301 - accuracy: 0.8447\n",
            "Epoch 11/1000\n",
            "222/222 [==============================] - 2s 11ms/step - loss: 0.3275 - accuracy: 0.8471\n",
            "Epoch 12/1000\n",
            "222/222 [==============================] - 2s 11ms/step - loss: 0.3362 - accuracy: 0.8448\n",
            "Epoch 13/1000\n",
            "222/222 [==============================] - 2s 11ms/step - loss: 0.3315 - accuracy: 0.8449\n",
            "Epoch 14/1000\n",
            "222/222 [==============================] - 2s 11ms/step - loss: 0.3282 - accuracy: 0.8456\n",
            "Epoch 15/1000\n",
            "222/222 [==============================] - 2s 11ms/step - loss: 0.3268 - accuracy: 0.8475\n",
            "Epoch 16/1000\n",
            "222/222 [==============================] - 2s 11ms/step - loss: 0.3317 - accuracy: 0.8451\n",
            "Epoch 17/1000\n",
            "222/222 [==============================] - 2s 11ms/step - loss: 0.3291 - accuracy: 0.8470\n",
            "Epoch 18/1000\n",
            "222/222 [==============================] - 2s 11ms/step - loss: 0.3197 - accuracy: 0.8471\n",
            "Epoch 19/1000\n",
            "222/222 [==============================] - 2s 11ms/step - loss: 0.3238 - accuracy: 0.8464\n",
            "Epoch 20/1000\n",
            "222/222 [==============================] - 2s 11ms/step - loss: 0.3275 - accuracy: 0.8436\n",
            "Epoch 21/1000\n",
            "222/222 [==============================] - 2s 11ms/step - loss: 0.3216 - accuracy: 0.8444\n",
            "Epoch 22/1000\n",
            "222/222 [==============================] - 2s 11ms/step - loss: 0.3272 - accuracy: 0.8447\n",
            "Epoch 23/1000\n",
            "222/222 [==============================] - 2s 11ms/step - loss: 0.3209 - accuracy: 0.8519\n",
            "Epoch 24/1000\n",
            "222/222 [==============================] - 2s 11ms/step - loss: 0.3281 - accuracy: 0.8432\n",
            "Epoch 25/1000\n",
            "222/222 [==============================] - 2s 11ms/step - loss: 0.3244 - accuracy: 0.8471\n",
            "Epoch 26/1000\n",
            "222/222 [==============================] - 2s 11ms/step - loss: 0.3194 - accuracy: 0.8505\n",
            "Epoch 27/1000\n",
            "222/222 [==============================] - 2s 11ms/step - loss: 0.3233 - accuracy: 0.8439\n",
            "Epoch 28/1000\n",
            "222/222 [==============================] - 2s 11ms/step - loss: 0.3243 - accuracy: 0.8482\n",
            "Epoch 29/1000\n",
            "222/222 [==============================] - 2s 11ms/step - loss: 0.3220 - accuracy: 0.8482\n",
            "Epoch 30/1000\n",
            "222/222 [==============================] - 2s 11ms/step - loss: 0.3182 - accuracy: 0.8492\n",
            "Epoch 31/1000\n",
            "222/222 [==============================] - 2s 11ms/step - loss: 0.3258 - accuracy: 0.8458\n",
            "Epoch 32/1000\n",
            "222/222 [==============================] - 2s 11ms/step - loss: 0.3294 - accuracy: 0.8422\n",
            "Epoch 33/1000\n",
            "222/222 [==============================] - 2s 11ms/step - loss: 0.3239 - accuracy: 0.8463\n",
            "Epoch 34/1000\n",
            "222/222 [==============================] - 2s 10ms/step - loss: 0.3150 - accuracy: 0.8496\n",
            "Epoch 35/1000\n",
            "222/222 [==============================] - 2s 11ms/step - loss: 0.3185 - accuracy: 0.8467\n",
            "Epoch 36/1000\n",
            "222/222 [==============================] - 2s 11ms/step - loss: 0.3262 - accuracy: 0.8437\n",
            "Epoch 37/1000\n",
            "222/222 [==============================] - 2s 11ms/step - loss: 0.3174 - accuracy: 0.8508\n",
            "Epoch 38/1000\n",
            "222/222 [==============================] - 2s 11ms/step - loss: 0.3207 - accuracy: 0.8493\n",
            "Epoch 39/1000\n",
            "222/222 [==============================] - 2s 11ms/step - loss: 0.3235 - accuracy: 0.8485\n",
            "Epoch 40/1000\n",
            "222/222 [==============================] - 2s 11ms/step - loss: 0.3205 - accuracy: 0.8472\n",
            "Epoch 41/1000\n",
            "222/222 [==============================] - 2s 11ms/step - loss: 0.3197 - accuracy: 0.8480\n",
            "Epoch 42/1000\n",
            "222/222 [==============================] - 2s 11ms/step - loss: 0.3244 - accuracy: 0.8481\n",
            "Epoch 43/1000\n",
            "222/222 [==============================] - 2s 11ms/step - loss: 0.3130 - accuracy: 0.8537\n",
            "Epoch 44/1000\n",
            "222/222 [==============================] - 2s 11ms/step - loss: 0.3154 - accuracy: 0.8492\n",
            "Epoch 45/1000\n",
            "222/222 [==============================] - 2s 11ms/step - loss: 0.3250 - accuracy: 0.8446\n",
            "Epoch 46/1000\n",
            "222/222 [==============================] - 2s 11ms/step - loss: 0.3179 - accuracy: 0.8498\n",
            "Epoch 47/1000\n",
            "222/222 [==============================] - 2s 11ms/step - loss: 0.3171 - accuracy: 0.8494\n",
            "Epoch 48/1000\n",
            "222/222 [==============================] - 2s 11ms/step - loss: 0.3138 - accuracy: 0.8528\n",
            "Epoch 49/1000\n",
            "222/222 [==============================] - 2s 11ms/step - loss: 0.3206 - accuracy: 0.8471\n",
            "Epoch 50/1000\n",
            "222/222 [==============================] - 2s 11ms/step - loss: 0.3146 - accuracy: 0.8540\n",
            "Epoch 51/1000\n",
            "222/222 [==============================] - 2s 11ms/step - loss: 0.3191 - accuracy: 0.8507\n",
            "Epoch 52/1000\n",
            "222/222 [==============================] - 2s 11ms/step - loss: 0.3154 - accuracy: 0.8504\n",
            "Epoch 53/1000\n",
            "222/222 [==============================] - 2s 11ms/step - loss: 0.3177 - accuracy: 0.8496\n",
            "Epoch 54/1000\n",
            "222/222 [==============================] - 2s 11ms/step - loss: 0.3174 - accuracy: 0.8495\n",
            "Epoch 55/1000\n",
            "222/222 [==============================] - 2s 11ms/step - loss: 0.3178 - accuracy: 0.8528\n",
            "Epoch 56/1000\n",
            "222/222 [==============================] - 2s 11ms/step - loss: 0.3098 - accuracy: 0.8530\n",
            "Epoch 57/1000\n",
            "222/222 [==============================] - 2s 11ms/step - loss: 0.3220 - accuracy: 0.8460\n",
            "Epoch 58/1000\n",
            "222/222 [==============================] - 3s 11ms/step - loss: 0.3092 - accuracy: 0.8562\n",
            "Epoch 59/1000\n",
            "222/222 [==============================] - 2s 11ms/step - loss: 0.3183 - accuracy: 0.8468\n",
            "Epoch 60/1000\n",
            "222/222 [==============================] - 2s 11ms/step - loss: 0.3114 - accuracy: 0.8542\n",
            "Epoch 61/1000\n",
            "222/222 [==============================] - 2s 11ms/step - loss: 0.3151 - accuracy: 0.8508\n",
            "Epoch 62/1000\n",
            "222/222 [==============================] - 2s 11ms/step - loss: 0.3130 - accuracy: 0.8501\n",
            "Epoch 63/1000\n",
            "222/222 [==============================] - 2s 11ms/step - loss: 0.3092 - accuracy: 0.8549\n",
            "Epoch 64/1000\n",
            "222/222 [==============================] - 2s 11ms/step - loss: 0.3180 - accuracy: 0.8510\n",
            "Epoch 65/1000\n",
            "222/222 [==============================] - 2s 11ms/step - loss: 0.3126 - accuracy: 0.8515\n",
            "Epoch 66/1000\n",
            "222/222 [==============================] - 2s 11ms/step - loss: 0.3118 - accuracy: 0.8500\n",
            "Epoch 67/1000\n",
            "222/222 [==============================] - 2s 11ms/step - loss: 0.3122 - accuracy: 0.8523\n",
            "Epoch 68/1000\n",
            "222/222 [==============================] - 2s 11ms/step - loss: 0.3123 - accuracy: 0.8524\n",
            "Epoch 69/1000\n",
            "222/222 [==============================] - 2s 11ms/step - loss: 0.3185 - accuracy: 0.8487\n",
            "Epoch 70/1000\n",
            "222/222 [==============================] - 2s 11ms/step - loss: 0.3127 - accuracy: 0.8482\n",
            "Epoch 71/1000\n",
            "222/222 [==============================] - 2s 11ms/step - loss: 0.3142 - accuracy: 0.8494\n",
            "Epoch 72/1000\n",
            "222/222 [==============================] - 2s 11ms/step - loss: 0.3173 - accuracy: 0.8479\n",
            "Epoch 73/1000\n",
            "222/222 [==============================] - 2s 11ms/step - loss: 0.3196 - accuracy: 0.8504\n",
            "Epoch 74/1000\n",
            "222/222 [==============================] - 2s 11ms/step - loss: 0.3141 - accuracy: 0.8531\n",
            "Epoch 75/1000\n",
            "222/222 [==============================] - 2s 11ms/step - loss: 0.3126 - accuracy: 0.8519\n",
            "Epoch 76/1000\n",
            "222/222 [==============================] - 2s 11ms/step - loss: 0.3122 - accuracy: 0.8507\n",
            "Epoch 77/1000\n",
            "222/222 [==============================] - 2s 11ms/step - loss: 0.3218 - accuracy: 0.8475\n",
            "Epoch 78/1000\n",
            "222/222 [==============================] - 2s 11ms/step - loss: 0.3198 - accuracy: 0.8476\n",
            "Epoch 79/1000\n",
            "222/222 [==============================] - 2s 11ms/step - loss: 0.3082 - accuracy: 0.8544\n",
            "Epoch 80/1000\n",
            "222/222 [==============================] - 2s 11ms/step - loss: 0.3125 - accuracy: 0.8516\n",
            "Epoch 81/1000\n",
            "222/222 [==============================] - 2s 11ms/step - loss: 0.3187 - accuracy: 0.8500\n",
            "Epoch 82/1000\n",
            "222/222 [==============================] - 2s 11ms/step - loss: 0.3174 - accuracy: 0.8511\n",
            "Epoch 83/1000\n",
            "222/222 [==============================] - 2s 11ms/step - loss: 0.3161 - accuracy: 0.8468\n",
            "Epoch 84/1000\n",
            "222/222 [==============================] - 2s 11ms/step - loss: 0.3159 - accuracy: 0.8528\n",
            "Epoch 85/1000\n",
            "222/222 [==============================] - 2s 11ms/step - loss: 0.3129 - accuracy: 0.8485\n",
            "Epoch 86/1000\n",
            "222/222 [==============================] - 2s 11ms/step - loss: 0.3125 - accuracy: 0.8548\n",
            "Epoch 87/1000\n",
            "222/222 [==============================] - 2s 11ms/step - loss: 0.3109 - accuracy: 0.8504\n",
            "Epoch 88/1000\n",
            "222/222 [==============================] - 2s 11ms/step - loss: 0.3173 - accuracy: 0.8502\n",
            "Epoch 89/1000\n",
            "222/222 [==============================] - 2s 11ms/step - loss: 0.3123 - accuracy: 0.8517\n",
            "Epoch 90/1000\n",
            "222/222 [==============================] - 2s 11ms/step - loss: 0.3120 - accuracy: 0.8544\n",
            "Epoch 91/1000\n",
            "222/222 [==============================] - 2s 11ms/step - loss: 0.3081 - accuracy: 0.8573\n",
            "Epoch 92/1000\n",
            "222/222 [==============================] - 2s 11ms/step - loss: 0.3133 - accuracy: 0.8546\n",
            "Epoch 93/1000\n",
            "222/222 [==============================] - 2s 11ms/step - loss: 0.3115 - accuracy: 0.8536\n",
            "Epoch 94/1000\n",
            "222/222 [==============================] - 2s 11ms/step - loss: 0.3146 - accuracy: 0.8506\n",
            "Epoch 95/1000\n",
            "222/222 [==============================] - 2s 11ms/step - loss: 0.3042 - accuracy: 0.8570\n",
            "Epoch 96/1000\n",
            "222/222 [==============================] - 2s 11ms/step - loss: 0.3126 - accuracy: 0.8532\n",
            "Epoch 97/1000\n",
            "222/222 [==============================] - 2s 11ms/step - loss: 0.3068 - accuracy: 0.8510\n",
            "Epoch 98/1000\n",
            "222/222 [==============================] - 2s 11ms/step - loss: 0.3112 - accuracy: 0.8550\n",
            "Epoch 99/1000\n",
            "222/222 [==============================] - 3s 11ms/step - loss: 0.3113 - accuracy: 0.8534\n",
            "Epoch 100/1000\n",
            "222/222 [==============================] - 2s 11ms/step - loss: 0.3113 - accuracy: 0.8526\n",
            "Epoch 101/1000\n",
            "222/222 [==============================] - 2s 11ms/step - loss: 0.3134 - accuracy: 0.8523\n",
            "Epoch 102/1000\n",
            "222/222 [==============================] - 2s 11ms/step - loss: 0.3084 - accuracy: 0.8516\n",
            "Epoch 103/1000\n",
            "222/222 [==============================] - 2s 11ms/step - loss: 0.3103 - accuracy: 0.8531\n",
            "Epoch 104/1000\n",
            "222/222 [==============================] - 2s 11ms/step - loss: 0.3077 - accuracy: 0.8556\n",
            "Epoch 105/1000\n",
            "222/222 [==============================] - 2s 11ms/step - loss: 0.3137 - accuracy: 0.8482\n",
            "Epoch 106/1000\n",
            "222/222 [==============================] - 3s 11ms/step - loss: 0.3041 - accuracy: 0.8586\n",
            "Epoch 107/1000\n",
            "222/222 [==============================] - 2s 11ms/step - loss: 0.3113 - accuracy: 0.8506\n",
            "Epoch 108/1000\n",
            "222/222 [==============================] - 2s 11ms/step - loss: 0.3047 - accuracy: 0.8551\n",
            "Epoch 109/1000\n",
            "222/222 [==============================] - 2s 11ms/step - loss: 0.3146 - accuracy: 0.8519\n",
            "Epoch 110/1000\n",
            "222/222 [==============================] - 2s 11ms/step - loss: 0.3114 - accuracy: 0.8510\n",
            "Epoch 111/1000\n",
            "222/222 [==============================] - 2s 11ms/step - loss: 0.3101 - accuracy: 0.8504\n",
            "Epoch 112/1000\n",
            "222/222 [==============================] - 2s 11ms/step - loss: 0.3102 - accuracy: 0.8538\n",
            "Epoch 113/1000\n",
            "222/222 [==============================] - 2s 11ms/step - loss: 0.3088 - accuracy: 0.8547\n",
            "Epoch 114/1000\n",
            "222/222 [==============================] - 2s 11ms/step - loss: 0.3026 - accuracy: 0.8584\n",
            "Epoch 115/1000\n",
            "222/222 [==============================] - 2s 11ms/step - loss: 0.3085 - accuracy: 0.8540\n",
            "Epoch 116/1000\n",
            "222/222 [==============================] - 2s 11ms/step - loss: 0.3106 - accuracy: 0.8547\n",
            "Epoch 117/1000\n",
            "222/222 [==============================] - 2s 11ms/step - loss: 0.3079 - accuracy: 0.8529\n",
            "Epoch 118/1000\n",
            "222/222 [==============================] - 2s 11ms/step - loss: 0.3051 - accuracy: 0.8540\n",
            "Epoch 119/1000\n",
            "222/222 [==============================] - 2s 11ms/step - loss: 0.3077 - accuracy: 0.8544\n",
            "Epoch 120/1000\n",
            "222/222 [==============================] - 2s 11ms/step - loss: 0.3102 - accuracy: 0.8538\n",
            "Epoch 121/1000\n",
            "222/222 [==============================] - 2s 11ms/step - loss: 0.3039 - accuracy: 0.8542\n",
            "Epoch 122/1000\n",
            "222/222 [==============================] - 2s 11ms/step - loss: 0.3082 - accuracy: 0.8568\n",
            "Epoch 123/1000\n",
            "222/222 [==============================] - 2s 11ms/step - loss: 0.3053 - accuracy: 0.8543\n",
            "Epoch 124/1000\n",
            "222/222 [==============================] - 2s 11ms/step - loss: 0.3108 - accuracy: 0.8547\n",
            "Epoch 125/1000\n",
            "222/222 [==============================] - 2s 11ms/step - loss: 0.3003 - accuracy: 0.8586\n",
            "Epoch 126/1000\n",
            "222/222 [==============================] - 2s 11ms/step - loss: 0.3069 - accuracy: 0.8546\n",
            "Epoch 127/1000\n",
            "222/222 [==============================] - 2s 11ms/step - loss: 0.3060 - accuracy: 0.8546\n",
            "Epoch 128/1000\n",
            "222/222 [==============================] - 2s 11ms/step - loss: 0.3086 - accuracy: 0.8528\n",
            "Epoch 129/1000\n",
            "222/222 [==============================] - 2s 11ms/step - loss: 0.3122 - accuracy: 0.8499\n",
            "Epoch 130/1000\n",
            "222/222 [==============================] - 2s 11ms/step - loss: 0.3085 - accuracy: 0.8543\n",
            "Epoch 131/1000\n",
            "222/222 [==============================] - 2s 11ms/step - loss: 0.3094 - accuracy: 0.8532\n",
            "Epoch 132/1000\n",
            "222/222 [==============================] - 2s 11ms/step - loss: 0.3072 - accuracy: 0.8569\n",
            "Epoch 133/1000\n",
            "222/222 [==============================] - 2s 11ms/step - loss: 0.3050 - accuracy: 0.8518\n",
            "Epoch 134/1000\n",
            "222/222 [==============================] - 2s 11ms/step - loss: 0.3085 - accuracy: 0.8528\n",
            "Epoch 135/1000\n",
            "222/222 [==============================] - 2s 11ms/step - loss: 0.3055 - accuracy: 0.8565\n",
            "Epoch 136/1000\n",
            "222/222 [==============================] - 2s 11ms/step - loss: 0.3094 - accuracy: 0.8531\n",
            "Epoch 137/1000\n",
            "222/222 [==============================] - 2s 11ms/step - loss: 0.3096 - accuracy: 0.8568\n",
            "Epoch 138/1000\n",
            "222/222 [==============================] - 2s 11ms/step - loss: 0.3059 - accuracy: 0.8537\n",
            "Epoch 139/1000\n",
            "222/222 [==============================] - 2s 11ms/step - loss: 0.3056 - accuracy: 0.8549\n",
            "Epoch 140/1000\n",
            "222/222 [==============================] - 2s 11ms/step - loss: 0.3050 - accuracy: 0.8557\n",
            "Epoch 141/1000\n",
            "222/222 [==============================] - 2s 11ms/step - loss: 0.2989 - accuracy: 0.8574\n",
            "Epoch 142/1000\n",
            "222/222 [==============================] - 3s 11ms/step - loss: 0.3085 - accuracy: 0.8538\n",
            "Epoch 143/1000\n",
            "222/222 [==============================] - 2s 11ms/step - loss: 0.3102 - accuracy: 0.8515\n",
            "Epoch 144/1000\n",
            "222/222 [==============================] - 3s 11ms/step - loss: 0.3076 - accuracy: 0.8551\n",
            "Epoch 145/1000\n",
            "222/222 [==============================] - 2s 11ms/step - loss: 0.3119 - accuracy: 0.8509\n",
            "Epoch 146/1000\n",
            "222/222 [==============================] - 2s 11ms/step - loss: 0.2931 - accuracy: 0.8599\n",
            "Epoch 147/1000\n",
            "222/222 [==============================] - 3s 11ms/step - loss: 0.3071 - accuracy: 0.8568\n",
            "Epoch 148/1000\n",
            "222/222 [==============================] - 2s 11ms/step - loss: 0.3140 - accuracy: 0.8514\n",
            "Epoch 149/1000\n",
            "222/222 [==============================] - 3s 11ms/step - loss: 0.3059 - accuracy: 0.8553\n",
            "Epoch 150/1000\n",
            "222/222 [==============================] - 2s 11ms/step - loss: 0.3113 - accuracy: 0.8528\n",
            "Epoch 151/1000\n",
            "222/222 [==============================] - 2s 11ms/step - loss: 0.3056 - accuracy: 0.8564\n",
            "Epoch 152/1000\n",
            "222/222 [==============================] - 2s 11ms/step - loss: 0.3014 - accuracy: 0.8550\n",
            "Epoch 153/1000\n",
            "222/222 [==============================] - 2s 11ms/step - loss: 0.3025 - accuracy: 0.8574\n",
            "Epoch 154/1000\n",
            "222/222 [==============================] - 2s 11ms/step - loss: 0.3056 - accuracy: 0.8533\n",
            "Epoch 155/1000\n",
            "222/222 [==============================] - 2s 11ms/step - loss: 0.3073 - accuracy: 0.8548\n",
            "Epoch 156/1000\n",
            "222/222 [==============================] - 2s 11ms/step - loss: 0.3056 - accuracy: 0.8538\n",
            "Epoch 157/1000\n",
            "222/222 [==============================] - 3s 12ms/step - loss: 0.3007 - accuracy: 0.8583\n",
            "Epoch 158/1000\n",
            "222/222 [==============================] - 2s 11ms/step - loss: 0.3032 - accuracy: 0.8559\n",
            "Epoch 159/1000\n",
            "222/222 [==============================] - 2s 11ms/step - loss: 0.3043 - accuracy: 0.8569\n",
            "Epoch 160/1000\n",
            "222/222 [==============================] - 2s 11ms/step - loss: 0.3057 - accuracy: 0.8537\n",
            "Epoch 161/1000\n",
            "222/222 [==============================] - 3s 11ms/step - loss: 0.3035 - accuracy: 0.8578\n",
            "Epoch 162/1000\n",
            "222/222 [==============================] - 3s 11ms/step - loss: 0.2989 - accuracy: 0.8585\n",
            "Epoch 163/1000\n",
            "222/222 [==============================] - 3s 12ms/step - loss: 0.3081 - accuracy: 0.8515\n",
            "Epoch 164/1000\n",
            "222/222 [==============================] - 3s 11ms/step - loss: 0.3033 - accuracy: 0.8583\n",
            "Epoch 165/1000\n",
            "222/222 [==============================] - 2s 11ms/step - loss: 0.3052 - accuracy: 0.8565\n",
            "Epoch 166/1000\n",
            "222/222 [==============================] - 3s 11ms/step - loss: 0.3038 - accuracy: 0.8554\n",
            "Epoch 167/1000\n",
            "222/222 [==============================] - 3s 11ms/step - loss: 0.3017 - accuracy: 0.8581\n",
            "Epoch 168/1000\n",
            "222/222 [==============================] - 2s 11ms/step - loss: 0.3067 - accuracy: 0.8564\n",
            "Epoch 169/1000\n",
            "222/222 [==============================] - 3s 11ms/step - loss: 0.3092 - accuracy: 0.8541\n",
            "Epoch 170/1000\n",
            "222/222 [==============================] - 3s 11ms/step - loss: 0.3036 - accuracy: 0.8558\n",
            "Epoch 171/1000\n",
            "222/222 [==============================] - 2s 11ms/step - loss: 0.3016 - accuracy: 0.8599\n",
            "Epoch 172/1000\n",
            "222/222 [==============================] - 3s 11ms/step - loss: 0.3036 - accuracy: 0.8581\n",
            "Epoch 173/1000\n",
            "222/222 [==============================] - 3s 11ms/step - loss: 0.3072 - accuracy: 0.8525\n",
            "Epoch 174/1000\n",
            "222/222 [==============================] - 3s 11ms/step - loss: 0.3042 - accuracy: 0.8568\n",
            "Epoch 175/1000\n",
            "222/222 [==============================] - 3s 11ms/step - loss: 0.3055 - accuracy: 0.8555\n",
            "Epoch 176/1000\n",
            "222/222 [==============================] - 3s 11ms/step - loss: 0.3049 - accuracy: 0.8579\n",
            "Epoch 177/1000\n",
            "222/222 [==============================] - 3s 11ms/step - loss: 0.3056 - accuracy: 0.8548\n",
            "Epoch 178/1000\n",
            "222/222 [==============================] - 2s 11ms/step - loss: 0.3106 - accuracy: 0.8525\n",
            "Epoch 179/1000\n",
            "222/222 [==============================] - 2s 11ms/step - loss: 0.3053 - accuracy: 0.8558\n",
            "Epoch 180/1000\n",
            "222/222 [==============================] - 3s 11ms/step - loss: 0.3002 - accuracy: 0.8582\n",
            "Epoch 181/1000\n",
            "222/222 [==============================] - 3s 11ms/step - loss: 0.3007 - accuracy: 0.8565\n",
            "Epoch 182/1000\n",
            "222/222 [==============================] - 2s 11ms/step - loss: 0.3001 - accuracy: 0.8600\n",
            "Epoch 183/1000\n",
            "222/222 [==============================] - 3s 11ms/step - loss: 0.3050 - accuracy: 0.8540\n",
            "Epoch 184/1000\n",
            "222/222 [==============================] - 3s 11ms/step - loss: 0.2932 - accuracy: 0.8580\n",
            "Epoch 185/1000\n",
            "222/222 [==============================] - 3s 12ms/step - loss: 0.3020 - accuracy: 0.8563\n",
            "Epoch 186/1000\n",
            "222/222 [==============================] - 3s 11ms/step - loss: 0.3025 - accuracy: 0.8556\n",
            "Epoch 187/1000\n",
            "222/222 [==============================] - 3s 11ms/step - loss: 0.3012 - accuracy: 0.8578\n",
            "Epoch 188/1000\n",
            "222/222 [==============================] - 3s 11ms/step - loss: 0.3037 - accuracy: 0.8587\n",
            "Epoch 189/1000\n",
            "222/222 [==============================] - 3s 11ms/step - loss: 0.3093 - accuracy: 0.8549\n",
            "Epoch 190/1000\n",
            "222/222 [==============================] - 3s 11ms/step - loss: 0.2997 - accuracy: 0.8588\n",
            "Epoch 191/1000\n",
            "222/222 [==============================] - 3s 12ms/step - loss: 0.3026 - accuracy: 0.8557\n",
            "Epoch 192/1000\n",
            "222/222 [==============================] - 3s 11ms/step - loss: 0.2947 - accuracy: 0.8631\n",
            "Epoch 193/1000\n",
            "222/222 [==============================] - 3s 11ms/step - loss: 0.3029 - accuracy: 0.8562\n",
            "Epoch 194/1000\n",
            "222/222 [==============================] - 2s 11ms/step - loss: 0.2996 - accuracy: 0.8575\n",
            "Epoch 195/1000\n",
            "222/222 [==============================] - 2s 11ms/step - loss: 0.3023 - accuracy: 0.8575\n",
            "Epoch 196/1000\n",
            "222/222 [==============================] - 3s 11ms/step - loss: 0.2974 - accuracy: 0.8589\n",
            "Epoch 197/1000\n",
            "222/222 [==============================] - 3s 11ms/step - loss: 0.3051 - accuracy: 0.8525\n",
            "Epoch 198/1000\n",
            "222/222 [==============================] - 3s 11ms/step - loss: 0.2986 - accuracy: 0.8587\n",
            "Epoch 199/1000\n",
            "222/222 [==============================] - 3s 11ms/step - loss: 0.2991 - accuracy: 0.8580\n",
            "Epoch 200/1000\n",
            "222/222 [==============================] - 3s 12ms/step - loss: 0.2985 - accuracy: 0.8581\n",
            "Epoch 201/1000\n",
            "222/222 [==============================] - 3s 11ms/step - loss: 0.3026 - accuracy: 0.8545\n",
            "Epoch 202/1000\n",
            "222/222 [==============================] - 2s 11ms/step - loss: 0.3010 - accuracy: 0.8565\n",
            "Epoch 203/1000\n",
            "222/222 [==============================] - 3s 12ms/step - loss: 0.3002 - accuracy: 0.8584\n",
            "Epoch 204/1000\n",
            "222/222 [==============================] - 2s 11ms/step - loss: 0.3003 - accuracy: 0.8565\n",
            "Epoch 205/1000\n",
            "222/222 [==============================] - 3s 11ms/step - loss: 0.3033 - accuracy: 0.8567\n",
            "Epoch 206/1000\n",
            "222/222 [==============================] - 2s 11ms/step - loss: 0.2970 - accuracy: 0.8566\n",
            "Epoch 207/1000\n",
            "222/222 [==============================] - 2s 11ms/step - loss: 0.2916 - accuracy: 0.8646\n",
            "Epoch 208/1000\n",
            "222/222 [==============================] - 3s 11ms/step - loss: 0.3024 - accuracy: 0.8570\n",
            "Epoch 209/1000\n",
            "222/222 [==============================] - 2s 11ms/step - loss: 0.3085 - accuracy: 0.8548\n",
            "Epoch 210/1000\n",
            "222/222 [==============================] - 3s 11ms/step - loss: 0.2995 - accuracy: 0.8581\n",
            "Epoch 211/1000\n",
            "222/222 [==============================] - 3s 11ms/step - loss: 0.3028 - accuracy: 0.8554\n",
            "Epoch 212/1000\n",
            "222/222 [==============================] - 3s 11ms/step - loss: 0.2998 - accuracy: 0.8597\n",
            "Epoch 213/1000\n",
            "222/222 [==============================] - 3s 11ms/step - loss: 0.2972 - accuracy: 0.8623\n",
            "Epoch 214/1000\n",
            "222/222 [==============================] - 2s 11ms/step - loss: 0.2981 - accuracy: 0.8607\n",
            "Epoch 215/1000\n",
            "222/222 [==============================] - 3s 12ms/step - loss: 0.2987 - accuracy: 0.8586\n",
            "Epoch 216/1000\n",
            "222/222 [==============================] - 3s 11ms/step - loss: 0.3022 - accuracy: 0.8565\n",
            "Epoch 217/1000\n",
            "222/222 [==============================] - 3s 12ms/step - loss: 0.3016 - accuracy: 0.8554\n",
            "Epoch 218/1000\n",
            "222/222 [==============================] - 3s 11ms/step - loss: 0.3013 - accuracy: 0.8577\n",
            "Epoch 219/1000\n",
            "222/222 [==============================] - 3s 11ms/step - loss: 0.3006 - accuracy: 0.8555\n",
            "Epoch 220/1000\n",
            "222/222 [==============================] - 3s 11ms/step - loss: 0.3014 - accuracy: 0.8553\n",
            "Epoch 221/1000\n",
            "222/222 [==============================] - 3s 12ms/step - loss: 0.2975 - accuracy: 0.8597\n",
            "Epoch 222/1000\n",
            "222/222 [==============================] - 3s 12ms/step - loss: 0.2963 - accuracy: 0.8576\n",
            "Epoch 223/1000\n",
            "222/222 [==============================] - 3s 11ms/step - loss: 0.3011 - accuracy: 0.8557\n",
            "Epoch 224/1000\n",
            "222/222 [==============================] - 3s 11ms/step - loss: 0.2975 - accuracy: 0.8568\n",
            "Epoch 225/1000\n",
            "222/222 [==============================] - 3s 11ms/step - loss: 0.3032 - accuracy: 0.8547\n",
            "Epoch 226/1000\n",
            "222/222 [==============================] - 3s 11ms/step - loss: 0.3094 - accuracy: 0.8532\n",
            "Epoch 227/1000\n",
            "222/222 [==============================] - 3s 11ms/step - loss: 0.2941 - accuracy: 0.8605\n",
            "Epoch 228/1000\n",
            "222/222 [==============================] - 3s 11ms/step - loss: 0.3065 - accuracy: 0.8501\n",
            "Epoch 229/1000\n",
            "222/222 [==============================] - 3s 12ms/step - loss: 0.3004 - accuracy: 0.8569\n",
            "Epoch 230/1000\n",
            "222/222 [==============================] - 3s 12ms/step - loss: 0.2990 - accuracy: 0.8574\n",
            "Epoch 231/1000\n",
            "222/222 [==============================] - 3s 11ms/step - loss: 0.3045 - accuracy: 0.8593\n",
            "Epoch 232/1000\n",
            "222/222 [==============================] - 3s 11ms/step - loss: 0.2994 - accuracy: 0.8591\n",
            "Epoch 233/1000\n",
            "222/222 [==============================] - 3s 12ms/step - loss: 0.2995 - accuracy: 0.8587\n",
            "Epoch 234/1000\n",
            "222/222 [==============================] - 3s 11ms/step - loss: 0.2988 - accuracy: 0.8588\n",
            "Epoch 235/1000\n",
            "222/222 [==============================] - 3s 12ms/step - loss: 0.3084 - accuracy: 0.8540\n",
            "Epoch 236/1000\n",
            "222/222 [==============================] - 3s 12ms/step - loss: 0.3042 - accuracy: 0.8552\n",
            "Epoch 237/1000\n",
            "222/222 [==============================] - 3s 12ms/step - loss: 0.2962 - accuracy: 0.8591\n",
            "Epoch 238/1000\n",
            "222/222 [==============================] - 3s 12ms/step - loss: 0.2976 - accuracy: 0.8552\n",
            "Epoch 239/1000\n",
            "222/222 [==============================] - 3s 12ms/step - loss: 0.3009 - accuracy: 0.8580\n",
            "Epoch 240/1000\n",
            "222/222 [==============================] - 3s 12ms/step - loss: 0.3023 - accuracy: 0.8568\n",
            "Epoch 241/1000\n",
            "222/222 [==============================] - 3s 12ms/step - loss: 0.3001 - accuracy: 0.8579\n",
            "Epoch 242/1000\n",
            "222/222 [==============================] - 3s 12ms/step - loss: 0.3019 - accuracy: 0.8534\n",
            "Epoch 243/1000\n",
            "222/222 [==============================] - 3s 12ms/step - loss: 0.2971 - accuracy: 0.8565\n",
            "Epoch 244/1000\n",
            "222/222 [==============================] - 3s 12ms/step - loss: 0.3040 - accuracy: 0.8545\n",
            "Epoch 245/1000\n",
            "222/222 [==============================] - 3s 12ms/step - loss: 0.2998 - accuracy: 0.8581\n",
            "Epoch 246/1000\n",
            "222/222 [==============================] - 2s 11ms/step - loss: 0.3033 - accuracy: 0.8569\n",
            "Epoch 247/1000\n",
            "222/222 [==============================] - 3s 12ms/step - loss: 0.3030 - accuracy: 0.8568\n",
            "Epoch 248/1000\n",
            "222/222 [==============================] - 3s 11ms/step - loss: 0.2982 - accuracy: 0.8569\n",
            "Epoch 249/1000\n",
            "222/222 [==============================] - 3s 11ms/step - loss: 0.3008 - accuracy: 0.8564\n",
            "Epoch 250/1000\n",
            "222/222 [==============================] - 3s 12ms/step - loss: 0.3016 - accuracy: 0.8583\n",
            "Epoch 251/1000\n",
            "222/222 [==============================] - 3s 11ms/step - loss: 0.2933 - accuracy: 0.8607\n",
            "Epoch 252/1000\n",
            "222/222 [==============================] - 3s 12ms/step - loss: 0.3002 - accuracy: 0.8567\n",
            "Epoch 253/1000\n",
            "222/222 [==============================] - 3s 12ms/step - loss: 0.2987 - accuracy: 0.8569\n",
            "Epoch 254/1000\n",
            "222/222 [==============================] - 3s 12ms/step - loss: 0.2981 - accuracy: 0.8575\n",
            "Epoch 255/1000\n",
            "222/222 [==============================] - 3s 12ms/step - loss: 0.3033 - accuracy: 0.8547\n",
            "Epoch 256/1000\n",
            "222/222 [==============================] - 3s 12ms/step - loss: 0.2985 - accuracy: 0.8578\n",
            "Epoch 257/1000\n",
            "222/222 [==============================] - 3s 11ms/step - loss: 0.3027 - accuracy: 0.8553\n",
            "Epoch 258/1000\n",
            "222/222 [==============================] - 3s 12ms/step - loss: 0.3057 - accuracy: 0.8543\n",
            "Epoch 259/1000\n",
            "222/222 [==============================] - 3s 11ms/step - loss: 0.3050 - accuracy: 0.8546\n",
            "Epoch 260/1000\n",
            "222/222 [==============================] - 3s 11ms/step - loss: 0.2996 - accuracy: 0.8586\n",
            "Epoch 261/1000\n",
            "222/222 [==============================] - 3s 11ms/step - loss: 0.3014 - accuracy: 0.8593\n",
            "Epoch 262/1000\n",
            "222/222 [==============================] - 3s 12ms/step - loss: 0.3021 - accuracy: 0.8555\n",
            "Epoch 263/1000\n",
            "222/222 [==============================] - 3s 12ms/step - loss: 0.2954 - accuracy: 0.8589\n",
            "Epoch 264/1000\n",
            "222/222 [==============================] - 3s 12ms/step - loss: 0.3003 - accuracy: 0.8563\n",
            "Epoch 265/1000\n",
            "222/222 [==============================] - 3s 12ms/step - loss: 0.3019 - accuracy: 0.8559\n",
            "Epoch 266/1000\n",
            "222/222 [==============================] - 3s 11ms/step - loss: 0.2997 - accuracy: 0.8590\n",
            "Epoch 267/1000\n",
            "222/222 [==============================] - 3s 12ms/step - loss: 0.3132 - accuracy: 0.8517\n",
            "Epoch 268/1000\n",
            "222/222 [==============================] - 3s 11ms/step - loss: 0.3005 - accuracy: 0.8552\n",
            "Epoch 269/1000\n",
            "222/222 [==============================] - 3s 12ms/step - loss: 0.2968 - accuracy: 0.8623\n",
            "Epoch 270/1000\n",
            "222/222 [==============================] - 3s 11ms/step - loss: 0.2906 - accuracy: 0.8594\n",
            "Epoch 271/1000\n",
            "222/222 [==============================] - 3s 12ms/step - loss: 0.2960 - accuracy: 0.8597\n",
            "Epoch 272/1000\n",
            "222/222 [==============================] - 2s 11ms/step - loss: 0.3028 - accuracy: 0.8569\n",
            "Epoch 273/1000\n",
            "222/222 [==============================] - 3s 11ms/step - loss: 0.3002 - accuracy: 0.8594\n",
            "Epoch 274/1000\n",
            "222/222 [==============================] - 3s 11ms/step - loss: 0.2949 - accuracy: 0.8615\n",
            "Epoch 275/1000\n",
            "222/222 [==============================] - 3s 12ms/step - loss: 0.2975 - accuracy: 0.8611\n",
            "Epoch 276/1000\n",
            "222/222 [==============================] - 3s 11ms/step - loss: 0.2920 - accuracy: 0.8609\n",
            "Epoch 277/1000\n",
            "222/222 [==============================] - 3s 12ms/step - loss: 0.2984 - accuracy: 0.8574\n",
            "Epoch 278/1000\n",
            "222/222 [==============================] - 2s 11ms/step - loss: 0.3047 - accuracy: 0.8568\n",
            "Epoch 279/1000\n",
            "222/222 [==============================] - 3s 11ms/step - loss: 0.2948 - accuracy: 0.8593\n",
            "Epoch 280/1000\n",
            "222/222 [==============================] - 3s 12ms/step - loss: 0.3025 - accuracy: 0.8566\n",
            "Epoch 281/1000\n",
            "222/222 [==============================] - 3s 11ms/step - loss: 0.2991 - accuracy: 0.8554\n",
            "Epoch 282/1000\n",
            "222/222 [==============================] - 3s 12ms/step - loss: 0.3000 - accuracy: 0.8584\n",
            "Epoch 283/1000\n",
            "222/222 [==============================] - 3s 12ms/step - loss: 0.3029 - accuracy: 0.8557\n",
            "Epoch 284/1000\n",
            "222/222 [==============================] - 3s 12ms/step - loss: 0.2969 - accuracy: 0.8571\n",
            "Epoch 285/1000\n",
            "222/222 [==============================] - 3s 12ms/step - loss: 0.2952 - accuracy: 0.8589\n",
            "Epoch 286/1000\n",
            "222/222 [==============================] - 3s 12ms/step - loss: 0.2900 - accuracy: 0.8662\n",
            "Epoch 287/1000\n",
            "222/222 [==============================] - 3s 11ms/step - loss: 0.2926 - accuracy: 0.8616\n",
            "Epoch 288/1000\n",
            "222/222 [==============================] - 3s 12ms/step - loss: 0.2977 - accuracy: 0.8588\n",
            "Epoch 289/1000\n",
            "222/222 [==============================] - 3s 12ms/step - loss: 0.3019 - accuracy: 0.8556\n",
            "Epoch 290/1000\n",
            "222/222 [==============================] - 3s 12ms/step - loss: 0.2933 - accuracy: 0.8590\n",
            "Epoch 291/1000\n",
            "222/222 [==============================] - 2s 11ms/step - loss: 0.3026 - accuracy: 0.8550\n",
            "Epoch 292/1000\n",
            "222/222 [==============================] - 3s 12ms/step - loss: 0.2979 - accuracy: 0.8550\n",
            "Epoch 293/1000\n",
            "222/222 [==============================] - 3s 11ms/step - loss: 0.2984 - accuracy: 0.8582\n",
            "Epoch 294/1000\n",
            "222/222 [==============================] - 3s 11ms/step - loss: 0.3024 - accuracy: 0.8560\n",
            "Epoch 295/1000\n",
            "222/222 [==============================] - 3s 11ms/step - loss: 0.3018 - accuracy: 0.8553\n",
            "Epoch 296/1000\n",
            "222/222 [==============================] - 3s 12ms/step - loss: 0.2943 - accuracy: 0.8626\n",
            "Epoch 297/1000\n",
            "222/222 [==============================] - 3s 12ms/step - loss: 0.2907 - accuracy: 0.8622\n",
            "Epoch 298/1000\n",
            "222/222 [==============================] - 3s 12ms/step - loss: 0.3060 - accuracy: 0.8561\n",
            "Epoch 299/1000\n",
            "222/222 [==============================] - 3s 12ms/step - loss: 0.3061 - accuracy: 0.8522\n",
            "Epoch 300/1000\n",
            "222/222 [==============================] - 3s 11ms/step - loss: 0.2990 - accuracy: 0.8571\n",
            "Epoch 301/1000\n",
            "222/222 [==============================] - 3s 12ms/step - loss: 0.2998 - accuracy: 0.8556\n",
            "Epoch 302/1000\n",
            "222/222 [==============================] - 3s 12ms/step - loss: 0.2986 - accuracy: 0.8585\n",
            "Epoch 303/1000\n",
            "222/222 [==============================] - 3s 11ms/step - loss: 0.2992 - accuracy: 0.8548\n",
            "Epoch 304/1000\n",
            "222/222 [==============================] - 3s 12ms/step - loss: 0.2971 - accuracy: 0.8554\n",
            "Epoch 305/1000\n",
            "222/222 [==============================] - 3s 12ms/step - loss: 0.3004 - accuracy: 0.8549\n",
            "Epoch 306/1000\n",
            "222/222 [==============================] - 3s 11ms/step - loss: 0.2975 - accuracy: 0.8602\n",
            "Epoch 307/1000\n",
            "222/222 [==============================] - 3s 12ms/step - loss: 0.2915 - accuracy: 0.8604\n",
            "Epoch 308/1000\n",
            "222/222 [==============================] - 3s 11ms/step - loss: 0.2916 - accuracy: 0.8616\n",
            "Epoch 309/1000\n",
            "222/222 [==============================] - 3s 12ms/step - loss: 0.2947 - accuracy: 0.8607\n",
            "Epoch 310/1000\n",
            "222/222 [==============================] - 3s 12ms/step - loss: 0.2906 - accuracy: 0.8595\n",
            "Epoch 311/1000\n",
            "222/222 [==============================] - 3s 12ms/step - loss: 0.2939 - accuracy: 0.8571\n",
            "Epoch 312/1000\n",
            "222/222 [==============================] - 3s 11ms/step - loss: 0.3002 - accuracy: 0.8547\n",
            "Epoch 313/1000\n",
            "222/222 [==============================] - 3s 12ms/step - loss: 0.2967 - accuracy: 0.8620\n",
            "Epoch 314/1000\n",
            "222/222 [==============================] - 2s 11ms/step - loss: 0.2929 - accuracy: 0.8628\n",
            "Epoch 315/1000\n",
            "222/222 [==============================] - 3s 11ms/step - loss: 0.2994 - accuracy: 0.8571\n",
            "Epoch 316/1000\n",
            "222/222 [==============================] - 3s 11ms/step - loss: 0.2901 - accuracy: 0.8623\n",
            "Epoch 317/1000\n",
            "222/222 [==============================] - 3s 12ms/step - loss: 0.2986 - accuracy: 0.8584\n",
            "Epoch 318/1000\n",
            "222/222 [==============================] - 3s 11ms/step - loss: 0.2927 - accuracy: 0.8623\n",
            "Epoch 319/1000\n",
            "222/222 [==============================] - 3s 11ms/step - loss: 0.2988 - accuracy: 0.8572\n",
            "Epoch 320/1000\n",
            "222/222 [==============================] - 2s 11ms/step - loss: 0.2974 - accuracy: 0.8574\n",
            "Epoch 321/1000\n",
            "222/222 [==============================] - 3s 12ms/step - loss: 0.2907 - accuracy: 0.8630\n",
            "Epoch 322/1000\n",
            "222/222 [==============================] - 3s 11ms/step - loss: 0.3001 - accuracy: 0.8600\n",
            "Epoch 323/1000\n",
            "222/222 [==============================] - 3s 12ms/step - loss: 0.2959 - accuracy: 0.8594\n",
            "Epoch 324/1000\n",
            "222/222 [==============================] - 3s 11ms/step - loss: 0.2992 - accuracy: 0.8593\n",
            "Epoch 325/1000\n",
            "222/222 [==============================] - 3s 11ms/step - loss: 0.2965 - accuracy: 0.8585\n",
            "Epoch 326/1000\n",
            "222/222 [==============================] - 3s 11ms/step - loss: 0.2972 - accuracy: 0.8608\n",
            "Epoch 327/1000\n",
            "222/222 [==============================] - 3s 12ms/step - loss: 0.2975 - accuracy: 0.8579\n",
            "Epoch 328/1000\n",
            "222/222 [==============================] - 3s 12ms/step - loss: 0.2977 - accuracy: 0.8572\n",
            "Epoch 329/1000\n",
            "222/222 [==============================] - 3s 12ms/step - loss: 0.3006 - accuracy: 0.8594\n",
            "Epoch 330/1000\n",
            "222/222 [==============================] - 3s 12ms/step - loss: 0.2942 - accuracy: 0.8561\n",
            "Epoch 331/1000\n",
            "222/222 [==============================] - 3s 12ms/step - loss: 0.2958 - accuracy: 0.8585\n",
            "Epoch 332/1000\n",
            "222/222 [==============================] - 3s 11ms/step - loss: 0.2965 - accuracy: 0.8599\n",
            "Epoch 333/1000\n",
            "222/222 [==============================] - 3s 11ms/step - loss: 0.2894 - accuracy: 0.8644\n",
            "Epoch 334/1000\n",
            "222/222 [==============================] - 3s 12ms/step - loss: 0.2971 - accuracy: 0.8602\n",
            "Epoch 335/1000\n",
            "222/222 [==============================] - 3s 12ms/step - loss: 0.3005 - accuracy: 0.8574\n",
            "Epoch 336/1000\n",
            "222/222 [==============================] - 3s 11ms/step - loss: 0.2940 - accuracy: 0.8624\n",
            "Epoch 337/1000\n",
            "222/222 [==============================] - 3s 11ms/step - loss: 0.2925 - accuracy: 0.8614\n",
            "Epoch 338/1000\n",
            "222/222 [==============================] - 3s 12ms/step - loss: 0.2969 - accuracy: 0.8548\n",
            "Epoch 339/1000\n",
            "222/222 [==============================] - 3s 12ms/step - loss: 0.2921 - accuracy: 0.8621\n",
            "Epoch 340/1000\n",
            "222/222 [==============================] - 3s 12ms/step - loss: 0.3028 - accuracy: 0.8549\n",
            "Epoch 341/1000\n",
            "222/222 [==============================] - 3s 12ms/step - loss: 0.2970 - accuracy: 0.8587\n",
            "Epoch 342/1000\n",
            "222/222 [==============================] - 3s 12ms/step - loss: 0.2967 - accuracy: 0.8564\n",
            "Epoch 343/1000\n",
            "222/222 [==============================] - 3s 12ms/step - loss: 0.2931 - accuracy: 0.8634\n",
            "Epoch 344/1000\n",
            "222/222 [==============================] - 3s 12ms/step - loss: 0.2981 - accuracy: 0.8544\n",
            "Epoch 345/1000\n",
            "222/222 [==============================] - 3s 11ms/step - loss: 0.2909 - accuracy: 0.8608\n",
            "Epoch 346/1000\n",
            "222/222 [==============================] - 3s 12ms/step - loss: 0.2996 - accuracy: 0.8571\n",
            "Epoch 347/1000\n",
            "222/222 [==============================] - 3s 11ms/step - loss: 0.2981 - accuracy: 0.8591\n",
            "Epoch 348/1000\n",
            "222/222 [==============================] - 3s 12ms/step - loss: 0.2942 - accuracy: 0.8624\n",
            "Epoch 349/1000\n",
            "222/222 [==============================] - 3s 12ms/step - loss: 0.2963 - accuracy: 0.8579\n",
            "Epoch 350/1000\n",
            "222/222 [==============================] - 3s 12ms/step - loss: 0.2853 - accuracy: 0.8641\n",
            "Epoch 351/1000\n",
            "222/222 [==============================] - 3s 11ms/step - loss: 0.2951 - accuracy: 0.8619\n",
            "Epoch 352/1000\n",
            "222/222 [==============================] - 3s 12ms/step - loss: 0.2964 - accuracy: 0.8595\n",
            "Epoch 353/1000\n",
            "222/222 [==============================] - 3s 12ms/step - loss: 0.3023 - accuracy: 0.8529\n",
            "Epoch 354/1000\n",
            "222/222 [==============================] - 3s 12ms/step - loss: 0.2858 - accuracy: 0.8653\n",
            "Epoch 355/1000\n",
            "222/222 [==============================] - 3s 12ms/step - loss: 0.2891 - accuracy: 0.8627\n",
            "Epoch 356/1000\n",
            "222/222 [==============================] - 3s 12ms/step - loss: 0.2992 - accuracy: 0.8575\n",
            "Epoch 357/1000\n",
            "222/222 [==============================] - 3s 12ms/step - loss: 0.2922 - accuracy: 0.8647\n",
            "Epoch 358/1000\n",
            "222/222 [==============================] - 3s 12ms/step - loss: 0.2961 - accuracy: 0.8610\n",
            "Epoch 359/1000\n",
            "222/222 [==============================] - 3s 12ms/step - loss: 0.2972 - accuracy: 0.8594\n",
            "Epoch 360/1000\n",
            "222/222 [==============================] - 3s 12ms/step - loss: 0.2886 - accuracy: 0.8640\n",
            "Epoch 361/1000\n",
            "222/222 [==============================] - 3s 12ms/step - loss: 0.2985 - accuracy: 0.8583\n",
            "Epoch 362/1000\n",
            "222/222 [==============================] - 3s 12ms/step - loss: 0.2934 - accuracy: 0.8618\n",
            "Epoch 363/1000\n",
            "222/222 [==============================] - 3s 12ms/step - loss: 0.2957 - accuracy: 0.8599\n",
            "Epoch 364/1000\n",
            "222/222 [==============================] - 3s 12ms/step - loss: 0.2962 - accuracy: 0.8580\n",
            "Epoch 365/1000\n",
            "222/222 [==============================] - 3s 12ms/step - loss: 0.2924 - accuracy: 0.8621\n",
            "Epoch 366/1000\n",
            "222/222 [==============================] - 3s 12ms/step - loss: 0.2920 - accuracy: 0.8667\n",
            "Epoch 367/1000\n",
            "222/222 [==============================] - 3s 12ms/step - loss: 0.2959 - accuracy: 0.8635\n",
            "Epoch 368/1000\n",
            "222/222 [==============================] - 3s 12ms/step - loss: 0.2941 - accuracy: 0.8600\n",
            "Epoch 369/1000\n",
            "222/222 [==============================] - 3s 12ms/step - loss: 0.2958 - accuracy: 0.8550\n",
            "Epoch 370/1000\n",
            "222/222 [==============================] - 3s 12ms/step - loss: 0.2947 - accuracy: 0.8601\n",
            "Epoch 371/1000\n",
            "222/222 [==============================] - 3s 12ms/step - loss: 0.2931 - accuracy: 0.8586\n",
            "Epoch 372/1000\n",
            "222/222 [==============================] - 3s 12ms/step - loss: 0.2951 - accuracy: 0.8563\n",
            "Epoch 373/1000\n",
            "222/222 [==============================] - 3s 12ms/step - loss: 0.2904 - accuracy: 0.8638\n",
            "Epoch 374/1000\n",
            "222/222 [==============================] - 3s 12ms/step - loss: 0.2937 - accuracy: 0.8602\n",
            "Epoch 375/1000\n",
            "222/222 [==============================] - 3s 12ms/step - loss: 0.3002 - accuracy: 0.8568\n",
            "Epoch 376/1000\n",
            "222/222 [==============================] - 3s 12ms/step - loss: 0.2946 - accuracy: 0.8605\n",
            "Epoch 377/1000\n",
            "222/222 [==============================] - 3s 12ms/step - loss: 0.2924 - accuracy: 0.8642\n",
            "Epoch 378/1000\n",
            "222/222 [==============================] - 3s 12ms/step - loss: 0.2948 - accuracy: 0.8614\n",
            "Epoch 379/1000\n",
            "222/222 [==============================] - 3s 12ms/step - loss: 0.2914 - accuracy: 0.8627\n",
            "Epoch 380/1000\n",
            "222/222 [==============================] - 3s 12ms/step - loss: 0.3014 - accuracy: 0.8551\n",
            "Epoch 381/1000\n",
            "222/222 [==============================] - 3s 12ms/step - loss: 0.2911 - accuracy: 0.8612\n",
            "Epoch 382/1000\n",
            "222/222 [==============================] - 3s 12ms/step - loss: 0.2971 - accuracy: 0.8549\n",
            "Epoch 383/1000\n",
            "222/222 [==============================] - 3s 12ms/step - loss: 0.2875 - accuracy: 0.8639\n",
            "Epoch 384/1000\n",
            "222/222 [==============================] - 3s 12ms/step - loss: 0.2932 - accuracy: 0.8585\n",
            "Epoch 385/1000\n",
            "222/222 [==============================] - 3s 12ms/step - loss: 0.2973 - accuracy: 0.8589\n",
            "Epoch 386/1000\n",
            "222/222 [==============================] - 3s 12ms/step - loss: 0.2901 - accuracy: 0.8639\n",
            "Epoch 387/1000\n",
            "222/222 [==============================] - 3s 12ms/step - loss: 0.2983 - accuracy: 0.8591\n",
            "Epoch 388/1000\n",
            "222/222 [==============================] - 3s 12ms/step - loss: 0.2915 - accuracy: 0.8631\n",
            "Epoch 389/1000\n",
            "222/222 [==============================] - 3s 12ms/step - loss: 0.2924 - accuracy: 0.8610\n",
            "Epoch 390/1000\n",
            "222/222 [==============================] - 3s 12ms/step - loss: 0.2874 - accuracy: 0.8608\n",
            "Epoch 391/1000\n",
            "222/222 [==============================] - 3s 12ms/step - loss: 0.2923 - accuracy: 0.8615\n",
            "Epoch 392/1000\n",
            "222/222 [==============================] - 3s 12ms/step - loss: 0.3001 - accuracy: 0.8561\n",
            "Epoch 393/1000\n",
            "222/222 [==============================] - 3s 12ms/step - loss: 0.2932 - accuracy: 0.8642\n",
            "Epoch 394/1000\n",
            "222/222 [==============================] - 3s 12ms/step - loss: 0.2933 - accuracy: 0.8609\n",
            "Epoch 395/1000\n",
            "222/222 [==============================] - 3s 12ms/step - loss: 0.2892 - accuracy: 0.8646\n",
            "Epoch 396/1000\n",
            "222/222 [==============================] - 3s 12ms/step - loss: 0.2914 - accuracy: 0.8628\n",
            "Epoch 397/1000\n",
            "222/222 [==============================] - 3s 12ms/step - loss: 0.2913 - accuracy: 0.8630\n",
            "Epoch 398/1000\n",
            "222/222 [==============================] - 3s 12ms/step - loss: 0.2982 - accuracy: 0.8594\n",
            "Epoch 399/1000\n",
            "222/222 [==============================] - 3s 12ms/step - loss: 0.2963 - accuracy: 0.8621\n",
            "Epoch 400/1000\n",
            "222/222 [==============================] - 3s 12ms/step - loss: 0.2930 - accuracy: 0.8604\n",
            "Epoch 401/1000\n",
            "222/222 [==============================] - 3s 12ms/step - loss: 0.2941 - accuracy: 0.8573\n",
            "Epoch 402/1000\n",
            "222/222 [==============================] - 3s 12ms/step - loss: 0.2913 - accuracy: 0.8604\n",
            "Epoch 403/1000\n",
            "222/222 [==============================] - 3s 12ms/step - loss: 0.2940 - accuracy: 0.8632\n",
            "Epoch 404/1000\n",
            "222/222 [==============================] - 3s 12ms/step - loss: 0.2910 - accuracy: 0.8599\n",
            "Epoch 405/1000\n",
            "222/222 [==============================] - 3s 12ms/step - loss: 0.3016 - accuracy: 0.8579\n",
            "Epoch 406/1000\n",
            "222/222 [==============================] - 3s 12ms/step - loss: 0.2911 - accuracy: 0.8623\n",
            "Epoch 407/1000\n",
            "222/222 [==============================] - 3s 12ms/step - loss: 0.2926 - accuracy: 0.8608\n",
            "Epoch 408/1000\n",
            "222/222 [==============================] - 3s 12ms/step - loss: 0.2975 - accuracy: 0.8571\n",
            "Epoch 409/1000\n",
            "222/222 [==============================] - 3s 12ms/step - loss: 0.2923 - accuracy: 0.8634\n",
            "Epoch 410/1000\n",
            "222/222 [==============================] - 3s 12ms/step - loss: 0.2958 - accuracy: 0.8618\n",
            "Epoch 411/1000\n",
            "222/222 [==============================] - 3s 12ms/step - loss: 0.2884 - accuracy: 0.8638\n",
            "Epoch 412/1000\n",
            "222/222 [==============================] - 3s 12ms/step - loss: 0.2921 - accuracy: 0.8582\n",
            "Epoch 413/1000\n",
            "222/222 [==============================] - 3s 12ms/step - loss: 0.2907 - accuracy: 0.8630\n",
            "Epoch 414/1000\n",
            "222/222 [==============================] - 3s 12ms/step - loss: 0.2965 - accuracy: 0.8599\n",
            "Epoch 415/1000\n",
            "222/222 [==============================] - 3s 12ms/step - loss: 0.2991 - accuracy: 0.8591\n",
            "Epoch 416/1000\n",
            "222/222 [==============================] - 3s 12ms/step - loss: 0.2954 - accuracy: 0.8565\n",
            "Epoch 417/1000\n",
            "222/222 [==============================] - 3s 12ms/step - loss: 0.2924 - accuracy: 0.8600\n",
            "Epoch 418/1000\n",
            "222/222 [==============================] - 3s 12ms/step - loss: 0.2876 - accuracy: 0.8637\n",
            "Epoch 419/1000\n",
            "222/222 [==============================] - 3s 12ms/step - loss: 0.2877 - accuracy: 0.8650\n",
            "Epoch 420/1000\n",
            "222/222 [==============================] - 3s 12ms/step - loss: 0.2887 - accuracy: 0.8632\n",
            "Epoch 421/1000\n",
            "222/222 [==============================] - 3s 12ms/step - loss: 0.2932 - accuracy: 0.8613\n",
            "Epoch 422/1000\n",
            "222/222 [==============================] - 3s 12ms/step - loss: 0.2936 - accuracy: 0.8630\n",
            "Epoch 423/1000\n",
            "222/222 [==============================] - 3s 12ms/step - loss: 0.2897 - accuracy: 0.8625\n",
            "Epoch 424/1000\n",
            "222/222 [==============================] - 3s 12ms/step - loss: 0.2906 - accuracy: 0.8599\n",
            "Epoch 425/1000\n",
            "222/222 [==============================] - 3s 12ms/step - loss: 0.2934 - accuracy: 0.8600\n",
            "Epoch 426/1000\n",
            "222/222 [==============================] - 3s 12ms/step - loss: 0.2888 - accuracy: 0.8592\n",
            "Epoch 427/1000\n",
            "222/222 [==============================] - 3s 12ms/step - loss: 0.2939 - accuracy: 0.8651\n",
            "Epoch 428/1000\n",
            "222/222 [==============================] - 3s 12ms/step - loss: 0.2860 - accuracy: 0.8654\n",
            "Epoch 429/1000\n",
            "222/222 [==============================] - 3s 12ms/step - loss: 0.2879 - accuracy: 0.8603\n",
            "Epoch 430/1000\n",
            "222/222 [==============================] - 3s 12ms/step - loss: 0.2954 - accuracy: 0.8605\n",
            "Epoch 431/1000\n",
            "222/222 [==============================] - 3s 12ms/step - loss: 0.2922 - accuracy: 0.8583\n",
            "Epoch 432/1000\n",
            "222/222 [==============================] - 3s 12ms/step - loss: 0.2865 - accuracy: 0.8670\n",
            "Epoch 433/1000\n",
            "222/222 [==============================] - 3s 12ms/step - loss: 0.2964 - accuracy: 0.8575\n",
            "Epoch 434/1000\n",
            "222/222 [==============================] - 3s 12ms/step - loss: 0.2890 - accuracy: 0.8636\n",
            "Epoch 435/1000\n",
            "222/222 [==============================] - 3s 12ms/step - loss: 0.2922 - accuracy: 0.8611\n",
            "Epoch 436/1000\n",
            "222/222 [==============================] - 3s 12ms/step - loss: 0.2910 - accuracy: 0.8600\n",
            "Epoch 437/1000\n",
            "222/222 [==============================] - 3s 12ms/step - loss: 0.2884 - accuracy: 0.8612\n",
            "Epoch 438/1000\n",
            "222/222 [==============================] - 3s 12ms/step - loss: 0.2941 - accuracy: 0.8614\n",
            "Epoch 439/1000\n",
            "222/222 [==============================] - 3s 12ms/step - loss: 0.2898 - accuracy: 0.8634\n",
            "Epoch 440/1000\n",
            "222/222 [==============================] - 3s 12ms/step - loss: 0.2945 - accuracy: 0.8586\n",
            "Epoch 441/1000\n",
            "222/222 [==============================] - 3s 12ms/step - loss: 0.2967 - accuracy: 0.8569\n",
            "Epoch 442/1000\n",
            "222/222 [==============================] - 3s 12ms/step - loss: 0.2928 - accuracy: 0.8645\n",
            "Epoch 443/1000\n",
            "222/222 [==============================] - 3s 12ms/step - loss: 0.2980 - accuracy: 0.8579\n",
            "Epoch 444/1000\n",
            "222/222 [==============================] - 3s 12ms/step - loss: 0.2949 - accuracy: 0.8606\n",
            "Epoch 445/1000\n",
            "222/222 [==============================] - 3s 12ms/step - loss: 0.2924 - accuracy: 0.8629\n",
            "Epoch 446/1000\n",
            "222/222 [==============================] - 3s 12ms/step - loss: 0.2899 - accuracy: 0.8639\n",
            "Epoch 447/1000\n",
            "222/222 [==============================] - 3s 12ms/step - loss: 0.2861 - accuracy: 0.8640\n",
            "Epoch 448/1000\n",
            "222/222 [==============================] - 3s 12ms/step - loss: 0.2880 - accuracy: 0.8600\n",
            "Epoch 449/1000\n",
            "222/222 [==============================] - 3s 12ms/step - loss: 0.2931 - accuracy: 0.8607\n",
            "Epoch 450/1000\n",
            "222/222 [==============================] - 3s 12ms/step - loss: 0.2963 - accuracy: 0.8617\n",
            "Epoch 451/1000\n",
            "222/222 [==============================] - 3s 12ms/step - loss: 0.2939 - accuracy: 0.8589\n",
            "Epoch 452/1000\n",
            "222/222 [==============================] - 3s 12ms/step - loss: 0.2904 - accuracy: 0.8602\n",
            "Epoch 453/1000\n",
            "222/222 [==============================] - 3s 12ms/step - loss: 0.2893 - accuracy: 0.8639\n",
            "Epoch 454/1000\n",
            "222/222 [==============================] - 3s 12ms/step - loss: 0.2956 - accuracy: 0.8593\n",
            "Epoch 455/1000\n",
            "222/222 [==============================] - 3s 12ms/step - loss: 0.2952 - accuracy: 0.8622\n",
            "Epoch 456/1000\n",
            "222/222 [==============================] - 3s 12ms/step - loss: 0.2909 - accuracy: 0.8638\n",
            "Epoch 457/1000\n",
            "222/222 [==============================] - 3s 12ms/step - loss: 0.2961 - accuracy: 0.8581\n",
            "Epoch 458/1000\n",
            "222/222 [==============================] - 3s 12ms/step - loss: 0.2943 - accuracy: 0.8600\n",
            "Epoch 459/1000\n",
            "222/222 [==============================] - 3s 12ms/step - loss: 0.2976 - accuracy: 0.8565\n",
            "Epoch 460/1000\n",
            "222/222 [==============================] - 3s 12ms/step - loss: 0.2877 - accuracy: 0.8648\n",
            "Epoch 461/1000\n",
            "222/222 [==============================] - 3s 12ms/step - loss: 0.2945 - accuracy: 0.8583\n",
            "Epoch 462/1000\n",
            "222/222 [==============================] - 3s 12ms/step - loss: 0.2944 - accuracy: 0.8588\n",
            "Epoch 463/1000\n",
            "222/222 [==============================] - 3s 12ms/step - loss: 0.2865 - accuracy: 0.8612\n",
            "Epoch 464/1000\n",
            "222/222 [==============================] - 3s 12ms/step - loss: 0.2960 - accuracy: 0.8600\n",
            "Epoch 465/1000\n",
            "222/222 [==============================] - 3s 12ms/step - loss: 0.2898 - accuracy: 0.8638\n",
            "Epoch 466/1000\n",
            "222/222 [==============================] - 3s 12ms/step - loss: 0.2912 - accuracy: 0.8598\n",
            "Epoch 467/1000\n",
            "222/222 [==============================] - 3s 12ms/step - loss: 0.2918 - accuracy: 0.8590\n",
            "Epoch 468/1000\n",
            "222/222 [==============================] - 3s 12ms/step - loss: 0.2945 - accuracy: 0.8594\n",
            "Epoch 469/1000\n",
            "222/222 [==============================] - 3s 12ms/step - loss: 0.2935 - accuracy: 0.8623\n",
            "Epoch 470/1000\n",
            "222/222 [==============================] - 3s 12ms/step - loss: 0.2869 - accuracy: 0.8657\n",
            "Epoch 471/1000\n",
            "222/222 [==============================] - 3s 12ms/step - loss: 0.2949 - accuracy: 0.8611\n",
            "Epoch 472/1000\n",
            "222/222 [==============================] - 3s 12ms/step - loss: 0.2887 - accuracy: 0.8654\n",
            "Epoch 473/1000\n",
            "222/222 [==============================] - 3s 12ms/step - loss: 0.2864 - accuracy: 0.8598\n",
            "Epoch 474/1000\n",
            "222/222 [==============================] - 3s 12ms/step - loss: 0.2912 - accuracy: 0.8614\n",
            "Epoch 475/1000\n",
            "222/222 [==============================] - 3s 12ms/step - loss: 0.2972 - accuracy: 0.8573\n",
            "Epoch 476/1000\n",
            "222/222 [==============================] - 3s 12ms/step - loss: 0.2872 - accuracy: 0.8631\n",
            "Epoch 477/1000\n",
            "222/222 [==============================] - 3s 12ms/step - loss: 0.2901 - accuracy: 0.8615\n",
            "Epoch 478/1000\n",
            "222/222 [==============================] - 3s 12ms/step - loss: 0.2870 - accuracy: 0.8630\n",
            "Epoch 479/1000\n",
            "222/222 [==============================] - 3s 12ms/step - loss: 0.2874 - accuracy: 0.8641\n",
            "Epoch 480/1000\n",
            "222/222 [==============================] - 3s 12ms/step - loss: 0.2947 - accuracy: 0.8623\n",
            "Epoch 481/1000\n",
            "222/222 [==============================] - 3s 12ms/step - loss: 0.2904 - accuracy: 0.8617\n",
            "Epoch 482/1000\n",
            "222/222 [==============================] - 3s 12ms/step - loss: 0.2822 - accuracy: 0.8656\n",
            "Epoch 483/1000\n",
            "222/222 [==============================] - 3s 12ms/step - loss: 0.2853 - accuracy: 0.8657\n",
            "Epoch 484/1000\n",
            "222/222 [==============================] - 3s 12ms/step - loss: 0.2901 - accuracy: 0.8623\n",
            "Epoch 485/1000\n",
            "222/222 [==============================] - 3s 12ms/step - loss: 0.2878 - accuracy: 0.8609\n",
            "Epoch 486/1000\n",
            "222/222 [==============================] - 3s 12ms/step - loss: 0.2863 - accuracy: 0.8641\n",
            "Epoch 487/1000\n",
            "222/222 [==============================] - 3s 12ms/step - loss: 0.2934 - accuracy: 0.8573\n",
            "Epoch 488/1000\n",
            "222/222 [==============================] - 3s 12ms/step - loss: 0.2892 - accuracy: 0.8623\n",
            "Epoch 489/1000\n",
            "222/222 [==============================] - 3s 12ms/step - loss: 0.2879 - accuracy: 0.8678\n",
            "Epoch 490/1000\n",
            "222/222 [==============================] - 3s 12ms/step - loss: 0.2876 - accuracy: 0.8630\n",
            "Epoch 491/1000\n",
            "222/222 [==============================] - 3s 12ms/step - loss: 0.2856 - accuracy: 0.8660\n",
            "Epoch 492/1000\n",
            "222/222 [==============================] - 3s 12ms/step - loss: 0.2880 - accuracy: 0.8608\n",
            "Epoch 493/1000\n",
            "222/222 [==============================] - 3s 12ms/step - loss: 0.2914 - accuracy: 0.8610\n",
            "Epoch 494/1000\n",
            "222/222 [==============================] - 3s 12ms/step - loss: 0.2898 - accuracy: 0.8636\n",
            "Epoch 495/1000\n",
            "222/222 [==============================] - 3s 12ms/step - loss: 0.2859 - accuracy: 0.8629\n",
            "Epoch 496/1000\n",
            "222/222 [==============================] - 3s 12ms/step - loss: 0.2880 - accuracy: 0.8634\n",
            "Epoch 497/1000\n",
            "222/222 [==============================] - 3s 12ms/step - loss: 0.2948 - accuracy: 0.8629\n",
            "Epoch 498/1000\n",
            "222/222 [==============================] - 3s 12ms/step - loss: 0.2916 - accuracy: 0.8598\n",
            "Epoch 499/1000\n",
            "222/222 [==============================] - 3s 12ms/step - loss: 0.2920 - accuracy: 0.8647\n",
            "Epoch 500/1000\n",
            "222/222 [==============================] - 3s 12ms/step - loss: 0.2917 - accuracy: 0.8621\n",
            "Epoch 501/1000\n",
            "222/222 [==============================] - 3s 12ms/step - loss: 0.2893 - accuracy: 0.8638\n",
            "Epoch 502/1000\n",
            "222/222 [==============================] - 3s 12ms/step - loss: 0.2934 - accuracy: 0.8584\n",
            "Epoch 503/1000\n",
            "222/222 [==============================] - 3s 12ms/step - loss: 0.2948 - accuracy: 0.8578\n",
            "Epoch 504/1000\n",
            "222/222 [==============================] - 3s 12ms/step - loss: 0.2944 - accuracy: 0.8605\n",
            "Epoch 505/1000\n",
            "222/222 [==============================] - 3s 12ms/step - loss: 0.2947 - accuracy: 0.8614\n",
            "Epoch 506/1000\n",
            "222/222 [==============================] - 3s 12ms/step - loss: 0.2860 - accuracy: 0.8639\n",
            "Epoch 507/1000\n",
            "222/222 [==============================] - 3s 12ms/step - loss: 0.2860 - accuracy: 0.8667\n",
            "Epoch 508/1000\n",
            "222/222 [==============================] - 3s 12ms/step - loss: 0.2942 - accuracy: 0.8592\n",
            "Epoch 509/1000\n",
            "222/222 [==============================] - 3s 12ms/step - loss: 0.2847 - accuracy: 0.8678\n",
            "Epoch 510/1000\n",
            "222/222 [==============================] - 3s 12ms/step - loss: 0.2890 - accuracy: 0.8626\n",
            "Epoch 511/1000\n",
            "222/222 [==============================] - 3s 12ms/step - loss: 0.2848 - accuracy: 0.8637\n",
            "Epoch 512/1000\n",
            "222/222 [==============================] - 3s 12ms/step - loss: 0.2921 - accuracy: 0.8628\n",
            "Epoch 513/1000\n",
            "222/222 [==============================] - 3s 13ms/step - loss: 0.2904 - accuracy: 0.8602\n",
            "Epoch 514/1000\n",
            "222/222 [==============================] - 3s 12ms/step - loss: 0.2891 - accuracy: 0.8660\n",
            "Epoch 515/1000\n",
            "222/222 [==============================] - 3s 13ms/step - loss: 0.2894 - accuracy: 0.8630\n",
            "Epoch 516/1000\n",
            "222/222 [==============================] - 3s 12ms/step - loss: 0.2904 - accuracy: 0.8635\n",
            "Epoch 517/1000\n",
            "222/222 [==============================] - 3s 12ms/step - loss: 0.2892 - accuracy: 0.8625\n",
            "Epoch 518/1000\n",
            "222/222 [==============================] - 3s 12ms/step - loss: 0.2871 - accuracy: 0.8642\n",
            "Epoch 519/1000\n",
            "222/222 [==============================] - 3s 12ms/step - loss: 0.2852 - accuracy: 0.8673\n",
            "Epoch 520/1000\n",
            "222/222 [==============================] - 3s 12ms/step - loss: 0.2897 - accuracy: 0.8650\n",
            "Epoch 521/1000\n",
            "222/222 [==============================] - 3s 12ms/step - loss: 0.2927 - accuracy: 0.8621\n",
            "Epoch 522/1000\n",
            "222/222 [==============================] - 3s 12ms/step - loss: 0.2882 - accuracy: 0.8614\n",
            "Epoch 523/1000\n",
            "222/222 [==============================] - 3s 12ms/step - loss: 0.2845 - accuracy: 0.8632\n",
            "Epoch 524/1000\n",
            "222/222 [==============================] - 3s 12ms/step - loss: 0.2858 - accuracy: 0.8659\n",
            "Epoch 525/1000\n",
            "222/222 [==============================] - 3s 12ms/step - loss: 0.2872 - accuracy: 0.8613\n",
            "Epoch 526/1000\n",
            "222/222 [==============================] - 3s 12ms/step - loss: 0.2875 - accuracy: 0.8623\n",
            "Epoch 527/1000\n",
            "222/222 [==============================] - 3s 12ms/step - loss: 0.2887 - accuracy: 0.8633\n",
            "Epoch 528/1000\n",
            "222/222 [==============================] - 3s 12ms/step - loss: 0.2885 - accuracy: 0.8633\n",
            "Epoch 529/1000\n",
            "222/222 [==============================] - 3s 12ms/step - loss: 0.2909 - accuracy: 0.8628\n",
            "Epoch 530/1000\n",
            "222/222 [==============================] - 3s 12ms/step - loss: 0.2915 - accuracy: 0.8645\n",
            "Epoch 531/1000\n",
            "222/222 [==============================] - 3s 12ms/step - loss: 0.2894 - accuracy: 0.8658\n",
            "Epoch 532/1000\n",
            "222/222 [==============================] - 3s 12ms/step - loss: 0.2928 - accuracy: 0.8579\n",
            "Epoch 533/1000\n",
            "222/222 [==============================] - 3s 12ms/step - loss: 0.2889 - accuracy: 0.8597\n",
            "Epoch 534/1000\n",
            "222/222 [==============================] - 3s 12ms/step - loss: 0.2908 - accuracy: 0.8606\n",
            "Epoch 535/1000\n",
            "222/222 [==============================] - 3s 12ms/step - loss: 0.2933 - accuracy: 0.8590\n",
            "Epoch 536/1000\n",
            "222/222 [==============================] - 3s 12ms/step - loss: 0.2899 - accuracy: 0.8611\n",
            "Epoch 537/1000\n",
            "222/222 [==============================] - 3s 12ms/step - loss: 0.2932 - accuracy: 0.8617\n",
            "Epoch 538/1000\n",
            "222/222 [==============================] - 3s 12ms/step - loss: 0.2918 - accuracy: 0.8632\n",
            "Epoch 539/1000\n",
            "222/222 [==============================] - 3s 12ms/step - loss: 0.2833 - accuracy: 0.8662\n",
            "Epoch 540/1000\n",
            "222/222 [==============================] - 3s 12ms/step - loss: 0.2849 - accuracy: 0.8652\n",
            "Epoch 541/1000\n",
            "222/222 [==============================] - 3s 12ms/step - loss: 0.2924 - accuracy: 0.8637\n",
            "Epoch 542/1000\n",
            "222/222 [==============================] - 3s 12ms/step - loss: 0.2857 - accuracy: 0.8638\n",
            "Epoch 543/1000\n",
            "222/222 [==============================] - 3s 12ms/step - loss: 0.2944 - accuracy: 0.8619\n",
            "Epoch 544/1000\n",
            "222/222 [==============================] - 3s 12ms/step - loss: 0.2919 - accuracy: 0.8601\n",
            "Epoch 545/1000\n",
            "222/222 [==============================] - 3s 12ms/step - loss: 0.2886 - accuracy: 0.8643\n",
            "Epoch 546/1000\n",
            "222/222 [==============================] - 3s 12ms/step - loss: 0.2889 - accuracy: 0.8597\n",
            "Epoch 547/1000\n",
            "222/222 [==============================] - 3s 12ms/step - loss: 0.2943 - accuracy: 0.8601\n",
            "Epoch 548/1000\n",
            "222/222 [==============================] - 3s 12ms/step - loss: 0.2876 - accuracy: 0.8619\n",
            "Epoch 549/1000\n",
            "222/222 [==============================] - 3s 12ms/step - loss: 0.2877 - accuracy: 0.8641\n",
            "Epoch 550/1000\n",
            "222/222 [==============================] - 3s 12ms/step - loss: 0.2902 - accuracy: 0.8631\n",
            "Epoch 551/1000\n",
            "222/222 [==============================] - 3s 12ms/step - loss: 0.2923 - accuracy: 0.8616\n",
            "Epoch 552/1000\n",
            "222/222 [==============================] - 3s 12ms/step - loss: 0.2914 - accuracy: 0.8613\n",
            "Epoch 553/1000\n",
            "222/222 [==============================] - 3s 12ms/step - loss: 0.2940 - accuracy: 0.8600\n",
            "Epoch 554/1000\n",
            "222/222 [==============================] - 3s 12ms/step - loss: 0.2911 - accuracy: 0.8657\n",
            "Epoch 555/1000\n",
            "222/222 [==============================] - 3s 12ms/step - loss: 0.2872 - accuracy: 0.8614\n",
            "Epoch 556/1000\n",
            "222/222 [==============================] - 3s 12ms/step - loss: 0.2838 - accuracy: 0.8652\n",
            "Epoch 557/1000\n",
            "222/222 [==============================] - 3s 12ms/step - loss: 0.2879 - accuracy: 0.8632\n",
            "Epoch 558/1000\n",
            "222/222 [==============================] - 3s 12ms/step - loss: 0.2906 - accuracy: 0.8620\n",
            "Epoch 559/1000\n",
            "222/222 [==============================] - 3s 12ms/step - loss: 0.2902 - accuracy: 0.8637\n",
            "Epoch 560/1000\n",
            "222/222 [==============================] - 3s 12ms/step - loss: 0.2875 - accuracy: 0.8624\n",
            "Epoch 561/1000\n",
            "222/222 [==============================] - 3s 12ms/step - loss: 0.2912 - accuracy: 0.8587\n",
            "Epoch 562/1000\n",
            "222/222 [==============================] - 3s 12ms/step - loss: 0.2919 - accuracy: 0.8618\n",
            "Epoch 563/1000\n",
            "222/222 [==============================] - 3s 12ms/step - loss: 0.2894 - accuracy: 0.8639\n",
            "Epoch 564/1000\n",
            "222/222 [==============================] - 3s 12ms/step - loss: 0.2914 - accuracy: 0.8633\n",
            "Epoch 565/1000\n",
            "222/222 [==============================] - 3s 12ms/step - loss: 0.2854 - accuracy: 0.8633\n",
            "Epoch 566/1000\n",
            "222/222 [==============================] - 3s 12ms/step - loss: 0.2908 - accuracy: 0.8609\n",
            "Epoch 567/1000\n",
            "222/222 [==============================] - 3s 12ms/step - loss: 0.2924 - accuracy: 0.8610\n",
            "Epoch 568/1000\n",
            "222/222 [==============================] - 3s 12ms/step - loss: 0.2911 - accuracy: 0.8607\n",
            "Epoch 569/1000\n",
            "222/222 [==============================] - 3s 12ms/step - loss: 0.2896 - accuracy: 0.8612\n",
            "Epoch 570/1000\n",
            "222/222 [==============================] - 3s 12ms/step - loss: 0.2863 - accuracy: 0.8665\n",
            "Epoch 571/1000\n",
            "222/222 [==============================] - 3s 12ms/step - loss: 0.2919 - accuracy: 0.8628\n",
            "Epoch 572/1000\n",
            "222/222 [==============================] - 3s 12ms/step - loss: 0.2827 - accuracy: 0.8673\n",
            "Epoch 573/1000\n",
            "222/222 [==============================] - 3s 12ms/step - loss: 0.2849 - accuracy: 0.8614\n",
            "Epoch 574/1000\n",
            "222/222 [==============================] - 3s 13ms/step - loss: 0.2885 - accuracy: 0.8651\n",
            "Epoch 575/1000\n",
            "222/222 [==============================] - 3s 13ms/step - loss: 0.2867 - accuracy: 0.8605\n",
            "Epoch 576/1000\n",
            "222/222 [==============================] - 3s 13ms/step - loss: 0.2873 - accuracy: 0.8650\n",
            "Epoch 577/1000\n",
            "222/222 [==============================] - 3s 13ms/step - loss: 0.2895 - accuracy: 0.8612\n",
            "Epoch 578/1000\n",
            "222/222 [==============================] - 3s 12ms/step - loss: 0.2846 - accuracy: 0.8647\n",
            "Epoch 579/1000\n",
            "222/222 [==============================] - 3s 12ms/step - loss: 0.2872 - accuracy: 0.8592\n",
            "Epoch 580/1000\n",
            "222/222 [==============================] - 3s 12ms/step - loss: 0.2952 - accuracy: 0.8591\n",
            "Epoch 581/1000\n",
            "222/222 [==============================] - 3s 12ms/step - loss: 0.2930 - accuracy: 0.8588\n",
            "Epoch 582/1000\n",
            "222/222 [==============================] - 3s 12ms/step - loss: 0.2908 - accuracy: 0.8649\n",
            "Epoch 583/1000\n",
            "222/222 [==============================] - 3s 12ms/step - loss: 0.2889 - accuracy: 0.8641\n",
            "Epoch 584/1000\n",
            "222/222 [==============================] - 3s 12ms/step - loss: 0.2882 - accuracy: 0.8640\n",
            "Epoch 585/1000\n",
            "222/222 [==============================] - 3s 12ms/step - loss: 0.2876 - accuracy: 0.8641\n",
            "Epoch 586/1000\n",
            "222/222 [==============================] - 3s 12ms/step - loss: 0.2855 - accuracy: 0.8675\n",
            "Epoch 587/1000\n",
            "222/222 [==============================] - 3s 12ms/step - loss: 0.2921 - accuracy: 0.8615\n",
            "Epoch 588/1000\n",
            "222/222 [==============================] - 3s 12ms/step - loss: 0.2883 - accuracy: 0.8638\n",
            "Epoch 589/1000\n",
            "222/222 [==============================] - 3s 12ms/step - loss: 0.2841 - accuracy: 0.8667\n",
            "Epoch 590/1000\n",
            "222/222 [==============================] - 3s 12ms/step - loss: 0.2866 - accuracy: 0.8587\n",
            "Epoch 591/1000\n",
            "222/222 [==============================] - 3s 12ms/step - loss: 0.2864 - accuracy: 0.8615\n",
            "Epoch 592/1000\n",
            "222/222 [==============================] - 3s 13ms/step - loss: 0.2839 - accuracy: 0.8662\n",
            "Epoch 593/1000\n",
            "222/222 [==============================] - 3s 12ms/step - loss: 0.2917 - accuracy: 0.8578\n",
            "Epoch 594/1000\n",
            "222/222 [==============================] - 3s 12ms/step - loss: 0.2934 - accuracy: 0.8615\n",
            "Epoch 595/1000\n",
            "222/222 [==============================] - 3s 12ms/step - loss: 0.2896 - accuracy: 0.8644\n",
            "Epoch 596/1000\n",
            "222/222 [==============================] - 3s 12ms/step - loss: 0.2929 - accuracy: 0.8615\n",
            "Epoch 597/1000\n",
            "222/222 [==============================] - 3s 13ms/step - loss: 0.2887 - accuracy: 0.8652\n",
            "Epoch 598/1000\n",
            "222/222 [==============================] - 3s 12ms/step - loss: 0.2884 - accuracy: 0.8608\n",
            "Epoch 599/1000\n",
            "222/222 [==============================] - 3s 12ms/step - loss: 0.2915 - accuracy: 0.8609\n",
            "Epoch 600/1000\n",
            "222/222 [==============================] - 3s 12ms/step - loss: 0.2845 - accuracy: 0.8657\n",
            "Epoch 601/1000\n",
            "222/222 [==============================] - 3s 13ms/step - loss: 0.2865 - accuracy: 0.8629\n",
            "Epoch 602/1000\n",
            "222/222 [==============================] - 3s 12ms/step - loss: 0.2911 - accuracy: 0.8636\n",
            "Epoch 603/1000\n",
            "222/222 [==============================] - 3s 12ms/step - loss: 0.2880 - accuracy: 0.8665\n",
            "Epoch 604/1000\n",
            "222/222 [==============================] - 3s 12ms/step - loss: 0.2873 - accuracy: 0.8633\n",
            "Epoch 605/1000\n",
            "222/222 [==============================] - 3s 12ms/step - loss: 0.2885 - accuracy: 0.8625\n",
            "Epoch 606/1000\n",
            "222/222 [==============================] - 3s 13ms/step - loss: 0.2864 - accuracy: 0.8597\n",
            "Epoch 607/1000\n",
            "222/222 [==============================] - 3s 12ms/step - loss: 0.2860 - accuracy: 0.8644\n",
            "Epoch 608/1000\n",
            "222/222 [==============================] - 3s 12ms/step - loss: 0.2838 - accuracy: 0.8629\n",
            "Epoch 609/1000\n",
            "222/222 [==============================] - 3s 12ms/step - loss: 0.2867 - accuracy: 0.8604\n",
            "Epoch 610/1000\n",
            "222/222 [==============================] - 3s 12ms/step - loss: 0.2873 - accuracy: 0.8602\n",
            "Epoch 611/1000\n",
            "222/222 [==============================] - 3s 12ms/step - loss: 0.2763 - accuracy: 0.8689\n",
            "Epoch 612/1000\n",
            "222/222 [==============================] - 3s 12ms/step - loss: 0.2791 - accuracy: 0.8667\n",
            "Epoch 613/1000\n",
            "222/222 [==============================] - 3s 12ms/step - loss: 0.2891 - accuracy: 0.8620\n",
            "Epoch 614/1000\n",
            "222/222 [==============================] - 3s 12ms/step - loss: 0.2857 - accuracy: 0.8642\n",
            "Epoch 615/1000\n",
            "222/222 [==============================] - 3s 12ms/step - loss: 0.2838 - accuracy: 0.8650\n",
            "Epoch 616/1000\n",
            "222/222 [==============================] - 3s 12ms/step - loss: 0.2883 - accuracy: 0.8625\n",
            "Epoch 617/1000\n",
            "222/222 [==============================] - 3s 12ms/step - loss: 0.2904 - accuracy: 0.8591\n",
            "Epoch 618/1000\n",
            "222/222 [==============================] - 3s 12ms/step - loss: 0.2870 - accuracy: 0.8630\n",
            "Epoch 619/1000\n",
            "222/222 [==============================] - 3s 12ms/step - loss: 0.2846 - accuracy: 0.8636\n",
            "Epoch 620/1000\n",
            "222/222 [==============================] - 3s 12ms/step - loss: 0.2895 - accuracy: 0.8610\n",
            "Epoch 621/1000\n",
            "222/222 [==============================] - 3s 13ms/step - loss: 0.2865 - accuracy: 0.8637\n",
            "Epoch 622/1000\n",
            "222/222 [==============================] - 3s 13ms/step - loss: 0.2866 - accuracy: 0.8642\n",
            "Epoch 623/1000\n",
            "222/222 [==============================] - 3s 12ms/step - loss: 0.2889 - accuracy: 0.8640\n",
            "Epoch 624/1000\n",
            "222/222 [==============================] - 3s 12ms/step - loss: 0.2891 - accuracy: 0.8618\n",
            "Epoch 625/1000\n",
            "222/222 [==============================] - 3s 13ms/step - loss: 0.2822 - accuracy: 0.8652\n",
            "Epoch 626/1000\n",
            "222/222 [==============================] - 3s 12ms/step - loss: 0.2907 - accuracy: 0.8607\n",
            "Epoch 627/1000\n",
            "222/222 [==============================] - 3s 13ms/step - loss: 0.2875 - accuracy: 0.8622\n",
            "Epoch 628/1000\n",
            "222/222 [==============================] - 3s 13ms/step - loss: 0.2898 - accuracy: 0.8648\n",
            "Epoch 629/1000\n",
            "222/222 [==============================] - 3s 12ms/step - loss: 0.2814 - accuracy: 0.8680\n",
            "Epoch 630/1000\n",
            "222/222 [==============================] - 3s 12ms/step - loss: 0.2918 - accuracy: 0.8621\n",
            "Epoch 631/1000\n",
            "222/222 [==============================] - 3s 12ms/step - loss: 0.2964 - accuracy: 0.8575\n",
            "Epoch 632/1000\n",
            "222/222 [==============================] - 3s 12ms/step - loss: 0.2842 - accuracy: 0.8605\n",
            "Epoch 633/1000\n",
            "222/222 [==============================] - 3s 12ms/step - loss: 0.2840 - accuracy: 0.8696\n",
            "Epoch 634/1000\n",
            "222/222 [==============================] - 3s 12ms/step - loss: 0.2852 - accuracy: 0.8634\n",
            "Epoch 635/1000\n",
            "222/222 [==============================] - 3s 12ms/step - loss: 0.2875 - accuracy: 0.8658\n",
            "Epoch 636/1000\n",
            "222/222 [==============================] - 3s 12ms/step - loss: 0.2897 - accuracy: 0.8636\n",
            "Epoch 637/1000\n",
            "222/222 [==============================] - 3s 12ms/step - loss: 0.2890 - accuracy: 0.8650\n",
            "Epoch 638/1000\n",
            "222/222 [==============================] - 3s 12ms/step - loss: 0.2896 - accuracy: 0.8604\n",
            "Epoch 639/1000\n",
            "222/222 [==============================] - 3s 13ms/step - loss: 0.2839 - accuracy: 0.8660\n",
            "Epoch 640/1000\n",
            "222/222 [==============================] - 3s 12ms/step - loss: 0.2861 - accuracy: 0.8612\n",
            "Epoch 641/1000\n",
            "222/222 [==============================] - 3s 12ms/step - loss: 0.2870 - accuracy: 0.8673\n",
            "Epoch 642/1000\n",
            "222/222 [==============================] - 3s 13ms/step - loss: 0.2816 - accuracy: 0.8677\n",
            "Epoch 643/1000\n",
            "222/222 [==============================] - 3s 12ms/step - loss: 0.2880 - accuracy: 0.8630\n",
            "Epoch 644/1000\n",
            "222/222 [==============================] - 3s 13ms/step - loss: 0.2894 - accuracy: 0.8624\n",
            "Epoch 645/1000\n",
            "222/222 [==============================] - 3s 12ms/step - loss: 0.2843 - accuracy: 0.8655\n",
            "Epoch 646/1000\n",
            "222/222 [==============================] - 3s 13ms/step - loss: 0.2877 - accuracy: 0.8670\n",
            "Epoch 647/1000\n",
            "222/222 [==============================] - 3s 12ms/step - loss: 0.2863 - accuracy: 0.8646\n",
            "Epoch 648/1000\n",
            "222/222 [==============================] - 3s 13ms/step - loss: 0.2873 - accuracy: 0.8605\n",
            "Epoch 649/1000\n",
            "222/222 [==============================] - 3s 12ms/step - loss: 0.2807 - accuracy: 0.8693\n",
            "Epoch 650/1000\n",
            "222/222 [==============================] - 3s 13ms/step - loss: 0.2852 - accuracy: 0.8644\n",
            "Epoch 651/1000\n",
            "222/222 [==============================] - 3s 12ms/step - loss: 0.2902 - accuracy: 0.8638\n",
            "Epoch 652/1000\n",
            "222/222 [==============================] - 3s 12ms/step - loss: 0.2815 - accuracy: 0.8671\n",
            "Epoch 653/1000\n",
            "222/222 [==============================] - 3s 12ms/step - loss: 0.2873 - accuracy: 0.8667\n",
            "Epoch 654/1000\n",
            "222/222 [==============================] - 3s 13ms/step - loss: 0.2933 - accuracy: 0.8593\n",
            "Epoch 655/1000\n",
            "222/222 [==============================] - 3s 13ms/step - loss: 0.2847 - accuracy: 0.8621\n",
            "Epoch 656/1000\n",
            "222/222 [==============================] - 3s 13ms/step - loss: 0.2899 - accuracy: 0.8632\n",
            "Epoch 657/1000\n",
            "222/222 [==============================] - 3s 13ms/step - loss: 0.2877 - accuracy: 0.8622\n",
            "Epoch 658/1000\n",
            "222/222 [==============================] - 3s 13ms/step - loss: 0.2895 - accuracy: 0.8631\n",
            "Epoch 659/1000\n",
            "222/222 [==============================] - 3s 13ms/step - loss: 0.2877 - accuracy: 0.8653\n",
            "Epoch 660/1000\n",
            "222/222 [==============================] - 3s 13ms/step - loss: 0.2807 - accuracy: 0.8639\n",
            "Epoch 661/1000\n",
            "222/222 [==============================] - 3s 13ms/step - loss: 0.2866 - accuracy: 0.8652\n",
            "Epoch 662/1000\n",
            "222/222 [==============================] - 3s 13ms/step - loss: 0.2895 - accuracy: 0.8626\n",
            "Epoch 663/1000\n",
            "222/222 [==============================] - 3s 13ms/step - loss: 0.2903 - accuracy: 0.8622\n",
            "Epoch 664/1000\n",
            "222/222 [==============================] - 3s 12ms/step - loss: 0.2871 - accuracy: 0.8664\n",
            "Epoch 665/1000\n",
            "222/222 [==============================] - 3s 13ms/step - loss: 0.2888 - accuracy: 0.8643\n",
            "Epoch 666/1000\n",
            "222/222 [==============================] - 3s 12ms/step - loss: 0.2832 - accuracy: 0.8650\n",
            "Epoch 667/1000\n",
            "222/222 [==============================] - 3s 12ms/step - loss: 0.2855 - accuracy: 0.8634\n",
            "Epoch 668/1000\n",
            "222/222 [==============================] - 3s 12ms/step - loss: 0.2819 - accuracy: 0.8707\n",
            "Epoch 669/1000\n",
            "222/222 [==============================] - 3s 12ms/step - loss: 0.2881 - accuracy: 0.8614\n",
            "Epoch 670/1000\n",
            "222/222 [==============================] - 3s 12ms/step - loss: 0.2869 - accuracy: 0.8641\n",
            "Epoch 671/1000\n",
            "222/222 [==============================] - 3s 12ms/step - loss: 0.2854 - accuracy: 0.8634\n",
            "Epoch 672/1000\n",
            "222/222 [==============================] - 3s 12ms/step - loss: 0.2897 - accuracy: 0.8604\n",
            "Epoch 673/1000\n",
            "222/222 [==============================] - 3s 12ms/step - loss: 0.2852 - accuracy: 0.8612\n",
            "Epoch 674/1000\n",
            "222/222 [==============================] - 3s 12ms/step - loss: 0.2876 - accuracy: 0.8640\n",
            "Epoch 675/1000\n",
            "222/222 [==============================] - 3s 12ms/step - loss: 0.2885 - accuracy: 0.8607\n",
            "Epoch 676/1000\n",
            "222/222 [==============================] - 3s 12ms/step - loss: 0.2876 - accuracy: 0.8623\n",
            "Epoch 677/1000\n",
            "222/222 [==============================] - 3s 13ms/step - loss: 0.2895 - accuracy: 0.8619\n",
            "Epoch 678/1000\n",
            "222/222 [==============================] - 3s 13ms/step - loss: 0.2838 - accuracy: 0.8657\n",
            "Epoch 679/1000\n",
            "222/222 [==============================] - 3s 12ms/step - loss: 0.2840 - accuracy: 0.8637\n",
            "Epoch 680/1000\n",
            "222/222 [==============================] - 3s 12ms/step - loss: 0.2852 - accuracy: 0.8645\n",
            "Epoch 681/1000\n",
            "222/222 [==============================] - 3s 12ms/step - loss: 0.2904 - accuracy: 0.8624\n",
            "Epoch 682/1000\n",
            "222/222 [==============================] - 3s 13ms/step - loss: 0.2839 - accuracy: 0.8649\n",
            "Epoch 683/1000\n",
            "222/222 [==============================] - 3s 12ms/step - loss: 0.2879 - accuracy: 0.8604\n",
            "Epoch 684/1000\n",
            "222/222 [==============================] - 3s 12ms/step - loss: 0.2889 - accuracy: 0.8621\n",
            "Epoch 685/1000\n",
            "222/222 [==============================] - 3s 12ms/step - loss: 0.2862 - accuracy: 0.8624\n",
            "Epoch 686/1000\n",
            "222/222 [==============================] - 3s 13ms/step - loss: 0.2839 - accuracy: 0.8663\n",
            "Epoch 687/1000\n",
            "222/222 [==============================] - 3s 12ms/step - loss: 0.2866 - accuracy: 0.8649\n",
            "Epoch 688/1000\n",
            "222/222 [==============================] - 3s 13ms/step - loss: 0.2843 - accuracy: 0.8646\n",
            "Epoch 689/1000\n",
            "222/222 [==============================] - 3s 12ms/step - loss: 0.2867 - accuracy: 0.8642\n",
            "Epoch 690/1000\n",
            "222/222 [==============================] - 3s 12ms/step - loss: 0.2845 - accuracy: 0.8666\n",
            "Epoch 691/1000\n",
            "222/222 [==============================] - 3s 12ms/step - loss: 0.2853 - accuracy: 0.8627\n",
            "Epoch 692/1000\n",
            "222/222 [==============================] - 3s 13ms/step - loss: 0.2877 - accuracy: 0.8642\n",
            "Epoch 693/1000\n",
            "222/222 [==============================] - 3s 13ms/step - loss: 0.2842 - accuracy: 0.8650\n",
            "Epoch 694/1000\n",
            "222/222 [==============================] - 3s 13ms/step - loss: 0.2835 - accuracy: 0.8658\n",
            "Epoch 695/1000\n",
            "222/222 [==============================] - 3s 13ms/step - loss: 0.2851 - accuracy: 0.8678\n",
            "Epoch 696/1000\n",
            "222/222 [==============================] - 3s 12ms/step - loss: 0.2830 - accuracy: 0.8656\n",
            "Epoch 697/1000\n",
            "222/222 [==============================] - 3s 13ms/step - loss: 0.2808 - accuracy: 0.8649\n",
            "Epoch 698/1000\n",
            "222/222 [==============================] - 3s 13ms/step - loss: 0.2912 - accuracy: 0.8649\n",
            "Epoch 699/1000\n",
            "222/222 [==============================] - 3s 13ms/step - loss: 0.2839 - accuracy: 0.8656\n",
            "Epoch 700/1000\n",
            "222/222 [==============================] - 3s 13ms/step - loss: 0.2897 - accuracy: 0.8630\n",
            "Epoch 701/1000\n",
            "222/222 [==============================] - 3s 13ms/step - loss: 0.2818 - accuracy: 0.8664\n",
            "Epoch 702/1000\n",
            "222/222 [==============================] - 3s 12ms/step - loss: 0.2795 - accuracy: 0.8682\n",
            "Epoch 703/1000\n",
            "222/222 [==============================] - 3s 13ms/step - loss: 0.2874 - accuracy: 0.8645\n",
            "Epoch 704/1000\n",
            "222/222 [==============================] - 3s 12ms/step - loss: 0.2782 - accuracy: 0.8679\n",
            "Epoch 705/1000\n",
            "222/222 [==============================] - 3s 13ms/step - loss: 0.2855 - accuracy: 0.8669\n",
            "Epoch 706/1000\n",
            "222/222 [==============================] - 3s 13ms/step - loss: 0.2858 - accuracy: 0.8610\n",
            "Epoch 707/1000\n",
            "222/222 [==============================] - 3s 13ms/step - loss: 0.2832 - accuracy: 0.8639\n",
            "Epoch 708/1000\n",
            "222/222 [==============================] - 3s 13ms/step - loss: 0.2855 - accuracy: 0.8646\n",
            "Epoch 709/1000\n",
            "222/222 [==============================] - 3s 13ms/step - loss: 0.2802 - accuracy: 0.8657\n",
            "Epoch 710/1000\n",
            "222/222 [==============================] - 3s 13ms/step - loss: 0.2824 - accuracy: 0.8665\n",
            "Epoch 711/1000\n",
            "222/222 [==============================] - 3s 13ms/step - loss: 0.2817 - accuracy: 0.8643\n",
            "Epoch 712/1000\n",
            "222/222 [==============================] - 3s 12ms/step - loss: 0.2833 - accuracy: 0.8638\n",
            "Epoch 713/1000\n",
            "222/222 [==============================] - 3s 12ms/step - loss: 0.2828 - accuracy: 0.8663\n",
            "Epoch 714/1000\n",
            "222/222 [==============================] - 3s 12ms/step - loss: 0.2855 - accuracy: 0.8657\n",
            "Epoch 715/1000\n",
            "222/222 [==============================] - 3s 13ms/step - loss: 0.2914 - accuracy: 0.8609\n",
            "Epoch 716/1000\n",
            "222/222 [==============================] - 3s 13ms/step - loss: 0.2839 - accuracy: 0.8664\n",
            "Epoch 717/1000\n",
            "222/222 [==============================] - 3s 13ms/step - loss: 0.2871 - accuracy: 0.8595\n",
            "Epoch 718/1000\n",
            "222/222 [==============================] - 3s 13ms/step - loss: 0.2873 - accuracy: 0.8629\n",
            "Epoch 719/1000\n",
            "222/222 [==============================] - 3s 13ms/step - loss: 0.2851 - accuracy: 0.8631\n",
            "Epoch 720/1000\n",
            "222/222 [==============================] - 3s 13ms/step - loss: 0.2866 - accuracy: 0.8639\n",
            "Epoch 721/1000\n",
            "222/222 [==============================] - 3s 12ms/step - loss: 0.2791 - accuracy: 0.8670\n",
            "Epoch 722/1000\n",
            "222/222 [==============================] - 3s 13ms/step - loss: 0.2839 - accuracy: 0.8641\n",
            "Epoch 723/1000\n",
            "222/222 [==============================] - 3s 13ms/step - loss: 0.2873 - accuracy: 0.8646\n",
            "Epoch 724/1000\n",
            "222/222 [==============================] - 3s 13ms/step - loss: 0.2822 - accuracy: 0.8666\n",
            "Epoch 725/1000\n",
            "222/222 [==============================] - 3s 13ms/step - loss: 0.2948 - accuracy: 0.8567\n",
            "Epoch 726/1000\n",
            "222/222 [==============================] - 3s 12ms/step - loss: 0.2801 - accuracy: 0.8668\n",
            "Epoch 727/1000\n",
            "222/222 [==============================] - 3s 13ms/step - loss: 0.2885 - accuracy: 0.8630\n",
            "Epoch 728/1000\n",
            "222/222 [==============================] - 3s 13ms/step - loss: 0.2834 - accuracy: 0.8631\n",
            "Epoch 729/1000\n",
            "222/222 [==============================] - 3s 12ms/step - loss: 0.2858 - accuracy: 0.8634\n",
            "Epoch 730/1000\n",
            "222/222 [==============================] - 3s 13ms/step - loss: 0.2830 - accuracy: 0.8655\n",
            "Epoch 731/1000\n",
            "222/222 [==============================] - 3s 13ms/step - loss: 0.2812 - accuracy: 0.8677\n",
            "Epoch 732/1000\n",
            "222/222 [==============================] - 3s 13ms/step - loss: 0.2800 - accuracy: 0.8674\n",
            "Epoch 733/1000\n",
            "222/222 [==============================] - 3s 13ms/step - loss: 0.2807 - accuracy: 0.8629\n",
            "Epoch 734/1000\n",
            "222/222 [==============================] - 3s 13ms/step - loss: 0.2848 - accuracy: 0.8625\n",
            "Epoch 735/1000\n",
            "222/222 [==============================] - 3s 13ms/step - loss: 0.2868 - accuracy: 0.8622\n",
            "Epoch 736/1000\n",
            "222/222 [==============================] - 3s 13ms/step - loss: 0.2825 - accuracy: 0.8649\n",
            "Epoch 737/1000\n",
            "222/222 [==============================] - 3s 12ms/step - loss: 0.2909 - accuracy: 0.8630\n",
            "Epoch 738/1000\n",
            "222/222 [==============================] - 3s 13ms/step - loss: 0.2851 - accuracy: 0.8631\n",
            "Epoch 739/1000\n",
            "222/222 [==============================] - 3s 13ms/step - loss: 0.2828 - accuracy: 0.8648\n",
            "Epoch 740/1000\n",
            "222/222 [==============================] - 3s 13ms/step - loss: 0.2820 - accuracy: 0.8681\n",
            "Epoch 741/1000\n",
            "222/222 [==============================] - 3s 13ms/step - loss: 0.2867 - accuracy: 0.8631\n",
            "Epoch 742/1000\n",
            "222/222 [==============================] - 3s 12ms/step - loss: 0.2820 - accuracy: 0.8650\n",
            "Epoch 743/1000\n",
            "222/222 [==============================] - 3s 13ms/step - loss: 0.2802 - accuracy: 0.8685\n",
            "Epoch 744/1000\n",
            "222/222 [==============================] - 3s 13ms/step - loss: 0.2915 - accuracy: 0.8593\n",
            "Epoch 745/1000\n",
            "222/222 [==============================] - 3s 13ms/step - loss: 0.2794 - accuracy: 0.8649\n",
            "Epoch 746/1000\n",
            "222/222 [==============================] - 3s 12ms/step - loss: 0.2854 - accuracy: 0.8634\n",
            "Epoch 747/1000\n",
            "222/222 [==============================] - 3s 13ms/step - loss: 0.2899 - accuracy: 0.8608\n",
            "Epoch 748/1000\n",
            "222/222 [==============================] - 3s 12ms/step - loss: 0.2876 - accuracy: 0.8669\n",
            "Epoch 749/1000\n",
            "222/222 [==============================] - 3s 12ms/step - loss: 0.2908 - accuracy: 0.8641\n",
            "Epoch 750/1000\n",
            "222/222 [==============================] - 3s 13ms/step - loss: 0.2838 - accuracy: 0.8669\n",
            "Epoch 751/1000\n",
            "222/222 [==============================] - 3s 13ms/step - loss: 0.2845 - accuracy: 0.8648\n",
            "Epoch 752/1000\n",
            "222/222 [==============================] - 3s 13ms/step - loss: 0.2849 - accuracy: 0.8627\n",
            "Epoch 753/1000\n",
            "222/222 [==============================] - 3s 12ms/step - loss: 0.2883 - accuracy: 0.8633\n",
            "Epoch 754/1000\n",
            "222/222 [==============================] - 3s 13ms/step - loss: 0.2858 - accuracy: 0.8625\n",
            "Epoch 755/1000\n",
            "222/222 [==============================] - 3s 13ms/step - loss: 0.2850 - accuracy: 0.8635\n",
            "Epoch 756/1000\n",
            "222/222 [==============================] - 3s 13ms/step - loss: 0.2784 - accuracy: 0.8671\n",
            "Epoch 757/1000\n",
            "222/222 [==============================] - 3s 13ms/step - loss: 0.2944 - accuracy: 0.8604\n",
            "Epoch 758/1000\n",
            "222/222 [==============================] - 3s 13ms/step - loss: 0.2908 - accuracy: 0.8608\n",
            "Epoch 759/1000\n",
            "222/222 [==============================] - 3s 13ms/step - loss: 0.2846 - accuracy: 0.8612\n",
            "Epoch 760/1000\n",
            "222/222 [==============================] - 3s 12ms/step - loss: 0.2887 - accuracy: 0.8664\n",
            "Epoch 761/1000\n",
            "222/222 [==============================] - 3s 12ms/step - loss: 0.2782 - accuracy: 0.8670\n",
            "Epoch 762/1000\n",
            "222/222 [==============================] - 3s 13ms/step - loss: 0.2853 - accuracy: 0.8655\n",
            "Epoch 763/1000\n",
            "222/222 [==============================] - 3s 13ms/step - loss: 0.2867 - accuracy: 0.8633\n",
            "Epoch 764/1000\n",
            "222/222 [==============================] - 3s 12ms/step - loss: 0.2903 - accuracy: 0.8629\n",
            "Epoch 765/1000\n",
            "222/222 [==============================] - 3s 12ms/step - loss: 0.2868 - accuracy: 0.8613\n",
            "Epoch 766/1000\n",
            "222/222 [==============================] - 3s 12ms/step - loss: 0.2838 - accuracy: 0.8687\n",
            "Epoch 767/1000\n",
            "222/222 [==============================] - 3s 13ms/step - loss: 0.2891 - accuracy: 0.8593\n",
            "Epoch 768/1000\n",
            "222/222 [==============================] - 3s 13ms/step - loss: 0.2800 - accuracy: 0.8673\n",
            "Epoch 769/1000\n",
            "222/222 [==============================] - 3s 13ms/step - loss: 0.2883 - accuracy: 0.8610\n",
            "Epoch 770/1000\n",
            "222/222 [==============================] - 3s 13ms/step - loss: 0.2840 - accuracy: 0.8642\n",
            "Epoch 771/1000\n",
            "222/222 [==============================] - 3s 13ms/step - loss: 0.2864 - accuracy: 0.8623\n",
            "Epoch 772/1000\n",
            "222/222 [==============================] - 3s 13ms/step - loss: 0.2899 - accuracy: 0.8615\n",
            "Epoch 773/1000\n",
            "222/222 [==============================] - 3s 13ms/step - loss: 0.2851 - accuracy: 0.8663\n",
            "Epoch 774/1000\n",
            "222/222 [==============================] - 3s 13ms/step - loss: 0.2859 - accuracy: 0.8642\n",
            "Epoch 775/1000\n",
            "222/222 [==============================] - 3s 13ms/step - loss: 0.2864 - accuracy: 0.8617\n",
            "Epoch 776/1000\n",
            "222/222 [==============================] - 3s 12ms/step - loss: 0.2916 - accuracy: 0.8618\n",
            "Epoch 777/1000\n",
            "222/222 [==============================] - 3s 13ms/step - loss: 0.2849 - accuracy: 0.8672\n",
            "Epoch 778/1000\n",
            "222/222 [==============================] - 3s 13ms/step - loss: 0.2862 - accuracy: 0.8633\n",
            "Epoch 779/1000\n",
            "222/222 [==============================] - 3s 13ms/step - loss: 0.2877 - accuracy: 0.8621\n",
            "Epoch 780/1000\n",
            "222/222 [==============================] - 3s 13ms/step - loss: 0.2916 - accuracy: 0.8611\n",
            "Epoch 781/1000\n",
            "222/222 [==============================] - 3s 13ms/step - loss: 0.2820 - accuracy: 0.8660\n",
            "Epoch 782/1000\n",
            "222/222 [==============================] - 3s 13ms/step - loss: 0.2808 - accuracy: 0.8652\n",
            "Epoch 783/1000\n",
            "222/222 [==============================] - 3s 13ms/step - loss: 0.2826 - accuracy: 0.8634\n",
            "Epoch 784/1000\n",
            "222/222 [==============================] - 3s 13ms/step - loss: 0.2808 - accuracy: 0.8685\n",
            "Epoch 785/1000\n",
            "222/222 [==============================] - 3s 13ms/step - loss: 0.2830 - accuracy: 0.8675\n",
            "Epoch 786/1000\n",
            "222/222 [==============================] - 3s 13ms/step - loss: 0.2868 - accuracy: 0.8627\n",
            "Epoch 787/1000\n",
            "222/222 [==============================] - 3s 13ms/step - loss: 0.2929 - accuracy: 0.8637\n",
            "Epoch 788/1000\n",
            "222/222 [==============================] - 3s 13ms/step - loss: 0.2881 - accuracy: 0.8625\n",
            "Epoch 789/1000\n",
            "222/222 [==============================] - 3s 13ms/step - loss: 0.2841 - accuracy: 0.8664\n",
            "Epoch 790/1000\n",
            "222/222 [==============================] - 3s 13ms/step - loss: 0.2876 - accuracy: 0.8644\n",
            "Epoch 791/1000\n",
            "222/222 [==============================] - 3s 13ms/step - loss: 0.2898 - accuracy: 0.8611\n",
            "Epoch 792/1000\n",
            "222/222 [==============================] - 3s 12ms/step - loss: 0.2851 - accuracy: 0.8618\n",
            "Epoch 793/1000\n",
            "222/222 [==============================] - 3s 13ms/step - loss: 0.2851 - accuracy: 0.8655\n",
            "Epoch 794/1000\n",
            "222/222 [==============================] - 3s 13ms/step - loss: 0.2837 - accuracy: 0.8680\n",
            "Epoch 795/1000\n",
            "222/222 [==============================] - 3s 13ms/step - loss: 0.2847 - accuracy: 0.8686\n",
            "Epoch 796/1000\n",
            "222/222 [==============================] - 3s 13ms/step - loss: 0.2796 - accuracy: 0.8645\n",
            "Epoch 797/1000\n",
            "222/222 [==============================] - 3s 13ms/step - loss: 0.2843 - accuracy: 0.8691\n",
            "Epoch 798/1000\n",
            "222/222 [==============================] - 3s 13ms/step - loss: 0.2746 - accuracy: 0.8681\n",
            "Epoch 799/1000\n",
            "222/222 [==============================] - 3s 13ms/step - loss: 0.2830 - accuracy: 0.8647\n",
            "Epoch 800/1000\n",
            "222/222 [==============================] - 3s 13ms/step - loss: 0.2848 - accuracy: 0.8624\n",
            "Epoch 801/1000\n",
            "222/222 [==============================] - 3s 13ms/step - loss: 0.2885 - accuracy: 0.8631\n",
            "Epoch 802/1000\n",
            "222/222 [==============================] - 3s 13ms/step - loss: 0.2849 - accuracy: 0.8624\n",
            "Epoch 803/1000\n",
            "222/222 [==============================] - 3s 13ms/step - loss: 0.2857 - accuracy: 0.8645\n",
            "Epoch 804/1000\n",
            "222/222 [==============================] - 3s 13ms/step - loss: 0.2886 - accuracy: 0.8640\n",
            "Epoch 805/1000\n",
            "222/222 [==============================] - 3s 13ms/step - loss: 0.2752 - accuracy: 0.8680\n",
            "Epoch 806/1000\n",
            "222/222 [==============================] - 3s 13ms/step - loss: 0.2927 - accuracy: 0.8638\n",
            "Epoch 807/1000\n",
            "222/222 [==============================] - 3s 13ms/step - loss: 0.2864 - accuracy: 0.8676\n",
            "Epoch 808/1000\n",
            "222/222 [==============================] - 3s 13ms/step - loss: 0.2815 - accuracy: 0.8655\n",
            "Epoch 809/1000\n",
            "222/222 [==============================] - 3s 13ms/step - loss: 0.2761 - accuracy: 0.8649\n",
            "Epoch 810/1000\n",
            "222/222 [==============================] - 3s 13ms/step - loss: 0.2857 - accuracy: 0.8636\n",
            "Epoch 811/1000\n",
            "222/222 [==============================] - 3s 13ms/step - loss: 0.2780 - accuracy: 0.8669\n",
            "Epoch 812/1000\n",
            "222/222 [==============================] - 3s 13ms/step - loss: 0.2809 - accuracy: 0.8673\n",
            "Epoch 813/1000\n",
            "222/222 [==============================] - 3s 13ms/step - loss: 0.2842 - accuracy: 0.8638\n",
            "Epoch 814/1000\n",
            "222/222 [==============================] - 3s 13ms/step - loss: 0.2916 - accuracy: 0.8610\n",
            "Epoch 815/1000\n",
            "222/222 [==============================] - 3s 13ms/step - loss: 0.2940 - accuracy: 0.8628\n",
            "Epoch 816/1000\n",
            "222/222 [==============================] - 3s 13ms/step - loss: 0.2882 - accuracy: 0.8610\n",
            "Epoch 817/1000\n",
            "222/222 [==============================] - 3s 13ms/step - loss: 0.2787 - accuracy: 0.8666\n",
            "Epoch 818/1000\n",
            "222/222 [==============================] - 3s 13ms/step - loss: 0.2820 - accuracy: 0.8658\n",
            "Epoch 819/1000\n",
            "222/222 [==============================] - 3s 13ms/step - loss: 0.2870 - accuracy: 0.8652\n",
            "Epoch 820/1000\n",
            "222/222 [==============================] - 3s 13ms/step - loss: 0.2886 - accuracy: 0.8616\n",
            "Epoch 821/1000\n",
            "222/222 [==============================] - 3s 13ms/step - loss: 0.2738 - accuracy: 0.8668\n",
            "Epoch 822/1000\n",
            "222/222 [==============================] - 3s 13ms/step - loss: 0.2799 - accuracy: 0.8677\n",
            "Epoch 823/1000\n",
            "222/222 [==============================] - 3s 13ms/step - loss: 0.2830 - accuracy: 0.8677\n",
            "Epoch 824/1000\n",
            "222/222 [==============================] - 3s 13ms/step - loss: 0.2878 - accuracy: 0.8625\n",
            "Epoch 825/1000\n",
            "222/222 [==============================] - 3s 13ms/step - loss: 0.2854 - accuracy: 0.8625\n",
            "Epoch 826/1000\n",
            "222/222 [==============================] - 3s 13ms/step - loss: 0.2944 - accuracy: 0.8646\n",
            "Epoch 827/1000\n",
            "222/222 [==============================] - 3s 13ms/step - loss: 0.2817 - accuracy: 0.8685\n",
            "Epoch 828/1000\n",
            "222/222 [==============================] - 3s 13ms/step - loss: 0.2881 - accuracy: 0.8642\n",
            "Epoch 829/1000\n",
            "222/222 [==============================] - 3s 13ms/step - loss: 0.2859 - accuracy: 0.8621\n",
            "Epoch 830/1000\n",
            "222/222 [==============================] - 3s 13ms/step - loss: 0.2912 - accuracy: 0.8624\n",
            "Epoch 831/1000\n",
            "222/222 [==============================] - 3s 13ms/step - loss: 0.2820 - accuracy: 0.8659\n",
            "Epoch 832/1000\n",
            "222/222 [==============================] - 3s 13ms/step - loss: 0.2823 - accuracy: 0.8653\n",
            "Epoch 833/1000\n",
            "222/222 [==============================] - 3s 13ms/step - loss: 0.2926 - accuracy: 0.8626\n",
            "Epoch 834/1000\n",
            "222/222 [==============================] - 3s 13ms/step - loss: 0.2830 - accuracy: 0.8678\n",
            "Epoch 835/1000\n",
            "222/222 [==============================] - 3s 13ms/step - loss: 0.2808 - accuracy: 0.8699\n",
            "Epoch 836/1000\n",
            "222/222 [==============================] - 3s 13ms/step - loss: 0.2846 - accuracy: 0.8683\n",
            "Epoch 837/1000\n",
            "222/222 [==============================] - 3s 13ms/step - loss: 0.2845 - accuracy: 0.8653\n",
            "Epoch 838/1000\n",
            "222/222 [==============================] - 3s 13ms/step - loss: 0.2876 - accuracy: 0.8601\n",
            "Epoch 839/1000\n",
            "222/222 [==============================] - 3s 13ms/step - loss: 0.2880 - accuracy: 0.8637\n",
            "Epoch 840/1000\n",
            "222/222 [==============================] - 3s 13ms/step - loss: 0.2785 - accuracy: 0.8664\n",
            "Epoch 841/1000\n",
            "222/222 [==============================] - 3s 13ms/step - loss: 0.2817 - accuracy: 0.8646\n",
            "Epoch 842/1000\n",
            "222/222 [==============================] - 3s 13ms/step - loss: 0.2848 - accuracy: 0.8639\n",
            "Epoch 843/1000\n",
            "222/222 [==============================] - 3s 13ms/step - loss: 0.2854 - accuracy: 0.8656\n",
            "Epoch 844/1000\n",
            "222/222 [==============================] - 3s 13ms/step - loss: 0.2794 - accuracy: 0.8692\n",
            "Epoch 845/1000\n",
            "222/222 [==============================] - 3s 13ms/step - loss: 0.2911 - accuracy: 0.8611\n",
            "Epoch 846/1000\n",
            "222/222 [==============================] - 3s 12ms/step - loss: 0.2881 - accuracy: 0.8623\n",
            "Epoch 847/1000\n",
            "222/222 [==============================] - 3s 13ms/step - loss: 0.2772 - accuracy: 0.8707\n",
            "Epoch 848/1000\n",
            "222/222 [==============================] - 3s 13ms/step - loss: 0.2860 - accuracy: 0.8632\n",
            "Epoch 849/1000\n",
            "222/222 [==============================] - 3s 13ms/step - loss: 0.2849 - accuracy: 0.8642\n",
            "Epoch 850/1000\n",
            "222/222 [==============================] - 3s 13ms/step - loss: 0.2813 - accuracy: 0.8651\n",
            "Epoch 851/1000\n",
            "222/222 [==============================] - 3s 13ms/step - loss: 0.2836 - accuracy: 0.8634\n",
            "Epoch 852/1000\n",
            "222/222 [==============================] - 3s 13ms/step - loss: 0.2788 - accuracy: 0.8671\n",
            "Epoch 853/1000\n",
            "222/222 [==============================] - 3s 13ms/step - loss: 0.2822 - accuracy: 0.8664\n",
            "Epoch 854/1000\n",
            "222/222 [==============================] - 3s 13ms/step - loss: 0.2745 - accuracy: 0.8738\n",
            "Epoch 855/1000\n",
            "222/222 [==============================] - 3s 13ms/step - loss: 0.2815 - accuracy: 0.8699\n",
            "Epoch 856/1000\n",
            "222/222 [==============================] - 3s 13ms/step - loss: 0.2822 - accuracy: 0.8664\n",
            "Epoch 857/1000\n",
            "222/222 [==============================] - 3s 13ms/step - loss: 0.2871 - accuracy: 0.8643\n",
            "Epoch 858/1000\n",
            "222/222 [==============================] - 3s 13ms/step - loss: 0.2820 - accuracy: 0.8645\n",
            "Epoch 859/1000\n",
            "222/222 [==============================] - 3s 13ms/step - loss: 0.2850 - accuracy: 0.8662\n",
            "Epoch 860/1000\n",
            "222/222 [==============================] - 3s 13ms/step - loss: 0.2773 - accuracy: 0.8681\n",
            "Epoch 861/1000\n",
            "222/222 [==============================] - 3s 13ms/step - loss: 0.2801 - accuracy: 0.8680\n",
            "Epoch 862/1000\n",
            "222/222 [==============================] - 3s 13ms/step - loss: 0.2823 - accuracy: 0.8699\n",
            "Epoch 863/1000\n",
            "222/222 [==============================] - 3s 13ms/step - loss: 0.2819 - accuracy: 0.8665\n",
            "Epoch 864/1000\n",
            "222/222 [==============================] - 3s 13ms/step - loss: 0.2804 - accuracy: 0.8664\n",
            "Epoch 865/1000\n",
            "222/222 [==============================] - 3s 13ms/step - loss: 0.2843 - accuracy: 0.8613\n",
            "Epoch 866/1000\n",
            "222/222 [==============================] - 3s 13ms/step - loss: 0.2829 - accuracy: 0.8668\n",
            "Epoch 867/1000\n",
            "222/222 [==============================] - 3s 13ms/step - loss: 0.2787 - accuracy: 0.8649\n",
            "Epoch 868/1000\n",
            "222/222 [==============================] - 3s 13ms/step - loss: 0.2811 - accuracy: 0.8637\n",
            "Epoch 869/1000\n",
            "222/222 [==============================] - 3s 13ms/step - loss: 0.2851 - accuracy: 0.8629\n",
            "Epoch 870/1000\n",
            "222/222 [==============================] - 3s 13ms/step - loss: 0.2871 - accuracy: 0.8642\n",
            "Epoch 871/1000\n",
            "222/222 [==============================] - 3s 13ms/step - loss: 0.2869 - accuracy: 0.8654\n",
            "Epoch 872/1000\n",
            "222/222 [==============================] - 3s 13ms/step - loss: 0.2827 - accuracy: 0.8650\n",
            "Epoch 873/1000\n",
            "222/222 [==============================] - 3s 13ms/step - loss: 0.2810 - accuracy: 0.8687\n",
            "Epoch 874/1000\n",
            "222/222 [==============================] - 3s 13ms/step - loss: 0.2771 - accuracy: 0.8685\n",
            "Epoch 875/1000\n",
            "222/222 [==============================] - 3s 13ms/step - loss: 0.2818 - accuracy: 0.8648\n",
            "Epoch 876/1000\n",
            "222/222 [==============================] - 3s 13ms/step - loss: 0.2767 - accuracy: 0.8677\n",
            "Epoch 877/1000\n",
            "222/222 [==============================] - 3s 13ms/step - loss: 0.2832 - accuracy: 0.8631\n",
            "Epoch 878/1000\n",
            "222/222 [==============================] - 3s 13ms/step - loss: 0.2887 - accuracy: 0.8626\n",
            "Epoch 879/1000\n",
            "222/222 [==============================] - 3s 13ms/step - loss: 0.2788 - accuracy: 0.8664\n",
            "Epoch 880/1000\n",
            "222/222 [==============================] - 3s 13ms/step - loss: 0.2834 - accuracy: 0.8673\n",
            "Epoch 881/1000\n",
            "222/222 [==============================] - 3s 13ms/step - loss: 0.2819 - accuracy: 0.8659\n",
            "Epoch 882/1000\n",
            "222/222 [==============================] - 3s 13ms/step - loss: 0.2933 - accuracy: 0.8620\n",
            "Epoch 883/1000\n",
            "222/222 [==============================] - 3s 13ms/step - loss: 0.2893 - accuracy: 0.8626\n",
            "Epoch 884/1000\n",
            "222/222 [==============================] - 3s 13ms/step - loss: 0.2870 - accuracy: 0.8658\n",
            "Epoch 885/1000\n",
            "222/222 [==============================] - 3s 13ms/step - loss: 0.2828 - accuracy: 0.8671\n",
            "Epoch 886/1000\n",
            "222/222 [==============================] - 3s 13ms/step - loss: 0.2806 - accuracy: 0.8677\n",
            "Epoch 887/1000\n",
            "222/222 [==============================] - 3s 13ms/step - loss: 0.2862 - accuracy: 0.8643\n",
            "Epoch 888/1000\n",
            "222/222 [==============================] - 3s 13ms/step - loss: 0.2886 - accuracy: 0.8617\n",
            "Epoch 889/1000\n",
            "222/222 [==============================] - 3s 13ms/step - loss: 0.2791 - accuracy: 0.8669\n",
            "Epoch 890/1000\n",
            "222/222 [==============================] - 3s 13ms/step - loss: 0.2824 - accuracy: 0.8629\n",
            "Epoch 891/1000\n",
            "222/222 [==============================] - 3s 13ms/step - loss: 0.2835 - accuracy: 0.8641\n",
            "Epoch 892/1000\n",
            "222/222 [==============================] - 3s 13ms/step - loss: 0.2838 - accuracy: 0.8643\n",
            "Epoch 893/1000\n",
            "222/222 [==============================] - 3s 13ms/step - loss: 0.2845 - accuracy: 0.8659\n",
            "Epoch 894/1000\n",
            "222/222 [==============================] - 3s 13ms/step - loss: 0.2882 - accuracy: 0.8636\n",
            "Epoch 895/1000\n",
            "222/222 [==============================] - 3s 13ms/step - loss: 0.2878 - accuracy: 0.8606\n",
            "Epoch 896/1000\n",
            "222/222 [==============================] - 3s 13ms/step - loss: 0.2777 - accuracy: 0.8677\n",
            "Epoch 897/1000\n",
            "222/222 [==============================] - 3s 13ms/step - loss: 0.2865 - accuracy: 0.8636\n",
            "Epoch 898/1000\n",
            "222/222 [==============================] - 3s 14ms/step - loss: 0.2796 - accuracy: 0.8658\n",
            "Epoch 899/1000\n",
            "222/222 [==============================] - 3s 13ms/step - loss: 0.2796 - accuracy: 0.8655\n",
            "Epoch 900/1000\n",
            "222/222 [==============================] - 3s 13ms/step - loss: 0.2819 - accuracy: 0.8673\n",
            "Epoch 901/1000\n",
            "222/222 [==============================] - 3s 13ms/step - loss: 0.2790 - accuracy: 0.8661\n",
            "Epoch 902/1000\n",
            "222/222 [==============================] - 3s 13ms/step - loss: 0.2773 - accuracy: 0.8677\n",
            "Epoch 903/1000\n",
            "222/222 [==============================] - 3s 13ms/step - loss: 0.2858 - accuracy: 0.8673\n",
            "Epoch 904/1000\n",
            "222/222 [==============================] - 3s 13ms/step - loss: 0.2902 - accuracy: 0.8631\n",
            "Epoch 905/1000\n",
            "222/222 [==============================] - 3s 13ms/step - loss: 0.2785 - accuracy: 0.8648\n",
            "Epoch 906/1000\n",
            "222/222 [==============================] - 3s 13ms/step - loss: 0.2797 - accuracy: 0.8646\n",
            "Epoch 907/1000\n",
            "222/222 [==============================] - 3s 13ms/step - loss: 0.2842 - accuracy: 0.8638\n",
            "Epoch 908/1000\n",
            "222/222 [==============================] - 3s 13ms/step - loss: 0.2876 - accuracy: 0.8636\n",
            "Epoch 909/1000\n",
            "222/222 [==============================] - 3s 13ms/step - loss: 0.2833 - accuracy: 0.8650\n",
            "Epoch 910/1000\n",
            "222/222 [==============================] - 3s 14ms/step - loss: 0.2834 - accuracy: 0.8665\n",
            "Epoch 911/1000\n",
            "222/222 [==============================] - 3s 13ms/step - loss: 0.2804 - accuracy: 0.8676\n",
            "Epoch 912/1000\n",
            "222/222 [==============================] - 3s 13ms/step - loss: 0.2842 - accuracy: 0.8649\n",
            "Epoch 913/1000\n",
            "222/222 [==============================] - 3s 13ms/step - loss: 0.2855 - accuracy: 0.8653\n",
            "Epoch 914/1000\n",
            "222/222 [==============================] - 3s 13ms/step - loss: 0.2847 - accuracy: 0.8648\n",
            "Epoch 915/1000\n",
            "222/222 [==============================] - 3s 13ms/step - loss: 0.2829 - accuracy: 0.8650\n",
            "Epoch 916/1000\n",
            "222/222 [==============================] - 3s 13ms/step - loss: 0.2847 - accuracy: 0.8639\n",
            "Epoch 917/1000\n",
            "222/222 [==============================] - 3s 13ms/step - loss: 0.2826 - accuracy: 0.8668\n",
            "Epoch 918/1000\n",
            "222/222 [==============================] - 3s 13ms/step - loss: 0.2828 - accuracy: 0.8657\n",
            "Epoch 919/1000\n",
            "222/222 [==============================] - 3s 13ms/step - loss: 0.2826 - accuracy: 0.8662\n",
            "Epoch 920/1000\n",
            "222/222 [==============================] - 3s 13ms/step - loss: 0.2824 - accuracy: 0.8691\n",
            "Epoch 921/1000\n",
            "222/222 [==============================] - 3s 13ms/step - loss: 0.2819 - accuracy: 0.8657\n",
            "Epoch 922/1000\n",
            "222/222 [==============================] - 3s 13ms/step - loss: 0.2798 - accuracy: 0.8677\n",
            "Epoch 923/1000\n",
            "222/222 [==============================] - 3s 13ms/step - loss: 0.2798 - accuracy: 0.8676\n",
            "Epoch 924/1000\n",
            "222/222 [==============================] - 3s 13ms/step - loss: 0.2842 - accuracy: 0.8660\n",
            "Epoch 925/1000\n",
            "222/222 [==============================] - 3s 13ms/step - loss: 0.2844 - accuracy: 0.8648\n",
            "Epoch 926/1000\n",
            "222/222 [==============================] - 3s 13ms/step - loss: 0.2863 - accuracy: 0.8615\n",
            "Epoch 927/1000\n",
            "222/222 [==============================] - 3s 13ms/step - loss: 0.2837 - accuracy: 0.8686\n",
            "Epoch 928/1000\n",
            "222/222 [==============================] - 3s 13ms/step - loss: 0.2811 - accuracy: 0.8661\n",
            "Epoch 929/1000\n",
            "222/222 [==============================] - 3s 13ms/step - loss: 0.2858 - accuracy: 0.8608\n",
            "Epoch 930/1000\n",
            "222/222 [==============================] - 3s 13ms/step - loss: 0.2844 - accuracy: 0.8664\n",
            "Epoch 931/1000\n",
            "222/222 [==============================] - 3s 13ms/step - loss: 0.2793 - accuracy: 0.8654\n",
            "Epoch 932/1000\n",
            "222/222 [==============================] - 3s 13ms/step - loss: 0.2870 - accuracy: 0.8627\n",
            "Epoch 933/1000\n",
            "222/222 [==============================] - 3s 13ms/step - loss: 0.2843 - accuracy: 0.8643\n",
            "Epoch 934/1000\n",
            "222/222 [==============================] - 3s 13ms/step - loss: 0.2819 - accuracy: 0.8701\n",
            "Epoch 935/1000\n",
            "222/222 [==============================] - 3s 13ms/step - loss: 0.2824 - accuracy: 0.8646\n",
            "Epoch 936/1000\n",
            "222/222 [==============================] - 3s 13ms/step - loss: 0.2843 - accuracy: 0.8627\n",
            "Epoch 937/1000\n",
            "222/222 [==============================] - 3s 13ms/step - loss: 0.2862 - accuracy: 0.8640\n",
            "Epoch 938/1000\n",
            "222/222 [==============================] - 3s 13ms/step - loss: 0.2793 - accuracy: 0.8638\n",
            "Epoch 939/1000\n",
            "222/222 [==============================] - 3s 13ms/step - loss: 0.2798 - accuracy: 0.8666\n",
            "Epoch 940/1000\n",
            "222/222 [==============================] - 3s 14ms/step - loss: 0.2772 - accuracy: 0.8668\n",
            "Epoch 941/1000\n",
            "222/222 [==============================] - 3s 13ms/step - loss: 0.2792 - accuracy: 0.8723\n",
            "Epoch 942/1000\n",
            "222/222 [==============================] - 3s 13ms/step - loss: 0.2772 - accuracy: 0.8712\n",
            "Epoch 943/1000\n",
            "222/222 [==============================] - 3s 13ms/step - loss: 0.2827 - accuracy: 0.8653\n",
            "Epoch 944/1000\n",
            "222/222 [==============================] - 3s 13ms/step - loss: 0.2827 - accuracy: 0.8659\n",
            "Epoch 945/1000\n",
            "222/222 [==============================] - 3s 13ms/step - loss: 0.2869 - accuracy: 0.8661\n",
            "Epoch 946/1000\n",
            "222/222 [==============================] - 3s 13ms/step - loss: 0.2780 - accuracy: 0.8645\n",
            "Epoch 947/1000\n",
            "222/222 [==============================] - 3s 14ms/step - loss: 0.2828 - accuracy: 0.8665\n",
            "Epoch 948/1000\n",
            "222/222 [==============================] - 3s 13ms/step - loss: 0.2796 - accuracy: 0.8659\n",
            "Epoch 949/1000\n",
            "222/222 [==============================] - 3s 13ms/step - loss: 0.2744 - accuracy: 0.8694\n",
            "Epoch 950/1000\n",
            "222/222 [==============================] - 3s 13ms/step - loss: 0.2823 - accuracy: 0.8654\n",
            "Epoch 951/1000\n",
            "222/222 [==============================] - 3s 13ms/step - loss: 0.2865 - accuracy: 0.8617\n",
            "Epoch 952/1000\n",
            "222/222 [==============================] - 3s 14ms/step - loss: 0.2802 - accuracy: 0.8653\n",
            "Epoch 953/1000\n",
            "222/222 [==============================] - 3s 13ms/step - loss: 0.2796 - accuracy: 0.8685\n",
            "Epoch 954/1000\n",
            "222/222 [==============================] - 3s 13ms/step - loss: 0.2833 - accuracy: 0.8673\n",
            "Epoch 955/1000\n",
            "222/222 [==============================] - 3s 13ms/step - loss: 0.2822 - accuracy: 0.8656\n",
            "Epoch 956/1000\n",
            "222/222 [==============================] - 3s 13ms/step - loss: 0.2784 - accuracy: 0.8696\n",
            "Epoch 957/1000\n",
            "222/222 [==============================] - 3s 13ms/step - loss: 0.2795 - accuracy: 0.8626\n",
            "Epoch 958/1000\n",
            "222/222 [==============================] - 3s 13ms/step - loss: 0.2816 - accuracy: 0.8662\n",
            "Epoch 959/1000\n",
            "222/222 [==============================] - 3s 13ms/step - loss: 0.2810 - accuracy: 0.8633\n",
            "Epoch 960/1000\n",
            "222/222 [==============================] - 3s 13ms/step - loss: 0.2820 - accuracy: 0.8678\n",
            "Epoch 961/1000\n",
            "222/222 [==============================] - 3s 13ms/step - loss: 0.2842 - accuracy: 0.8646\n",
            "Epoch 962/1000\n",
            "222/222 [==============================] - 3s 13ms/step - loss: 0.2824 - accuracy: 0.8631\n",
            "Epoch 963/1000\n",
            "222/222 [==============================] - 3s 14ms/step - loss: 0.2763 - accuracy: 0.8694\n",
            "Epoch 964/1000\n",
            "222/222 [==============================] - 3s 13ms/step - loss: 0.2798 - accuracy: 0.8660\n",
            "Epoch 965/1000\n",
            "222/222 [==============================] - 3s 13ms/step - loss: 0.2817 - accuracy: 0.8679\n",
            "Epoch 966/1000\n",
            "222/222 [==============================] - 3s 13ms/step - loss: 0.2771 - accuracy: 0.8690\n",
            "Epoch 967/1000\n",
            "222/222 [==============================] - 3s 14ms/step - loss: 0.2894 - accuracy: 0.8593\n",
            "Epoch 968/1000\n",
            "222/222 [==============================] - 3s 14ms/step - loss: 0.2786 - accuracy: 0.8674\n",
            "Epoch 969/1000\n",
            "222/222 [==============================] - 3s 14ms/step - loss: 0.2799 - accuracy: 0.8702\n",
            "Epoch 970/1000\n",
            "222/222 [==============================] - 3s 13ms/step - loss: 0.2763 - accuracy: 0.8677\n",
            "Epoch 971/1000\n",
            "222/222 [==============================] - 3s 13ms/step - loss: 0.2787 - accuracy: 0.8660\n",
            "Epoch 972/1000\n",
            "222/222 [==============================] - 3s 13ms/step - loss: 0.2786 - accuracy: 0.8700\n",
            "Epoch 973/1000\n",
            "222/222 [==============================] - 3s 14ms/step - loss: 0.2770 - accuracy: 0.8691\n",
            "Epoch 974/1000\n",
            "222/222 [==============================] - 3s 13ms/step - loss: 0.2836 - accuracy: 0.8661\n",
            "Epoch 975/1000\n",
            "222/222 [==============================] - 3s 13ms/step - loss: 0.2761 - accuracy: 0.8669\n",
            "Epoch 976/1000\n",
            "222/222 [==============================] - 3s 13ms/step - loss: 0.2810 - accuracy: 0.8650\n",
            "Epoch 977/1000\n",
            "222/222 [==============================] - 3s 13ms/step - loss: 0.2804 - accuracy: 0.8693\n",
            "Epoch 978/1000\n",
            "222/222 [==============================] - 3s 13ms/step - loss: 0.2885 - accuracy: 0.8611\n",
            "Epoch 979/1000\n",
            "222/222 [==============================] - 3s 14ms/step - loss: 0.2738 - accuracy: 0.8693\n",
            "Epoch 980/1000\n",
            "222/222 [==============================] - 3s 14ms/step - loss: 0.2835 - accuracy: 0.8634\n",
            "Epoch 981/1000\n",
            "222/222 [==============================] - 3s 14ms/step - loss: 0.2827 - accuracy: 0.8648\n",
            "Epoch 982/1000\n",
            "222/222 [==============================] - 3s 13ms/step - loss: 0.2816 - accuracy: 0.8637\n",
            "Epoch 983/1000\n",
            "222/222 [==============================] - 3s 14ms/step - loss: 0.2799 - accuracy: 0.8643\n",
            "Epoch 984/1000\n",
            "222/222 [==============================] - 3s 13ms/step - loss: 0.2802 - accuracy: 0.8689\n",
            "Epoch 985/1000\n",
            "222/222 [==============================] - 3s 13ms/step - loss: 0.2814 - accuracy: 0.8664\n",
            "Epoch 986/1000\n",
            "222/222 [==============================] - 3s 14ms/step - loss: 0.2827 - accuracy: 0.8650\n",
            "Epoch 987/1000\n",
            "222/222 [==============================] - 3s 13ms/step - loss: 0.2847 - accuracy: 0.8628\n",
            "Epoch 988/1000\n",
            "222/222 [==============================] - 3s 14ms/step - loss: 0.2775 - accuracy: 0.8686\n",
            "Epoch 989/1000\n",
            "222/222 [==============================] - 3s 13ms/step - loss: 0.2827 - accuracy: 0.8679\n",
            "Epoch 990/1000\n",
            "222/222 [==============================] - 3s 13ms/step - loss: 0.2823 - accuracy: 0.8639\n",
            "Epoch 991/1000\n",
            "222/222 [==============================] - 3s 14ms/step - loss: 0.2905 - accuracy: 0.8640\n",
            "Epoch 992/1000\n",
            "222/222 [==============================] - 3s 13ms/step - loss: 0.2814 - accuracy: 0.8665\n",
            "Epoch 993/1000\n",
            "222/222 [==============================] - 3s 13ms/step - loss: 0.2753 - accuracy: 0.8686\n",
            "Epoch 994/1000\n",
            "222/222 [==============================] - 3s 14ms/step - loss: 0.2846 - accuracy: 0.8664\n",
            "Epoch 995/1000\n",
            "222/222 [==============================] - 3s 13ms/step - loss: 0.2923 - accuracy: 0.8608\n",
            "Epoch 996/1000\n",
            "222/222 [==============================] - 3s 13ms/step - loss: 0.2842 - accuracy: 0.8648\n",
            "Epoch 997/1000\n",
            "222/222 [==============================] - 3s 14ms/step - loss: 0.2855 - accuracy: 0.8642\n",
            "Epoch 998/1000\n",
            "222/222 [==============================] - 3s 14ms/step - loss: 0.2839 - accuracy: 0.8656\n",
            "Epoch 999/1000\n",
            "222/222 [==============================] - 3s 14ms/step - loss: 0.2824 - accuracy: 0.8655\n",
            "Epoch 1000/1000\n",
            "222/222 [==============================] - 3s 13ms/step - loss: 0.2847 - accuracy: 0.8656\n"
          ],
          "name": "stdout"
        },
        {
          "output_type": "execute_result",
          "data": {
            "text/plain": [
              "<keras.callbacks.History at 0x7f6529f30990>"
            ]
          },
          "metadata": {
            "tags": []
          },
          "execution_count": 96
        }
      ]
    },
    {
      "cell_type": "code",
      "metadata": {
        "colab": {
          "base_uri": "https://localhost:8080/"
        },
        "id": "X0XUDyfjvQ22",
        "outputId": "b147b03d-9afb-4cb2-885b-e90e78319497"
      },
      "source": [
        "y_pred = model.predict(X_test)\n",
        "y_pred = (y_pred > 0.5)\n",
        "print(np.concatenate((y_pred.reshape(len(y_pred),1), y_test.reshape(len(y_test),1)),1))"
      ],
      "execution_count": 99,
      "outputs": [
        {
          "output_type": "stream",
          "text": [
            "[[0 0]\n",
            " [0 0]\n",
            " [0 0]\n",
            " ...\n",
            " [0 0]\n",
            " [0 0]\n",
            " [1 1]]\n"
          ],
          "name": "stdout"
        }
      ]
    },
    {
      "cell_type": "code",
      "metadata": {
        "colab": {
          "base_uri": "https://localhost:8080/"
        },
        "id": "MPu1eu3RvS-s",
        "outputId": "03440654-7181-4585-f526-fed0fad366ec"
      },
      "source": [
        "from sklearn.metrics import confusion_matrix, accuracy_score\n",
        "cm = confusion_matrix(y_test, y_pred)\n",
        "print(cm)\n",
        "accuracy_score(y_test, y_pred)"
      ],
      "execution_count": 100,
      "outputs": [
        {
          "output_type": "stream",
          "text": [
            "[[9786  356]\n",
            " [2018 1407]]\n"
          ],
          "name": "stdout"
        },
        {
          "output_type": "execute_result",
          "data": {
            "text/plain": [
              "0.8250165843591066"
            ]
          },
          "metadata": {
            "tags": []
          },
          "execution_count": 100
        }
      ]
    },
    {
      "cell_type": "markdown",
      "metadata": {
        "id": "6oo0uRe37neE"
      },
      "source": [
        "* Accuracy=82%"
      ]
    }
  ]
}