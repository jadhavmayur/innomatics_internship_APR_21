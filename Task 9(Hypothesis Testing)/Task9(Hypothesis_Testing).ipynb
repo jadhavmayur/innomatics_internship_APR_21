{
  "nbformat": 4,
  "nbformat_minor": 0,
  "metadata": {
    "colab": {
      "name": "Task9(Hypothesis Testing).ipynb",
      "provenance": []
    },
    "kernelspec": {
      "name": "python3",
      "display_name": "Python 3"
    },
    "language_info": {
      "name": "python"
    }
  },
  "cells": [
    {
      "cell_type": "code",
      "metadata": {
        "id": "PXycq2Gvhkke"
      },
      "source": [
        "import matplotlib.pyplot as plt\n",
        "import numpy as np\n",
        "from scipy.stats import norm\n",
        "from scipy.stats import t"
      ],
      "execution_count": 39,
      "outputs": []
    },
    {
      "cell_type": "code",
      "metadata": {
        "id": "4FHRp79sh39M"
      },
      "source": [
        "# t_score for sampling distributions\n",
        "\n",
        "def t_score(sample_size, sample_mean, pop_mean, sample_std):\n",
        "    numerator = sample_mean - pop_mean\n",
        "    denomenator = sample_std / sample_size**0.5\n",
        "    return numerator / denomenator"
      ],
      "execution_count": 40,
      "outputs": []
    },
    {
      "cell_type": "markdown",
      "metadata": {
        "id": "w2s9QSi4q2tS"
      },
      "source": [
        "**Q-1: Pista House selling Hyderabadi Chicken Dum biryani claims that each parcel packet has 500 grams of biryani (also mentioned on the label of packet). You are sceptic of their claims and believe that on average each packet does not contain 500 grams of biryani. How do you prove your claim?(pop-std is unknown)**"
      ]
    },
    {
      "cell_type": "markdown",
      "metadata": {
        "id": "_Zp7o6xerYq6"
      },
      "source": [
        "<p>Step - 1:</p>\n",
        "<p> Bold claim in above problem is, on average each packet does not contain 500gms of biryani and pop-std is unknown hence we go with T-test.</p>\n",
        "Hence\n",
        "<p/> Alternate Hypothesis (Bold claim):</p>\n",
        "<p> ${H_1}$: $\\mu$$\\not=$ 500gms</p>\n",
        "<p/> Null Hypothesis (Status Quo):</p>\n",
        "<p>${H_0}$:  $\\mu$=500gms</p>\n",
        "\n",
        "<p>Step - 2:</p>\n",
        "\n",
        "* <p> Collect a sample of size n = 10 </p> <p>$$ [490, 220, 470, 500, 495, 496, 496, 498, 508, 480] $$</p>\n",
        "* Compute sample mean          $\\bar{x}$=465.3\n",
        "\n",
        "<p> Step - 3: Compute Test Statistic:\n",
        "<p>t=$\\frac{{\\bar{x}-\\mu}} {\\frac{S}{\\sqrt n}}$\n",
        "<p>$\\bar{x}$= sample mean\n",
        "<p>$\\mu$=Population mean\n",
        "<p>S=Standard deviation of sample\n",
        "<p>n=sample size\n",
        "<p>Step - 5.1: tailed t-test:</p>\n",
        "<p> reject ${H_0}$ if points comes under critical zone\n",
        "<p>Step - 5.2: Compute p-value"
      ]
    },
    {
      "cell_type": "code",
      "metadata": {
        "id": "-Jm_0OSMqtrQ",
        "colab": {
          "base_uri": "https://localhost:8080/"
        },
        "outputId": "37aa6769-03f0-4669-cb6a-63d407795682"
      },
      "source": [
        "# two tailed test because μ≠500gms\n",
        "l = [490, 220, 470, 500, 495, 496, 496, 498, 508, 480]\n",
        "#l = [9, 2, 5, 4, 12, 7, 8, 11, 9, 3, 7, 4, 12, 5, 4, 10, 9, 6, 9, 4]\n",
        "sample_mean=sum(l)/len(l)\n",
        "print(sample_mean)"
      ],
      "execution_count": 41,
      "outputs": [
        {
          "output_type": "stream",
          "text": [
            "465.3\n"
          ],
          "name": "stdout"
        }
      ]
    },
    {
      "cell_type": "code",
      "metadata": {
        "colab": {
          "base_uri": "https://localhost:8080/"
        },
        "id": "WyEAYIX2R0QM",
        "outputId": "c98bc248-34d5-4c5a-8e4c-34ec0ad3c4a2"
      },
      "source": [
        "import math\n",
        "numerator=0\n",
        "for i in l:\n",
        "  numerator+=(i-sample_mean)**2\n",
        "  \n",
        "\n",
        "sample_std1=numerator/(len(l)-1)\n",
        "sample_std=math.sqrt(sample_std1)\n",
        "print(sample_std)"
      ],
      "execution_count": 42,
      "outputs": [
        {
          "output_type": "stream",
          "text": [
            "86.84859110991827\n"
          ],
          "name": "stdout"
        }
      ]
    },
    {
      "cell_type": "code",
      "metadata": {
        "colab": {
          "base_uri": "https://localhost:8080/"
        },
        "id": "q25ItEUicFQL",
        "outputId": "7f098765-b590-4059-e505-cec294daae8a"
      },
      "source": [
        "# Two tail\n",
        "\n",
        "alpha = 1 - 0.95\n",
        "\n",
        "t_critical = t.ppf(1-alpha/2, df = 9)\n",
        "\n",
        "print(t_critical)"
      ],
      "execution_count": 43,
      "outputs": [
        {
          "output_type": "stream",
          "text": [
            "2.2621571627409915\n"
          ],
          "name": "stdout"
        }
      ]
    },
    {
      "cell_type": "code",
      "metadata": {
        "id": "bAzmnBifdg_a"
      },
      "source": [
        "\n",
        "# Defining the sample and population parameters\n",
        "sample_size = 10\n",
        "sample_mean = 465.3\n",
        "pop_mean = 500\n",
        "sample_std = sample_std"
      ],
      "execution_count": 44,
      "outputs": []
    },
    {
      "cell_type": "code",
      "metadata": {
        "colab": {
          "base_uri": "https://localhost:8080/"
        },
        "id": "kHlbVih6drta",
        "outputId": "cc95c571-d0b4-4488-fde6-b6301bf5215f"
      },
      "source": [
        "# Calculating the t-score\n",
        "\n",
        "t = t_score(sample_size, sample_mean, pop_mean, sample_std)\n",
        "\n",
        "print(t)"
      ],
      "execution_count": 45,
      "outputs": [
        {
          "output_type": "stream",
          "text": [
            "-1.2634751284446715\n"
          ],
          "name": "stdout"
        }
      ]
    },
    {
      "cell_type": "code",
      "metadata": {
        "colab": {
          "base_uri": "https://localhost:8080/",
          "height": 282
        },
        "id": "DvY2t0Kzf3ji",
        "outputId": "e6d1bd02-27a6-4b3f-fd69-552a0273f529"
      },
      "source": [
        "# Ploting the sampling distribution with rejection regions\n",
        "\n",
        "# Defining the x minimum and x maximum\n",
        "x_min = 400\n",
        "x_max = 600\n",
        "\n",
        "\n",
        "# Defining the sampling distribution mean and sampling distribution std\n",
        "mean = pop_mean\n",
        "std = sample_std / sample_size**0.5\n",
        "\n",
        "\n",
        "# Ploting the graph and setting the x limits\n",
        "x = np.linspace(x_min, x_max, 100)\n",
        "y = norm.pdf(x, mean, std)\n",
        "plt.xlim(x_min, x_max)\n",
        "plt.plot(x, y)\n",
        "\n",
        "\n",
        "# Computing the left and right critical values (Two tailed Test)\n",
        "t_critical_left = pop_mean + (-t_critical * std)\n",
        "t_critical_right = pop_mean + (t_critical * std)\n",
        "\n",
        "\n",
        "# Shading the left rejection region\n",
        "x1 = np.linspace(x_min, t_critical_left, 100)\n",
        "y1 = norm.pdf(x1, mean, std)\n",
        "plt.fill_between(x1, y1, color='orange')\n",
        "\n",
        "\n",
        "# Shading the right rejection region\n",
        "x2 = np.linspace(t_critical_right, x_max, 100)\n",
        "y2 = norm.pdf(x2, mean, std)\n",
        "plt.fill_between(x2, y2, color='orange')\n",
        "\n",
        "\n",
        "# Ploting the sample mean and concluding the results \n",
        "plt.scatter(sample_mean, 0)\n",
        "plt.annotate(\"x_bar\", (sample_mean, 0.0007))\n",
        "\n",
        "\n",
        "# In this case sample mean falls in the rejection region\n",
        "# i.e. here we reject the Null Hypothesis"
      ],
      "execution_count": 46,
      "outputs": [
        {
          "output_type": "execute_result",
          "data": {
            "text/plain": [
              "Text(465.3, 0.0007, 'x_bar')"
            ]
          },
          "metadata": {
            "tags": []
          },
          "execution_count": 46
        },
        {
          "output_type": "display_data",
          "data": {
            "image/png": "[encoded data removed]",
            "text/plain": [
              "<Figure size 432x288 with 1 Axes>"
            ]
          },
          "metadata": {
            "tags": [],
            "needs_background": "light"
          }
        }
      ]
    },
    {
      "cell_type": "code",
      "metadata": {
        "colab": {
          "base_uri": "https://localhost:8080/"
        },
        "id": "d9eQKvKEgdWy",
        "outputId": "4dba0470-b60b-4e9c-dcb0-38c30dead83a"
      },
      "source": [
        "# Conclusion using t test\n",
        "\n",
        "if(np.abs(t) > t_critical):\n",
        "    print(\"Reject Null Hypothesis\")\n",
        "else:\n",
        "    print(\"Fail to reject Null Hypothesis\")"
      ],
      "execution_count": 47,
      "outputs": [
        {
          "output_type": "stream",
          "text": [
            "Fail to reject Null Hypothesis\n"
          ],
          "name": "stdout"
        }
      ]
    },
    {
      "cell_type": "code",
      "metadata": {
        "colab": {
          "base_uri": "https://localhost:8080/"
        },
        "id": "eFQpD0N7g0K6",
        "outputId": "2f34dd30-43ae-40de-9281-13fbe9be37d9"
      },
      "source": [
        "# Conclusion using p test\n",
        "\n",
        "p_value = 2 * (1.0 - norm.cdf(np.abs(t)))\n",
        "print(\"p_value = \", p_value)\n",
        "\n",
        "if(p_value < alpha):\n",
        "    print(\"Reject Null Hypothesis\")\n",
        "else:\n",
        "    print(\"Fail to reject Null Hypothesis\")"
      ],
      "execution_count": 48,
      "outputs": [
        {
          "output_type": "stream",
          "text": [
            "p_value =  0.20641847943818092\n",
            "Fail to reject Null Hypothesis\n"
          ],
          "name": "stdout"
        }
      ]
    },
    {
      "cell_type": "markdown",
      "metadata": {
        "id": "KuTDdQWKsZf1"
      },
      "source": [
        "**Q-2: You have developed a new Natural Language Processing Algorithms and done a user study. You claim that the average rating given by the users is greater than 4 on a scale of 1 to 5. How do you prove this to your client?**"
      ]
    },
    {
      "cell_type": "markdown",
      "metadata": {
        "id": "LQtD6YussTat"
      },
      "source": [
        "<p>Step - 1:</p>\n",
        "<p> Bold claim in above problem is, average rating given by the users is greater than 4 on a scale of 1 to 5 and pop-std is unknown hence we go with T-test.</p>\n",
        "Hence\n",
        "<p/> Alternate Hypothesis (Bold claim):</p>\n",
        "<p> ${H_1}$: $\\mu$$>$ 500gms</p>\n",
        "<p/> Null Hypothesis (Status Quo):</p>\n",
        "<p>${H_0}$:  $\\mu$$<=500gms$</p>\n",
        "\n",
        "<p>Step - 2:</p>\n",
        "\n",
        "* <p> Collect a sample of size n = 20 </p> <p>$$ $$ [4, 3, 5, 4, 5, 3, 5, 5, 4, 2, 4, 5, 5, 4, 4, 5, 4, 5, 4, 5] $$ $$</p>\n",
        "* Compute sample mean          $\\bar{x}$=4.25\n",
        "\n",
        "<p> Step - 3: Compute Test Statistic:\n",
        "<p>t=$\\frac{{\\bar{x}-\\mu}} {\\frac{S}{\\sqrt n}}$\n",
        "<p>$\\bar{x}$= sample mean\n",
        "<p>$\\mu$=Population mean\n",
        "<p>S=Standard deviation of sample\n",
        "<p>n=sample size\n",
        "<p>Step - 5.1: tailed t-test:</p>\n",
        "<p> reject ${H_0}$ if points comes under critical zone\n",
        "<p>Step - 5.2: Compute p-value"
      ]
    },
    {
      "cell_type": "code",
      "metadata": {
        "colab": {
          "base_uri": "https://localhost:8080/"
        },
        "id": "dwZS34H1v_Vt",
        "outputId": "d73d05f6-d835-4f4e-ce17-8ebff2f00748"
      },
      "source": [
        "# One Tail - Calculating the t-critical value\n",
        "l = [4, 3, 5, 4, 5, 3, 5, 5, 4, 2, 4, 5, 5, 4, 4, 5, 4, 5, 4, 5]\n",
        "\n",
        "sample_mean=sum(l)/len(l)\n",
        "print(sample_mean)"
      ],
      "execution_count": 49,
      "outputs": [
        {
          "output_type": "stream",
          "text": [
            "4.25\n"
          ],
          "name": "stdout"
        }
      ]
    },
    {
      "cell_type": "code",
      "metadata": {
        "colab": {
          "base_uri": "https://localhost:8080/"
        },
        "id": "Wr9SQJ7Ys25N",
        "outputId": "184212ff-ca85-486b-86d9-0cf7be22cd6a"
      },
      "source": [
        "import math\n",
        "numerator=0\n",
        "for i in l:\n",
        "  numerator+=(i-sample_mean)**2\n",
        "  \n",
        "\n",
        "sample_std1=numerator/(len(l)-1)\n",
        "sample_std=math.sqrt(sample_std1)\n",
        "print(sample_std)"
      ],
      "execution_count": 50,
      "outputs": [
        {
          "output_type": "stream",
          "text": [
            "0.8506963092234007\n"
          ],
          "name": "stdout"
        }
      ]
    },
    {
      "cell_type": "code",
      "metadata": {
        "colab": {
          "base_uri": "https://localhost:8080/"
        },
        "id": "x_QG66V5wvX2",
        "outputId": "a3254158-fc3a-46b2-faea-5b7d83d41df3"
      },
      "source": [
        "# One tail\n",
        "from scipy.stats import t \n",
        "alpha = 1 - 0.95\n",
        "\n",
        "t_critical = t.ppf(1-alpha, df = 19)\n",
        "\n",
        "print(t_critical)"
      ],
      "execution_count": 51,
      "outputs": [
        {
          "output_type": "stream",
          "text": [
            "1.729132811521367\n"
          ],
          "name": "stdout"
        }
      ]
    },
    {
      "cell_type": "code",
      "metadata": {
        "id": "zH3p8bNqxJC3"
      },
      "source": [
        "# Defining the sample and population parameters\n",
        "sample_size = 20\n",
        "sample_mean = 4.25\n",
        "pop_mean = 4\n",
        "sample_std = sample_std"
      ],
      "execution_count": 52,
      "outputs": []
    },
    {
      "cell_type": "code",
      "metadata": {
        "colab": {
          "base_uri": "https://localhost:8080/"
        },
        "id": "rWjcel9VxgM0",
        "outputId": "b5157fbe-d561-402d-8e4f-24e623861cb5"
      },
      "source": [
        "# Calculating the t-score\n",
        "\n",
        "t = t_score(sample_size, sample_mean, pop_mean, sample_std)\n",
        "\n",
        "print(t)"
      ],
      "execution_count": 53,
      "outputs": [
        {
          "output_type": "stream",
          "text": [
            "1.3142574813455419\n"
          ],
          "name": "stdout"
        }
      ]
    },
    {
      "cell_type": "code",
      "metadata": {
        "colab": {
          "base_uri": "https://localhost:8080/",
          "height": 282
        },
        "id": "uv-4PyBhxnLc",
        "outputId": "bc7de567-9590-4642-bd2b-540982530448"
      },
      "source": [
        "# Ploting the sampling distribution with rejection regions\n",
        "\n",
        "# Defining the x minimum and x maximum\n",
        "x_min = 3.5\n",
        "x_max = 4.5\n",
        "\n",
        "\n",
        "# Defining the sampling distribution mean and sampling distribution std\n",
        "mean = pop_mean\n",
        "std = sample_std / (sample_size**0.5)\n",
        "\n",
        "\n",
        "# Ploting the graph and setting the x limits\n",
        "x = np.linspace(x_min, x_max, 100)\n",
        "y = norm.pdf(x, mean, std)\n",
        "plt.xlim(x_min, x_max)\n",
        "plt.plot(x, y)\n",
        "\n",
        "\n",
        "# Computing the right critical value (Right tailed Test)\n",
        "t_critical_right = pop_mean + (t_critical * std)\n",
        "\n",
        "\n",
        "# Shading the right rejection region\n",
        "x1 = np.linspace(t_critical_right, x_max, 100)\n",
        "y1 = norm.pdf(x1, mean, std)\n",
        "plt.fill_between(x1, y1, color='orange')\n",
        "\n",
        "\n",
        "# Ploting the sample mean and concluding the results \n",
        "plt.scatter(sample_mean, 0)\n",
        "plt.annotate(\"x_bar\", (sample_mean, 0.1))\n",
        "\n",
        "# In this case sample mean falls in the rejection region\n",
        "# i.e. Reject the Null Hypothesis"
      ],
      "execution_count": 54,
      "outputs": [
        {
          "output_type": "execute_result",
          "data": {
            "text/plain": [
              "Text(4.25, 0.1, 'x_bar')"
            ]
          },
          "metadata": {
            "tags": []
          },
          "execution_count": 54
        },
        {
          "output_type": "display_data",
          "data": {
            "image/png": "[encoded data removed]",
            "text/plain": [
              "<Figure size 432x288 with 1 Axes>"
            ]
          },
          "metadata": {
            "tags": [],
            "needs_background": "light"
          }
        }
      ]
    },
    {
      "cell_type": "code",
      "metadata": {
        "colab": {
          "base_uri": "https://localhost:8080/"
        },
        "id": "CQQ5y-HLzAj8",
        "outputId": "400946ed-7882-4cde-e24d-8048f81059f7"
      },
      "source": [
        "# Conclusion using t test\n",
        "\n",
        "if(np.abs(t) > t_critical):\n",
        "    print(\"Reject Null Hypothesis\")\n",
        "else:\n",
        "    print(\"Fail to reject Null Hypothesis\")"
      ],
      "execution_count": 55,
      "outputs": [
        {
          "output_type": "stream",
          "text": [
            "Fail to reject Null Hypothesis\n"
          ],
          "name": "stdout"
        }
      ]
    },
    {
      "cell_type": "code",
      "metadata": {
        "colab": {
          "base_uri": "https://localhost:8080/"
        },
        "id": "r6ny1UElzHtT",
        "outputId": "93318d9e-55fc-4122-dce5-7a7c3da3089c"
      },
      "source": [
        "# Conclusion using p test\n",
        "\n",
        "p_value = 1.0 - norm.cdf(np.abs(t))\n",
        "\n",
        "print(\"p_value = \", p_value)\n",
        "\n",
        "if(p_value < alpha):\n",
        "    print(\"Reject Null Hypothesis\")\n",
        "else:\n",
        "    print(\"Fail to reject Null Hypothesis\")"
      ],
      "execution_count": 56,
      "outputs": [
        {
          "output_type": "stream",
          "text": [
            "p_value =  0.09437978527056279\n",
            "Fail to reject Null Hypothesis\n"
          ],
          "name": "stdout"
        }
      ]
    },
    {
      "cell_type": "markdown",
      "metadata": {
        "id": "Ghlb7XZazML7"
      },
      "source": [
        "**Q-3: TATA has developed a better fuel management system for the SUV segment. They claim that with this system, on average the SUV's mileage is at least 15 km/litre?**"
      ]
    },
    {
      "cell_type": "markdown",
      "metadata": {
        "id": "800NJERBzSpk"
      },
      "source": [
        "Step - 1:\n",
        "\n",
        "Bold claim in above problem is,  on average the SUV's mileage is at least 15 km/litre and pop-std is unknown hence we go with T-test.\n",
        "\n",
        "Hence\n",
        "Alternate Hypothesis (Bold claim):\n",
        "\n",
        "H1 :  μ  >  15 km/litre\n",
        "\n",
        "Null Hypothesis (Status Quo):\n",
        "\n",
        "H0 :  μ  <=15 km/litre \n",
        "\n",
        "Step - 2:\n",
        "\n",
        "Collect a sample of size n = 20\n",
        "\n",
        " \n",
        "$$ [14.08, 14.13, 15.65, 13.78, 16.26, 14.97, 15.36, 15.81, 14.53, 16.79, 15.78, 16.98, 13.23, 15.43, 15.46, 13.88, 14.31, 14.41, 15.76, 15.38] $$\n",
        " \n",
        "\n",
        "<p>Compute sample mean $\\bar{x}$ =4.25\n",
        "<p> Step - 3: Compute Test Statistic:\n",
        "<p>t=$\\frac{{\\bar{x}-\\mu}} {\\frac{S}{\\sqrt n}}$\n",
        "<p>$\\bar{x}$= sample mean\n",
        "<p>$\\mu$=Population mean\n",
        "<p>S=Standard deviation of sample\n",
        "<p>n=sample size\n",
        "<p>Step - 5.1: tailed t-test:</p>\n",
        "<p> reject ${H_0}$ if points comes under critical zone\n",
        "<p>Step - 5.2: Compute p-value"
      ]
    },
    {
      "cell_type": "code",
      "metadata": {
        "colab": {
          "base_uri": "https://localhost:8080/"
        },
        "id": "Rwv5lJvV0rm9",
        "outputId": "2ae4f28b-90c0-4762-ecd7-2d8c2ce31bec"
      },
      "source": [
        "# One Tail - Calculating the t-critical value\n",
        "l = [14.08,14.13,15.65,13.78,16.26,14.97,15.36,15.81,14.53,16.79,15.78,16.98,13.23,15.43,15.46,13.88,14.31,14.41,15.76,15.38]\n",
        "print(min(l))\n",
        "print(max(l))\n",
        "sample_mean=sum(l)/len(l)\n",
        "print(sample_mean)"
      ],
      "execution_count": 57,
      "outputs": [
        {
          "output_type": "stream",
          "text": [
            "13.23\n",
            "16.98\n",
            "15.098999999999998\n"
          ],
          "name": "stdout"
        }
      ]
    },
    {
      "cell_type": "code",
      "metadata": {
        "colab": {
          "base_uri": "https://localhost:8080/"
        },
        "id": "7K7brw2M1RCM",
        "outputId": "a3450706-e7fa-4dfc-8f90-f48db1101728"
      },
      "source": [
        "import math\n",
        "numerator=0\n",
        "for i in l:\n",
        "  numerator+=(i-sample_mean)**2\n",
        "  \n",
        "\n",
        "sample_std1=numerator/(len(l)-1)\n",
        "sample_std=math.sqrt(sample_std1)\n",
        "print(sample_std)"
      ],
      "execution_count": 58,
      "outputs": [
        {
          "output_type": "stream",
          "text": [
            "1.0253671999517255\n"
          ],
          "name": "stdout"
        }
      ]
    },
    {
      "cell_type": "code",
      "metadata": {
        "colab": {
          "base_uri": "https://localhost:8080/"
        },
        "id": "gmJdFKVB2h9z",
        "outputId": "e022bf5e-7d15-4c0b-a660-2572fcd1a1a2"
      },
      "source": [
        "# One tail\n",
        "from scipy.stats import t \n",
        "alpha = 1 - 0.95\n",
        "\n",
        "t_critical = t.ppf(1-alpha, df = 19)\n",
        "\n",
        "print(t_critical)"
      ],
      "execution_count": 59,
      "outputs": [
        {
          "output_type": "stream",
          "text": [
            "1.729132811521367\n"
          ],
          "name": "stdout"
        }
      ]
    },
    {
      "cell_type": "code",
      "metadata": {
        "id": "qn5UjhL61xRm"
      },
      "source": [
        "# Defining the sample and population parameters\n",
        "sample_size = 20\n",
        "sample_mean = 15.098\n",
        "pop_mean = 15\n",
        "sample_std = sample_std"
      ],
      "execution_count": 60,
      "outputs": []
    },
    {
      "cell_type": "code",
      "metadata": {
        "colab": {
          "base_uri": "https://localhost:8080/"
        },
        "id": "vYO6IlDB19_7",
        "outputId": "ce87ccba-b3bc-45de-b5bf-567f1c264c65"
      },
      "source": [
        "# Calculating the t-score\n",
        "\n",
        "t = t_score(sample_size, sample_mean, pop_mean, sample_std)\n",
        "\n",
        "print(t)"
      ],
      "execution_count": 61,
      "outputs": [
        {
          "output_type": "stream",
          "text": [
            "0.4274267049020058\n"
          ],
          "name": "stdout"
        }
      ]
    },
    {
      "cell_type": "code",
      "metadata": {
        "colab": {
          "base_uri": "https://localhost:8080/",
          "height": 282
        },
        "id": "fUJmTIE72DA1",
        "outputId": "b03d89f7-3063-4fcb-cf30-a9c1a0928c02"
      },
      "source": [
        "# Ploting the sampling distribution with rejection regions\n",
        "\n",
        "# Defining the x minimum and x maximum\n",
        "x_min = 13\n",
        "x_max = 17\n",
        "\n",
        "\n",
        "# Defining the sampling distribution mean and sampling distribution std\n",
        "mean = pop_mean\n",
        "std = sample_std / (sample_size**0.5)\n",
        "\n",
        "\n",
        "# Ploting the graph and setting the x limits\n",
        "x = np.linspace(x_min, x_max, 100)\n",
        "y = norm.pdf(x, mean, std)\n",
        "plt.xlim(x_min, x_max)\n",
        "plt.plot(x, y)\n",
        "\n",
        "\n",
        "# Computing the right critical value (Right tailed Test)\n",
        "t_critical_right = pop_mean + (t_critical * std)\n",
        "\n",
        "\n",
        "# Shading the right rejection region\n",
        "x1 = np.linspace(t_critical_right, x_max, 100)\n",
        "y1 = norm.pdf(x1, mean, std)\n",
        "plt.fill_between(x1, y1, color='orange')\n",
        "\n",
        "\n",
        "# Ploting the sample mean and concluding the results \n",
        "plt.scatter(sample_mean, 0)\n",
        "plt.annotate(\"x_bar\", (sample_mean, 0.1))\n",
        "\n",
        "# In this case sample mean falls in the rejection region\n",
        "# i.e. Reject the Null Hypothesis"
      ],
      "execution_count": 62,
      "outputs": [
        {
          "output_type": "execute_result",
          "data": {
            "text/plain": [
              "Text(15.098, 0.1, 'x_bar')"
            ]
          },
          "metadata": {
            "tags": []
          },
          "execution_count": 62
        },
        {
          "output_type": "display_data",
          "data": {
            "image/png": "[encoded data removed]",
            "text/plain": [
              "<Figure size 432x288 with 1 Axes>"
            ]
          },
          "metadata": {
            "tags": [],
            "needs_background": "light"
          }
        }
      ]
    },
    {
      "cell_type": "code",
      "metadata": {
        "colab": {
          "base_uri": "https://localhost:8080/"
        },
        "id": "GBePr5xX20BL",
        "outputId": "98fe4f4b-800b-4741-82ad-8dece439f9ae"
      },
      "source": [
        "# Conclusion using t test\n",
        "\n",
        "if (np.abs(t) > t_critical):\n",
        "    print(\"Reject Null Hypothesis\")\n",
        "else:\n",
        "    print(\"Fail to reject Null Hypothesis\")"
      ],
      "execution_count": 63,
      "outputs": [
        {
          "output_type": "stream",
          "text": [
            "Fail to reject Null Hypothesis\n"
          ],
          "name": "stdout"
        }
      ]
    },
    {
      "cell_type": "code",
      "metadata": {
        "colab": {
          "base_uri": "https://localhost:8080/"
        },
        "id": "Ajj77Mn33INr",
        "outputId": "5e6f3db9-af44-4ce4-8cbc-6b25a1bb365d"
      },
      "source": [
        "p_value = 1.0 - norm.cdf(np.abs(t))\n",
        "\n",
        "print(\"p_value = \", p_value)\n",
        "\n",
        "if(p_value < alpha):\n",
        "    print(\"Reject Null Hypothesis\")\n",
        "else:\n",
        "    print(\"Fail to reject Null Hypothesis\")"
      ],
      "execution_count": 64,
      "outputs": [
        {
          "output_type": "stream",
          "text": [
            "p_value =  0.33453427999566787\n",
            "Fail to reject Null Hypothesis\n"
          ],
          "name": "stdout"
        }
      ]
    },
    {
      "cell_type": "markdown",
      "metadata": {
        "id": "xte8bmYR3tf7"
      },
      "source": [
        "**Q-4: You have developed a new Machine Learning Application and claim that on average it takes less than 100 ms to predict for any future datapoint. How do you convince your client about this claim?**"
      ]
    },
    {
      "cell_type": "markdown",
      "metadata": {
        "id": "IK3a-jb73v_7"
      },
      "source": [
        "Step - 1:\n",
        "\n",
        "Bold claim in above problem is, on average it takes less than 100 ms to predict for any future datapoint and pop-std is unknown hence we go with T-test.\n",
        "\n",
        "Hence\n",
        "<p>Alternate Hypothesis (Bold claim):\n",
        "\n",
        "H1 :  μ  <  100ms\n",
        "\n",
        "Null Hypothesis (Status Quo):\n",
        "\n",
        "H0 :  μ  >=100ms\n",
        "\n",
        "Step - 2:\n",
        "\n",
        "Collect a sample of size n = 100\n",
        "\n",
        "<p>Compute sample mean $\\bar{x}$ =97.5\n",
        "<p> Step - 3: Compute Test Statistic:\n",
        "<p>t=$\\frac{{\\bar{x}-\\mu}} {\\frac{S}{\\sqrt n}}$\n",
        "<p>$\\bar{x}$= sample mean\n",
        "<p>$\\mu$=Population mean\n",
        "<p>S=Standard deviation of sample\n",
        "<p>n=sample size\n",
        "<p>Step - 5.1: tailed t-test:</p>\n",
        "<p> reject ${H_0}$ if points comes under critical zone\n",
        "<p>Step - 5.2: Compute p-value"
      ]
    },
    {
      "cell_type": "code",
      "metadata": {
        "id": "2AS52XUP4Yh7"
      },
      "source": [
        "# One Tail - Calculating the t-critical value\n",
        "sample_size = 100\n",
        "sample_mean = 97.5\n",
        "pop_mean = 100\n",
        "sample_std = 8"
      ],
      "execution_count": 65,
      "outputs": []
    },
    {
      "cell_type": "code",
      "metadata": {
        "colab": {
          "base_uri": "https://localhost:8080/"
        },
        "id": "PWxdkoxCu72z",
        "outputId": "706324ed-b8ef-4512-be9f-f43bb8aecc52"
      },
      "source": [
        "# One tail\n",
        "from scipy.stats import t \n",
        "alpha = 1 - 0.95\n",
        "\n",
        "t_critical = t.ppf(1-alpha, df = 99)\n",
        "\n",
        "print(t_critical)"
      ],
      "execution_count": 67,
      "outputs": [
        {
          "output_type": "stream",
          "text": [
            "1.6603911559963895\n"
          ],
          "name": "stdout"
        }
      ]
    },
    {
      "cell_type": "code",
      "metadata": {
        "colab": {
          "base_uri": "https://localhost:8080/"
        },
        "id": "e7xoooRBw-1C",
        "outputId": "4e392504-7d81-44db-c98f-d8dd96ba885d"
      },
      "source": [
        "# Calculating the t-score\n",
        "\n",
        "t = t_score(sample_size, sample_mean, pop_mean, sample_std)\n",
        "\n",
        "print(t)"
      ],
      "execution_count": 70,
      "outputs": [
        {
          "output_type": "stream",
          "text": [
            "-3.125\n"
          ],
          "name": "stdout"
        }
      ]
    },
    {
      "cell_type": "code",
      "metadata": {
        "colab": {
          "base_uri": "https://localhost:8080/",
          "height": 282
        },
        "id": "g-tOoDSSvWWC",
        "outputId": "8e017b1d-ab99-4119-efc8-2b0deaaa4d81"
      },
      "source": [
        "\n",
        "# Defining the x minimum and x maximum\n",
        "x_min = 95\n",
        "x_max = 105\n",
        "\n",
        "\n",
        "# Defining the sampling distribution mean and sampling distribution std\n",
        "mean = pop_mean\n",
        "std = sample_std / (sample_size**0.5)\n",
        "\n",
        "\n",
        "# Ploting the graph and setting the x limits\n",
        "x = np.linspace(x_min, x_max, 100)\n",
        "y = norm.pdf(x, mean, std)\n",
        "plt.xlim(x_min, x_max)\n",
        "plt.plot(x, y)\n",
        "\n",
        "\n",
        "# Computing the right critical value (Right tailed Test)\n",
        "t_critical_right = pop_mean + (t_critical * std)\n",
        "\n",
        "\n",
        "# Shading the right rejection region\n",
        "x1 = np.linspace(t_critical_right, x_max, 100)\n",
        "y1 = norm.pdf(x1, mean, std)\n",
        "plt.fill_between(x1, y1, color='orange')\n",
        "\n",
        "\n",
        "# Ploting the sample mean and concluding the results \n",
        "plt.scatter(sample_mean, 0)\n",
        "plt.annotate(\"x_bar\", (sample_mean, 0.1))"
      ],
      "execution_count": 68,
      "outputs": [
        {
          "output_type": "execute_result",
          "data": {
            "text/plain": [
              "Text(97.5, 0.1, 'x_bar')"
            ]
          },
          "metadata": {
            "tags": []
          },
          "execution_count": 68
        },
        {
          "output_type": "display_data",
          "data": {
            "image/png": "[encoded data removed]",
            "text/plain": [
              "<Figure size 432x288 with 1 Axes>"
            ]
          },
          "metadata": {
            "tags": [],
            "needs_background": "light"
          }
        }
      ]
    },
    {
      "cell_type": "code",
      "metadata": {
        "colab": {
          "base_uri": "https://localhost:8080/"
        },
        "id": "FyMVVv8OwSWb",
        "outputId": "7dc61c0c-1a78-4921-9d88-aac640227eb0"
      },
      "source": [
        "# Conclusion using t test\n",
        "if (np.abs(t) > t_critical):\n",
        "    print(\"Reject Null Hypothesis\")\n",
        "else:\n",
        "    print(\"Fail to reject Null Hypothesis\")"
      ],
      "execution_count": 71,
      "outputs": [
        {
          "output_type": "stream",
          "text": [
            "Reject Null Hypothesis\n"
          ],
          "name": "stdout"
        }
      ]
    },
    {
      "cell_type": "code",
      "metadata": {
        "colab": {
          "base_uri": "https://localhost:8080/"
        },
        "id": "WN_sRK5eyDsq",
        "outputId": "e9e691c5-8174-48e4-87b6-5239e6a91a5b"
      },
      "source": [
        "p_value = 1.0 - norm.cdf(np.abs(t))\n",
        "\n",
        "print(\"p_value = \", p_value)\n",
        "\n",
        "if(p_value < alpha):\n",
        "    print(\"Reject Null Hypothesis\")\n",
        "else:\n",
        "    print(\"Fail to reject Null Hypothesis\")"
      ],
      "execution_count": 72,
      "outputs": [
        {
          "output_type": "stream",
          "text": [
            "p_value =  0.0008890252991083925\n",
            "Reject Null Hypothesis\n"
          ],
          "name": "stdout"
        }
      ]
    }
  ]
}