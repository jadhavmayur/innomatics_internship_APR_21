{
  "nbformat": 4,
  "nbformat_minor": 0,
  "metadata": {
    "colab": {
      "name": "Task6(python programming).ipynb",
      "provenance": []
    },
    "kernelspec": {
      "name": "python3",
      "display_name": "Python 3"
    },
    "language_info": {
      "name": "python"
    }
  },
  "cells": [
    {
      "cell_type": "code",
      "metadata": {
        "colab": {
          "base_uri": "https://localhost:8080/"
        },
        "id": "ew6b1yD50Egs",
        "outputId": "04379320-2d16-4c9b-85d1-caf0fd70e621"
      },
      "source": [
        "#Q1 Arrays\n",
        "import numpy\n",
        "\n",
        "def arrays(arr):\n",
        "    # complete this function\n",
        "    # use numpy.array\n",
        "    a=numpy.array(arr[::-1],float)\n",
        "    return a\n",
        "    \n",
        "        \n",
        "        \n",
        "\n",
        "arr = input().strip().split(' ')\n",
        "result = arrays(arr)\n",
        "print(result)"
      ],
      "execution_count": 1,
      "outputs": [
        {
          "output_type": "stream",
          "text": [
            "1 2 3 4 -8 -10\n",
            "[-10.  -8.   4.   3.   2.   1.]\n"
          ],
          "name": "stdout"
        }
      ]
    },
    {
      "cell_type": "code",
      "metadata": {
        "colab": {
          "base_uri": "https://localhost:8080/"
        },
        "id": "-Ulu2nkq0SoG",
        "outputId": "04f97a0c-e30d-427f-aaaa-a8ef955c9548"
      },
      "source": [
        "#Q2 Shape and Reshape\n",
        "import numpy\n",
        "a=numpy.array(input().split(),int)\n",
        "print(numpy.reshape(a,(3,3)))"
      ],
      "execution_count": 2,
      "outputs": [
        {
          "output_type": "stream",
          "text": [
            "1 2 3 4 5 6 7 8 9\n",
            "[[1 2 3]\n",
            " [4 5 6]\n",
            " [7 8 9]]\n"
          ],
          "name": "stdout"
        }
      ]
    },
    {
      "cell_type": "code",
      "metadata": {
        "colab": {
          "base_uri": "https://localhost:8080/"
        },
        "id": "fAeAcZjR0hZd",
        "outputId": "8974c9e0-66ce-4e89-a3ca-45e756d69bc1"
      },
      "source": [
        "#Q3 Transpose and Flatten\n",
        "import numpy as np\n",
        "\n",
        "\n",
        "\n",
        "n,m=map(int,input().split())\n",
        "\n",
        "\n",
        "\n",
        "a=np.array([input().split() for _ in range(n)],int)\n",
        "    \n",
        "print(np.transpose(a))\n",
        "print(a.flatten())\n"
      ],
      "execution_count": 4,
      "outputs": [
        {
          "output_type": "stream",
          "text": [
            "2 2\n",
            "1 2 \n",
            "3 4\n",
            "[[1 3]\n",
            " [2 4]]\n",
            "[1 2 3 4]\n"
          ],
          "name": "stdout"
        }
      ]
    },
    {
      "cell_type": "code",
      "metadata": {
        "colab": {
          "base_uri": "https://localhost:8080/"
        },
        "id": "czKXHr8807KF",
        "outputId": "31aa846c-8de7-4c23-d4be-6a7c5c9b4ab6"
      },
      "source": [
        "#Q4 Concatenate\n",
        "import numpy as np\n",
        "\n",
        "n,m,p=map(int,input().split())\n",
        "\n",
        "A=np.array([input().split() for _ in range(n)],int)\n",
        "B=np.array([input().split() for _ in range(m)],int)\n",
        "\n",
        "con=np.concatenate((A,B),axis=0)\n",
        "print(con)"
      ],
      "execution_count": 12,
      "outputs": [
        {
          "output_type": "stream",
          "text": [
            "4 3 2\n",
            "1 2\n",
            "1 2\n",
            "1 2\n",
            "1 2\n",
            "3 4 \n",
            "3 4\n",
            "3 4\n",
            "[[1 2]\n",
            " [1 2]\n",
            " [1 2]\n",
            " [1 2]\n",
            " [3 4]\n",
            " [3 4]\n",
            " [3 4]]\n"
          ],
          "name": "stdout"
        }
      ]
    },
    {
      "cell_type": "code",
      "metadata": {
        "colab": {
          "base_uri": "https://localhost:8080/"
        },
        "id": "FNRBcSNQ4JBn",
        "outputId": "0770fe9a-f2a2-4903-9c38-f1e85cd48393"
      },
      "source": [
        "#Q5 Zeros and Ones\n",
        "import numpy as np\n",
        "\n",
        "\n",
        "\n",
        "m=list(map(int,input().split()))\n",
        "\n",
        "zero=np.zeros((m),int)\n",
        "one=np.ones((m),int)\n",
        "print(zero)\n",
        "print(one)"
      ],
      "execution_count": 13,
      "outputs": [
        {
          "output_type": "stream",
          "text": [
            "3 3 3\n",
            "[[[0 0 0]\n",
            "  [0 0 0]\n",
            "  [0 0 0]]\n",
            "\n",
            " [[0 0 0]\n",
            "  [0 0 0]\n",
            "  [0 0 0]]\n",
            "\n",
            " [[0 0 0]\n",
            "  [0 0 0]\n",
            "  [0 0 0]]]\n",
            "[[[1 1 1]\n",
            "  [1 1 1]\n",
            "  [1 1 1]]\n",
            "\n",
            " [[1 1 1]\n",
            "  [1 1 1]\n",
            "  [1 1 1]]\n",
            "\n",
            " [[1 1 1]\n",
            "  [1 1 1]\n",
            "  [1 1 1]]]\n"
          ],
          "name": "stdout"
        }
      ]
    },
    {
      "cell_type": "code",
      "metadata": {
        "colab": {
          "base_uri": "https://localhost:8080/"
        },
        "id": "kqWXcuAM4T4u",
        "outputId": "d6e086fc-9da0-4505-acf4-9603c730f773"
      },
      "source": [
        "#Q6 Eye and Identity\n",
        "import numpy as np\n",
        "\n",
        "\n",
        "\n",
        "np.set_printoptions(sign=' ')\n",
        "a=map(int, input().split())\n",
        "print(np.eye(*a))"
      ],
      "execution_count": 17,
      "outputs": [
        {
          "output_type": "stream",
          "text": [
            "3 3\n",
            "[[ 1.  0.  0.]\n",
            " [ 0.  1.  0.]\n",
            " [ 0.  0.  1.]]\n"
          ],
          "name": "stdout"
        }
      ]
    },
    {
      "cell_type": "code",
      "metadata": {
        "colab": {
          "base_uri": "https://localhost:8080/"
        },
        "id": "PsU1-hmD4hCP",
        "outputId": "6a1da7ac-ac7a-446f-a223-2a53dc5f6618"
      },
      "source": [
        "#Q7 Array Mathematics\n",
        "import numpy as np\n",
        "\n",
        "m,n=list(map(int, input().split()))\n",
        "b = np.array([input().split() for _ in range(m)], int)\n",
        "c = np.array([input().split() for _ in range(m)], int)\n",
        "\n",
        "print(np.add(b,c))\n",
        "print(np.subtract(b,c))\n",
        "print(np.multiply(b,c))\n",
        "print(np.floor_divide(b,c))\n",
        "print(np.mod(b,c))\n",
        "print(np.power(b,c))"
      ],
      "execution_count": 18,
      "outputs": [
        {
          "output_type": "stream",
          "text": [
            "1 4\n",
            "1 2 3 4\n",
            "5 6 7 8\n",
            "[[ 6  8 10 12]]\n",
            "[[-4 -4 -4 -4]]\n",
            "[[ 5 12 21 32]]\n",
            "[[0 0 0 0]]\n",
            "[[1 2 3 4]]\n",
            "[[    1    64  2187 65536]]\n"
          ],
          "name": "stdout"
        }
      ]
    },
    {
      "cell_type": "code",
      "metadata": {
        "colab": {
          "base_uri": "https://localhost:8080/"
        },
        "id": "-36wHUmN9WPK",
        "outputId": "fbb6cd0d-e4b0-40e1-ce3e-32e0a28304a8"
      },
      "source": [
        "#Q8 Floor, Ceil and Rint\n",
        "import numpy as np\n",
        "\n",
        "\n",
        "\n",
        "a=list(map(float,input().split()))\n",
        "\n",
        "print(np.floor(a))\n",
        "print(np.ceil(a))\n",
        "print(np.rint(a))\n"
      ],
      "execution_count": 19,
      "outputs": [
        {
          "output_type": "stream",
          "text": [
            "1.1 2.2 3.3 4.4 5.5 6.6 7.7 8.8 9.9\n",
            "[ 1.  2.  3.  4.  5.  6.  7.  8.  9.]\n",
            "[  2.   3.   4.   5.   6.   7.   8.   9.  10.]\n",
            "[  1.   2.   3.   4.   6.   7.   8.   9.  10.]\n"
          ],
          "name": "stdout"
        }
      ]
    },
    {
      "cell_type": "code",
      "metadata": {
        "colab": {
          "base_uri": "https://localhost:8080/"
        },
        "id": "DM6DRclk9huB",
        "outputId": "290ba3b9-bf7b-4d5d-9488-e73d20effde6"
      },
      "source": [
        "#Q9 Sum and Prod\n",
        "import numpy as np\n",
        "\n",
        "m,n=map(int,input().split())\n",
        "\n",
        "a=np.array([input().split() for _ in range(m)],int)\n",
        "\n",
        "\n",
        "sum_arr=np.sum(a,axis=0)\n",
        "prod_arr=np.prod(sum_arr,axis=0)\n",
        "print(prod_arr)\n"
      ],
      "execution_count": 20,
      "outputs": [
        {
          "output_type": "stream",
          "text": [
            "2 2\n",
            "1 2\n",
            "3 4\n",
            "24\n"
          ],
          "name": "stdout"
        }
      ]
    },
    {
      "cell_type": "code",
      "metadata": {
        "colab": {
          "base_uri": "https://localhost:8080/"
        },
        "id": "NEt-Asfz90MJ",
        "outputId": "0073a4e5-bb0b-4445-e49c-474bd443c78b"
      },
      "source": [
        "#Q10 Min and Max\n",
        "import numpy as np\n",
        "\n",
        "m,n=map(int,input().split())\n",
        "\n",
        "a=np.array([input().split() for _ in range(m)],int)\n",
        "\n",
        "min_a=np.min(a,axis=1)\n",
        "\n",
        "print(np.max(min_a))\n",
        " "
      ],
      "execution_count": 21,
      "outputs": [
        {
          "output_type": "stream",
          "text": [
            "4 2\n",
            "2 5\n",
            "3 7\n",
            "1 3\n",
            "4 0\n",
            "3\n"
          ],
          "name": "stdout"
        }
      ]
    },
    {
      "cell_type": "code",
      "metadata": {
        "colab": {
          "base_uri": "https://localhost:8080/"
        },
        "id": "QSyp_ynU-HZJ",
        "outputId": "64695645-819e-47eb-c7cc-08fe8ab7ca51"
      },
      "source": [
        "#Q11 Mean, Var, and Std\n",
        "\n",
        "import numpy as np\n",
        "\n",
        "\n",
        "\n",
        "\n",
        "m,n=map(int,input().split())\n",
        "\n",
        "a=np.array([input().split() for _ in range(m)],int)\n",
        "\n",
        "mean_a=np.mean(a,axis=1)\n",
        "print(mean_a)\n",
        "\n",
        "var_a=np.var(a,axis=0)\n",
        "print(var_a)\n",
        "\n",
        "np.set_printoptions(legacy='1.13')\n",
        "print(np.std(a,axis = None))"
      ],
      "execution_count": 22,
      "outputs": [
        {
          "output_type": "stream",
          "text": [
            "2 2\n",
            "1 2\n",
            "3 4\n",
            "[ 1.5  3.5]\n",
            "[ 1.  1.]\n",
            "1.11803398875\n"
          ],
          "name": "stdout"
        }
      ]
    },
    {
      "cell_type": "code",
      "metadata": {
        "colab": {
          "base_uri": "https://localhost:8080/"
        },
        "id": "yvNDgiEs-bIq",
        "outputId": "953ca91e-b436-43a4-87b7-721bdd83b994"
      },
      "source": [
        "#Q12 Dot and Cross\n",
        "import numpy as np\n",
        "\n",
        "\n",
        "\n",
        "m=int(input())\n",
        "\n",
        "a=np.array([input().split() for _ in range(m)],int)\n",
        "b=np.array([input().split() for _ in range(m)],int)\n",
        "\n",
        "print(np.dot(a,b))"
      ],
      "execution_count": 23,
      "outputs": [
        {
          "output_type": "stream",
          "text": [
            "2\n",
            "1 2\n",
            "3 4\n",
            "1 2\n",
            "3 4\n",
            "[[ 7 10]\n",
            " [15 22]]\n"
          ],
          "name": "stdout"
        }
      ]
    },
    {
      "cell_type": "code",
      "metadata": {
        "colab": {
          "base_uri": "https://localhost:8080/"
        },
        "id": "qf_owIJF-sOK",
        "outputId": "c2ca3293-8880-48d7-e005-e22f61957c02"
      },
      "source": [
        "#Q13 Inner and Outer\n",
        "import numpy as np\n",
        "\n",
        "\n",
        "a=np.array(input().split() ,int)\n",
        "b=np.array(input().split(),int)\n",
        "\n",
        "\n",
        "print(np.inner(a,b))\n",
        "print(np.outer(a,b))\n"
      ],
      "execution_count": 25,
      "outputs": [
        {
          "output_type": "stream",
          "text": [
            "0 1\n",
            "2 3\n",
            "3\n",
            "[[0 0]\n",
            " [2 3]]\n"
          ],
          "name": "stdout"
        }
      ]
    },
    {
      "cell_type": "code",
      "metadata": {
        "colab": {
          "base_uri": "https://localhost:8080/"
        },
        "id": "MZlfp72u_JFC",
        "outputId": "ac866150-b1fa-4cb0-fca3-7597a1ee56b6"
      },
      "source": [
        "#Q14 Polynomials\n",
        "import numpy as np\n",
        "\n",
        "a=list(map(float, input().split()))\n",
        "\n",
        "print(np.polyval(a,float(input())))"
      ],
      "execution_count": 26,
      "outputs": [
        {
          "output_type": "stream",
          "text": [
            "1.1 2 3\n",
            "0\n",
            "3.0\n"
          ],
          "name": "stdout"
        }
      ]
    },
    {
      "cell_type": "code",
      "metadata": {
        "colab": {
          "base_uri": "https://localhost:8080/"
        },
        "id": "lDtuiA3r_evB",
        "outputId": "adf12f4e-7715-4adf-9139-fc31772fb86f"
      },
      "source": [
        "#Q15 Linear Algebra\n",
        "import numpy as np\n",
        "np.set_printoptions(legacy='1.13')\n",
        "\n",
        "\n",
        "a=int(input())\n",
        "\n",
        "b=np.array([input().split() for _ in range(a)], float)\n",
        "\n",
        "\n",
        "    \n",
        "print(round(np.linalg.det(b),2))"
      ],
      "execution_count": 27,
      "outputs": [
        {
          "output_type": "stream",
          "text": [
            "2\n",
            "1.1 1.1\n",
            "1.1 1.1\n",
            "0.0\n"
          ],
          "name": "stdout"
        }
      ]
    }
  ]
}