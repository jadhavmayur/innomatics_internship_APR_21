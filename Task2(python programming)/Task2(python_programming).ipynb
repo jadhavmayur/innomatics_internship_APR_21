{
  "nbformat": 4,
  "nbformat_minor": 0,
  "metadata": {
    "colab": {
      "name": "Task2(python programming).ipynb",
      "provenance": []
    },
    "kernelspec": {
      "name": "python3",
      "display_name": "Python 3"
    },
    "language_info": {
      "name": "python"
    }
  },
  "cells": [
    {
      "cell_type": "code",
      "metadata": {
        "colab": {
          "base_uri": "https://localhost:8080/"
        },
        "id": "TB0WHw5n6qpq",
        "outputId": "928f56d4-4726-4ed3-d99c-c546065f567b"
      },
      "source": [
        "#Q1\n",
        "if __name__ == '__main__':\n",
        "    x = int(input())\n",
        "    y = int(input())\n",
        "    z = int(input())\n",
        "    n = int(input())\n",
        "    \n",
        "    L=[[i,j,k] for i in range(x+1) for j in range(y+1) for k in range(z+1) if (i+j+k)!=n]\n",
        "    print(L)"
      ],
      "execution_count": null,
      "outputs": [
        {
          "output_type": "stream",
          "text": [
            "2\n",
            "2\n",
            "2\n",
            "2\n",
            "[[0, 0, 0], [0, 0, 1], [0, 1, 0], [0, 1, 2], [0, 2, 1], [0, 2, 2], [1, 0, 0], [1, 0, 2], [1, 1, 1], [1, 1, 2], [1, 2, 0], [1, 2, 1], [1, 2, 2], [2, 0, 1], [2, 0, 2], [2, 1, 0], [2, 1, 1], [2, 1, 2], [2, 2, 0], [2, 2, 1], [2, 2, 2]]\n"
          ],
          "name": "stdout"
        }
      ]
    },
    {
      "cell_type": "code",
      "metadata": {
        "colab": {
          "base_uri": "https://localhost:8080/"
        },
        "id": "FfqsLKxFA127",
        "outputId": "056bfec1-ea82-43b1-da2e-867c1a9c446b"
      },
      "source": [
        "#Q2\n",
        "if __name__ == '__main__':\n",
        "    n = int(input())\n",
        "    arr = map(int, input().split())\n",
        "    list_arr=list(set(arr))\n",
        "    sort_arr=sorted(list_arr)\n",
        "    print(sort_arr[-2])\n",
        "            "
      ],
      "execution_count": null,
      "outputs": [
        {
          "output_type": "stream",
          "text": [
            "5\n",
            "2 3 6 6 5\n",
            "5\n"
          ],
          "name": "stdout"
        }
      ]
    },
    {
      "cell_type": "code",
      "metadata": {
        "colab": {
          "base_uri": "https://localhost:8080/"
        },
        "id": "GLorOI2-_YQY",
        "outputId": "7ba14a55-0bad-41dc-c6d0-c5d90b58bdd8"
      },
      "source": [
        "#Q3\n",
        "if __name__ == '__main__':\n",
        "    name_grade=[]\n",
        "    \n",
        "    for _ in range(int(input())):\n",
        "        name = input()\n",
        "        score = float(input())\n",
        "        name_grade.append([name,score])\n",
        "    sort_list=sorted(list(set([x[1] for x in name_grade])))\n",
        "    get_second_lowest=sort_list[1]\n",
        "    \n",
        "   \n",
        "        \n",
        "    second_low=[]\n",
        "    for student in name_grade:\n",
        "        if get_second_lowest==student[1]:\n",
        "            second_low.append(student[0])\n",
        "            \n",
        "    for student in sorted(second_low):\n",
        "        print(student) \n",
        "    "
      ],
      "execution_count": 3,
      "outputs": [
        {
          "output_type": "stream",
          "text": [
            "5\n",
            "Harry \n",
            "37.21\n",
            "Berry\n",
            "37.21\n",
            "Tina\n",
            "37.21\n",
            "Akriti\n",
            "41\n",
            "Harsh\n",
            "39\n",
            "Harsh\n"
          ],
          "name": "stdout"
        }
      ]
    },
    {
      "cell_type": "code",
      "metadata": {
        "colab": {
          "base_uri": "https://localhost:8080/"
        },
        "id": "IgTsjVhGlz1T",
        "outputId": "ec7c2473-9448-49dd-d185-1240671ccbc3"
      },
      "source": [
        "#Q4\n",
        "if __name__ == '__main__':\n",
        "    n = int(input())\n",
        "    student_marks = {}\n",
        "    for _ in range(n):\n",
        "        name, *l = input().split()\n",
        "        scores = list(map(float, l))\n",
        "        student_marks[name] = scores\n",
        "    query_name = input()\n",
        "    student_score=student_marks[query_name]\n",
        "    percentage=(sum(student_score)/len(student_score))\n",
        "    print('{0:.2f}'.format(percentage))"
      ],
      "execution_count": null,
      "outputs": [
        {
          "output_type": "stream",
          "text": [
            "3\n",
            "Krishna 67 68 69\n",
            "Arjun 70 98 63\n",
            "Malika 52 56 60\n",
            "Malika\n",
            "56.00\n"
          ],
          "name": "stdout"
        }
      ]
    },
    {
      "cell_type": "code",
      "metadata": {
        "colab": {
          "base_uri": "https://localhost:8080/"
        },
        "id": "Y2wl_6K8nu7M",
        "outputId": "57c76455-41de-45b8-bfe0-fda07f56a53b"
      },
      "source": [
        "#Q5\n",
        "if __name__ == '__main__':\n",
        "    N = int(input())\n",
        "    arr=[]\n",
        "    \n",
        "    for i in range(N):\n",
        "        method,*l=input().split()\n",
        "        k=list(map(int,l))\n",
        "        if len(k)==2:\n",
        "            p=[k[0]]\n",
        "            q=[k[1]]\n",
        "        elif len(k)==1:\n",
        "            p=[k[0]]\n",
        "        if method=='insert':\n",
        "            arr.insert(p[0],q[0])\n",
        "        elif method=='append':\n",
        "            arr.append(p[0])\n",
        "        elif method=='remove':\n",
        "            arr.remove(p[0])\n",
        "        elif method=='sort':\n",
        "            arr.sort()\n",
        "        elif method=='pop':\n",
        "            arr.pop()\n",
        "        elif method=='reverse':\n",
        "            arr.reverse()\n",
        "        elif method=='print':\n",
        "            print(arr)\n"
      ],
      "execution_count": null,
      "outputs": [
        {
          "output_type": "stream",
          "text": [
            "12\n",
            "insert 0 5\n",
            "insert 1 10\n",
            "insert 0 6\n",
            "print\n",
            "[6, 5, 10]\n",
            "remove 6\n",
            "append 9\n",
            "append 1\n",
            "sort\n",
            "print\n",
            "[1, 5, 9, 10]\n",
            "pop\n",
            "reverse\n",
            "print\n",
            "[9, 5, 1]\n"
          ],
          "name": "stdout"
        }
      ]
    },
    {
      "cell_type": "code",
      "metadata": {
        "colab": {
          "base_uri": "https://localhost:8080/"
        },
        "id": "HMeDcznooTG0",
        "outputId": "c733a557-7dbb-4d97-d912-a3d069cd9bce"
      },
      "source": [
        "#Q6\n",
        "if __name__ == '__main__':\n",
        "    n = int(input())\n",
        "    integer_list = map(int, input().split())\n",
        "    m=[]\n",
        "    for i in integer_list:\n",
        "        m.append(i)\n",
        "    \n",
        "    T=tuple(m)\n",
        "    print(hash(T))\n",
        "    "
      ],
      "execution_count": null,
      "outputs": [
        {
          "output_type": "stream",
          "text": [
            "2\n",
            "1 2\n",
            "3713081631934410656\n"
          ],
          "name": "stdout"
        }
      ]
    },
    {
      "cell_type": "code",
      "metadata": {
        "colab": {
          "base_uri": "https://localhost:8080/"
        },
        "id": "X7k9T5wiogLU",
        "outputId": "e7f3977f-03d7-47fd-fd3c-585892964954"
      },
      "source": [
        "#Q7\n",
        "def average(array):\n",
        "    # your code goes here\n",
        "    set_array=list(set(array))\n",
        "    n=len(set_array)\n",
        "    sum_=sum(set_array)\n",
        "    avg=(sum_/n)\n",
        "    return avg\n",
        "\n",
        "if __name__ == '__main__':\n",
        "    n = int(input())\n",
        "    arr = list(map(int, input().split()))\n",
        "    result = average(arr)\n",
        "    print(result)"
      ],
      "execution_count": null,
      "outputs": [
        {
          "output_type": "stream",
          "text": [
            "10\n",
            "161 182 161 154 176 170 167 171 170 174\n",
            "169.375\n"
          ],
          "name": "stdout"
        }
      ]
    },
    {
      "cell_type": "code",
      "metadata": {
        "colab": {
          "base_uri": "https://localhost:8080/"
        },
        "id": "waw0dmm9o3RE",
        "outputId": "82b25358-0398-411a-dcb8-e92c8321fac6"
      },
      "source": [
        "#Q8\n",
        "# Enter your code here. Read input from STDIN. Print output to STDOUT\n",
        "from six.moves import input as raw_input\n",
        "n = raw_input().split()\n",
        "n = map(int, n)\n",
        "num= map(int, raw_input().split())\n",
        "A = set(map(int, raw_input().split()))\n",
        "B = set(map(int, raw_input().split()))\n",
        "\n",
        "happiness = 0\n",
        "for i in num:\n",
        "    if i in A:\n",
        "        happiness += 1\n",
        "    elif i in B:\n",
        "        happiness -= 1\n",
        "\n",
        "print(happiness)"
      ],
      "execution_count": null,
      "outputs": [
        {
          "output_type": "stream",
          "text": [
            "3 2\n",
            "1 5 3\n",
            "3 1\n",
            "5 7\n",
            "1\n"
          ],
          "name": "stdout"
        }
      ]
    },
    {
      "cell_type": "code",
      "metadata": {
        "colab": {
          "base_uri": "https://localhost:8080/"
        },
        "id": "7WTVfHe0pDAM",
        "outputId": "8c11bf68-b2e1-4cf0-cfb8-321283bd1160"
      },
      "source": [
        "#Q9\n",
        "# Enter your code here. Read input from STDIN. Print output to STDOUT\n",
        "from six.moves import input as raw_input\n",
        "num1 = int(raw_input())\n",
        "set1 = set(map(int,raw_input().split()))\n",
        "num2 = int(raw_input())\n",
        "set2 = set(map(int,raw_input().split()))\n",
        "diff1=set1.difference(set2)\n",
        "diff2=set2.difference(set1)\n",
        "set3 = (diff1.union(diff2))\n",
        "\n",
        "sort_list=list(sorted(set3))\n",
        "\n",
        "for i in sort_list:\n",
        "    print(i)"
      ],
      "execution_count": null,
      "outputs": [
        {
          "output_type": "stream",
          "text": [
            "4\n",
            "2 4 5 9\n",
            "4\n",
            "2 4 11 12\n",
            "5\n",
            "9\n",
            "11\n",
            "12\n"
          ],
          "name": "stdout"
        }
      ]
    },
    {
      "cell_type": "code",
      "metadata": {
        "colab": {
          "base_uri": "https://localhost:8080/"
        },
        "id": "KlRkN7ixp5qk",
        "outputId": "9cce9a2d-1787-44f7-e66f-227d0e6410ab"
      },
      "source": [
        "#Q10\n",
        "# Enter your code here. Read input from STDIN. Print output to STDOUT\n",
        "from six.moves import input as raw_input\n",
        "n=int(input())\n",
        "con=set()\n",
        "\n",
        "\n",
        "for i in range(n):\n",
        "    con.add(input())\n",
        "    \n",
        "distinct_stamp=len(con)    \n",
        "print(distinct_stamp)"
      ],
      "execution_count": null,
      "outputs": [
        {
          "output_type": "stream",
          "text": [
            "7\n",
            "UK\n",
            "China\n",
            "USA\n",
            "France\n",
            "New Zealand\n",
            "UK\n",
            "France \n",
            "6\n"
          ],
          "name": "stdout"
        }
      ]
    },
    {
      "cell_type": "code",
      "metadata": {
        "colab": {
          "base_uri": "https://localhost:8080/"
        },
        "id": "D82bkA4btzyG",
        "outputId": "7af063a1-1390-4211-c383-bd8999ea082f"
      },
      "source": [
        "#Q 11\n",
        "n = int(input())\n",
        "s = set(map(int, input().split()))\n",
        "m=int(input())\n",
        "\n",
        "\n",
        "for i in range(m):\n",
        "    method,*l=input().split()\n",
        "    k=list(map(int,l))\n",
        "    if len(k)==2:\n",
        "        p=[k[0]]\n",
        "        q=[k[1]]\n",
        "    elif len(k)==1:\n",
        "        p=[k[0]]\n",
        "    if method=='remove':\n",
        "        s.remove(p[0])\n",
        "    elif method=='discard':\n",
        "        s.discard(p[0])\n",
        "    elif method=='pop':\n",
        "        s.pop()"
      ],
      "execution_count": null,
      "outputs": [
        {
          "output_type": "stream",
          "text": [
            "9\n",
            "1 2 3 4 5 6 7 8 9\n",
            "10\n",
            "pop\n",
            "remove 9\n",
            "discard 9\n",
            "discard 8\n",
            "remove 7\n",
            "pop\n",
            "discard 6\n",
            "remove 5\n",
            "pop\n",
            "discard 5\n"
          ],
          "name": "stdout"
        }
      ]
    },
    {
      "cell_type": "code",
      "metadata": {
        "colab": {
          "base_uri": "https://localhost:8080/"
        },
        "id": "n33d5WUzuYzn",
        "outputId": "5d45d8d9-1720-4dca-be92-30a88672fdca"
      },
      "source": [
        "print(sum(list(s)))"
      ],
      "execution_count": null,
      "outputs": [
        {
          "output_type": "stream",
          "text": [
            "4\n"
          ],
          "name": "stdout"
        }
      ]
    },
    {
      "cell_type": "code",
      "metadata": {
        "colab": {
          "base_uri": "https://localhost:8080/"
        },
        "id": "8vnRI8B_ua_3",
        "outputId": "6bb2079b-031e-45fa-b8d9-f37c71dfca34"
      },
      "source": [
        "#12\n",
        "# Enter your code here. Read input from STDIN. Print output to STDOUT\n",
        "n = int(input())\n",
        "e = set(map(int, input().split()))\n",
        "m =int(input())\n",
        "f =set(map(int, input().split()))\n",
        "\n",
        "uni=len(e|f)\n",
        "print(uni)\n"
      ],
      "execution_count": null,
      "outputs": [
        {
          "output_type": "stream",
          "text": [
            "9\n",
            "1 2 3 4 5 6 7 8 9\n",
            "9\n",
            "10 1 2 3 11 21 55 6 8\n",
            "13\n"
          ],
          "name": "stdout"
        }
      ]
    },
    {
      "cell_type": "code",
      "metadata": {
        "colab": {
          "base_uri": "https://localhost:8080/"
        },
        "id": "a02g1IGUupf3",
        "outputId": "614a8b2f-8e12-4160-8956-ac86a9aae657"
      },
      "source": [
        "#Q13\n",
        "# Enter your code here. Read input from STDIN. Print output to STDOUT\n",
        "n = int(input())\n",
        "e = set(map(int, input().split()))\n",
        "m =int(input())\n",
        "f =set(map(int, input().split()))\n",
        "\n",
        "inter=len(e&f)\n",
        "print(inter)"
      ],
      "execution_count": null,
      "outputs": [
        {
          "output_type": "stream",
          "text": [
            "9\n",
            "1 2 3 4 5 6 7 8 9\n",
            "9\n",
            "10 1 2 3 11 21 55 6 8\n",
            "5\n"
          ],
          "name": "stdout"
        }
      ]
    },
    {
      "cell_type": "code",
      "metadata": {
        "colab": {
          "base_uri": "https://localhost:8080/"
        },
        "id": "r_i0HanUu_cn",
        "outputId": "007311ad-d1b0-4f9d-dc43-c199929c7bca"
      },
      "source": [
        "#Q14\n",
        "# Enter your code here. Read input from STDIN. Print output to STDOUT\n",
        "\n",
        "n = int(input())\n",
        "e = set(map(int, input().split()))\n",
        "m =int(input())\n",
        "f =set(map(int, input().split()))\n",
        "\n",
        "differ=len(e-f)\n",
        "print(differ)"
      ],
      "execution_count": null,
      "outputs": [
        {
          "output_type": "stream",
          "text": [
            "9\n",
            "1 2 3 4 5 6 7 8 9\n",
            "9\n",
            "10 1 2 3 11 21 55 6 8\n",
            "4\n"
          ],
          "name": "stdout"
        }
      ]
    },
    {
      "cell_type": "code",
      "metadata": {
        "colab": {
          "base_uri": "https://localhost:8080/"
        },
        "id": "9MfkboE7vF83",
        "outputId": "d31d907b-9ec8-407b-8541-d4e394cd9502"
      },
      "source": [
        "#Q15\n",
        "# Enter your code here. Read input from STDIN. Print output to STDOUT\n",
        "n = int(input())\n",
        "e = set(map(int, input().split()))\n",
        "m =int(input())\n",
        "f =set(map(int, input().split()))\n",
        "\n",
        "sym_diff=len(e^f)\n",
        "print(sym_diff)\n"
      ],
      "execution_count": null,
      "outputs": [
        {
          "output_type": "stream",
          "text": [
            "9\n",
            "1 2 3 4 5 6 7 8 9\n",
            "9\n",
            "10 1 2 3 11 21 55 6 8\n",
            "8\n"
          ],
          "name": "stdout"
        }
      ]
    },
    {
      "cell_type": "code",
      "metadata": {
        "id": "BY_7y0AQBJbL",
        "colab": {
          "base_uri": "https://localhost:8080/"
        },
        "outputId": "f060414b-80a8-4497-bb94-8e9467a348b8"
      },
      "source": [
        "#Q16\n",
        "# Enter your code here. Read input from STDIN. Print output to STDOUT\n",
        "from six.moves import input as raw_input\n",
        "n=int(input())\n",
        "\n",
        "m=set(map(int,input().split()))\n",
        "p=int(input())\n",
        "      \n",
        "\n",
        "\n",
        "      \n",
        "for i in range(p):\n",
        "    method=input().split()[0]\n",
        "    temp = set(map(int,raw_input().split()))\n",
        "    if method=='intersection_update':\n",
        "        m.intersection_update(temp)\n",
        "    elif method=='update':\n",
        "        m.update(temp)\n",
        "    elif method=='symmetric_difference_update':\n",
        "        m.symmetric_difference_update(temp)\n",
        "    elif method=='difference_update':\n",
        "        m.difference_update(temp)\n",
        "\n",
        "\n",
        "print(sum(m))  "
      ],
      "execution_count": null,
      "outputs": [
        {
          "output_type": "stream",
          "text": [
            "16\n",
            "1 2 3 4 5 6 7 8 9 10 11 12 13 14 24 52\n",
            "4\n",
            "intersection_update 10\n",
            "2 3 5 6 8 9 1 4 7 11\n",
            "update 2\n",
            "55 66\n",
            "symmetric_difference_update 5\n",
            "22 7 35 62 58\n",
            "difference_update 7\n",
            "11 22 35 55 58 62 66\n",
            "38\n"
          ],
          "name": "stdout"
        }
      ]
    },
    {
      "cell_type": "code",
      "metadata": {
        "colab": {
          "base_uri": "https://localhost:8080/"
        },
        "id": "4QGWvMQ5vsew",
        "outputId": "61c423ff-2df0-4052-c0cd-340dd2517958"
      },
      "source": [
        "#Q17\n",
        "from six.moves import input as raw_input\n",
        "e = list((map(int,raw_input().split())))\n",
        "\n",
        "l=[]\n",
        "\n",
        "\n",
        "for i in range(len(e)):\n",
        "    for j in range(i+1,len(e)):\n",
        "        if e[i]==e[j]:\n",
        "            temp=e[i]\n",
        "            e[j]=e[i]\n",
        "            l.append(e[i])\n",
        "        \n",
        "\n",
        "        \n",
        "        \n",
        "set1=set(l)\n",
        "set2=set(e)\n",
        "captain_room=(set2)-(set1)\n",
        "print(captain_room)"
      ],
      "execution_count": null,
      "outputs": [
        {
          "output_type": "stream",
          "text": [
            "1 2 3 6 5 4 4 2 5 3 6 1 6 5 3 2 4 1 2 5 1 4 3 6 8 4 3 1 5 6 2\n",
            "{8}\n"
          ],
          "name": "stdout"
        }
      ]
    },
    {
      "cell_type": "code",
      "metadata": {
        "colab": {
          "base_uri": "https://localhost:8080/"
        },
        "id": "EATmNVgVv4Sv",
        "outputId": "5c8fdb57-1bff-4f19-cb9e-e3d61d6eedfe"
      },
      "source": [
        "#Q18\n",
        "# Enter your code here. Read input from STDIN. Print output to STDOUT\n",
        "from six.moves import input as raw_input\n",
        "n=int(input())\n",
        "\n",
        "for i in range(n):\n",
        "    m=int(input())\n",
        "    A=set(input().split())\n",
        "    j=int(input())\n",
        "    B=set(input().split())\n",
        "    print(A.issubset(B))"
      ],
      "execution_count": null,
      "outputs": [
        {
          "output_type": "stream",
          "text": [
            "3\n",
            "5\n",
            "1 2 3 5 6\n",
            "9\n",
            "9 8 5 6 3 2 1 4 7\n",
            "True\n",
            "1\n",
            "2\n",
            "5\n",
            "3 6 5 4 1\n",
            "False\n",
            "7\n",
            "1 2 3 5 6 8 9\n",
            "3\n",
            "9 8 2\n",
            "False\n"
          ],
          "name": "stdout"
        }
      ]
    },
    {
      "cell_type": "code",
      "metadata": {
        "colab": {
          "base_uri": "https://localhost:8080/"
        },
        "id": "LNqzEnf5wb9A",
        "outputId": "bbc5930d-936a-4d3f-f344-cfe7e7663910"
      },
      "source": [
        "#Q19\n",
        "from six.moves import input as raw_input\n",
        "A=set(input().split())\n",
        "n=int(input())\n",
        "is_superset=True\n",
        "\n",
        "for i in range(n):\n",
        "    B=set(input().split())\n",
        "    if not B.issubset(A):\n",
        "        is_superset=False\n",
        "    elif len(B)>=len(A):\n",
        "        is_superset=False\n",
        "    \n",
        "   \n",
        "        \n",
        "print(is_superset)"
      ],
      "execution_count": null,
      "outputs": [
        {
          "output_type": "stream",
          "text": [
            "1 2 3 4 5 6 7 8 9 10 11 12 23 45 84 78\n",
            "2\n",
            "1 2 3 4 5\n",
            "100 11 12\n",
            "False\n"
          ],
          "name": "stdout"
        }
      ]
    }
  ]
}