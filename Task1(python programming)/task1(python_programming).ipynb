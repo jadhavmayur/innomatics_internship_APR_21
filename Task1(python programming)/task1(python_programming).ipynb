{
  "nbformat": 4,
  "nbformat_minor": 0,
  "metadata": {
    "colab": {
      "name": "task1(python programming).ipynb",
      "provenance": []
    },
    "kernelspec": {
      "name": "python3",
      "display_name": "Python 3"
    },
    "language_info": {
      "name": "python"
    }
  },
  "cells": [
    {
      "cell_type": "code",
      "metadata": {
        "colab": {
          "base_uri": "https://localhost:8080/"
        },
        "id": "7d8DfYZy27V1",
        "outputId": "01dd0d6e-4d5a-44b3-8ab1-71b2f952789f"
      },
      "source": [
        "#Question 1\n",
        "print(\"Hello, World!\")"
      ],
      "execution_count": 1,
      "outputs": [
        {
          "output_type": "stream",
          "text": [
            "Hello, World!\n"
          ],
          "name": "stdout"
        }
      ]
    },
    {
      "cell_type": "code",
      "metadata": {
        "colab": {
          "base_uri": "https://localhost:8080/"
        },
        "id": "HaCX44dJ3I7H",
        "outputId": "53bcd0e3-66aa-4690-a82f-c6ab3b8a82d6"
      },
      "source": [
        "#Question 2\n",
        "#!/bin/python3\n",
        "\n",
        "import math\n",
        "import os\n",
        "import random\n",
        "import re\n",
        "import sys\n",
        "\n",
        "\n",
        "\n",
        "if __name__ == '__main__':\n",
        "    n = int(input().strip())\n",
        "\n",
        "if n%2!=0:\n",
        "    print(\"Weird\")\n",
        "else:\n",
        "    if n>=2 and n<=5:\n",
        "        print('Not Weird')\n",
        "    elif n>=6 and n<=20:\n",
        "        print('Weird')\n",
        "    elif n>20:\n",
        "        print('Not Weird')\n"
      ],
      "execution_count": 2,
      "outputs": [
        {
          "output_type": "stream",
          "text": [
            "24\n",
            "Not Weird\n"
          ],
          "name": "stdout"
        }
      ]
    },
    {
      "cell_type": "code",
      "metadata": {
        "colab": {
          "base_uri": "https://localhost:8080/"
        },
        "id": "P7qfqNfb3LT-",
        "outputId": "c5e80166-8a56-47cd-ad34-602bb61117d5"
      },
      "source": [
        "#Question 3\n",
        "if __name__ == '__main__':\n",
        "    a = int(input())\n",
        "    b = int(input())\n",
        "    print(a+b)\n",
        "    print(a-b)\n",
        "    print(a*b)"
      ],
      "execution_count": 3,
      "outputs": [
        {
          "output_type": "stream",
          "text": [
            "3\n",
            "2\n",
            "5\n",
            "1\n",
            "6\n"
          ],
          "name": "stdout"
        }
      ]
    },
    {
      "cell_type": "code",
      "metadata": {
        "colab": {
          "base_uri": "https://localhost:8080/"
        },
        "id": "7OsfjErh3Nru",
        "outputId": "1efdca4b-c8b2-4720-bfe2-caa3367d11d4"
      },
      "source": [
        "#Question 4\n",
        "if __name__ == '__main__':\n",
        "    a = int(input())\n",
        "    b = int(input())\n",
        "    print(a//b)\n",
        "    print(a/b)\n"
      ],
      "execution_count": 4,
      "outputs": [
        {
          "output_type": "stream",
          "text": [
            "4\n",
            "3\n",
            "1\n",
            "1.3333333333333333\n"
          ],
          "name": "stdout"
        }
      ]
    },
    {
      "cell_type": "code",
      "metadata": {
        "colab": {
          "base_uri": "https://localhost:8080/"
        },
        "id": "A43qt48k3PDh",
        "outputId": "ac58f9a2-ec68-4161-e307-994614f4e3e3"
      },
      "source": [
        "#Question 5\n",
        "if __name__ == '__main__':\n",
        "    n = int(input())\n",
        "    for i in range(0,n):\n",
        "        i=i**2\n",
        "        print(i)\n",
        "        "
      ],
      "execution_count": 5,
      "outputs": [
        {
          "output_type": "stream",
          "text": [
            "5\n",
            "0\n",
            "1\n",
            "4\n",
            "9\n",
            "16\n"
          ],
          "name": "stdout"
        }
      ]
    },
    {
      "cell_type": "code",
      "metadata": {
        "colab": {
          "base_uri": "https://localhost:8080/"
        },
        "id": "h2wawbZw3QJP",
        "outputId": "b233c59c-97f4-488e-df9c-2c1dab627101"
      },
      "source": [
        "#Question 6\n",
        "def is_leap(year):\n",
        "    leap = False\n",
        "    \n",
        "    # Write your logic here\n",
        "    if year%4==0 and year%100!=0:\n",
        "        leap=True\n",
        "    elif year%400==0:\n",
        "        leap=True\n",
        "    \n",
        "    return leap\n",
        "\n",
        "year = int(input())\n",
        "print(is_leap(year))"
      ],
      "execution_count": 6,
      "outputs": [
        {
          "output_type": "stream",
          "text": [
            "1990\n",
            "False\n"
          ],
          "name": "stdout"
        }
      ]
    },
    {
      "cell_type": "code",
      "metadata": {
        "colab": {
          "base_uri": "https://localhost:8080/"
        },
        "id": "RexiOEEq3RkP",
        "outputId": "84f1bead-9cb6-4b05-9596-85bed5fac412"
      },
      "source": [
        "#Question 7\n",
        "if __name__ == '__main__':\n",
        "    n = int(input())\n",
        "    i=1\n",
        "    while i<=n:\n",
        "        print(i,end='')\n",
        "        i=i+1\n"
      ],
      "execution_count": 7,
      "outputs": [
        {
          "output_type": "stream",
          "text": [
            "3\n",
            "123"
          ],
          "name": "stdout"
        }
      ]
    }
  ]
}