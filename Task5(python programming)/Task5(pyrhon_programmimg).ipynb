{
  "nbformat": 4,
  "nbformat_minor": 0,
  "metadata": {
    "colab": {
      "name": "Task5(pyrhon programmimg).ipynb",
      "provenance": []
    },
    "kernelspec": {
      "name": "python3",
      "display_name": "Python 3"
    },
    "language_info": {
      "name": "python"
    }
  },
  "cells": [
    {
      "cell_type": "code",
      "metadata": {
        "colab": {
          "base_uri": "https://localhost:8080/"
        },
        "id": "I3tDdo2TmAkd",
        "outputId": "1adb7ca9-5c90-40bc-9738-564a0833aa4b"
      },
      "source": [
        "#Q1\n",
        "# Enter your code here. Read input from STDIN. Print output to STDOUT\n",
        "import re\n",
        "for _ in range(int(input())):\n",
        "    print(bool(re.match(r'^[-+]?[0-9]*\\.[0-9]+$', input())))"
      ],
      "execution_count": 1,
      "outputs": [
        {
          "output_type": "stream",
          "text": [
            "4\n",
            "4.0O0\n",
            "False\n",
            "-1.00\n",
            "True\n",
            "+4.54\n",
            "True\n",
            "SomeRandomStuff\n",
            "False\n"
          ],
          "name": "stdout"
        }
      ]
    },
    {
      "cell_type": "code",
      "metadata": {
        "colab": {
          "base_uri": "https://localhost:8080/"
        },
        "id": "2Al7VOQimRc2",
        "outputId": "c08718c9-dfd6-41a2-d8ba-477072fa3110"
      },
      "source": [
        "#Q2\n",
        "regex_pattern = r\"[,.]\"\t# Do not delete 'r'.\n",
        "\n",
        "import re\n",
        "print(\"\\n\".join(re.split(regex_pattern, input())))"
      ],
      "execution_count": 2,
      "outputs": [
        {
          "output_type": "stream",
          "text": [
            "100,000,000.000\n",
            "100\n",
            "000\n",
            "000\n",
            "000\n"
          ],
          "name": "stdout"
        }
      ]
    },
    {
      "cell_type": "code",
      "metadata": {
        "colab": {
          "base_uri": "https://localhost:8080/"
        },
        "id": "am_RJlQVma2O",
        "outputId": "2877ce53-700d-4fc1-8bf0-aa12fd432ede"
      },
      "source": [
        "#Q3\n",
        "# Enter your code here. Read input from STDIN. Print output to STDOUT\n",
        "import re\n",
        "s=r'([a-zA-Z0-9])\\1'\n",
        "m = re.search(s, input().strip())\n",
        "print(m.group(1) if m else -1)"
      ],
      "execution_count": 3,
      "outputs": [
        {
          "output_type": "stream",
          "text": [
            "..12345678910111213141516171820212223\n",
            "1\n"
          ],
          "name": "stdout"
        }
      ]
    },
    {
      "cell_type": "code",
      "metadata": {
        "colab": {
          "base_uri": "https://localhost:8080/"
        },
        "id": "XixDQs8OmivW",
        "outputId": "c4fd0cbc-2ade-48fd-9621-c003f7e76c31"
      },
      "source": [
        "#Q4\n",
        "import re\n",
        "a=input()\n",
        "pattern=\"[AEIOUaeiou]{2,}(?=[^aiueo])\"\n",
        "con=\"qwrtypsdfghjklzxcvbnm\"\n",
        "f=re.findall(pattern,a)\n",
        "\n",
        "if f:\n",
        "    for i in f:\n",
        "        print(i)\n",
        "else:\n",
        "    print(-1)"
      ],
      "execution_count": 4,
      "outputs": [
        {
          "output_type": "stream",
          "text": [
            "rabcdeefgyYhFjkIoomnpOeorteeeeet\n",
            "ee\n",
            "Ioo\n",
            "Oeo\n",
            "eeeee\n"
          ],
          "name": "stdout"
        }
      ]
    },
    {
      "cell_type": "code",
      "metadata": {
        "colab": {
          "base_uri": "https://localhost:8080/"
        },
        "id": "vQph2etjmttW",
        "outputId": "4c5ad1a5-bef4-416b-a03c-ccbe9a6c1f04"
      },
      "source": [
        "#Q5\n",
        "import re\n",
        "a=input()\n",
        "b=input()\n",
        "\n",
        "comp=re.compile(b)\n",
        "m=comp.search(a)\n",
        "\n",
        "if not m:\n",
        "    print(\"(-1, -1)\")\n",
        "while m:\n",
        "    print(\"({0}, {1})\".format(m.start(),m.end()-1))\n",
        "    m= comp.search(a,m.start()+1)"
      ],
      "execution_count": 6,
      "outputs": [
        {
          "output_type": "stream",
          "text": [
            "aaadaa\n",
            "aa\n",
            "(0, 1)\n",
            "(1, 2)\n",
            "(4, 5)\n"
          ],
          "name": "stdout"
        }
      ]
    },
    {
      "cell_type": "code",
      "metadata": {
        "colab": {
          "base_uri": "https://localhost:8080/"
        },
        "id": "zTD7aVZMnLNv",
        "outputId": "77a987ce-cf88-485c-93f0-ce5136cc5221"
      },
      "source": [
        "#Q6\n",
        "import re\n",
        "pattern=r\"(?<= )(&&|\\|\\|)(?= )\"\n",
        "replacement=lambda x:\"and\" if x.group()==\"&&\" else \"or\"\n",
        "\n",
        "for i in range(int(input())):\n",
        "    a=input()\n",
        "    print(re.sub(pattern,replacement,a))"
      ],
      "execution_count": 25,
      "outputs": [
        {
          "output_type": "stream",
          "text": [
            "11\n",
            "a = 1;\n",
            "a = 1;\n",
            "b = input();\n",
            "b = input();\n",
            "if a + b > 0 && a - b < 0:\n",
            "if a + b > 0 and a - b < 0:\n",
            "start()\n",
            "start()\n",
            "elif a*b > 10 || a/b < 1:\n",
            "elif a*b > 10 or a/b < 1:\n",
            "stop()\n",
            "stop()\n",
            "print set(list(a)) | set(list(b))\n",
            "print set(list(a)) | set(list(b))\n",
            "#Note do not change &&& or ||| or & or |\n",
            "#Note do not change &&& or ||| or & or |\n",
            "#Only change those '&&' which have space on both sides.\n",
            "#Only change those '&&' which have space on both sides.\n",
            "#Only change those '|| which have space on both sides.\n",
            "#Only change those '|| which have space on both sides.\n",
            "#Note do not change &&& or ||| or & or |\n",
            "#Note do not change &&& or ||| or & or |\n"
          ],
          "name": "stdout"
        }
      ]
    },
    {
      "cell_type": "code",
      "metadata": {
        "colab": {
          "base_uri": "https://localhost:8080/"
        },
        "id": "D-FygDRUo7SK",
        "outputId": "8f09fcb7-66c9-4012-a6d4-2d2ee4b3b160"
      },
      "source": [
        "#Q7\n",
        "thousand = 'M{0,3}'\n",
        "hundred = '(C[MD]|D?C{0,3})'\n",
        "ten = '(X[CL]|L?X{0,3})'\n",
        "digit = '(I[VX]|V?I{0,3})'\n",
        "  \n",
        "regex_pattern = r\"%s%s%s%s$\" % (thousand, hundred, ten, digit)\t# Do not delete 'r'.\n",
        "\n",
        "\n",
        "\n",
        "import re\n",
        "print(str(bool(re.match(regex_pattern, input()))))"
      ],
      "execution_count": 12,
      "outputs": [
        {
          "output_type": "stream",
          "text": [
            "CDXXI\n",
            "True\n"
          ],
          "name": "stdout"
        }
      ]
    },
    {
      "cell_type": "code",
      "metadata": {
        "colab": {
          "base_uri": "https://localhost:8080/"
        },
        "id": "YxILysQgpD1Q",
        "outputId": "5ae76e07-5551-4669-bf97-ef9cfbfa0fa9"
      },
      "source": [
        "#Q8\n",
        "# Enter your code here. Read input from STDIN. Print output to STDOUT\n",
        "import re\n",
        "a=int(input())\n",
        "start=r'((?=)^[789]\\d{9})'\n",
        "al=r\"/^[A-Za-z]+$/\"\n",
        "\n",
        "for i in range(a):\n",
        "    b=input()\n",
        "    if bool(re.findall(start,b))==True and len(b)==10 and bool(re.findall(al,b))==False:\n",
        "        print(\"YES\")\n",
        "    elif bool(re.findall(start,b))==True and len(b)==10 and bool(re.findall(al,b))==True:\n",
        "        print(\"NO\")\n",
        "    else:\n",
        "        print(\"NO\")"
      ],
      "execution_count": 13,
      "outputs": [
        {
          "output_type": "stream",
          "text": [
            "2\n",
            "9587456281\n",
            "YES\n",
            "1252478965\n",
            "NO\n"
          ],
          "name": "stdout"
        }
      ]
    },
    {
      "cell_type": "code",
      "metadata": {
        "colab": {
          "base_uri": "https://localhost:8080/"
        },
        "id": "sQ-pArhapdNA",
        "outputId": "c86f61a6-45bb-45a9-d1bf-7c22d29f32b6"
      },
      "source": [
        "#Q9\n",
        "import email.utils\n",
        "import re\n",
        "a=int(input())\n",
        "\n",
        "for i in range(a):\n",
        "    name, email = input().split()\n",
        "    s=\"<[a-z][a-zA-Z0-9\\-\\.\\_]+@[a-zA-Z]+\\.[a-zA-Z]{1,3}>\"\n",
        "    if bool(re.match(s, email)):\n",
        "        print(name,email)\n",
        "    "
      ],
      "execution_count": 14,
      "outputs": [
        {
          "output_type": "stream",
          "text": [
            "2\n",
            "DEXTER <dexter@hotmail.com>\n",
            "DEXTER <dexter@hotmail.com>\n",
            "VIRUS <virus!@variable.:p>\n"
          ],
          "name": "stdout"
        }
      ]
    },
    {
      "cell_type": "code",
      "metadata": {
        "colab": {
          "base_uri": "https://localhost:8080/"
        },
        "id": "WG2Us-TspqFg",
        "outputId": "27a40282-0158-40ab-d01d-63d69eb02821"
      },
      "source": [
        "#Q10\n",
        "# Enter your code here. Read input from STDIN. Print output to STDOUT\n",
        "import re\n",
        "\n",
        "a= int(input())\n",
        "color_c = False\n",
        "for _ in range(a):\n",
        "    b= input()\n",
        "    if '{' in b:\n",
        "        color_c = True\n",
        "    elif '}' in b:\n",
        "        color_c = False\n",
        "    elif color_c:\n",
        "        for color in re.findall('#[0-9a-fA-F]{3,6}', b):\n",
        "            print(color)\n",
        "    "
      ],
      "execution_count": 24,
      "outputs": [
        {
          "output_type": "stream",
          "text": [
            "11\n",
            "#BED\n",
            "{\n",
            "color: #FfFdF8; background-color:#aef;\n",
            "#FfFdF8\n",
            "#aef\n",
            "font-size: 123px;\n",
            "background: -webkit-linear-gradient(top, #f9f9f9, #fff);\n",
            "#f9f9f9\n",
            "#fff\n",
            "}\n",
            "#Cab\n",
            "{\n",
            "background-color: #ABC;\n",
            "#ABC\n",
            "border: 2px dashed #fff;\n",
            "#fff\n",
            "}\n"
          ],
          "name": "stdout"
        }
      ]
    },
    {
      "cell_type": "code",
      "metadata": {
        "colab": {
          "base_uri": "https://localhost:8080/"
        },
        "id": "KkPCqrnAp6B_",
        "outputId": "ec432b07-9109-43a7-cac8-e63e6e2b44ae"
      },
      "source": [
        "#Q11\n",
        "# Enter your code here. Read input from STDIN. Print output to STDOUT\n",
        "from html.parser import HTMLParser\n",
        "class MyHTMLParser(HTMLParser):\n",
        "    def handle_starttag(self, tag, attrs):        \n",
        "        print ('Start :',tag)\n",
        "        for ele in attrs:\n",
        "            print ('->',ele[0],'>',ele[1])\n",
        "            \n",
        "    def handle_endtag(self, tag):\n",
        "        print ('End   :',tag)\n",
        "        \n",
        "    def handle_startendtag(self, tag, attrs):\n",
        "        print ('Empty :',tag)\n",
        "        for ele in attrs:\n",
        "            print ('->',ele[0],'>',ele[1])\n",
        "            \n",
        "MyParser = MyHTMLParser()\n",
        "MyParser.feed(''.join([input().strip() for _ in range(int(input()))]))"
      ],
      "execution_count": 16,
      "outputs": [
        {
          "output_type": "stream",
          "text": [
            "2\n",
            "<html><head><title>HTML Parser - I</title></head>\n",
            "<body data-modal-target class='1'><h1>HackerRank</h1><br /></body></html>\n",
            "Start : html\n",
            "Start : head\n",
            "Start : title\n",
            "End   : title\n",
            "End   : head\n",
            "Start : body\n",
            "-> data-modal-target > None\n",
            "-> class > 1\n",
            "Start : h1\n",
            "End   : h1\n",
            "Empty : br\n",
            "End   : body\n",
            "End   : html\n"
          ],
          "name": "stdout"
        }
      ]
    },
    {
      "cell_type": "code",
      "metadata": {
        "colab": {
          "base_uri": "https://localhost:8080/"
        },
        "id": "0EIqFR-3qjGR",
        "outputId": "8e2ff534-802e-47d1-c9e7-faaa9e18a499"
      },
      "source": [
        "#Q12\n",
        "from html.parser import HTMLParser\n",
        "\n",
        "class MyHTMLParser(HTMLParser):\n",
        "    def handle_comment(self, data):\n",
        "        number_of_line = len(data.split('\\n'))\n",
        "        if number_of_line>1:\n",
        "            print('>>> Multi-line Comment')\n",
        "        else:\n",
        "            print('>>> Single-line Comment')\n",
        "        if data.strip():\n",
        "            print(data)\n",
        "\n",
        "    def handle_data(self, data):\n",
        "        if data.strip():\n",
        "            print(\">>> Data\")\n",
        "            print(data)\n",
        "\n",
        "parser =MyHTMLParser()\n",
        "  \n",
        "  \n",
        "  \n",
        "  \n",
        "  \n",
        "html = \"\"       \n",
        "for i in range(int(input())):\n",
        "    html += input().rstrip()\n",
        "    html += '\\n'\n",
        "    \n",
        "parser = MyHTMLParser()\n",
        "parser.feed(html)\n",
        "parser.close()"
      ],
      "execution_count": 17,
      "outputs": [
        {
          "output_type": "stream",
          "text": [
            "4\n",
            "<!--[if IE 9]>IE9-specific content\n",
            "<![endif]-->\n",
            "<div> Welcome to HackerRank</div>\n",
            "<!--[if IE 9]>IE9-specific content<![endif]-->\n",
            ">>> Multi-line Comment\n",
            "[if IE 9]>IE9-specific content\n",
            "<![endif]\n",
            ">>> Data\n",
            " Welcome to HackerRank\n",
            ">>> Single-line Comment\n",
            "[if IE 9]>IE9-specific content<![endif]\n"
          ],
          "name": "stdout"
        }
      ]
    },
    {
      "cell_type": "code",
      "metadata": {
        "colab": {
          "base_uri": "https://localhost:8080/"
        },
        "id": "idKYhpawq6Mg",
        "outputId": "9cf54e35-e8e8-4c2b-9c00-1e3dfa0399f6"
      },
      "source": [
        "#Q13\n",
        "# Enter your code here. Read input from STDIN. Print output to STDOUT\n",
        "from html.parser import HTMLParser\n",
        "class MyHTMLParser(HTMLParser):\n",
        "    def handle_starttag(self, tag, attrs):\n",
        "        print(tag)\n",
        "        [print('-> {} > {}'.format(*attr)) for attr in attrs]\n",
        "        \n",
        "html = '\\n'.join([input() for _ in range(int(input()))])\n",
        "parser = MyHTMLParser()\n",
        "parser.feed(html)\n",
        "parser.close()"
      ],
      "execution_count": 18,
      "outputs": [
        {
          "output_type": "stream",
          "text": [
            "9\n",
            "<head>\n",
            "<title>HTML</title>\n",
            "</head>\n",
            "<object type=\"application/x-flash\" \n",
            "  data=\"your-file.swf\" \n",
            "  width=\"0\" height=\"0\">\n",
            "  <!-- <param name=\"movie\" value=\"your-file.swf\" /> -->\n",
            "  <param name=\"quality\" value=\"high\"/>\n",
            "</object>\n",
            "head\n",
            "title\n",
            "object\n",
            "-> type > application/x-flash\n",
            "-> data > your-file.swf\n",
            "-> width > 0\n",
            "-> height > 0\n",
            "param\n",
            "-> name > quality\n",
            "-> value > high\n"
          ],
          "name": "stdout"
        }
      ]
    },
    {
      "cell_type": "code",
      "metadata": {
        "colab": {
          "base_uri": "https://localhost:8080/"
        },
        "id": "OcUYk11trX2h",
        "outputId": "e5ff6714-dfec-4acb-d074-b0914c6c00fe"
      },
      "source": [
        "#Q14\n",
        "# Enter your code here. Read input from STDIN. Print output to STDOUT\n",
        "import re\n",
        "pat1=r'(.*[A-Z]){2,}'\n",
        "pat2=r'(.*[0-9]){3,}'\n",
        "pat3=r'.*(.).*\\1+.*'\n",
        "\n",
        "for i in range(int(input())):\n",
        "    N = input().strip()\n",
        "    if N.isalnum() and len(N) == 10:\n",
        "        if bool(re.search(pat1,N)) and bool(re.search(pat2,N)):\n",
        "            if re.search(pat3,N):\n",
        "                print('Invalid')\n",
        "            else:\n",
        "                print('Valid')\n",
        "        else:\n",
        "            print('Invalid')\n",
        "    else:\n",
        "        print('Invalid')"
      ],
      "execution_count": 19,
      "outputs": [
        {
          "output_type": "stream",
          "text": [
            "2\n",
            "B1CD102354\n",
            "Invalid\n",
            "B1CDEF2354\n",
            "Valid\n"
          ],
          "name": "stdout"
        }
      ]
    },
    {
      "cell_type": "code",
      "metadata": {
        "colab": {
          "base_uri": "https://localhost:8080/"
        },
        "id": "zZhm8juWroP5",
        "outputId": "81744eb5-723c-41ef-fff2-12cd222a40da"
      },
      "source": [
        "#Q15\n",
        "regex_integer_in_range = r\"^[1-9][\\d]{5}$\"\t# Do not delete 'r'.\n",
        "regex_alternating_repetitive_digit_pair = r\"(\\d)(?=\\d\\1)\"\t# Do not delete 'r'.\n",
        "\n",
        "\n",
        "import re\n",
        "P = input()\n",
        "\n",
        "print (bool(re.match(regex_integer_in_range, P)) \n",
        "and len(re.findall(regex_alternating_repetitive_digit_pair, P)) < 2)"
      ],
      "execution_count": 20,
      "outputs": [
        {
          "output_type": "stream",
          "text": [
            "110000\n",
            "False\n"
          ],
          "name": "stdout"
        }
      ]
    },
    {
      "cell_type": "code",
      "metadata": {
        "colab": {
          "base_uri": "https://localhost:8080/"
        },
        "id": "xgFJaDHPr1op",
        "outputId": "bc5e0ad8-32c0-4a09-f8ec-85b02f3c6003"
      },
      "source": [
        "#Q16\n",
        "#!/bin/python3\n",
        "\n",
        "import math\n",
        "import os\n",
        "import random\n",
        "import re\n",
        "import sys\n",
        "\n",
        "\n",
        "\n",
        "\n",
        "first_multiple_input = input().rstrip().split()\n",
        "\n",
        "n = int(first_multiple_input[0])\n",
        "\n",
        "m = int(first_multiple_input[1])\n",
        "\n",
        "matrix = []\n",
        "\n",
        "for _ in range(n):\n",
        "    matrix_item = input()\n",
        "    matrix.append(matrix_item)\n",
        "\n",
        "    \n",
        "matrix = list(zip(*matrix))\n",
        "\n",
        "sample = str()\n",
        "\n",
        "for words in matrix:\n",
        "    for char in words:\n",
        "        sample += char\n",
        "       \n",
        "print(re.sub(r'(?<=\\w)([^\\w\\d]+)(?=\\w)', ' ', sample)) "
      ],
      "execution_count": 23,
      "outputs": [
        {
          "output_type": "stream",
          "text": [
            "7 3\n",
            "Tsi\n",
            "h%x\n",
            "i #\n",
            "sM\n",
            "$a\n",
            "#t%\n",
            "ir!\n",
            "This is Matr\n"
          ],
          "name": "stdout"
        }
      ]
    }
  ]
}