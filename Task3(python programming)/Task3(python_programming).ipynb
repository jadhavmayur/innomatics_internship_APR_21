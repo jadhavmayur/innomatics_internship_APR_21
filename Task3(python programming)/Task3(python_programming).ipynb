{
  "nbformat": 4,
  "nbformat_minor": 0,
  "metadata": {
    "colab": {
      "name": "Task3(python_programming).ipynb",
      "provenance": []
    },
    "kernelspec": {
      "name": "python3",
      "display_name": "Python 3"
    },
    "language_info": {
      "name": "python"
    }
  },
  "cells": [
    {
      "cell_type": "code",
      "metadata": {
        "colab": {
          "base_uri": "https://localhost:8080/"
        },
        "id": "m8yzK05pDCkV",
        "outputId": "3575068c-c5c0-466f-f101-17ca28545fa5"
      },
      "source": [
        "#Q1 find angle\n",
        "# Enter your code here. Read input from STDIN. Print output to STDOUT\n",
        "import math\n",
        "AB=float(input())\n",
        "BC=float(input())\n",
        "AC=math.sqrt(pow(AB,2)+pow(BC,2))\n",
        "\n",
        "MC=AC/2.0\n",
        "\n",
        "\n",
        "angle=int(math.degrees(math.asin(MC/BC)))\n",
        "\n",
        "print(str(angle)+'°')"
      ],
      "execution_count": 2,
      "outputs": [
        {
          "output_type": "stream",
          "text": [
            "10\n",
            "10\n",
            "45°\n"
          ],
          "name": "stdout"
        }
      ]
    },
    {
      "cell_type": "code",
      "metadata": {
        "colab": {
          "base_uri": "https://localhost:8080/"
        },
        "id": "jkUd-7maDf9i",
        "outputId": "838324ca-1168-4743-85c5-9278f6fc7aa3"
      },
      "source": [
        "#Q2 Polar Coordinates\n",
        "\n",
        "\n",
        "# Enter your code here. Read input from STDIN. Print output to STDOUT\n",
        "from cmath import sqrt,phase\n",
        "a=complex(input())\n",
        "\n",
        "r=sqrt((a.real**2)+(a.imag**2)).real\n",
        "phase=phase(complex(a.real,a.imag))\n",
        "\n",
        "print(r)\n",
        "print(phase)"
      ],
      "execution_count": 3,
      "outputs": [
        {
          "output_type": "stream",
          "text": [
            "1+2j\n",
            "2.23606797749979\n",
            "1.1071487177940904\n"
          ],
          "name": "stdout"
        }
      ]
    },
    {
      "cell_type": "code",
      "metadata": {
        "colab": {
          "base_uri": "https://localhost:8080/"
        },
        "id": "bYB0Lw46DuoK",
        "outputId": "2fd091b3-e7cc-4680-e7dd-bedac76951a7"
      },
      "source": [
        "#Q3 triangle quest2\n",
        "for i in range(1,int(input())+1): #More than 2 lines will result in 0 score. Do not leave a blank line also\n",
        "    print((10**i//9)**2)"
      ],
      "execution_count": 4,
      "outputs": [
        {
          "output_type": "stream",
          "text": [
            "5\n",
            "1\n",
            "121\n",
            "12321\n",
            "1234321\n",
            "123454321\n"
          ],
          "name": "stdout"
        }
      ]
    },
    {
      "cell_type": "code",
      "metadata": {
        "colab": {
          "base_uri": "https://localhost:8080/"
        },
        "id": "CSKwxB_sD5yC",
        "outputId": "c86dfb1b-4a0d-4df2-9e05-8f2f7203f4e5"
      },
      "source": [
        "#Q4 Div,mod\n",
        "# Enter your code here. Read input from STDIN. Print output to STDOUT\n",
        "A=int(input())\n",
        "B=int(input())\n",
        "\n",
        "print(A//B)\n",
        "print(A%B)\n",
        "print(divmod(A,B))"
      ],
      "execution_count": 5,
      "outputs": [
        {
          "output_type": "stream",
          "text": [
            "17\n",
            "7\n",
            "2\n",
            "3\n",
            "(2, 3)\n"
          ],
          "name": "stdout"
        }
      ]
    },
    {
      "cell_type": "code",
      "metadata": {
        "colab": {
          "base_uri": "https://localhost:8080/"
        },
        "id": "WI1yAzpREDKa",
        "outputId": "187e6593-a98e-45ae-a383-26d09cd5ab1c"
      },
      "source": [
        "#Q5 power mod\n",
        "# Enter your code here. Read input from STDIN. Print output to STDOUT\n",
        "A=int(input())\n",
        "B=int(input())\n",
        "C=int(input())\n",
        "\n",
        "print(pow(A,B))\n",
        "print(pow(A,B,C))\n"
      ],
      "execution_count": 6,
      "outputs": [
        {
          "output_type": "stream",
          "text": [
            "3\n",
            "4\n",
            "5\n",
            "81\n",
            "1\n"
          ],
          "name": "stdout"
        }
      ]
    },
    {
      "cell_type": "code",
      "metadata": {
        "colab": {
          "base_uri": "https://localhost:8080/"
        },
        "id": "v1y49HCHEMka",
        "outputId": "a653ce4c-1f9a-4e85-b453-a2ccf6b1db45"
      },
      "source": [
        "#Q6 integers comes in all size\n",
        "# Enter your code here. Read input from STDIN. Print output to STDOUT\n",
        "a=int(input())\n",
        "b=int(input())\n",
        "c=int(input())\n",
        "d=int(input())\n",
        "\n",
        "print(pow(a,b)+pow(c,d))"
      ],
      "execution_count": 7,
      "outputs": [
        {
          "output_type": "stream",
          "text": [
            "9\n",
            "29\n",
            "7\n",
            "27\n",
            "4710194409608608369201743232\n"
          ],
          "name": "stdout"
        }
      ]
    },
    {
      "cell_type": "code",
      "metadata": {
        "colab": {
          "base_uri": "https://localhost:8080/"
        },
        "id": "vGRBjVzwEb_E",
        "outputId": "13abf9b8-dfcd-466c-a648-3add4511a670"
      },
      "source": [
        "#Q7 triangle quest\n",
        "for i in range(1,int(input())): #More than 2 lines will result in 0 score. Do not leave a blank line also\n",
        "    print(((10 ** i - 1) // 9) * i)"
      ],
      "execution_count": 8,
      "outputs": [
        {
          "output_type": "stream",
          "text": [
            "5\n",
            "1\n",
            "22\n",
            "333\n",
            "4444\n"
          ],
          "name": "stdout"
        }
      ]
    }
  ]
}