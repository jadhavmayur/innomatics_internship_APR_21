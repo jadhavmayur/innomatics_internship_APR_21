{
  "nbformat": 4,
  "nbformat_minor": 0,
  "metadata": {
    "colab": {
      "name": "Task10(Hypothesis Testing).ipynb",
      "provenance": []
    },
    "kernelspec": {
      "name": "python3",
      "display_name": "Python 3"
    },
    "language_info": {
      "name": "python"
    }
  },
  "cells": [
    {
      "cell_type": "markdown",
      "metadata": {
        "id": "_pbGgIE3aa6Z"
      },
      "source": [
        "**Times of India article dated Jan 18, 2019 states that “After doing your Computer Science Engineering if you take up jobs as a Programming Analyst, Software Engineer, Hardware Engineer and Associate Engineer you can earn up to 2.5-3 lakhs as a fresh graduate.” Test this claim with the data given to you.**"
      ]
    },
    {
      "cell_type": "markdown",
      "metadata": {
        "id": "hutlj-fbacaW"
      },
      "source": [
        "<p>Step - 1:</p>\n",
        "\n",
        "<p/> Alternate Hypothesis (Bold claim):</p>\n",
        "<p> ${H_1}$: $\\mu$$\\not=$ 2.5</p>\n",
        "<p/> Null Hypothesis (Status Quo):</p>\n",
        "<p>${H_0}$:  $\\mu$=2.5</p>\n",
        "\n",
        "<p>Step - 2:</p>\n",
        "\n",
        "* <p> Collect a sample of size n = 4000 </p> \n",
        "* Compute sample mean          $\\bar{x}$=277439.516\n",
        "\n",
        "<p> Step - 3: Compute Test Statistic:\n",
        "<p>t=$\\frac{{\\bar{x}-\\mu}} {\\frac{S}{\\sqrt n}}$\n",
        "<p>$\\bar{x}$= sample mean\n",
        "<p>$\\mu$=Population mean\n",
        "<p>S=Standard deviation of sample\n",
        "<p>n=sample size\n",
        "<p>Step - 5.1: tailed t-test:</p>\n",
        "<p> reject ${H_0}$ if points comes under critical zone\n",
        "<p>Step - 5.2: Compute p-value"
      ]
    },
    {
      "cell_type": "code",
      "metadata": {
        "colab": {
          "base_uri": "https://localhost:8080/"
        },
        "id": "mbJXE7DTzMjk",
        "outputId": "f2caa460-8426-44fa-994a-d4dc6bbffccc"
      },
      "source": [
        "import pandas as pd\n",
        "import numpy as np\n",
        "import matplotlib.pyplot as plt\n",
        "import seaborn as sns\n",
        "from sklearn.preprocessing import StandardScaler\n",
        "from sklearn.preprocessing import LabelEncoder\n",
        "from scipy.stats import norm\n",
        "from scipy.stats import t\n",
        "\n",
        "from google.colab import drive\n",
        "drive.mount(\"/content/drive\")"
      ],
      "execution_count": 1,
      "outputs": [
        {
          "output_type": "stream",
          "text": [
            "Mounted at /content/drive\n"
          ],
          "name": "stdout"
        }
      ]
    },
    {
      "cell_type": "code",
      "metadata": {
        "colab": {
          "base_uri": "https://localhost:8080/"
        },
        "id": "BFOroqlvzXhT",
        "outputId": "e8932f36-218d-458f-f725-0d3693cbd4f8"
      },
      "source": [
        "data=pd.read_excel(\"/content/drive/Shareddrives/mayur/innomatics/EDA/aspiring_minds_employability_outcomes_2015.xlsx\")\n",
        "data.shape"
      ],
      "execution_count": 2,
      "outputs": [
        {
          "output_type": "execute_result",
          "data": {
            "text/plain": [
              "(3998, 39)"
            ]
          },
          "metadata": {
            "tags": []
          },
          "execution_count": 2
        }
      ]
    },
    {
      "cell_type": "code",
      "metadata": {
        "colab": {
          "base_uri": "https://localhost:8080/"
        },
        "id": "WF0YQTbs8LWa",
        "outputId": "b9b7168f-e8fd-4c05-e625-6f0fefadb1b5"
      },
      "source": [
        "print(min(data['Salary']))\n",
        "print(max(data['Salary']))"
      ],
      "execution_count": 3,
      "outputs": [
        {
          "output_type": "stream",
          "text": [
            "35000\n",
            "4000000\n"
          ],
          "name": "stdout"
        }
      ]
    },
    {
      "cell_type": "markdown",
      "metadata": {
        "id": "m_CRItSE6XlC"
      },
      "source": [
        "## Average Salary for computer engineer"
      ]
    },
    {
      "cell_type": "code",
      "metadata": {
        "id": "UbcibbCezkPM"
      },
      "source": [
        "comp_sal=data[data[\"Specialization\"]=='computer science & engineering']\n",
        "b=comp_sal.groupby('Specialization').mean()"
      ],
      "execution_count": 4,
      "outputs": []
    },
    {
      "cell_type": "code",
      "metadata": {
        "colab": {
          "base_uri": "https://localhost:8080/",
          "height": 161
        },
        "id": "i9MS-GvV0Gwj",
        "outputId": "a23ae2dc-c5b6-4fe6-a8c2-8107a924c221"
      },
      "source": [
        "b.head()"
      ],
      "execution_count": 5,
      "outputs": [
        {
          "output_type": "execute_result",
          "data": {
            "text/html": [
              "<div>\n",
              "<style scoped>\n",
              "    .dataframe tbody tr th:only-of-type {\n",
              "        vertical-align: middle;\n",
              "    }\n",
              "\n",
              "    .dataframe tbody tr th {\n",
              "        vertical-align: top;\n",
              "    }\n",
              "\n",
              "    .dataframe thead th {\n",
              "        text-align: right;\n",
              "    }\n",
              "</style>\n",
              "<table border=\"1\" class=\"dataframe\">\n",
              "  <thead>\n",
              "    <tr style=\"text-align: right;\">\n",
              "      <th></th>\n",
              "      <th>ID</th>\n",
              "      <th>Salary</th>\n",
              "      <th>10percentage</th>\n",
              "      <th>12graduation</th>\n",
              "      <th>12percentage</th>\n",
              "      <th>CollegeID</th>\n",
              "      <th>CollegeTier</th>\n",
              "      <th>collegeGPA</th>\n",
              "      <th>CollegeCityID</th>\n",
              "      <th>CollegeCityTier</th>\n",
              "      <th>GraduationYear</th>\n",
              "      <th>English</th>\n",
              "      <th>Logical</th>\n",
              "      <th>Quant</th>\n",
              "      <th>Domain</th>\n",
              "      <th>ComputerProgramming</th>\n",
              "      <th>ElectronicsAndSemicon</th>\n",
              "      <th>ComputerScience</th>\n",
              "      <th>MechanicalEngg</th>\n",
              "      <th>ElectricalEngg</th>\n",
              "      <th>TelecomEngg</th>\n",
              "      <th>CivilEngg</th>\n",
              "      <th>conscientiousness</th>\n",
              "      <th>agreeableness</th>\n",
              "      <th>extraversion</th>\n",
              "      <th>nueroticism</th>\n",
              "      <th>openess_to_experience</th>\n",
              "    </tr>\n",
              "    <tr>\n",
              "      <th>Specialization</th>\n",
              "      <th></th>\n",
              "      <th></th>\n",
              "      <th></th>\n",
              "      <th></th>\n",
              "      <th></th>\n",
              "      <th></th>\n",
              "      <th></th>\n",
              "      <th></th>\n",
              "      <th></th>\n",
              "      <th></th>\n",
              "      <th></th>\n",
              "      <th></th>\n",
              "      <th></th>\n",
              "      <th></th>\n",
              "      <th></th>\n",
              "      <th></th>\n",
              "      <th></th>\n",
              "      <th></th>\n",
              "      <th></th>\n",
              "      <th></th>\n",
              "      <th></th>\n",
              "      <th></th>\n",
              "      <th></th>\n",
              "      <th></th>\n",
              "      <th></th>\n",
              "      <th></th>\n",
              "      <th></th>\n",
              "    </tr>\n",
              "  </thead>\n",
              "  <tbody>\n",
              "    <tr>\n",
              "      <th>computer science &amp; engineering</th>\n",
              "      <td>923504.19086</td>\n",
              "      <td>277439.516129</td>\n",
              "      <td>77.946519</td>\n",
              "      <td>2009.012097</td>\n",
              "      <td>74.083347</td>\n",
              "      <td>6480.837366</td>\n",
              "      <td>1.928763</td>\n",
              "      <td>71.779798</td>\n",
              "      <td>6480.837366</td>\n",
              "      <td>0.283602</td>\n",
              "      <td>2013.423387</td>\n",
              "      <td>511.426075</td>\n",
              "      <td>505.967742</td>\n",
              "      <td>508.106183</td>\n",
              "      <td>0.585826</td>\n",
              "      <td>456.498656</td>\n",
              "      <td>-0.735215</td>\n",
              "      <td>261.924731</td>\n",
              "      <td>-0.577957</td>\n",
              "      <td>-1.0</td>\n",
              "      <td>-1.0</td>\n",
              "      <td>-1.0</td>\n",
              "      <td>0.091109</td>\n",
              "      <td>0.186848</td>\n",
              "      <td>0.125538</td>\n",
              "      <td>-0.296022</td>\n",
              "      <td>-0.084111</td>\n",
              "    </tr>\n",
              "  </tbody>\n",
              "</table>\n",
              "</div>"
            ],
            "text/plain": [
              "                                          ID  ...  openess_to_experience\n",
              "Specialization                                ...                       \n",
              "computer science & engineering  923504.19086  ...              -0.084111\n",
              "\n",
              "[1 rows x 27 columns]"
            ]
          },
          "metadata": {
            "tags": []
          },
          "execution_count": 5
        }
      ]
    },
    {
      "cell_type": "markdown",
      "metadata": {
        "id": "bqD5Ya716eJC"
      },
      "source": [
        "## Std of Salary for computer engineer"
      ]
    },
    {
      "cell_type": "code",
      "metadata": {
        "id": "dJutWt1D5uvT"
      },
      "source": [
        "comp_sal=data[data[\"Specialization\"]=='computer science & engineering']\n",
        "b=comp_sal.groupby('Specialization').std()"
      ],
      "execution_count": 6,
      "outputs": []
    },
    {
      "cell_type": "code",
      "metadata": {
        "colab": {
          "base_uri": "https://localhost:8080/",
          "height": 161
        },
        "id": "W2xdAND-5xBb",
        "outputId": "1e684259-9cca-4c7f-ff9f-aefa035574cc"
      },
      "source": [
        "b.head()"
      ],
      "execution_count": 7,
      "outputs": [
        {
          "output_type": "execute_result",
          "data": {
            "text/html": [
              "<div>\n",
              "<style scoped>\n",
              "    .dataframe tbody tr th:only-of-type {\n",
              "        vertical-align: middle;\n",
              "    }\n",
              "\n",
              "    .dataframe tbody tr th {\n",
              "        vertical-align: top;\n",
              "    }\n",
              "\n",
              "    .dataframe thead th {\n",
              "        text-align: right;\n",
              "    }\n",
              "</style>\n",
              "<table border=\"1\" class=\"dataframe\">\n",
              "  <thead>\n",
              "    <tr style=\"text-align: right;\">\n",
              "      <th></th>\n",
              "      <th>ID</th>\n",
              "      <th>Salary</th>\n",
              "      <th>10percentage</th>\n",
              "      <th>12graduation</th>\n",
              "      <th>12percentage</th>\n",
              "      <th>CollegeID</th>\n",
              "      <th>CollegeTier</th>\n",
              "      <th>collegeGPA</th>\n",
              "      <th>CollegeCityID</th>\n",
              "      <th>CollegeCityTier</th>\n",
              "      <th>GraduationYear</th>\n",
              "      <th>English</th>\n",
              "      <th>Logical</th>\n",
              "      <th>Quant</th>\n",
              "      <th>Domain</th>\n",
              "      <th>ComputerProgramming</th>\n",
              "      <th>ElectronicsAndSemicon</th>\n",
              "      <th>ComputerScience</th>\n",
              "      <th>MechanicalEngg</th>\n",
              "      <th>ElectricalEngg</th>\n",
              "      <th>TelecomEngg</th>\n",
              "      <th>CivilEngg</th>\n",
              "      <th>conscientiousness</th>\n",
              "      <th>agreeableness</th>\n",
              "      <th>extraversion</th>\n",
              "      <th>nueroticism</th>\n",
              "      <th>openess_to_experience</th>\n",
              "    </tr>\n",
              "    <tr>\n",
              "      <th>Specialization</th>\n",
              "      <th></th>\n",
              "      <th></th>\n",
              "      <th></th>\n",
              "      <th></th>\n",
              "      <th></th>\n",
              "      <th></th>\n",
              "      <th></th>\n",
              "      <th></th>\n",
              "      <th></th>\n",
              "      <th></th>\n",
              "      <th></th>\n",
              "      <th></th>\n",
              "      <th></th>\n",
              "      <th></th>\n",
              "      <th></th>\n",
              "      <th></th>\n",
              "      <th></th>\n",
              "      <th></th>\n",
              "      <th></th>\n",
              "      <th></th>\n",
              "      <th></th>\n",
              "      <th></th>\n",
              "      <th></th>\n",
              "      <th></th>\n",
              "      <th></th>\n",
              "      <th></th>\n",
              "      <th></th>\n",
              "    </tr>\n",
              "  </thead>\n",
              "  <tbody>\n",
              "    <tr>\n",
              "      <th>computer science &amp; engineering</th>\n",
              "      <td>251893.658641</td>\n",
              "      <td>170297.606962</td>\n",
              "      <td>9.363459</td>\n",
              "      <td>1.083891</td>\n",
              "      <td>10.334062</td>\n",
              "      <td>5223.423783</td>\n",
              "      <td>0.257393</td>\n",
              "      <td>7.271872</td>\n",
              "      <td>5223.423783</td>\n",
              "      <td>0.451049</td>\n",
              "      <td>0.829822</td>\n",
              "      <td>109.004525</td>\n",
              "      <td>82.397644</td>\n",
              "      <td>126.399251</td>\n",
              "      <td>0.387719</td>\n",
              "      <td>134.201612</td>\n",
              "      <td>7.22237</td>\n",
              "      <td>213.492435</td>\n",
              "      <td>11.511799</td>\n",
              "      <td>0.0</td>\n",
              "      <td>0.0</td>\n",
              "      <td>0.0</td>\n",
              "      <td>0.986271</td>\n",
              "      <td>0.915999</td>\n",
              "      <td>0.982743</td>\n",
              "      <td>1.039163</td>\n",
              "      <td>1.068423</td>\n",
              "    </tr>\n",
              "  </tbody>\n",
              "</table>\n",
              "</div>"
            ],
            "text/plain": [
              "                                           ID  ...  openess_to_experience\n",
              "Specialization                                 ...                       \n",
              "computer science & engineering  251893.658641  ...               1.068423\n",
              "\n",
              "[1 rows x 27 columns]"
            ]
          },
          "metadata": {
            "tags": []
          },
          "execution_count": 7
        }
      ]
    },
    {
      "cell_type": "code",
      "metadata": {
        "id": "IpotNLU_94WS"
      },
      "source": [
        "comp_sal=data[data[\"Specialization\"]=='computer science & engineering']\n",
        "#b=comp_sal.groupby('Specialization')\n",
        "b=comp_sal.groupby('Specialization').agg({'Salary': ['min', 'max']})"
      ],
      "execution_count": 8,
      "outputs": []
    },
    {
      "cell_type": "code",
      "metadata": {
        "colab": {
          "base_uri": "https://localhost:8080/",
          "height": 137
        },
        "id": "J-CWiERg-fM6",
        "outputId": "2e76e522-5e56-4092-b75f-9012fb09ebc6"
      },
      "source": [
        "b.head()"
      ],
      "execution_count": 9,
      "outputs": [
        {
          "output_type": "execute_result",
          "data": {
            "text/html": [
              "<div>\n",
              "<style scoped>\n",
              "    .dataframe tbody tr th:only-of-type {\n",
              "        vertical-align: middle;\n",
              "    }\n",
              "\n",
              "    .dataframe tbody tr th {\n",
              "        vertical-align: top;\n",
              "    }\n",
              "\n",
              "    .dataframe thead tr th {\n",
              "        text-align: left;\n",
              "    }\n",
              "\n",
              "    .dataframe thead tr:last-of-type th {\n",
              "        text-align: right;\n",
              "    }\n",
              "</style>\n",
              "<table border=\"1\" class=\"dataframe\">\n",
              "  <thead>\n",
              "    <tr>\n",
              "      <th></th>\n",
              "      <th colspan=\"2\" halign=\"left\">Salary</th>\n",
              "    </tr>\n",
              "    <tr>\n",
              "      <th></th>\n",
              "      <th>min</th>\n",
              "      <th>max</th>\n",
              "    </tr>\n",
              "    <tr>\n",
              "      <th>Specialization</th>\n",
              "      <th></th>\n",
              "      <th></th>\n",
              "    </tr>\n",
              "  </thead>\n",
              "  <tbody>\n",
              "    <tr>\n",
              "      <th>computer science &amp; engineering</th>\n",
              "      <td>35000</td>\n",
              "      <td>2050000</td>\n",
              "    </tr>\n",
              "  </tbody>\n",
              "</table>\n",
              "</div>"
            ],
            "text/plain": [
              "                               Salary         \n",
              "                                  min      max\n",
              "Specialization                                \n",
              "computer science & engineering  35000  2050000"
            ]
          },
          "metadata": {
            "tags": []
          },
          "execution_count": 9
        }
      ]
    },
    {
      "cell_type": "markdown",
      "metadata": {
        "id": "FDXduB0X6oCC"
      },
      "source": [
        "## Hypothesis testing\n"
      ]
    },
    {
      "cell_type": "code",
      "metadata": {
        "id": "bq3vsoBC6FOz"
      },
      "source": [
        "sample_mean=277439.516\n",
        "sample_std=170297.606\n",
        "pop_mean=250000\n",
        "sample_size=4000"
      ],
      "execution_count": 10,
      "outputs": []
    },
    {
      "cell_type": "code",
      "metadata": {
        "id": "J5D2go0c7ulG"
      },
      "source": [
        "# t_score for sampling distributions\n",
        "\n",
        "def t_score(sample_size, sample_mean, pop_mean, sample_std):\n",
        "    numerator = sample_mean - pop_mean\n",
        "    denomenator = sample_std / sample_size**0.5\n",
        "    return numerator / denomenator"
      ],
      "execution_count": 11,
      "outputs": []
    },
    {
      "cell_type": "code",
      "metadata": {
        "colab": {
          "base_uri": "https://localhost:8080/"
        },
        "id": "tVvWFVLZ9SB6",
        "outputId": "2e66fbf6-cac4-44de-f123-e49082d8cf80"
      },
      "source": [
        "# Two tail\n",
        "\n",
        "alpha = 1 - 0.95\n",
        "\n",
        "t_critical = t.ppf(1-alpha/2, df = 3999)\n",
        "\n",
        "print(t_critical)"
      ],
      "execution_count": 12,
      "outputs": [
        {
          "output_type": "stream",
          "text": [
            "1.9605573771860274\n"
          ],
          "name": "stdout"
        }
      ]
    },
    {
      "cell_type": "code",
      "metadata": {
        "colab": {
          "base_uri": "https://localhost:8080/"
        },
        "id": "0S0FxVEb7ygb",
        "outputId": "d4e7c702-568e-4a8c-f65f-b4058fef093d"
      },
      "source": [
        "# Calculating the t-score\n",
        "\n",
        "t = t_score(sample_size, sample_mean, pop_mean, sample_std)\n",
        "\n",
        "print(t)"
      ],
      "execution_count": 13,
      "outputs": [
        {
          "output_type": "stream",
          "text": [
            "10.190556460627265\n"
          ],
          "name": "stdout"
        }
      ]
    },
    {
      "cell_type": "code",
      "metadata": {
        "colab": {
          "base_uri": "https://localhost:8080/",
          "height": 1000
        },
        "id": "Y3v-_1w39sTK",
        "outputId": "6ee5c5a3-4932-416b-f7ca-7d72da1f9858"
      },
      "source": [
        "# Ploting the sampling distribution with rejection regions\n",
        "\n",
        "# Defining the x minimum and x maximum\n",
        "x_min = 100000\n",
        "x_max = 500000\n",
        "\n",
        "\n",
        "# Defining the sampling distribution mean and sampling distribution std\n",
        "mean = pop_mean\n",
        "std = sample_std / sample_size**0.5\n",
        "\n",
        "\n",
        "# Ploting the graph and setting the x limits\n",
        "x = np.linspace(x_min, x_max, 100)\n",
        "y = norm.pdf(x, mean, std)\n",
        "plt.xlim(x_min, x_max)\n",
        "plt.plot(x, y)\n",
        "\n",
        "\n",
        "# Computing the left and right critical values (Two tailed Test)\n",
        "t_critical_left = pop_mean + (-t_critical * std)\n",
        "t_critical_right = pop_mean + (t_critical * std)\n",
        "\n",
        "\n",
        "# Shading the left rejection region\n",
        "x1 = np.linspace(x_min, t_critical_left, 100)\n",
        "y1 = norm.pdf(x1, mean, std)\n",
        "plt.fill_between(x1, y1, color='orange')\n",
        "\n",
        "\n",
        "# Shading the right rejection region\n",
        "x2 = np.linspace(t_critical_right, x_max, 100)\n",
        "y2 = norm.pdf(x2, mean, std)\n",
        "plt.fill_between(x2, y2, color='orange')\n",
        "\n",
        "\n",
        "# Ploting the sample mean and concluding the results \n",
        "plt.scatter(sample_mean, 0)\n",
        "plt.annotate(\"x_bar\", (sample_mean, 0.0007))"
      ],
      "execution_count": 17,
      "outputs": [
        {
          "output_type": "execute_result",
          "data": {
            "text/plain": [
              "Text(277439.516, 0.0007, 'x_bar')"
            ]
          },
          "metadata": {
            "tags": []
          },
          "execution_count": 17
        },
        {
          "output_type": "display_data",
          "data": {
            "image/png": "[encoded data removed]",
            "text/plain": [
              "<Figure size 432x288 with 1 Axes>"
            ]
          },
          "metadata": {
            "tags": [],
            "needs_background": "light"
          }
        }
      ]
    },
    {
      "cell_type": "code",
      "metadata": {
        "id": "cXco4ihm_bpT",
        "colab": {
          "base_uri": "https://localhost:8080/"
        },
        "outputId": "93937dd8-c5fe-4bf5-d52c-1381929f8f68"
      },
      "source": [
        "# Conclusion using t test\n",
        "\n",
        "if(np.abs(t) > t_critical):\n",
        "    print(\"Reject Null Hypothesis\")\n",
        "else:\n",
        "    print(\"Fail to reject Null Hypothesis\")"
      ],
      "execution_count": 18,
      "outputs": [
        {
          "output_type": "stream",
          "text": [
            "Reject Null Hypothesis\n"
          ],
          "name": "stdout"
        }
      ]
    },
    {
      "cell_type": "code",
      "metadata": {
        "id": "mNMGlHEP_eQJ",
        "colab": {
          "base_uri": "https://localhost:8080/"
        },
        "outputId": "6a4e227b-49ee-447e-e222-ba0b63f4b550"
      },
      "source": [
        "# Conclusion using p test\n",
        "\n",
        "p_value = 2 * (1.0 - norm.cdf(np.abs(t)))\n",
        "print(\"p_value = \", p_value)\n",
        "\n",
        "if(p_value < alpha):\n",
        "    print(\"Reject Null Hypothesis\")\n",
        "else:\n",
        "    print(\"Fail to reject Null Hypothesis\")"
      ],
      "execution_count": 19,
      "outputs": [
        {
          "output_type": "stream",
          "text": [
            "p_value =  0.0\n",
            "Reject Null Hypothesis\n"
          ],
          "name": "stdout"
        }
      ]
    },
    {
      "cell_type": "markdown",
      "metadata": {
        "id": "tkFoaCW_bivO"
      },
      "source": [
        "* We reject the null hypothesis\n",
        "* From above hypothesis we reject the claim of Times of india article."
      ]
    }
  ]
}